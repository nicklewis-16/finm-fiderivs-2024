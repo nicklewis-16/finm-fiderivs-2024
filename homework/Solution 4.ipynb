{
 "cells": [
  {
   "cell_type": "markdown",
   "id": "1420bfc0",
   "metadata": {},
   "source": [
    "# Solution 4\n",
    "\n",
    "## FINM 37500: Fixed Income Derivatives\n",
    "\n",
    "### Mark Hendricks\n",
    "\n",
    "#### Winter 2024"
   ]
  },
  {
   "cell_type": "markdown",
   "id": "6a53f5c6",
   "metadata": {},
   "source": [
    "***"
   ]
  },
  {
   "cell_type": "markdown",
   "id": "39ba85ec",
   "metadata": {},
   "source": [
    "# Data"
   ]
  },
  {
   "cell_type": "markdown",
   "id": "0ca55f40",
   "metadata": {},
   "source": [
    "### Note\n",
    "This homework continues with the data from `Homework 3`."
   ]
  },
  {
   "cell_type": "markdown",
   "id": "029ada05",
   "metadata": {},
   "source": [
    "### Swaption Vol Data\n",
    "\n",
    "The file `data/swaption_vol_data_2024-02-20.xlsx` has market data on the implied volatility skews for swaptions. Note that it has several columns:\n",
    "* `expry`: expiration of the swaption\n",
    "* `tenor`: tenor of the underlying swap\n",
    "* `model`: the model by which the volatility is quoted. (All are Black.)\n",
    "* `-200`, `-100`, etc.: The strike listed as difference from ATM strike (bps). Note that ATM is considered to be the **forward swap rate** which you can calculate."
   ]
  },
  {
   "cell_type": "markdown",
   "id": "a8607012",
   "metadata": {},
   "source": [
    "Your data: ywill use a single row of this data for the `1x4` swaption.\n",
    "* date: `2024-02-20`\n",
    "* expiration: 1yr\n",
    "* tenor: 4yrs\n",
    "\n",
    "As in `Homework 3`, you will need the forward swap value and the actual strikes being referred to in the provided data (which quotes relative strikes.)"
   ]
  },
  {
   "cell_type": "markdown",
   "id": "e3e566de",
   "metadata": {},
   "source": [
    "# 1. SABR Volatility Modeling"
   ]
  },
  {
   "cell_type": "markdown",
   "id": "6c8626a5",
   "metadata": {},
   "source": [
    "Use the quoted volatility skew to fit a SABR model.\n",
    "* Throughout, parameterize, `beta=.75`."
   ]
  },
  {
   "cell_type": "markdown",
   "id": "9118d990",
   "metadata": {},
   "source": [
    "## 1.1\n",
    "Estimate $(\\alpha,\\rho,\\nu)$ via the SABR formula. Feel free to use the `sabr` function in `cmds/volskew.py`.\n",
    "\n",
    "Report the values of these parameters."
   ]
  },
  {
   "cell_type": "markdown",
   "id": "f9e72f89",
   "metadata": {},
   "source": [
    "## 1.2\n",
    "Create a grid of strikes of `[.0025, .09]`, with grid spacing of `10bps`, (.0010).\n",
    "\n",
    "Use the SABR model parameterized above to calculate the volatility for each of these strikes.\n",
    "\n",
    "* Plot the SABR curve, and also include the market quotes in the plot.\n",
    "\n",
    "* Conceptually, does the SABR curve fit these points well? Perfectly?"
   ]
  },
  {
   "cell_type": "markdown",
   "id": "64d4f364",
   "metadata": {},
   "source": [
    "## 1.3\n",
    "Suppose we want to price the `1y4y` swaption but with a far out-of-the-money strike of `5%`. \n",
    "\n",
    "* Use the SABR vol at this strike to price the swaption.\n",
    "\n",
    "(Note that this strike is far outside the range for which we have market quotes, and even if we do have quotes, they likely are not liquid on a given day.)\n",
    "\n"
   ]
  },
  {
   "cell_type": "markdown",
   "id": "de4d3c20",
   "metadata": {},
   "source": [
    "## 1.4\n",
    "\n",
    "Use the ATM implied volatility to fit $\\alpha$, (sometimes denoted $\\sigma_0$.) That is, for any choice of $(\\rho,\\nu)$, solve a quadratic equation to get $\\alpha$ as a function of those two parameters, along with $\\beta$, which is at its selected (not estimated) value.\n",
    "\n",
    "Recall that we have a simple relationship between ATM vol and $\\alpha$.\n",
    "$$\\sigma_\\text{ATM} = \\alpha\\frac{B}{F^{1-\\beta}}$$\n",
    "where $B$ is defined in the discussion note. It is a quadratic expression of $\\alpha$ along with $(\\beta,\\rho,\\nu)$.\n",
    "\n",
    "This decouples the optimization. We solve for $(\\rho,\\nu)$ and $\\alpha$ as a function of the other two parameters.\n",
    "\n",
    "Consider using the function `sabrATM` in `cmds/volskew.py`."
   ]
  },
  {
   "cell_type": "markdown",
   "id": "13a681b5",
   "metadata": {},
   "source": [
    "***"
   ]
  },
  {
   "cell_type": "markdown",
   "id": "70250734",
   "metadata": {},
   "source": [
    "# **<span style=\"color:red\">Solution 1</span>**"
   ]
  },
  {
   "cell_type": "code",
   "execution_count": 1,
   "id": "83431b44",
   "metadata": {},
   "outputs": [],
   "source": [
    "import numpy as np\n",
    "import pandas as pd\n",
    "\n",
    "from datetime import date\n",
    "from datetime import datetime\n",
    "\n",
    "import sys\n",
    "sys.path.insert(0, '../cmds')\n",
    "from ficcvol import *\n",
    "from binomial import *\n",
    "from ratecurves import *\n",
    "from treasury_cmds import compound_rate\n",
    "from volskew import *\n",
    "\n",
    "#import datetime\n",
    "import warnings\n",
    "\n",
    "import matplotlib.pyplot as plt\n",
    "import seaborn as sns\n",
    "%matplotlib inline\n",
    "plt.rcParams['figure.figsize'] = (12,6)\n",
    "plt.rcParams['font.size'] = 15\n",
    "plt.rcParams['legend.fontsize'] = 13\n",
    "\n",
    "import matplotlib.ticker as mtick\n",
    "from matplotlib.ticker import (MultipleLocator,\n",
    "                               FormatStrFormatter,\n",
    "                               AutoMinorLocator)"
   ]
  },
  {
   "cell_type": "code",
   "execution_count": 2,
   "id": "f15e7228",
   "metadata": {},
   "outputs": [],
   "source": [
    "DATE = '2024-02-20'\n",
    "freqcurve = 4\n",
    "\n",
    "SWAP_TYPE = 'SOFR'\n",
    "QUOTE_STYLE = 'black'\n",
    "RELATIVE_STRIKE = 0\n",
    "\n",
    "expry = 1\n",
    "tenor = 4\n",
    "\n",
    "freqswap = 4\n",
    "isPayer=True\n",
    "N = 100"
   ]
  },
  {
   "cell_type": "code",
   "execution_count": 3,
   "id": "98b3cfcd",
   "metadata": {},
   "outputs": [],
   "source": [
    "curves = pd.read_excel(f'../data/cap_curves_{DATE}.xlsx', sheet_name=f'rate curves {DATE}').set_index('tenor')\n",
    "\n",
    "Topt = expry\n",
    "Tswap = Topt+tenor\n",
    "\n",
    "fwdrate = curves['forwards'][Topt]\n",
    "\n",
    "fwdswap = calc_fwdswaprate(curves['discounts'], Topt, Tswap, freqswap=freqswap)"
   ]
  },
  {
   "cell_type": "code",
   "execution_count": 4,
   "id": "939984fe",
   "metadata": {},
   "outputs": [
    {
     "data": {
      "text/plain": [
       "'The forward swap rate is 3.67%'"
      ]
     },
     "metadata": {},
     "output_type": "display_data"
    }
   ],
   "source": [
    "display(f'The forward swap rate is {fwdswap:.2%}')"
   ]
  },
  {
   "cell_type": "markdown",
   "id": "375eb816",
   "metadata": {},
   "source": [
    "Import and Process Quoted Vols"
   ]
  },
  {
   "cell_type": "code",
   "execution_count": 5,
   "id": "8e465cb3",
   "metadata": {},
   "outputs": [],
   "source": [
    "voldata = pd.read_excel('../data/swaption_vol_data.xlsx')\n",
    "volquote = voldata.query(f'model==\"{QUOTE_STYLE}\"').query(f'reference==\"{SWAP_TYPE}\"').query(f'date==\"{DATE}\"')#.query(f'expiration==\"{expry}\"').query(f'tenor==\"{tenor}\"')\n",
    "idx = (volquote['expiration']==expry) & (volquote['tenor']==tenor)\n",
    "volquote = volquote.loc[idx]\n",
    "volquote.index = ['implied vol']\n",
    "\n",
    "strikerange = np.array(volquote.columns[-9:].tolist())\n",
    "vols = volquote[strikerange]\n",
    "vols /= 100\n",
    "strikes = fwdswap + strikerange/100/100\n",
    "idstrike = np.where(strikerange==RELATIVE_STRIKE)[0][0]\n",
    "\n",
    "idstrikeATM = np.where(strikerange==0)[0][0]\n",
    "\n",
    "if QUOTE_STYLE == 'normal':\n",
    "    vols /= 100 * fwdrate\n",
    "\n",
    "capvol = curves.loc[Topt,'fwd vols']\n",
    "\n",
    "strikeATM = strikes[idstrikeATM]\n",
    "volATM = vols.iloc[0,idstrikeATM]"
   ]
  },
  {
   "cell_type": "markdown",
   "id": "205cd68b",
   "metadata": {},
   "source": [
    "Use Black's Formula"
   ]
  },
  {
   "cell_type": "code",
   "execution_count": 6,
   "id": "cea8a977",
   "metadata": {
    "scrolled": true
   },
   "outputs": [
    {
     "data": {
      "text/html": [
       "<style type=\"text/css\">\n",
       "</style>\n",
       "<table id=\"T_757d2\">\n",
       "  <thead>\n",
       "    <tr>\n",
       "      <th class=\"blank level0\" >&nbsp;</th>\n",
       "      <th id=\"T_757d2_level0_col0\" class=\"col_heading level0 col0\" >-200</th>\n",
       "      <th id=\"T_757d2_level0_col1\" class=\"col_heading level0 col1\" >-100</th>\n",
       "      <th id=\"T_757d2_level0_col2\" class=\"col_heading level0 col2\" >-50</th>\n",
       "      <th id=\"T_757d2_level0_col3\" class=\"col_heading level0 col3\" >-25</th>\n",
       "      <th id=\"T_757d2_level0_col4\" class=\"col_heading level0 col4\" >0</th>\n",
       "      <th id=\"T_757d2_level0_col5\" class=\"col_heading level0 col5\" >25</th>\n",
       "      <th id=\"T_757d2_level0_col6\" class=\"col_heading level0 col6\" >50</th>\n",
       "      <th id=\"T_757d2_level0_col7\" class=\"col_heading level0 col7\" >100</th>\n",
       "      <th id=\"T_757d2_level0_col8\" class=\"col_heading level0 col8\" >200</th>\n",
       "    </tr>\n",
       "  </thead>\n",
       "  <tbody>\n",
       "    <tr>\n",
       "      <th id=\"T_757d2_level0_row0\" class=\"row_heading level0 row0\" >strike</th>\n",
       "      <td id=\"T_757d2_row0_col0\" class=\"data row0 col0\" >0.0167</td>\n",
       "      <td id=\"T_757d2_row0_col1\" class=\"data row0 col1\" >0.0267</td>\n",
       "      <td id=\"T_757d2_row0_col2\" class=\"data row0 col2\" >0.0317</td>\n",
       "      <td id=\"T_757d2_row0_col3\" class=\"data row0 col3\" >0.0342</td>\n",
       "      <td id=\"T_757d2_row0_col4\" class=\"data row0 col4\" >0.0367</td>\n",
       "      <td id=\"T_757d2_row0_col5\" class=\"data row0 col5\" >0.0392</td>\n",
       "      <td id=\"T_757d2_row0_col6\" class=\"data row0 col6\" >0.0417</td>\n",
       "      <td id=\"T_757d2_row0_col7\" class=\"data row0 col7\" >0.0467</td>\n",
       "      <td id=\"T_757d2_row0_col8\" class=\"data row0 col8\" >0.0567</td>\n",
       "    </tr>\n",
       "    <tr>\n",
       "      <th id=\"T_757d2_level0_row1\" class=\"row_heading level0 row1\" >implied vol</th>\n",
       "      <td id=\"T_757d2_row1_col0\" class=\"data row1 col0\" >0.5454</td>\n",
       "      <td id=\"T_757d2_row1_col1\" class=\"data row1 col1\" >0.4037</td>\n",
       "      <td id=\"T_757d2_row1_col2\" class=\"data row1 col2\" >0.3594</td>\n",
       "      <td id=\"T_757d2_row1_col3\" class=\"data row1 col3\" >0.3423</td>\n",
       "      <td id=\"T_757d2_row1_col4\" class=\"data row1 col4\" >0.3283</td>\n",
       "      <td id=\"T_757d2_row1_col5\" class=\"data row1 col5\" >0.3171</td>\n",
       "      <td id=\"T_757d2_row1_col6\" class=\"data row1 col6\" >0.3086</td>\n",
       "      <td id=\"T_757d2_row1_col7\" class=\"data row1 col7\" >0.2983</td>\n",
       "      <td id=\"T_757d2_row1_col8\" class=\"data row1 col8\" >0.2954</td>\n",
       "    </tr>\n",
       "    <tr>\n",
       "      <th id=\"T_757d2_level0_row2\" class=\"row_heading level0 row2\" >price</th>\n",
       "      <td id=\"T_757d2_row2_col0\" class=\"data row2 col0\" >7.2031</td>\n",
       "      <td id=\"T_757d2_row2_col1\" class=\"data row2 col1\" >4.0653</td>\n",
       "      <td id=\"T_757d2_row2_col2\" class=\"data row2 col2\" >2.7398</td>\n",
       "      <td id=\"T_757d2_row2_col3\" class=\"data row2 col3\" >2.1749</td>\n",
       "      <td id=\"T_757d2_row2_col4\" class=\"data row2 col4\" >1.6874</td>\n",
       "      <td id=\"T_757d2_row2_col5\" class=\"data row2 col5\" >1.2812</td>\n",
       "      <td id=\"T_757d2_row2_col6\" class=\"data row2 col6\" >0.9556</td>\n",
       "      <td id=\"T_757d2_row2_col7\" class=\"data row2 col7\" >0.5133</td>\n",
       "      <td id=\"T_757d2_row2_col8\" class=\"data row2 col8\" >0.1473</td>\n",
       "    </tr>\n",
       "  </tbody>\n",
       "</table>\n"
      ],
      "text/plain": [
       "<pandas.io.formats.style.Styler at 0x2aa227640>"
      ]
     },
     "execution_count": 6,
     "metadata": {},
     "output_type": "execute_result"
    }
   ],
   "source": [
    "period_fwd = curves.index.get_loc(Topt)\n",
    "period_swap = curves.index.get_loc(Tswap)+1\n",
    "step = round(freqcurve/freqswap)\n",
    "\n",
    "discount = curves['discounts'].iloc[period_fwd+step : period_swap : step].sum()/freqswap\n",
    "blacks_quotes = vols.copy()\n",
    "blacks_quotes.loc['price'] = N * blacks_formula(Topt,vols,strikes,fwdswap,discount,isCall=isPayer)[0]\n",
    "blacks_quotes.loc['strike'] = strikes\n",
    "blacks_quotes = blacks_quotes.loc[['strike','implied vol','price']]\n",
    "\n",
    "blacks_quotes.style.format('{:.4f}')"
   ]
  },
  {
   "cell_type": "code",
   "execution_count": 7,
   "id": "afdc8b33",
   "metadata": {},
   "outputs": [],
   "source": [
    "def obj_fun(xargs):\n",
    "    nu = xargs[0]\n",
    "    rho = xargs[1]\n",
    "    alpha = xargs[2]\n",
    "    \n",
    "    ivolSABR = np.zeros(len(strikes))\n",
    "    \n",
    "    for i,strike in enumerate(strikes):\n",
    "         ivolSABR[i] = sabr(BETA,nu,rho,alpha,F,strike,Topt)\n",
    "    \n",
    "    error = ((ivolSABR - vols.values)**2).sum()\n",
    "    \n",
    "    return error\n",
    "\n",
    "\n",
    "def obj_fun_slim(xargs):\n",
    "    nu = xargs[0]\n",
    "    rho = xargs[1]\n",
    "    ivolSABR = np.zeros(len(strikes))\n",
    "    \n",
    "    for i,strike in enumerate(strikes):\n",
    "         ivolSABR[i] = sabr_slim(BETA,nu,rho,F,strike,Topt,volATM)\n",
    "    \n",
    "    error = ((ivolSABR - vols.values)**2).sum()\n",
    "    \n",
    "    return error"
   ]
  },
  {
   "cell_type": "code",
   "execution_count": 8,
   "id": "35d13c8e",
   "metadata": {},
   "outputs": [],
   "source": [
    "doSLIM = False\n",
    "BETA = 0.75\n",
    "F = fwdswap-1e-8"
   ]
  },
  {
   "cell_type": "code",
   "execution_count": 9,
   "id": "3a32746e",
   "metadata": {},
   "outputs": [],
   "source": [
    "if not doSLIM:\n",
    "    x0 = np.array([.6,0,.1])\n",
    "    fun = obj_fun\n",
    "else:\n",
    "    fun = obj_fun_slim\n",
    "    x0 = np.array([.6,0,.1])\n",
    "\n",
    "optim = minimize(fun,x0)\n",
    "xstar = optim.x\n",
    "nustar = xstar[0]\n",
    "rhostar = xstar[1]\n",
    "   \n",
    "if doSLIM:\n",
    "    alphastar = solve_alpha(BETA,nustar,rhostar,Topt,volATM,F)\n",
    "    ivolSABR = sabr_slim(BETA,nustar,rhostar,F,strikes,Topt,volATM)\n",
    "else:\n",
    "    alphastar = xstar[2]\n",
    "    ivolSABR = sabr(BETA,nustar,rhostar,alphastar,F,strikes,Topt)\n",
    "    \n",
    "error = optim.fun"
   ]
  },
  {
   "cell_type": "markdown",
   "id": "7686a821",
   "metadata": {},
   "source": [
    "## **<span style=\"color:red\">1.1</span>**"
   ]
  },
  {
   "cell_type": "code",
   "execution_count": 10,
   "id": "de163aab",
   "metadata": {},
   "outputs": [
    {
     "data": {
      "text/html": [
       "<style type=\"text/css\">\n",
       "</style>\n",
       "<table id=\"T_94dc2\">\n",
       "  <thead>\n",
       "    <tr>\n",
       "      <th class=\"blank level0\" >&nbsp;</th>\n",
       "      <th id=\"T_94dc2_level0_col0\" class=\"col_heading level0 col0\" >SABR Parameters</th>\n",
       "    </tr>\n",
       "  </thead>\n",
       "  <tbody>\n",
       "    <tr>\n",
       "      <th id=\"T_94dc2_level0_row0\" class=\"row_heading level0 row0\" >beta ($\\beta$)</th>\n",
       "      <td id=\"T_94dc2_row0_col0\" class=\"data row0 col0\" >0.7500</td>\n",
       "    </tr>\n",
       "    <tr>\n",
       "      <th id=\"T_94dc2_level0_row1\" class=\"row_heading level0 row1\" >alpha ($\\alpha$)</th>\n",
       "      <td id=\"T_94dc2_row1_col0\" class=\"data row1 col0\" >0.1411</td>\n",
       "    </tr>\n",
       "    <tr>\n",
       "      <th id=\"T_94dc2_level0_row2\" class=\"row_heading level0 row2\" >nu ($\\nu$)</th>\n",
       "      <td id=\"T_94dc2_row2_col0\" class=\"data row2 col0\" >0.7769</td>\n",
       "    </tr>\n",
       "    <tr>\n",
       "      <th id=\"T_94dc2_level0_row3\" class=\"row_heading level0 row3\" >rho ($\\rho$)</th>\n",
       "      <td id=\"T_94dc2_row3_col0\" class=\"data row3 col0\" >-0.4261</td>\n",
       "    </tr>\n",
       "    <tr>\n",
       "      <th id=\"T_94dc2_level0_row4\" class=\"row_heading level0 row4\" >fit error</th>\n",
       "      <td id=\"T_94dc2_row4_col0\" class=\"data row4 col0\" >0.0001</td>\n",
       "    </tr>\n",
       "  </tbody>\n",
       "</table>\n"
      ],
      "text/plain": [
       "<pandas.io.formats.style.Styler at 0x2aa202dc0>"
      ]
     },
     "execution_count": 10,
     "metadata": {},
     "output_type": "execute_result"
    }
   ],
   "source": [
    "param = pd.DataFrame([BETA,alphastar,nustar,rhostar,error],index=['beta ($\\\\beta$)','alpha ($\\\\alpha$)','nu ($\\\\nu$)','rho ($\\\\rho$)','fit error'],columns=['SABR Parameters']).style.format('{:.4f}')\n",
    "param"
   ]
  },
  {
   "cell_type": "markdown",
   "id": "730bc229",
   "metadata": {},
   "source": [
    "## **<span style=\"color:red\">1.2</span>**"
   ]
  },
  {
   "cell_type": "code",
   "execution_count": 11,
   "id": "618069c0",
   "metadata": {},
   "outputs": [
    {
     "data": {
      "image/png": "[encoded data removed]",
      "text/plain": [
       "<Figure size 1200x600 with 1 Axes>"
      ]
     },
     "metadata": {},
     "output_type": "display_data"
    }
   ],
   "source": [
    "strikegrid = np.arange(.0025,.09,.0005)\n",
    "if doSLIM:\n",
    "    ivolgrid = sabr_slim(BETA,nustar,rhostar,F,strikegrid,Topt,volATM)\n",
    "else:\n",
    "    ivolgrid = sabr(BETA,nustar,rhostar,alphastar,F,strikegrid,Topt)\n",
    "    \n",
    "sabrcurve = pd.DataFrame(ivolgrid,index=strikegrid,columns=['SABR'])\n",
    "\n",
    "volquotes = vols.copy()\n",
    "volquotes.loc['strike'] = strikes\n",
    "volquotes = volquotes.T.set_index('strike').rename(columns={'implied vol':'market quotes'})\n",
    "\n",
    "fig, ax = plt.subplots()\n",
    "sabrcurve.plot(ax=ax)\n",
    "volquotes.plot(linestyle='',marker='o',markersize=8,ax=ax)\n",
    "plt.legend();"
   ]
  },
  {
   "cell_type": "markdown",
   "id": "1bc11479",
   "metadata": {},
   "source": [
    "## **<span style=\"color:red\">1.3</span>**"
   ]
  },
  {
   "cell_type": "code",
   "execution_count": 12,
   "id": "a4d58726",
   "metadata": {},
   "outputs": [
    {
     "data": {
      "text/plain": [
       "'Price of the OTM swaption at strike 5.00% is $0.3336.'"
      ]
     },
     "metadata": {},
     "output_type": "display_data"
    }
   ],
   "source": [
    "NEWSTRIKE = .05\n",
    "\n",
    "if doSLIM:\n",
    "    newvol = sabr_slim(BETA,nustar,rhostar,F,NEWSTRIKE,Topt,volATM)\n",
    "else:\n",
    "    newvol = sabr(BETA,nustar,rhostar,alphastar,F,NEWSTRIKE,Topt)\n",
    "\n",
    "newprice = N * blacks_formula(Topt,newvol,NEWSTRIKE,fwdswap,discount,isCall=isPayer)\n",
    "display(f'Price of the OTM swaption at strike {NEWSTRIKE:.2%} is ${newprice:.4f}.')"
   ]
  },
  {
   "cell_type": "markdown",
   "id": "2572a325",
   "metadata": {},
   "source": [
    "## **<span style=\"color:red\">1.4</span>**\n",
    "\n",
    "Set the parameter `doSLIM` to `True`, and rerun the code."
   ]
  },
  {
   "cell_type": "markdown",
   "id": "b6bd79f5",
   "metadata": {},
   "source": [
    "***"
   ]
  },
  {
   "cell_type": "markdown",
   "id": "89bd5526",
   "metadata": {},
   "source": [
    "# 2. SABR and Risk Management"
   ]
  },
  {
   "cell_type": "markdown",
   "id": "23598b20",
   "metadata": {},
   "source": [
    "Consider how an **increase** of `50bps` in the underlying rate impacts the price of the `1y4y` ATM swaption.\n",
    "\n",
    "Here, we are assuming that\n",
    "* the rate change will impact the forward swap rate directly, one-for-one with other rates.\n",
    "* the shift happens on `Feb 21, 2024`.\n",
    "\n",
    "Of course, in reality, a rate change\n",
    "* may price in early to some degree if it is expected\n",
    "* may not impact the forward swap rate one-for-one. We would need to model how the discount curve changes and what that change (level, slope, curvature?) would do to the forward swap rate."
   ]
  },
  {
   "cell_type": "markdown",
   "id": "39438fae",
   "metadata": {},
   "source": [
    "## 2.1\n",
    "\n",
    "Use Black's equation to re-price the `1y4y` swaption with\n",
    "* the same ATM volatility\n",
    "* an underlying (forward swap) rate increased `50bps`.\n",
    "* the same time-to-maturities. (We should decrease these all by 1/365, but we focus here on the delta effects rather than the theta. And it would be a small impact anyone.)\n",
    "\n",
    "Report \n",
    "* the new price\n",
    "* the change in price divided by `50bps`, (a numerical delta.)"
   ]
  },
  {
   "cell_type": "markdown",
   "id": "8bc6c410",
   "metadata": {},
   "source": [
    "## 2.2\n",
    "\n",
    "Now, we consider how the volatility may change with the underlying shift of `50bps`.\n",
    "\n",
    "Using the same SABR parameters from `1.1`, and the strike grid from `1.2`, plot the new SABR curve accounting for the underlying rate shifting up `50bps`."
   ]
  },
  {
   "cell_type": "markdown",
   "id": "387f7dca",
   "metadata": {},
   "source": [
    "## 2.3\n",
    "\n",
    "Calculate the new volatility specifically for the pre-shift ATM strike.\n",
    "\n",
    "Use this in Black's formula similar to `2.1`, where the only change is the volatility now reflects the shift in the underlying (not the strike).\n",
    "\n",
    "Report\n",
    "* the new price\n",
    "* the change in price divided by `50bps`"
   ]
  },
  {
   "cell_type": "markdown",
   "id": "119dcfa8",
   "metadata": {},
   "source": [
    "## 2.4\n",
    "\n",
    "How much different is the (dynamic) delta which accounts for the shift in volatility from the (static) delta in `2.1`?"
   ]
  },
  {
   "cell_type": "markdown",
   "id": "b6e63698",
   "metadata": {},
   "source": [
    "***"
   ]
  },
  {
   "cell_type": "markdown",
   "id": "f059dd4d",
   "metadata": {},
   "source": [
    "# **<span style=\"color:red\">Solution 2</span>**"
   ]
  },
  {
   "cell_type": "markdown",
   "id": "fcc81d3d",
   "metadata": {},
   "source": [
    "## **<span style=\"color:red\">2.1</span>**"
   ]
  },
  {
   "cell_type": "code",
   "execution_count": 13,
   "id": "a0236582",
   "metadata": {},
   "outputs": [
    {
     "data": {
      "image/png": "[encoded data removed]",
      "text/plain": [
       "<Figure size 1200x600 with 1 Axes>"
      ]
     },
     "metadata": {},
     "output_type": "display_data"
    }
   ],
   "source": [
    "warnings.filterwarnings('ignore')\n",
    "\n",
    "SHIFT = 50/100/100\n",
    "\n",
    "sabrcurve.rename(columns={'SABR':f'SABR: underlying at {DATE}'},inplace=True)\n",
    "if doSLIM:\n",
    "    sabrcurve[f'SABR: underlying + {SHIFT*100*100:.0f}bps'] = sabr_slim(BETA,nustar,rhostar,F+SHIFT,strikegrid,Topt,volATM)\n",
    "else:\n",
    "    sabrcurve[f'SABR: underlying + {SHIFT*100*100:.0f}bps'] = sabr(BETA,nustar,rhostar,alphastar,F+SHIFT,strikegrid,Topt)\n",
    "\n",
    "fig, ax = plt.subplots()\n",
    "sabrcurve.plot(ax=ax)\n",
    "plt.xlim([F-.01,F+.01])\n",
    "plt.ylim([volATM-.05,volATM+.05])\n",
    "plt.axvline(F,color='k',linestyle='--',label=f'underlying at {DATE}')\n",
    "plt.axvline(F+SHIFT,color='k',linestyle=':',label=f'underlying + {SHIFT*100*100:.0f}bps')\n",
    "plt.ylabel('swaption implied volatility');\n",
    "plt.xlabel('strike')\n",
    "plt.legend();"
   ]
  },
  {
   "cell_type": "markdown",
   "id": "51b70d11",
   "metadata": {},
   "source": [
    "## **<span style=\"color:red\">2.2, 2.3, 2.4</span>**"
   ]
  },
  {
   "cell_type": "code",
   "execution_count": 14,
   "id": "194a28aa",
   "metadata": {},
   "outputs": [],
   "source": [
    "idloc = (sabrcurve.index.to_series()-fwdswap).abs().idxmin()\n",
    "\n",
    "newvols = sabrcurve.loc[idloc]\n",
    "strikeATM = strikes[idstrikeATM]\n",
    "\n",
    "Frange = F + [0,SHIFT]"
   ]
  },
  {
   "cell_type": "code",
   "execution_count": 15,
   "id": "8516ec82",
   "metadata": {},
   "outputs": [
    {
     "data": {
      "text/html": [
       "<style type=\"text/css\">\n",
       "</style>\n",
       "<table id=\"T_9de2e\">\n",
       "  <thead>\n",
       "    <tr>\n",
       "      <th class=\"blank level0\" >&nbsp;</th>\n",
       "      <th id=\"T_9de2e_level0_col0\" class=\"col_heading level0 col0\" >no change in rates</th>\n",
       "      <th id=\"T_9de2e_level0_col1\" class=\"col_heading level0 col1\" >shift in rates</th>\n",
       "    </tr>\n",
       "  </thead>\n",
       "  <tbody>\n",
       "    <tr>\n",
       "      <th id=\"T_9de2e_level0_row0\" class=\"row_heading level0 row0\" >no change in vol</th>\n",
       "      <td id=\"T_9de2e_row0_col0\" class=\"data row0 col0\" >0.46</td>\n",
       "      <td id=\"T_9de2e_row0_col1\" class=\"data row0 col1\" >0.96</td>\n",
       "    </tr>\n",
       "    <tr>\n",
       "      <th id=\"T_9de2e_level0_row1\" class=\"row_heading level0 row1\" >dynamic vol</th>\n",
       "      <td id=\"T_9de2e_row1_col0\" class=\"data row1 col0\" >nan</td>\n",
       "      <td id=\"T_9de2e_row1_col1\" class=\"data row1 col1\" >1.07</td>\n",
       "    </tr>\n",
       "  </tbody>\n",
       "</table>\n"
      ],
      "text/plain": [
       "<pandas.io.formats.style.Styler at 0x2ab63f430>"
      ]
     },
     "execution_count": 15,
     "metadata": {},
     "output_type": "execute_result"
    }
   ],
   "source": [
    "period_fwd = curves.index.get_loc(Topt)\n",
    "period_swap = curves.index.get_loc(Tswap)+1\n",
    "step = round(freqcurve/freqswap)\n",
    "\n",
    "discount = curves['discounts'].iloc[period_fwd+step : period_swap : step].sum()/freqswap\n",
    "\n",
    "blackprices = pd.Series(N * blacks_formula(Topt, newvols[0],NEWSTRIKE,Frange,discount,isCall=isPayer), index=['no change in rates','shift in rates'], name='no change in vol').to_frame().T\n",
    "blackprices.loc['dynamic vol','shift in rates'] = N * blacks_formula(Topt, newvols[1],NEWSTRIKE,Frange[1],discount,isCall=isPayer)\n",
    "blackprices.style.format('{:.2f}')"
   ]
  },
  {
   "cell_type": "code",
   "execution_count": 16,
   "id": "08604dc7",
   "metadata": {},
   "outputs": [
    {
     "data": {
      "text/html": [
       "<style type=\"text/css\">\n",
       "</style>\n",
       "<table id=\"T_58f17\">\n",
       "  <thead>\n",
       "    <tr>\n",
       "      <th class=\"blank level0\" >&nbsp;</th>\n",
       "      <th id=\"T_58f17_level0_col0\" class=\"col_heading level0 col0\" >price change</th>\n",
       "    </tr>\n",
       "  </thead>\n",
       "  <tbody>\n",
       "    <tr>\n",
       "      <th id=\"T_58f17_level0_row0\" class=\"row_heading level0 row0\" >no change in vol</th>\n",
       "      <td id=\"T_58f17_row0_col0\" class=\"data row0 col0\" >99.99</td>\n",
       "    </tr>\n",
       "    <tr>\n",
       "      <th id=\"T_58f17_level0_row1\" class=\"row_heading level0 row1\" >dynamic vol</th>\n",
       "      <td id=\"T_58f17_row1_col0\" class=\"data row1 col0\" >121.74</td>\n",
       "    </tr>\n",
       "  </tbody>\n",
       "</table>\n"
      ],
      "text/plain": [
       "<pandas.io.formats.style.Styler at 0x2ab6a7520>"
      ]
     },
     "execution_count": 16,
     "metadata": {},
     "output_type": "execute_result"
    }
   ],
   "source": [
    "dprices = (blackprices[['shift in rates']] - blackprices.loc['no change in vol','no change in rates']).rename(columns={'shift in rates':'price change'})\n",
    "delta = dprices / SHIFT\n",
    "delta.style.format('{:.2f}')"
   ]
  },
  {
   "cell_type": "code",
   "execution_count": 17,
   "id": "599bd30b",
   "metadata": {},
   "outputs": [
    {
     "data": {
      "text/plain": [
       "'Relative change to delta:  21.75%.'"
      ]
     },
     "metadata": {},
     "output_type": "display_data"
    }
   ],
   "source": [
    "delta_relative_change = delta.pct_change().loc['dynamic vol','price change']\n",
    "display(f'Relative change to delta: {delta_relative_change : .2%}.')"
   ]
  }
 ],
 "metadata": {
  "hide_input": false,
  "kernelspec": {
   "display_name": "Python 3 (ipykernel)",
   "language": "python",
   "name": "python3"
  },
  "language_info": {
   "codemirror_mode": {
    "name": "ipython",
    "version": 3
   },
   "file_extension": ".py",
   "mimetype": "text/x-python",
   "name": "python",
   "nbconvert_exporter": "python",
   "pygments_lexer": "ipython3",
   "version": "3.9.6"
  }
 },
 "nbformat": 4,
 "nbformat_minor": 5
}
