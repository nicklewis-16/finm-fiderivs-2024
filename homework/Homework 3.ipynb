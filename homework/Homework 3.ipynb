{
 "cells": [
  {
   "cell_type": "markdown",
   "id": "ca82052b",
   "metadata": {},
   "source": [
    "# Homework 3\n",
    "\n",
    "## FINM 37500: Fixed Income Derivatives\n",
    "\n",
    "### Mark Hendricks\n",
    "\n",
    "#### Winter 2024"
   ]
  },
  {
   "cell_type": "markdown",
   "id": "b68b6b5c",
   "metadata": {},
   "source": [
    "# 1. Modeling the Volatility Smile"
   ]
  },
  {
   "cell_type": "markdown",
   "id": "cfebfc72",
   "metadata": {},
   "source": [
    "## Swaption Vol Data\n",
    "\n",
    "The file `data/swaption_vol_data_2024-02-20.xlsx` has market data on the implied volatility skews for swaptions. Note that it has several columns:\n",
    "* `expry`: expiration of the swaption\n",
    "* `tenor`: tenor of the underlying swap\n",
    "* `model`: the model by which the volatility is quoted. (All are Black.)\n",
    "* `-200`, `-100`, etc.: The strike listed as difference from ATM strike (bps). Note that ATM is considered to be the **forward swapa rate** which you can calculate."
   ]
  },
  {
   "cell_type": "markdown",
   "id": "990b0bf8",
   "metadata": {},
   "source": [
    "Your data: ywill use a single row of this data for the `1x4` swaption.\n",
    "* date: `2024-02-20`\n",
    "* expiration: 1yr\n",
    "* tenor: 4yrs"
   ]
  },
  {
   "cell_type": "markdown",
   "id": "962e73a1",
   "metadata": {},
   "source": [
    "## Rate Data\n",
    "\n",
    "The file `data/cap_quotes_2024-02-20.xlsx` gives \n",
    "* SOFR swap rates, \n",
    "* their associated discount factors\n",
    "* their associated forward interest rates.\n",
    "\n",
    "You will not need the cap data (flat or forward vols) for this problem.\n",
    "* This cap data would be helpful in calibrating a binomial tree, but this problem focuses on Black's formula and SABR."
   ]
  },
  {
   "cell_type": "markdown",
   "id": "a11eb456",
   "metadata": {},
   "source": [
    "## The Swaption\n",
    "\n",
    "Consider the following swaption with the following features:\n",
    "* underlying is a fixed-for-floating (SOFR) swap\n",
    "* the underlying swap has **quarterly** payment frequency\n",
    "* this is a **payer** swaption, which gives the holder the option to **pay** the fixed swap rate and receive SOFR."
   ]
  },
  {
   "cell_type": "markdown",
   "id": "934185d4",
   "metadata": {},
   "source": [
    "## 1.1\n",
    "Calculate the (relevant) forward swap rate. That is, the one-year forward 4-year swap rate.\n",
    "\n",
    "## 1.2\n",
    "Price the swaptions at the quoted implied volatilites and corresponding strikes, all using the just-calculated forward swap rate as the underlying.\n",
    "\n",
    "## 1.3\n",
    "To consider how the expiration and tenor matter, calculate the prices of a few other swaptions for comparison. \n",
    "* No need to get other implied vol quotes--just use the ATM implied vol you have for the 1x2 above. (Here we are just interested in how Black's formula changes with changes in tenor and expiration.\n",
    "* No need to calculate for all the strikes--just do the ATM strike.\n",
    "\n",
    "Alternate swaptions\n",
    "* The 3mo x 4yr swaption\n",
    "* The 2yr x 4yr swaption\n",
    "* the 1yr x 2yr swaption\n",
    "\n",
    "Report these values and compare them to the price of the `1y x 4y` swaption."
   ]
  },
  {
   "cell_type": "markdown",
   "id": "e9746e05",
   "metadata": {},
   "source": [
    "***"
   ]
  },
  {
   "cell_type": "markdown",
   "id": "f2a00b41",
   "metadata": {},
   "source": [
    "# 2. Pricing w/ BDT"
   ]
  },
  {
   "cell_type": "markdown",
   "id": "d2ac5d05",
   "metadata": {},
   "source": [
    "Use the data in `cap_curves_2024-02-20.xlsx`."
   ]
  },
  {
   "cell_type": "markdown",
   "id": "833dcc00",
   "metadata": {},
   "source": [
    "## 2.1\n",
    "\n",
    "Calibrate the BDT Tree\n",
    "* theta to fit the term structure discounts.\n",
    "* sigma to fit the fwd vols from the cap data.\n",
    "\n",
    "Report the rate tree through $T=5$. Report trees for rates compounded\n",
    "* continuously\n",
    "* annually"
   ]
  },
  {
   "cell_type": "markdown",
   "id": "db143f00",
   "metadata": {},
   "source": [
    "## 2.2\n",
    "\n",
    "Use a tree to price a vanilla fixed-rate, 5-year bond with coupon rate equal to the forward swap rate calculated in problem `1.1.`"
   ]
  },
  {
   "cell_type": "markdown",
   "id": "fd919c2a",
   "metadata": {},
   "source": [
    "## 2.3"
   ]
  },
  {
   "cell_type": "markdown",
   "id": "de00e13f",
   "metadata": {},
   "source": [
    "We will calculate the binomial tree for the 5-year swap, but here we do so by valuing the swap as...\n",
    "\n",
    "$$\\text{payer swap} = \\text{floating rate note} - \\text{fixed-rate bond}$$\n",
    "\n",
    "Recall for the Floating-Rate Note:\n",
    "* It has par value of 100 at each reset date.\n",
    "* Every node is a reset date given the assumptions of the swap timing.\n",
    "\n",
    "Report the tree for the 5-year swap."
   ]
  },
  {
   "cell_type": "markdown",
   "id": "8ed71f2a",
   "metadata": {},
   "source": [
    "## 2.4\n",
    "\n"
   ]
  },
  {
   "cell_type": "markdown",
   "id": "3d24ccdf",
   "metadata": {},
   "source": [
    "Report the binomial tree for the one-year swaption on a 4-year swap with **european** exercise.\n",
    "* At expiration, the swap tree from 2.3 will have 4 years left, as desired for pricing the 1y-4y swaption."
   ]
  },
  {
   "cell_type": "markdown",
   "id": "3456d9fb",
   "metadata": {},
   "source": [
    "## 2.5\n",
    "\n",
    "Compare the pricing of the 1y4y swaption from Black's formula in Section 1 vs the binomial tree."
   ]
  },
  {
   "cell_type": "markdown",
   "id": "9b48f775",
   "metadata": {},
   "source": [
    "## 2.6\n",
    "\n",
    "Reprice the swaption using the BDT tree, but this time assuming it is **american**-style exercise."
   ]
  },
  {
   "cell_type": "markdown",
   "id": "3f8b5904",
   "metadata": {},
   "source": [
    "***"
   ]
  },
  {
   "cell_type": "markdown",
   "id": "4723c360",
   "metadata": {},
   "source": [
    "# 3. Midcurve Swaptions"
   ]
  },
  {
   "cell_type": "markdown",
   "id": "d82b9549",
   "metadata": {},
   "source": [
    "## 3.1 \n",
    "\n",
    "Use the BDT tree from section 2 to price a **european** midcurve swaption 1y$\\rightarrow$2y$\\rightarrow$2y."
   ]
  },
  {
   "cell_type": "markdown",
   "id": "9778a9a9",
   "metadata": {},
   "source": [
    "## 3.2\n",
    "\n",
    "Price the **american** midcurve swaption 1y$\\rightarrow$2y$\\rightarrow$2y."
   ]
  },
  {
   "cell_type": "markdown",
   "id": "87c2a446",
   "metadata": {},
   "source": [
    "***"
   ]
  }
 ],
 "metadata": {
  "hide_input": false,
  "kernelspec": {
   "display_name": "Python 3 (ipykernel)",
   "language": "python",
   "name": "python3"
  },
  "language_info": {
   "codemirror_mode": {
    "name": "ipython",
    "version": 3
   },
   "file_extension": ".py",
   "mimetype": "text/x-python",
   "name": "python",
   "nbconvert_exporter": "python",
   "pygments_lexer": "ipython3",
   "version": "3.9.6"
  }
 },
 "nbformat": 4,
 "nbformat_minor": 5
}
