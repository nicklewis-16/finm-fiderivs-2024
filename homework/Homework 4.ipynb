{
 "cells": [
  {
   "cell_type": "markdown",
   "id": "4259a0cc",
   "metadata": {},
   "source": [
    "# Homework 4\n",
    "\n",
    "## FINM 37500: Fixed Income Derivatives\n",
    "\n",
    "### Mark Hendricks\n",
    "\n",
    "#### Winter 2024"
   ]
  },
  {
   "cell_type": "markdown",
   "id": "734d0514",
   "metadata": {},
   "source": [
    "***"
   ]
  },
  {
   "cell_type": "markdown",
   "id": "3867fea1",
   "metadata": {},
   "source": [
    "# Data"
   ]
  },
  {
   "cell_type": "markdown",
   "id": "7253d4eb",
   "metadata": {},
   "source": [
    "### Note\n",
    "This homework continues with the data from `Homework 3`."
   ]
  },
  {
   "cell_type": "markdown",
   "id": "950d16bf",
   "metadata": {},
   "source": [
    "### Swaption Vol Data\n",
    "\n",
    "The file `data/swaption_vol_data_2024-02-20.xlsx` has market data on the implied volatility skews for swaptions. Note that it has several columns:\n",
    "* `expry`: expiration of the swaption\n",
    "* `tenor`: tenor of the underlying swap\n",
    "* `model`: the model by which the volatility is quoted. (All are Black.)\n",
    "* `-200`, `-100`, etc.: The strike listed as difference from ATM strike (bps). Note that ATM is considered to be the **forward swap rate** which you can calculate."
   ]
  },
  {
   "cell_type": "markdown",
   "id": "81df7b2e",
   "metadata": {},
   "source": [
    "Your data: ywill use a single row of this data for the `1x4` swaption.\n",
    "* date: `2024-02-20`\n",
    "* expiration: 1yr\n",
    "* tenor: 4yrs\n",
    "\n",
    "As in `Homework 3`, you will need the forward swap value and the actual strikes being referred to in the provided data (which quotes relative strikes.)"
   ]
  },
  {
   "cell_type": "markdown",
   "id": "f95bcb98",
   "metadata": {},
   "source": [
    "# 1. SABR Volatility Modeling"
   ]
  },
  {
   "cell_type": "markdown",
   "id": "79df5eed",
   "metadata": {},
   "source": [
    "Use the quoted volatility skew to fit a SABR model.\n",
    "* Throughout, parameterize, `beta=.75`."
   ]
  },
  {
   "cell_type": "markdown",
   "id": "4153c6c6",
   "metadata": {},
   "source": [
    "## 1.1\n",
    "Estimate $(\\alpha,\\rho,\\nu)$ via the SABR formula. Feel free to use the `sabr` function in `cmds/volskew.py`.\n",
    "\n",
    "Report the values of these parameters."
   ]
  },
  {
   "cell_type": "markdown",
   "id": "69767d05",
   "metadata": {},
   "source": [
    "## 1.2\n",
    "Create a grid of strikes of `[.0025, .09]`, with grid spacing of `10bps`, (.0010).\n",
    "\n",
    "Use the SABR model parameterized above to calculate the volatility for each of these strikes.\n",
    "\n",
    "* Plot the SABR curve, and also include the market quotes in the plot.\n",
    "\n",
    "* Conceptually, does the SABR curve fit these points well? Perfectly?"
   ]
  },
  {
   "cell_type": "markdown",
   "id": "4a0568ef",
   "metadata": {},
   "source": [
    "## 1.3\n",
    "Suppose we want to price the `1y4y` swaption but with a far out-of-the-money strike of `5%`. \n",
    "\n",
    "* Use the SABR vol at this strike to price the swaption.\n",
    "\n",
    "(Note that this strike is far outside the range for which we have market quotes, and even if we do have quotes, they likely are not liquid on a given day.)\n",
    "\n"
   ]
  },
  {
   "cell_type": "markdown",
   "id": "4cd6d4e2",
   "metadata": {},
   "source": [
    "## 1.4\n",
    "\n",
    "Use the ATM implied volatility to fit $\\alpha$, (sometimes denoted $\\sigma_0$.) That is, for any choice of $(\\rho,\\nu)$, solve a quadratic equation to get $\\alpha$ as a function of those two parameters, along with $\\beta$, which is at its selected (not estimated) value.\n",
    "\n",
    "Recall that we have a simple relationship between ATM vol and $\\alpha$.\n",
    "$$\\sigma_\\text{ATM} = \\alpha\\frac{B}{F^{1-\\beta}}$$\n",
    "where $B$ is defined in the discussion note. It is a quadratic expression of $\\alpha$ along with $(\\beta,\\rho,\\nu)$.\n",
    "\n",
    "This decouples the optimization. We solve for $(\\rho,\\nu)$ and $\\alpha$ as a function of the other two parameters.\n",
    "\n",
    "Consider using the function `sabrATM` in `cmds/volskew.py`."
   ]
  },
  {
   "cell_type": "markdown",
   "id": "dffcd7d1",
   "metadata": {},
   "source": [
    "***"
   ]
  },
  {
   "cell_type": "markdown",
   "id": "b2d70615",
   "metadata": {},
   "source": [
    "# 2. SABR and Risk Management"
   ]
  },
  {
   "cell_type": "markdown",
   "id": "e4207d40",
   "metadata": {},
   "source": [
    "Consider how an **increase** of `50bps` in the underlying rate impacts the price of the `1y4y` ATM swaption.\n",
    "\n",
    "Here, we are assuming that\n",
    "* the rate change will impact the forward swap rate directly, one-for-one with other rates.\n",
    "* the shift happens on `Feb 21, 2024`.\n",
    "\n",
    "Of course, in reality, a rate change\n",
    "* may price in early to some degree if it is expected\n",
    "* may not impact the forward swap rate one-for-one. We would need to model how the discount curve changes and what that change (level, slope, curvature?) would do to the forward swap rate."
   ]
  },
  {
   "cell_type": "markdown",
   "id": "6f99f98e",
   "metadata": {},
   "source": [
    "## 2.1\n",
    "\n",
    "Use Black's equation to re-price the `1y4y` swaption with\n",
    "* the same ATM volatility\n",
    "* an underlying (forward swap) rate increased `50bps`.\n",
    "* the same time-to-maturities. (We should decrease these all by 1/365, but we focus here on the delta effects rather than the theta. And it would be a small impact anyone.)\n",
    "\n",
    "Report \n",
    "* the new price\n",
    "* the change in price divided by `50bps`, (a numerical delta.)"
   ]
  },
  {
   "cell_type": "markdown",
   "id": "8e590904",
   "metadata": {},
   "source": [
    "## 2.2\n",
    "\n",
    "Now, we consider how the volatility may change with the underlying shift of `50bps`.\n",
    "\n",
    "Using the same SABR parameters from `1.1`, and the strike grid from `1.2`, plot the new SABR curve accounting for the underlying rate shifting up `50bps`."
   ]
  },
  {
   "cell_type": "markdown",
   "id": "3eac1381",
   "metadata": {},
   "source": [
    "## 2.3\n",
    "\n",
    "Calculate the new volatility specifically for the pre-shift ATM strike.\n",
    "\n",
    "Use this in Black's formula similar to `2.1`, where the only change is the volatility now reflects the shift in the underlying (not the strike).\n",
    "\n",
    "Report\n",
    "* the new price\n",
    "* the change in price divided by `50bps`"
   ]
  },
  {
   "cell_type": "markdown",
   "id": "651dee83",
   "metadata": {},
   "source": [
    "## 2.4\n",
    "\n",
    "How much different is the (dynamic) delta which accounts for the shift in volatility from the (static) delta in `2.1`?"
   ]
  },
  {
   "cell_type": "markdown",
   "id": "efcd09ea",
   "metadata": {},
   "source": [
    "***"
   ]
  }
 ],
 "metadata": {
  "hide_input": false,
  "kernelspec": {
   "display_name": "Python 3 (ipykernel)",
   "language": "python",
   "name": "python3"
  },
  "language_info": {
   "codemirror_mode": {
    "name": "ipython",
    "version": 3
   },
   "file_extension": ".py",
   "mimetype": "text/x-python",
   "name": "python",
   "nbconvert_exporter": "python",
   "pygments_lexer": "ipython3",
   "version": "3.9.6"
  }
 },
 "nbformat": 4,
 "nbformat_minor": 5
}
