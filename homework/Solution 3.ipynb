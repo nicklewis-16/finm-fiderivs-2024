{
 "cells": [
  {
   "cell_type": "markdown",
   "id": "835a4894",
   "metadata": {},
   "source": [
    "# Solution 3\n",
    "\n",
    "## FINM 37500: Fixed Income Derivatives\n",
    "\n",
    "### Mark Hendricks\n",
    "\n",
    "#### Winter 2024"
   ]
  },
  {
   "cell_type": "markdown",
   "id": "9fef2622",
   "metadata": {},
   "source": [
    "# 1. Modeling the Volatility Smile"
   ]
  },
  {
   "cell_type": "markdown",
   "id": "bfd5190a",
   "metadata": {},
   "source": [
    "## Swaption Vol Data\n",
    "\n",
    "The file `data/swaption_vol_data_2024-02-20.xlsx` has market data on the implied volatility skews for swaptions. Note that it has several columns:\n",
    "* `expry`: expiration of the swaption\n",
    "* `tenor`: tenor of the underlying swap\n",
    "* `model`: the model by which the volatility is quoted. (All are Black.)\n",
    "* `-200`, `-100`, etc.: The strike listed as difference from ATM strike (bps). Note that ATM is considered to be the **forward swapa rate** which you can calculate."
   ]
  },
  {
   "cell_type": "markdown",
   "id": "87d7814d",
   "metadata": {},
   "source": [
    "Your data: ywill use a single row of this data for the `1x4` swaption.\n",
    "* date: `2024-02-20`\n",
    "* expiration: 1yr\n",
    "* tenor: 4yrs"
   ]
  },
  {
   "cell_type": "markdown",
   "id": "7144a6e5",
   "metadata": {},
   "source": [
    "## Rate Data\n",
    "\n",
    "The file `data/cap_quotes_2024-02-20.xlsx` gives \n",
    "* SOFR swap rates, \n",
    "* their associated discount factors\n",
    "* their associated forward interest rates.\n",
    "\n",
    "You will not need the cap data (flat or forward vols) for this problem.\n",
    "* This cap data would be helpful in calibrating a binomial tree, but this problem focuses on Black's formula and SABR."
   ]
  },
  {
   "cell_type": "markdown",
   "id": "9226aebc",
   "metadata": {},
   "source": [
    "## The Swaption\n",
    "\n",
    "Consider the following swaption with the following features:\n",
    "* underlying is a fixed-for-floating (SOFR) swap\n",
    "* the underlying swap has **quarterly** payment frequency\n",
    "* this is a **payer** swaption, which gives the holder the option to **pay** the fixed swap rate and receive SOFR."
   ]
  },
  {
   "cell_type": "markdown",
   "id": "e23d81c5",
   "metadata": {},
   "source": [
    "## 1.1\n",
    "Calculate the (relevant) forward swap rate. That is, the one-year forward 4-year swap rate.\n",
    "\n",
    "## 1.2\n",
    "Price the swaptions at the quoted implied volatilites and corresponding strikes, all using the just-calculated forward swap rate as the underlying.\n",
    "\n",
    "## 1.3\n",
    "To consider how the expiration and tenor matter, calculate the prices of a few other swaptions for comparison. \n",
    "* No need to get other implied vol quotes--just use the ATM implied vol you have for the 1x2 above. (Here we are just interested in how Black's formula changes with changes in tenor and expiration.\n",
    "* No need to calculate for all the strikes--just do the ATM strike.\n",
    "\n",
    "Alternate swaptions\n",
    "* The 3mo x 4yr swaption\n",
    "* The 2yr x 4yr swaption\n",
    "* the 1yr x 2yr swaption\n",
    "\n",
    "Report these values and compare them to the price of the `1y x 4y` swaption."
   ]
  },
  {
   "cell_type": "markdown",
   "id": "892042a2",
   "metadata": {},
   "source": [
    "***"
   ]
  },
  {
   "cell_type": "markdown",
   "id": "53e4a995",
   "metadata": {},
   "source": [
    "# **<span style=\"color:red\">Solutions</span>**"
   ]
  },
  {
   "cell_type": "code",
   "execution_count": 1,
   "id": "61981498",
   "metadata": {},
   "outputs": [],
   "source": [
    "import numpy as np\n",
    "import pandas as pd\n",
    "\n",
    "from datetime import date\n",
    "from datetime import datetime\n",
    "\n",
    "import sys\n",
    "sys.path.insert(0, '../cmds')\n",
    "from ficcvol import *\n",
    "from binomial import *\n",
    "from ratecurves import *\n",
    "from treasury_cmds import compound_rate\n",
    "from volskew import *"
   ]
  },
  {
   "cell_type": "code",
   "execution_count": 2,
   "id": "54af2eec",
   "metadata": {
    "scrolled": true
   },
   "outputs": [],
   "source": [
    "import datetime\n",
    "import warnings\n",
    "\n",
    "import matplotlib.pyplot as plt\n",
    "import seaborn as sns\n",
    "%matplotlib inline\n",
    "plt.rcParams['figure.figsize'] = (12,6)\n",
    "plt.rcParams['font.size'] = 15\n",
    "plt.rcParams['legend.fontsize'] = 13\n",
    "\n",
    "import matplotlib.ticker as mtick\n",
    "from matplotlib.ticker import (MultipleLocator,\n",
    "                               FormatStrFormatter,\n",
    "                               AutoMinorLocator)"
   ]
  },
  {
   "cell_type": "markdown",
   "id": "20c6a4d4",
   "metadata": {},
   "source": [
    "# **<span style=\"color:red\">Solution 1</span>**"
   ]
  },
  {
   "cell_type": "code",
   "execution_count": 3,
   "id": "fe9f65b6",
   "metadata": {},
   "outputs": [],
   "source": [
    "DATE = '2024-02-20'\n",
    "freqcurve = 4\n",
    "\n",
    "SWAP_TYPE = 'SOFR'\n",
    "QUOTE_STYLE = 'black'\n",
    "RELATIVE_STRIKE = 0\n",
    "\n",
    "expry = 1\n",
    "tenor = 4\n",
    "\n",
    "freqswap = 4\n",
    "isPayer=True\n",
    "N = 100"
   ]
  },
  {
   "cell_type": "code",
   "execution_count": 4,
   "id": "54ad4041",
   "metadata": {},
   "outputs": [],
   "source": [
    "curves = pd.read_excel(f'../data/cap_curves_{DATE}.xlsx', sheet_name=f'rate curves {DATE}').set_index('tenor')\n",
    "\n",
    "Topt = expry\n",
    "Tswap = Topt+tenor\n",
    "\n",
    "fwdrate = curves['forwards'][Topt]\n",
    "\n",
    "fwdswap = calc_fwdswaprate(curves['discounts'], Topt, Tswap, freqswap=freqswap)"
   ]
  },
  {
   "cell_type": "markdown",
   "id": "8dbac4f0",
   "metadata": {},
   "source": [
    "## **<span style=\"color:red\">1.1</span>**"
   ]
  },
  {
   "cell_type": "code",
   "execution_count": 5,
   "id": "41109168",
   "metadata": {},
   "outputs": [
    {
     "data": {
      "text/plain": [
       "'The forward swap rate is 3.67%'"
      ]
     },
     "metadata": {},
     "output_type": "display_data"
    }
   ],
   "source": [
    "display(f'The forward swap rate is {fwdswap:.2%}')"
   ]
  },
  {
   "cell_type": "markdown",
   "id": "fc57cf7f",
   "metadata": {},
   "source": [
    "## **<span style=\"color:red\">1.2</span>**"
   ]
  },
  {
   "cell_type": "markdown",
   "id": "43594128",
   "metadata": {},
   "source": [
    "### Import and Process Quoted Vols"
   ]
  },
  {
   "cell_type": "code",
   "execution_count": 6,
   "id": "c63ad0a7",
   "metadata": {},
   "outputs": [
    {
     "data": {
      "text/html": [
       "<div>\n",
       "<style scoped>\n",
       "    .dataframe tbody tr th:only-of-type {\n",
       "        vertical-align: middle;\n",
       "    }\n",
       "\n",
       "    .dataframe tbody tr th {\n",
       "        vertical-align: top;\n",
       "    }\n",
       "\n",
       "    .dataframe thead th {\n",
       "        text-align: right;\n",
       "    }\n",
       "</style>\n",
       "<table border=\"1\" class=\"dataframe\">\n",
       "  <thead>\n",
       "    <tr style=\"text-align: right;\">\n",
       "      <th></th>\n",
       "      <th>reference</th>\n",
       "      <th>instrument</th>\n",
       "      <th>model</th>\n",
       "      <th>date</th>\n",
       "      <th>expiration</th>\n",
       "      <th>tenor</th>\n",
       "      <th>-200</th>\n",
       "      <th>-100</th>\n",
       "      <th>-50</th>\n",
       "      <th>-25</th>\n",
       "      <th>0</th>\n",
       "      <th>25</th>\n",
       "      <th>50</th>\n",
       "      <th>100</th>\n",
       "      <th>200</th>\n",
       "    </tr>\n",
       "  </thead>\n",
       "  <tbody>\n",
       "    <tr>\n",
       "      <th>implied vol</th>\n",
       "      <td>SOFR</td>\n",
       "      <td>swaption</td>\n",
       "      <td>black</td>\n",
       "      <td>2024-02-20</td>\n",
       "      <td>1</td>\n",
       "      <td>4</td>\n",
       "      <td>54.54</td>\n",
       "      <td>40.37</td>\n",
       "      <td>35.94</td>\n",
       "      <td>34.23</td>\n",
       "      <td>32.83</td>\n",
       "      <td>31.71</td>\n",
       "      <td>30.86</td>\n",
       "      <td>29.83</td>\n",
       "      <td>29.54</td>\n",
       "    </tr>\n",
       "  </tbody>\n",
       "</table>\n",
       "</div>"
      ],
      "text/plain": [
       "            reference instrument  model       date  expiration  tenor   -200  \\\n",
       "implied vol      SOFR   swaption  black 2024-02-20           1      4  54.54   \n",
       "\n",
       "              -100    -50    -25      0     25     50    100    200  \n",
       "implied vol  40.37  35.94  34.23  32.83  31.71  30.86  29.83  29.54  "
      ]
     },
     "execution_count": 6,
     "metadata": {},
     "output_type": "execute_result"
    }
   ],
   "source": [
    "voldata = pd.read_excel('../data/swaption_vol_data.xlsx')\n",
    "volquote = voldata.query(f'model==\"{QUOTE_STYLE}\"').query(f'reference==\"{SWAP_TYPE}\"').query(f'date==\"{DATE}\"')\n",
    "idx = (volquote['expiration']==expry) & (volquote['tenor']==tenor)\n",
    "volquote = volquote.loc[idx]\n",
    "volquote.index = ['implied vol']\n",
    "\n",
    "volquote"
   ]
  },
  {
   "cell_type": "code",
   "execution_count": 7,
   "id": "6196b710",
   "metadata": {},
   "outputs": [],
   "source": [
    "strikerange = np.array(volquote.columns[-9:].tolist())\n",
    "vols = volquote[strikerange]\n",
    "vols /= 100\n",
    "strikes = fwdswap + strikerange/100/100\n",
    "idstrike = np.where(strikerange==RELATIVE_STRIKE)[0][0]\n",
    "\n",
    "idstrikeATM = np.where(strikerange==0)[0][0]\n",
    "\n",
    "if QUOTE_STYLE == 'normal':\n",
    "    vols /= 100 * fwdrate\n",
    "\n",
    "capvol = curves.loc[Topt,'fwd vols']\n",
    "\n",
    "strikeATM = strikes[idstrikeATM]\n",
    "volATM = vols.iloc[0,idstrikeATM]"
   ]
  },
  {
   "cell_type": "markdown",
   "id": "50442f3f",
   "metadata": {},
   "source": [
    "### Use Black's Formula"
   ]
  },
  {
   "cell_type": "code",
   "execution_count": 8,
   "id": "7a19c31d",
   "metadata": {},
   "outputs": [
    {
     "data": {
      "text/html": [
       "<style type=\"text/css\">\n",
       "</style>\n",
       "<table id=\"T_2c0d8\">\n",
       "  <thead>\n",
       "    <tr>\n",
       "      <th class=\"blank level0\" >&nbsp;</th>\n",
       "      <th id=\"T_2c0d8_level0_col0\" class=\"col_heading level0 col0\" >-200</th>\n",
       "      <th id=\"T_2c0d8_level0_col1\" class=\"col_heading level0 col1\" >-100</th>\n",
       "      <th id=\"T_2c0d8_level0_col2\" class=\"col_heading level0 col2\" >-50</th>\n",
       "      <th id=\"T_2c0d8_level0_col3\" class=\"col_heading level0 col3\" >-25</th>\n",
       "      <th id=\"T_2c0d8_level0_col4\" class=\"col_heading level0 col4\" >0</th>\n",
       "      <th id=\"T_2c0d8_level0_col5\" class=\"col_heading level0 col5\" >25</th>\n",
       "      <th id=\"T_2c0d8_level0_col6\" class=\"col_heading level0 col6\" >50</th>\n",
       "      <th id=\"T_2c0d8_level0_col7\" class=\"col_heading level0 col7\" >100</th>\n",
       "      <th id=\"T_2c0d8_level0_col8\" class=\"col_heading level0 col8\" >200</th>\n",
       "    </tr>\n",
       "  </thead>\n",
       "  <tbody>\n",
       "    <tr>\n",
       "      <th id=\"T_2c0d8_level0_row0\" class=\"row_heading level0 row0\" >strike</th>\n",
       "      <td id=\"T_2c0d8_row0_col0\" class=\"data row0 col0\" >0.0167</td>\n",
       "      <td id=\"T_2c0d8_row0_col1\" class=\"data row0 col1\" >0.0267</td>\n",
       "      <td id=\"T_2c0d8_row0_col2\" class=\"data row0 col2\" >0.0317</td>\n",
       "      <td id=\"T_2c0d8_row0_col3\" class=\"data row0 col3\" >0.0342</td>\n",
       "      <td id=\"T_2c0d8_row0_col4\" class=\"data row0 col4\" >0.0367</td>\n",
       "      <td id=\"T_2c0d8_row0_col5\" class=\"data row0 col5\" >0.0392</td>\n",
       "      <td id=\"T_2c0d8_row0_col6\" class=\"data row0 col6\" >0.0417</td>\n",
       "      <td id=\"T_2c0d8_row0_col7\" class=\"data row0 col7\" >0.0467</td>\n",
       "      <td id=\"T_2c0d8_row0_col8\" class=\"data row0 col8\" >0.0567</td>\n",
       "    </tr>\n",
       "    <tr>\n",
       "      <th id=\"T_2c0d8_level0_row1\" class=\"row_heading level0 row1\" >implied vol</th>\n",
       "      <td id=\"T_2c0d8_row1_col0\" class=\"data row1 col0\" >0.5454</td>\n",
       "      <td id=\"T_2c0d8_row1_col1\" class=\"data row1 col1\" >0.4037</td>\n",
       "      <td id=\"T_2c0d8_row1_col2\" class=\"data row1 col2\" >0.3594</td>\n",
       "      <td id=\"T_2c0d8_row1_col3\" class=\"data row1 col3\" >0.3423</td>\n",
       "      <td id=\"T_2c0d8_row1_col4\" class=\"data row1 col4\" >0.3283</td>\n",
       "      <td id=\"T_2c0d8_row1_col5\" class=\"data row1 col5\" >0.3171</td>\n",
       "      <td id=\"T_2c0d8_row1_col6\" class=\"data row1 col6\" >0.3086</td>\n",
       "      <td id=\"T_2c0d8_row1_col7\" class=\"data row1 col7\" >0.2983</td>\n",
       "      <td id=\"T_2c0d8_row1_col8\" class=\"data row1 col8\" >0.2954</td>\n",
       "    </tr>\n",
       "    <tr>\n",
       "      <th id=\"T_2c0d8_level0_row2\" class=\"row_heading level0 row2\" >price</th>\n",
       "      <td id=\"T_2c0d8_row2_col0\" class=\"data row2 col0\" >7.2031</td>\n",
       "      <td id=\"T_2c0d8_row2_col1\" class=\"data row2 col1\" >4.0653</td>\n",
       "      <td id=\"T_2c0d8_row2_col2\" class=\"data row2 col2\" >2.7398</td>\n",
       "      <td id=\"T_2c0d8_row2_col3\" class=\"data row2 col3\" >2.1749</td>\n",
       "      <td id=\"T_2c0d8_row2_col4\" class=\"data row2 col4\" >1.6874</td>\n",
       "      <td id=\"T_2c0d8_row2_col5\" class=\"data row2 col5\" >1.2812</td>\n",
       "      <td id=\"T_2c0d8_row2_col6\" class=\"data row2 col6\" >0.9556</td>\n",
       "      <td id=\"T_2c0d8_row2_col7\" class=\"data row2 col7\" >0.5133</td>\n",
       "      <td id=\"T_2c0d8_row2_col8\" class=\"data row2 col8\" >0.1473</td>\n",
       "    </tr>\n",
       "  </tbody>\n",
       "</table>\n"
      ],
      "text/plain": [
       "<pandas.io.formats.style.Styler at 0x2847d0a60>"
      ]
     },
     "execution_count": 8,
     "metadata": {},
     "output_type": "execute_result"
    }
   ],
   "source": [
    "period_fwd = curves.index.get_loc(Topt)\n",
    "period_swap = curves.index.get_loc(Tswap)+1\n",
    "step = round(freqcurve/freqswap)\n",
    "\n",
    "discount = curves['discounts'].iloc[period_fwd+step : period_swap : step].sum()/freqswap\n",
    "blacks_quotes = vols.copy()\n",
    "blacks_quotes.loc['price'] = N * blacks_formula(Topt,vols,strikes,fwdswap,discount,isCall=isPayer)[0]\n",
    "blacks_quotes.loc['strike'] = strikes\n",
    "blacks_quotes = blacks_quotes.loc[['strike','implied vol','price']]\n",
    "\n",
    "blacks_quotes.style.format('{:.4f}')"
   ]
  },
  {
   "cell_type": "markdown",
   "id": "93a46b96",
   "metadata": {},
   "source": [
    "## **<span style=\"color:red\">1.3</span>**"
   ]
  },
  {
   "cell_type": "code",
   "execution_count": 9,
   "id": "9c841e9c",
   "metadata": {},
   "outputs": [
    {
     "data": {
      "text/html": [
       "<style type=\"text/css\">\n",
       "#T_b505c_row1_col0, #T_b505c_row1_col1, #T_b505c_row1_col2 {\n",
       "  background-color: yellow;\n",
       "}\n",
       "</style>\n",
       "<table id=\"T_b505c\">\n",
       "  <thead>\n",
       "    <tr>\n",
       "      <th class=\"blank level0\" >&nbsp;</th>\n",
       "      <th id=\"T_b505c_level0_col0\" class=\"col_heading level0 col0\" >expiry</th>\n",
       "      <th id=\"T_b505c_level0_col1\" class=\"col_heading level0 col1\" >tenor</th>\n",
       "      <th id=\"T_b505c_level0_col2\" class=\"col_heading level0 col2\" >price</th>\n",
       "    </tr>\n",
       "  </thead>\n",
       "  <tbody>\n",
       "    <tr>\n",
       "      <th id=\"T_b505c_level0_row0\" class=\"row_heading level0 row0\" >0</th>\n",
       "      <td id=\"T_b505c_row0_col0\" class=\"data row0 col0\" >0.25</td>\n",
       "      <td id=\"T_b505c_row0_col1\" class=\"data row0 col1\" >4.00</td>\n",
       "      <td id=\"T_b505c_row0_col2\" class=\"data row0 col2\" >0.8705</td>\n",
       "    </tr>\n",
       "    <tr>\n",
       "      <th id=\"T_b505c_level0_row1\" class=\"row_heading level0 row1\" >1</th>\n",
       "      <td id=\"T_b505c_row1_col0\" class=\"data row1 col0\" >1.00</td>\n",
       "      <td id=\"T_b505c_row1_col1\" class=\"data row1 col1\" >4.00</td>\n",
       "      <td id=\"T_b505c_row1_col2\" class=\"data row1 col2\" >1.6874</td>\n",
       "    </tr>\n",
       "    <tr>\n",
       "      <th id=\"T_b505c_level0_row2\" class=\"row_heading level0 row2\" >2</th>\n",
       "      <td id=\"T_b505c_row2_col0\" class=\"data row2 col0\" >2.00</td>\n",
       "      <td id=\"T_b505c_row2_col1\" class=\"data row2 col1\" >4.00</td>\n",
       "      <td id=\"T_b505c_row2_col2\" class=\"data row2 col2\" >2.2914</td>\n",
       "    </tr>\n",
       "    <tr>\n",
       "      <th id=\"T_b505c_level0_row3\" class=\"row_heading level0 row3\" >3</th>\n",
       "      <td id=\"T_b505c_row3_col0\" class=\"data row3 col0\" >1.00</td>\n",
       "      <td id=\"T_b505c_row3_col1\" class=\"data row3 col1\" >2.00</td>\n",
       "      <td id=\"T_b505c_row3_col2\" class=\"data row3 col2\" >0.8740</td>\n",
       "    </tr>\n",
       "  </tbody>\n",
       "</table>\n"
      ],
      "text/plain": [
       "<pandas.io.formats.style.Styler at 0x28483dc70>"
      ]
     },
     "execution_count": 9,
     "metadata": {},
     "output_type": "execute_result"
    }
   ],
   "source": [
    "expiries = [.25,1,2,1]\n",
    "tenors = [4,4,4,2]\n",
    "fwdswaps = np.full(len(expiries),np.nan)\n",
    "\n",
    "blacks_quotes_alt = pd.DataFrame(dtype=float,columns=['expiry','tenor','price'])\n",
    "    \n",
    "for i in range(len(fwdswaps)):\n",
    "    fwdswaps[i] = calc_fwdswaprate(curves['discounts'], expiries[i], expiries[i]+tenors[i], freqswap=freqswap)\n",
    "    \n",
    "    period0 = curves.index.get_loc(expiries[i])\n",
    "    period1 = curves.index.get_loc(expiries[i]+tenors[i])+1\n",
    "    step_i = round(freqcurve/freqswap)\n",
    "\n",
    "    discount_i = curves['discounts'].iloc[period0+step_i : period1 : step_i].sum()/freqswap\n",
    "\n",
    "    blacks_quotes_alt.loc[i,['expiry','tenor']] = [expiries[i],tenors[i]]\n",
    "    blacks_quotes_alt.loc[i,'price'] = N * blacks_formula(expiries[i],volATM,strikeATM,fwdswap,discount_i,isCall=isPayer)\n",
    "\n",
    "    \n",
    "def highlight_row(row):\n",
    "    if row.name == 1:\n",
    "        return ['background-color: yellow'] * len(row)\n",
    "    else:\n",
    "        return [''] * len(row)\n",
    "    \n",
    "blacks_quotes_alt.style.apply(highlight_row,axis=1).format({'expiry':'{:.2f}', 'tenor':'{:.2f}', 'price':'{:.4f}'})"
   ]
  },
  {
   "cell_type": "markdown",
   "id": "85c722a6",
   "metadata": {},
   "source": [
    "***"
   ]
  },
  {
   "cell_type": "markdown",
   "id": "d33985f4",
   "metadata": {},
   "source": [
    "# 2. Pricing w/ BDT"
   ]
  },
  {
   "cell_type": "markdown",
   "id": "f2d7ee50",
   "metadata": {},
   "source": [
    "Use the data in `cap_curves_2024-02-20.xlsx`."
   ]
  },
  {
   "cell_type": "markdown",
   "id": "3c3be91c",
   "metadata": {},
   "source": [
    "## 2.1\n",
    "\n",
    "Calibrate the BDT Tree\n",
    "* theta to fit the term structure discounts.\n",
    "* sigma to fit the fwd vols from the cap data.\n",
    "\n",
    "Report the rate tree through $T=5$. Report trees for rates compounded\n",
    "* continuously\n",
    "* annually"
   ]
  },
  {
   "cell_type": "markdown",
   "id": "0a49fe8f",
   "metadata": {},
   "source": [
    "## 2.2\n",
    "\n",
    "Use a tree to price a vanilla fixed-rate, 5-year bond with coupon rate equal to the forward swap rate calculated in problem `1.1.`"
   ]
  },
  {
   "cell_type": "markdown",
   "id": "efcbbb27",
   "metadata": {},
   "source": [
    "## 2.3"
   ]
  },
  {
   "cell_type": "markdown",
   "id": "3203882c",
   "metadata": {},
   "source": [
    "We will calculate the binomial tree for the 5-year swap, but here we do so by valuing the swap as...\n",
    "\n",
    "$$\\text{payer swap} = \\text{floating rate note} - \\text{fixed-rate bond}$$\n",
    "\n",
    "Recall for the Floating-Rate Note:\n",
    "* It has par value of 100 at each reset date.\n",
    "* Every node is a reset date given the assumptions of the swap timing.\n",
    "\n",
    "Report the tree for the 5-year swap."
   ]
  },
  {
   "cell_type": "markdown",
   "id": "c4a7a93f",
   "metadata": {},
   "source": [
    "## 2.4\n",
    "\n"
   ]
  },
  {
   "cell_type": "markdown",
   "id": "7b65a9e9",
   "metadata": {},
   "source": [
    "Report the binomial tree for the one-year European swaption on a 4-year swap.\n",
    "* At expiration, the swap tree from 2.3 will have 4 years left, as desired for pricing the 1y-4y swaption."
   ]
  },
  {
   "cell_type": "markdown",
   "id": "73985f71",
   "metadata": {},
   "source": [
    "## 2.5\n",
    "\n",
    "Compare the pricing of the 1y4y swaption from Black's formula in Section 1 vs the binomial tree."
   ]
  },
  {
   "cell_type": "markdown",
   "id": "463ba005",
   "metadata": {},
   "source": [
    "## 2.6\n",
    "\n",
    "Reprice the swaption using the BDT tree, but this time assuming it is American exercise."
   ]
  },
  {
   "cell_type": "markdown",
   "id": "9550035e",
   "metadata": {},
   "source": [
    "***"
   ]
  },
  {
   "cell_type": "markdown",
   "id": "bde5cede",
   "metadata": {},
   "source": [
    "# **<span style=\"color:red\">Solution 2</span>**"
   ]
  },
  {
   "cell_type": "markdown",
   "id": "2ef8b635",
   "metadata": {},
   "source": [
    "## **<span style=\"color:red\">2.1</span>**"
   ]
  },
  {
   "cell_type": "markdown",
   "id": "ac80eb7f",
   "metadata": {},
   "source": [
    "#### Interpolate curves to Tree Grid"
   ]
  },
  {
   "cell_type": "code",
   "execution_count": 10,
   "id": "19cbafdc",
   "metadata": {},
   "outputs": [],
   "source": [
    "FREQTREE = 4\n",
    "dt = 1/FREQTREE\n",
    "\n",
    "newgrid = np.arange(dt,curves.index[-1]+dt,dt).round(6)\n",
    "curvesint = pd.DataFrame(dtype=float, columns=curves.columns, index=newgrid)\n",
    "cols_interp = ['swap rates','flat vols','fwd vols']\n",
    "\n",
    "# interpolate\n",
    "curvesint = pd.concat([curvesint,curves],axis=0)\n",
    "curvesint = curvesint.interpolate(method='cubicspline',fill_value='extrapolate',limit_direction='both')\n",
    "curvesint = curvesint.loc[newgrid,:]\n",
    "curvesint = curvesint[~curvesint.index.duplicated()].sort_index()\n",
    "\n",
    "# compute derived curves\n",
    "curvesint['discounts'] = ratecurve_to_discountcurve(curvesint['swap rates'],n_compound=FREQTREE)\n",
    "curvesint['forwards'] = ratecurve_to_forwardcurve(curvesint['swap rates'],n_compound=FREQTREE)\n",
    "\n",
    "# forward vol is derived but can't extract curve--interpolate and adjust front to first flat vol\n",
    "id0 = curves['flat vols'].dropna().index[0]\n",
    "curvesint.loc[:id0,['flat vols','fwd vols']] = curves.loc[id0,'flat vols']"
   ]
  },
  {
   "cell_type": "code",
   "execution_count": 11,
   "id": "7e1d8e5c",
   "metadata": {},
   "outputs": [
    {
     "data": {
      "image/png": "[encoded data removed]",
      "text/plain": [
       "<Figure size 1200x600 with 1 Axes>"
      ]
     },
     "metadata": {},
     "output_type": "display_data"
    }
   ],
   "source": [
    "curvesint[['swap rates','forwards']].loc[:Tswap].plot();"
   ]
  },
  {
   "cell_type": "code",
   "execution_count": 12,
   "id": "63244ddb",
   "metadata": {
    "scrolled": false
   },
   "outputs": [
    {
     "data": {
      "image/png": "[encoded data removed]",
      "text/plain": [
       "<Figure size 1200x600 with 1 Axes>"
      ]
     },
     "metadata": {},
     "output_type": "display_data"
    }
   ],
   "source": [
    "curvesint[['flat vols','fwd vols']].loc[:Tswap].plot();"
   ]
  },
  {
   "cell_type": "markdown",
   "id": "7815f356",
   "metadata": {},
   "source": [
    "#### Market Rates"
   ]
  },
  {
   "cell_type": "code",
   "execution_count": 13,
   "id": "de691d18",
   "metadata": {},
   "outputs": [],
   "source": [
    "quotes = curves['discounts']\n",
    "swaprate = calc_swaprate(quotes, Tswap, freqswap=freqswap)\n",
    "fwdswap = calc_fwdswaprate(quotes, Topt, Tswap, freqswap=freqswap)\n",
    "fwdrate = curves['forwards'][Topt]"
   ]
  },
  {
   "cell_type": "markdown",
   "id": "c2ed2a76",
   "metadata": {},
   "source": [
    "#### Build BDT Rate Tree"
   ]
  },
  {
   "cell_type": "code",
   "execution_count": 14,
   "id": "7522f2f2",
   "metadata": {
    "scrolled": false
   },
   "outputs": [],
   "source": [
    "sigmas = curvesint['fwd vols']\n",
    "sigmas.iloc[0] = sigmas.iloc[1]\n",
    "sigmas.index = sigmas.index.to_numpy().round(6)\n",
    "\n",
    "theta, ratetree = estimate_theta(sigmas.loc[:Tswap],100*curvesint.loc[:Tswap,'discounts'])"
   ]
  },
  {
   "cell_type": "markdown",
   "id": "dd977153",
   "metadata": {},
   "source": [
    "## **<span style=\"color:red\">2.2 and 2.3</span>**"
   ]
  },
  {
   "cell_type": "code",
   "execution_count": 15,
   "id": "75ca41d8",
   "metadata": {},
   "outputs": [
    {
     "data": {
      "text/html": [
       "<style type=\"text/css\">\n",
       "</style>\n",
       "<table id=\"T_81253\">\n",
       "  <thead>\n",
       "    <tr>\n",
       "      <th class=\"index_name level0\" >time</th>\n",
       "      <th id=\"T_81253_level0_col0\" class=\"col_heading level0 col0\" >0.00</th>\n",
       "      <th id=\"T_81253_level0_col1\" class=\"col_heading level0 col1\" >0.25</th>\n",
       "      <th id=\"T_81253_level0_col2\" class=\"col_heading level0 col2\" >0.50</th>\n",
       "      <th id=\"T_81253_level0_col3\" class=\"col_heading level0 col3\" >0.75</th>\n",
       "      <th id=\"T_81253_level0_col4\" class=\"col_heading level0 col4\" >1.00</th>\n",
       "      <th id=\"T_81253_level0_col5\" class=\"col_heading level0 col5\" >1.25</th>\n",
       "      <th id=\"T_81253_level0_col6\" class=\"col_heading level0 col6\" >1.50</th>\n",
       "      <th id=\"T_81253_level0_col7\" class=\"col_heading level0 col7\" >1.75</th>\n",
       "      <th id=\"T_81253_level0_col8\" class=\"col_heading level0 col8\" >2.00</th>\n",
       "      <th id=\"T_81253_level0_col9\" class=\"col_heading level0 col9\" >2.25</th>\n",
       "      <th id=\"T_81253_level0_col10\" class=\"col_heading level0 col10\" >2.50</th>\n",
       "      <th id=\"T_81253_level0_col11\" class=\"col_heading level0 col11\" >2.75</th>\n",
       "      <th id=\"T_81253_level0_col12\" class=\"col_heading level0 col12\" >3.00</th>\n",
       "      <th id=\"T_81253_level0_col13\" class=\"col_heading level0 col13\" >3.25</th>\n",
       "      <th id=\"T_81253_level0_col14\" class=\"col_heading level0 col14\" >3.50</th>\n",
       "      <th id=\"T_81253_level0_col15\" class=\"col_heading level0 col15\" >3.75</th>\n",
       "      <th id=\"T_81253_level0_col16\" class=\"col_heading level0 col16\" >4.00</th>\n",
       "      <th id=\"T_81253_level0_col17\" class=\"col_heading level0 col17\" >4.25</th>\n",
       "      <th id=\"T_81253_level0_col18\" class=\"col_heading level0 col18\" >4.50</th>\n",
       "      <th id=\"T_81253_level0_col19\" class=\"col_heading level0 col19\" >4.75</th>\n",
       "    </tr>\n",
       "    <tr>\n",
       "      <th class=\"index_name level0\" >state</th>\n",
       "      <th class=\"blank col0\" >&nbsp;</th>\n",
       "      <th class=\"blank col1\" >&nbsp;</th>\n",
       "      <th class=\"blank col2\" >&nbsp;</th>\n",
       "      <th class=\"blank col3\" >&nbsp;</th>\n",
       "      <th class=\"blank col4\" >&nbsp;</th>\n",
       "      <th class=\"blank col5\" >&nbsp;</th>\n",
       "      <th class=\"blank col6\" >&nbsp;</th>\n",
       "      <th class=\"blank col7\" >&nbsp;</th>\n",
       "      <th class=\"blank col8\" >&nbsp;</th>\n",
       "      <th class=\"blank col9\" >&nbsp;</th>\n",
       "      <th class=\"blank col10\" >&nbsp;</th>\n",
       "      <th class=\"blank col11\" >&nbsp;</th>\n",
       "      <th class=\"blank col12\" >&nbsp;</th>\n",
       "      <th class=\"blank col13\" >&nbsp;</th>\n",
       "      <th class=\"blank col14\" >&nbsp;</th>\n",
       "      <th class=\"blank col15\" >&nbsp;</th>\n",
       "      <th class=\"blank col16\" >&nbsp;</th>\n",
       "      <th class=\"blank col17\" >&nbsp;</th>\n",
       "      <th class=\"blank col18\" >&nbsp;</th>\n",
       "      <th class=\"blank col19\" >&nbsp;</th>\n",
       "    </tr>\n",
       "  </thead>\n",
       "  <tbody>\n",
       "    <tr>\n",
       "      <th id=\"T_81253_level0_row0\" class=\"row_heading level0 row0\" >0</th>\n",
       "      <td id=\"T_81253_row0_col0\" class=\"data row0 col0\" >1.32</td>\n",
       "      <td id=\"T_81253_row0_col1\" class=\"data row0 col1\" >3.46</td>\n",
       "      <td id=\"T_81253_row0_col2\" class=\"data row0 col2\" >5.70</td>\n",
       "      <td id=\"T_81253_row0_col3\" class=\"data row0 col3\" >8.07</td>\n",
       "      <td id=\"T_81253_row0_col4\" class=\"data row0 col4\" >10.58</td>\n",
       "      <td id=\"T_81253_row0_col5\" class=\"data row0 col5\" >13.29</td>\n",
       "      <td id=\"T_81253_row0_col6\" class=\"data row0 col6\" >16.08</td>\n",
       "      <td id=\"T_81253_row0_col7\" class=\"data row0 col7\" >18.90</td>\n",
       "      <td id=\"T_81253_row0_col8\" class=\"data row0 col8\" >21.67</td>\n",
       "      <td id=\"T_81253_row0_col9\" class=\"data row0 col9\" >24.42</td>\n",
       "      <td id=\"T_81253_row0_col10\" class=\"data row0 col10\" >26.93</td>\n",
       "      <td id=\"T_81253_row0_col11\" class=\"data row0 col11\" >29.10</td>\n",
       "      <td id=\"T_81253_row0_col12\" class=\"data row0 col12\" >30.80</td>\n",
       "      <td id=\"T_81253_row0_col13\" class=\"data row0 col13\" >32.04</td>\n",
       "      <td id=\"T_81253_row0_col14\" class=\"data row0 col14\" >32.61</td>\n",
       "      <td id=\"T_81253_row0_col15\" class=\"data row0 col15\" >32.12</td>\n",
       "      <td id=\"T_81253_row0_col16\" class=\"data row0 col16\" >30.35</td>\n",
       "      <td id=\"T_81253_row0_col17\" class=\"data row0 col17\" >27.16</td>\n",
       "      <td id=\"T_81253_row0_col18\" class=\"data row0 col18\" >21.93</td>\n",
       "      <td id=\"T_81253_row0_col19\" class=\"data row0 col19\" >13.39</td>\n",
       "    </tr>\n",
       "    <tr>\n",
       "      <th id=\"T_81253_level0_row1\" class=\"row_heading level0 row1\" >1</th>\n",
       "      <td id=\"T_81253_row1_col0\" class=\"data row1 col0\" ></td>\n",
       "      <td id=\"T_81253_row1_col1\" class=\"data row1 col1\" >-1.55</td>\n",
       "      <td id=\"T_81253_row1_col2\" class=\"data row1 col2\" >0.39</td>\n",
       "      <td id=\"T_81253_row1_col3\" class=\"data row1 col3\" >2.45</td>\n",
       "      <td id=\"T_81253_row1_col4\" class=\"data row1 col4\" >4.65</td>\n",
       "      <td id=\"T_81253_row1_col5\" class=\"data row1 col5\" >7.04</td>\n",
       "      <td id=\"T_81253_row1_col6\" class=\"data row1 col6\" >9.53</td>\n",
       "      <td id=\"T_81253_row1_col7\" class=\"data row1 col7\" >12.09</td>\n",
       "      <td id=\"T_81253_row1_col8\" class=\"data row1 col8\" >14.65</td>\n",
       "      <td id=\"T_81253_row1_col9\" class=\"data row1 col9\" >17.25</td>\n",
       "      <td id=\"T_81253_row1_col10\" class=\"data row1 col10\" >19.71</td>\n",
       "      <td id=\"T_81253_row1_col11\" class=\"data row1 col11\" >21.92</td>\n",
       "      <td id=\"T_81253_row1_col12\" class=\"data row1 col12\" >23.78</td>\n",
       "      <td id=\"T_81253_row1_col13\" class=\"data row1 col13\" >25.29</td>\n",
       "      <td id=\"T_81253_row1_col14\" class=\"data row1 col14\" >26.25</td>\n",
       "      <td id=\"T_81253_row1_col15\" class=\"data row1 col15\" >26.28</td>\n",
       "      <td id=\"T_81253_row1_col16\" class=\"data row1 col16\" >25.16</td>\n",
       "      <td id=\"T_81253_row1_col17\" class=\"data row1 col17\" >22.75</td>\n",
       "      <td id=\"T_81253_row1_col18\" class=\"data row1 col18\" >18.49</td>\n",
       "      <td id=\"T_81253_row1_col19\" class=\"data row1 col19\" >11.34</td>\n",
       "    </tr>\n",
       "    <tr>\n",
       "      <th id=\"T_81253_level0_row2\" class=\"row_heading level0 row2\" >2</th>\n",
       "      <td id=\"T_81253_row2_col0\" class=\"data row2 col0\" ></td>\n",
       "      <td id=\"T_81253_row2_col1\" class=\"data row2 col1\" ></td>\n",
       "      <td id=\"T_81253_row2_col2\" class=\"data row2 col2\" >-4.03</td>\n",
       "      <td id=\"T_81253_row2_col3\" class=\"data row2 col3\" >-2.25</td>\n",
       "      <td id=\"T_81253_row2_col4\" class=\"data row2 col4\" >-0.37</td>\n",
       "      <td id=\"T_81253_row2_col5\" class=\"data row2 col5\" >1.68</td>\n",
       "      <td id=\"T_81253_row2_col6\" class=\"data row2 col6\" >3.84</td>\n",
       "      <td id=\"T_81253_row2_col7\" class=\"data row2 col7\" >6.07</td>\n",
       "      <td id=\"T_81253_row2_col8\" class=\"data row2 col8\" >8.32</td>\n",
       "      <td id=\"T_81253_row2_col9\" class=\"data row2 col9\" >10.65</td>\n",
       "      <td id=\"T_81253_row2_col10\" class=\"data row2 col10\" >12.90</td>\n",
       "      <td id=\"T_81253_row2_col11\" class=\"data row2 col11\" >14.98</td>\n",
       "      <td id=\"T_81253_row2_col12\" class=\"data row2 col12\" >16.82</td>\n",
       "      <td id=\"T_81253_row2_col13\" class=\"data row2 col13\" >18.43</td>\n",
       "      <td id=\"T_81253_row2_col14\" class=\"data row2 col14\" >19.62</td>\n",
       "      <td id=\"T_81253_row2_col15\" class=\"data row2 col15\" >20.07</td>\n",
       "      <td id=\"T_81253_row2_col16\" class=\"data row2 col16\" >19.57</td>\n",
       "      <td id=\"T_81253_row2_col17\" class=\"data row2 col17\" >18.00</td>\n",
       "      <td id=\"T_81253_row2_col18\" class=\"data row2 col18\" >14.82</td>\n",
       "      <td id=\"T_81253_row2_col19\" class=\"data row2 col19\" >9.13</td>\n",
       "    </tr>\n",
       "    <tr>\n",
       "      <th id=\"T_81253_level0_row3\" class=\"row_heading level0 row3\" >3</th>\n",
       "      <td id=\"T_81253_row3_col0\" class=\"data row3 col0\" ></td>\n",
       "      <td id=\"T_81253_row3_col1\" class=\"data row3 col1\" ></td>\n",
       "      <td id=\"T_81253_row3_col2\" class=\"data row3 col2\" ></td>\n",
       "      <td id=\"T_81253_row3_col3\" class=\"data row3 col3\" >-6.01</td>\n",
       "      <td id=\"T_81253_row3_col4\" class=\"data row3 col4\" >-4.39</td>\n",
       "      <td id=\"T_81253_row3_col5\" class=\"data row3 col5\" >-2.64</td>\n",
       "      <td id=\"T_81253_row3_col6\" class=\"data row3 col6\" >-0.81</td>\n",
       "      <td id=\"T_81253_row3_col7\" class=\"data row3 col7\" >1.09</td>\n",
       "      <td id=\"T_81253_row3_col8\" class=\"data row3 col8\" >3.02</td>\n",
       "      <td id=\"T_81253_row3_col9\" class=\"data row3 col9\" >5.02</td>\n",
       "      <td id=\"T_81253_row3_col10\" class=\"data row3 col10\" >6.98</td>\n",
       "      <td id=\"T_81253_row3_col11\" class=\"data row3 col11\" >8.84</td>\n",
       "      <td id=\"T_81253_row3_col12\" class=\"data row3 col12\" >10.52</td>\n",
       "      <td id=\"T_81253_row3_col13\" class=\"data row3 col13\" >12.05</td>\n",
       "      <td id=\"T_81253_row3_col14\" class=\"data row3 col14\" >13.30</td>\n",
       "      <td id=\"T_81253_row3_col15\" class=\"data row3 col15\" >13.99</td>\n",
       "      <td id=\"T_81253_row3_col16\" class=\"data row3 col16\" >13.97</td>\n",
       "      <td id=\"T_81253_row3_col17\" class=\"data row3 col17\" >13.13</td>\n",
       "      <td id=\"T_81253_row3_col18\" class=\"data row3 col18\" >11.05</td>\n",
       "      <td id=\"T_81253_row3_col19\" class=\"data row3 col19\" >6.97</td>\n",
       "    </tr>\n",
       "    <tr>\n",
       "      <th id=\"T_81253_level0_row4\" class=\"row_heading level0 row4\" >4</th>\n",
       "      <td id=\"T_81253_row4_col0\" class=\"data row4 col0\" ></td>\n",
       "      <td id=\"T_81253_row4_col1\" class=\"data row4 col1\" ></td>\n",
       "      <td id=\"T_81253_row4_col2\" class=\"data row4 col2\" ></td>\n",
       "      <td id=\"T_81253_row4_col3\" class=\"data row4 col3\" ></td>\n",
       "      <td id=\"T_81253_row4_col4\" class=\"data row4 col4\" >-7.47</td>\n",
       "      <td id=\"T_81253_row4_col5\" class=\"data row4 col5\" >-5.96</td>\n",
       "      <td id=\"T_81253_row4_col6\" class=\"data row4 col6\" >-4.40</td>\n",
       "      <td id=\"T_81253_row4_col7\" class=\"data row4 col7\" >-2.78</td>\n",
       "      <td id=\"T_81253_row4_col8\" class=\"data row4 col8\" >-1.14</td>\n",
       "      <td id=\"T_81253_row4_col9\" class=\"data row4 col9\" >0.55</td>\n",
       "      <td id=\"T_81253_row4_col10\" class=\"data row4 col10\" >2.22</td>\n",
       "      <td id=\"T_81253_row4_col11\" class=\"data row4 col11\" >3.82</td>\n",
       "      <td id=\"T_81253_row4_col12\" class=\"data row4 col12\" >5.29</td>\n",
       "      <td id=\"T_81253_row4_col13\" class=\"data row4 col13\" >6.66</td>\n",
       "      <td id=\"T_81253_row4_col14\" class=\"data row4 col14\" >7.84</td>\n",
       "      <td id=\"T_81253_row4_col15\" class=\"data row4 col15\" >8.60</td>\n",
       "      <td id=\"T_81253_row4_col16\" class=\"data row4 col16\" >8.85</td>\n",
       "      <td id=\"T_81253_row4_col17\" class=\"data row4 col17\" >8.52</td>\n",
       "      <td id=\"T_81253_row4_col18\" class=\"data row4 col18\" >7.29</td>\n",
       "      <td id=\"T_81253_row4_col19\" class=\"data row4 col19\" >4.64</td>\n",
       "    </tr>\n",
       "    <tr>\n",
       "      <th id=\"T_81253_level0_row5\" class=\"row_heading level0 row5\" >5</th>\n",
       "      <td id=\"T_81253_row5_col0\" class=\"data row5 col0\" ></td>\n",
       "      <td id=\"T_81253_row5_col1\" class=\"data row5 col1\" ></td>\n",
       "      <td id=\"T_81253_row5_col2\" class=\"data row5 col2\" ></td>\n",
       "      <td id=\"T_81253_row5_col3\" class=\"data row5 col3\" ></td>\n",
       "      <td id=\"T_81253_row5_col4\" class=\"data row5 col4\" ></td>\n",
       "      <td id=\"T_81253_row5_col5\" class=\"data row5 col5\" >-8.32</td>\n",
       "      <td id=\"T_81253_row5_col6\" class=\"data row5 col6\" >-6.95</td>\n",
       "      <td id=\"T_81253_row5_col7\" class=\"data row5 col7\" >-5.55</td>\n",
       "      <td id=\"T_81253_row5_col8\" class=\"data row5 col8\" >-4.13</td>\n",
       "      <td id=\"T_81253_row5_col9\" class=\"data row5 col9\" >-2.67</td>\n",
       "      <td id=\"T_81253_row5_col10\" class=\"data row5 col10\" >-1.23</td>\n",
       "      <td id=\"T_81253_row5_col11\" class=\"data row5 col11\" >0.16</td>\n",
       "      <td id=\"T_81253_row5_col12\" class=\"data row5 col12\" >1.46</td>\n",
       "      <td id=\"T_81253_row5_col13\" class=\"data row5 col13\" >2.70</td>\n",
       "      <td id=\"T_81253_row5_col14\" class=\"data row5 col14\" >3.79</td>\n",
       "      <td id=\"T_81253_row5_col15\" class=\"data row5 col15\" >4.60</td>\n",
       "      <td id=\"T_81253_row5_col16\" class=\"data row5 col16\" >5.04</td>\n",
       "      <td id=\"T_81253_row5_col17\" class=\"data row5 col17\" >5.07</td>\n",
       "      <td id=\"T_81253_row5_col18\" class=\"data row5 col18\" >4.48</td>\n",
       "      <td id=\"T_81253_row5_col19\" class=\"data row5 col19\" >2.91</td>\n",
       "    </tr>\n",
       "    <tr>\n",
       "      <th id=\"T_81253_level0_row6\" class=\"row_heading level0 row6\" >6</th>\n",
       "      <td id=\"T_81253_row6_col0\" class=\"data row6 col0\" ></td>\n",
       "      <td id=\"T_81253_row6_col1\" class=\"data row6 col1\" ></td>\n",
       "      <td id=\"T_81253_row6_col2\" class=\"data row6 col2\" ></td>\n",
       "      <td id=\"T_81253_row6_col3\" class=\"data row6 col3\" ></td>\n",
       "      <td id=\"T_81253_row6_col4\" class=\"data row6 col4\" ></td>\n",
       "      <td id=\"T_81253_row6_col5\" class=\"data row6 col5\" ></td>\n",
       "      <td id=\"T_81253_row6_col6\" class=\"data row6 col6\" >-8.74</td>\n",
       "      <td id=\"T_81253_row6_col7\" class=\"data row6 col7\" >-7.48</td>\n",
       "      <td id=\"T_81253_row6_col8\" class=\"data row6 col8\" >-6.22</td>\n",
       "      <td id=\"T_81253_row6_col9\" class=\"data row6 col9\" >-4.93</td>\n",
       "      <td id=\"T_81253_row6_col10\" class=\"data row6 col10\" >-3.65</td>\n",
       "      <td id=\"T_81253_row6_col11\" class=\"data row6 col11\" >-2.41</td>\n",
       "      <td id=\"T_81253_row6_col12\" class=\"data row6 col12\" >-1.23</td>\n",
       "      <td id=\"T_81253_row6_col13\" class=\"data row6 col13\" >-0.10</td>\n",
       "      <td id=\"T_81253_row6_col14\" class=\"data row6 col14\" >0.93</td>\n",
       "      <td id=\"T_81253_row6_col15\" class=\"data row6 col15\" >1.76</td>\n",
       "      <td id=\"T_81253_row6_col16\" class=\"data row6 col16\" >2.33</td>\n",
       "      <td id=\"T_81253_row6_col17\" class=\"data row6 col17\" >2.63</td>\n",
       "      <td id=\"T_81253_row6_col18\" class=\"data row6 col18\" >2.49</td>\n",
       "      <td id=\"T_81253_row6_col19\" class=\"data row6 col19\" >1.70</td>\n",
       "    </tr>\n",
       "    <tr>\n",
       "      <th id=\"T_81253_level0_row7\" class=\"row_heading level0 row7\" >7</th>\n",
       "      <td id=\"T_81253_row7_col0\" class=\"data row7 col0\" ></td>\n",
       "      <td id=\"T_81253_row7_col1\" class=\"data row7 col1\" ></td>\n",
       "      <td id=\"T_81253_row7_col2\" class=\"data row7 col2\" ></td>\n",
       "      <td id=\"T_81253_row7_col3\" class=\"data row7 col3\" ></td>\n",
       "      <td id=\"T_81253_row7_col4\" class=\"data row7 col4\" ></td>\n",
       "      <td id=\"T_81253_row7_col5\" class=\"data row7 col5\" ></td>\n",
       "      <td id=\"T_81253_row7_col6\" class=\"data row7 col6\" ></td>\n",
       "      <td id=\"T_81253_row7_col7\" class=\"data row7 col7\" >-8.82</td>\n",
       "      <td id=\"T_81253_row7_col8\" class=\"data row7 col8\" >-7.66</td>\n",
       "      <td id=\"T_81253_row7_col9\" class=\"data row7 col9\" >-6.48</td>\n",
       "      <td id=\"T_81253_row7_col10\" class=\"data row7 col10\" >-5.32</td>\n",
       "      <td id=\"T_81253_row7_col11\" class=\"data row7 col11\" >-4.18</td>\n",
       "      <td id=\"T_81253_row7_col12\" class=\"data row7 col12\" >-3.08</td>\n",
       "      <td id=\"T_81253_row7_col13\" class=\"data row7 col13\" >-2.03</td>\n",
       "      <td id=\"T_81253_row7_col14\" class=\"data row7 col14\" >-1.04</td>\n",
       "      <td id=\"T_81253_row7_col15\" class=\"data row7 col15\" >-0.19</td>\n",
       "      <td id=\"T_81253_row7_col16\" class=\"data row7 col16\" >0.48</td>\n",
       "      <td id=\"T_81253_row7_col17\" class=\"data row7 col17\" >0.95</td>\n",
       "      <td id=\"T_81253_row7_col18\" class=\"data row7 col18\" >1.13</td>\n",
       "      <td id=\"T_81253_row7_col19\" class=\"data row7 col19\" >0.87</td>\n",
       "    </tr>\n",
       "    <tr>\n",
       "      <th id=\"T_81253_level0_row8\" class=\"row_heading level0 row8\" >8</th>\n",
       "      <td id=\"T_81253_row8_col0\" class=\"data row8 col0\" ></td>\n",
       "      <td id=\"T_81253_row8_col1\" class=\"data row8 col1\" ></td>\n",
       "      <td id=\"T_81253_row8_col2\" class=\"data row8 col2\" ></td>\n",
       "      <td id=\"T_81253_row8_col3\" class=\"data row8 col3\" ></td>\n",
       "      <td id=\"T_81253_row8_col4\" class=\"data row8 col4\" ></td>\n",
       "      <td id=\"T_81253_row8_col5\" class=\"data row8 col5\" ></td>\n",
       "      <td id=\"T_81253_row8_col6\" class=\"data row8 col6\" ></td>\n",
       "      <td id=\"T_81253_row8_col7\" class=\"data row8 col7\" ></td>\n",
       "      <td id=\"T_81253_row8_col8\" class=\"data row8 col8\" >-8.66</td>\n",
       "      <td id=\"T_81253_row8_col9\" class=\"data row8 col9\" >-7.56</td>\n",
       "      <td id=\"T_81253_row8_col10\" class=\"data row8 col10\" >-6.47</td>\n",
       "      <td id=\"T_81253_row8_col11\" class=\"data row8 col11\" >-5.40</td>\n",
       "      <td id=\"T_81253_row8_col12\" class=\"data row8 col12\" >-4.36</td>\n",
       "      <td id=\"T_81253_row8_col13\" class=\"data row8 col13\" >-3.35</td>\n",
       "      <td id=\"T_81253_row8_col14\" class=\"data row8 col14\" >-2.38</td>\n",
       "      <td id=\"T_81253_row8_col15\" class=\"data row8 col15\" >-1.52</td>\n",
       "      <td id=\"T_81253_row8_col16\" class=\"data row8 col16\" >-0.79</td>\n",
       "      <td id=\"T_81253_row8_col17\" class=\"data row8 col17\" >-0.18</td>\n",
       "      <td id=\"T_81253_row8_col18\" class=\"data row8 col18\" >0.22</td>\n",
       "      <td id=\"T_81253_row8_col19\" class=\"data row8 col19\" >0.31</td>\n",
       "    </tr>\n",
       "    <tr>\n",
       "      <th id=\"T_81253_level0_row9\" class=\"row_heading level0 row9\" >9</th>\n",
       "      <td id=\"T_81253_row9_col0\" class=\"data row9 col0\" ></td>\n",
       "      <td id=\"T_81253_row9_col1\" class=\"data row9 col1\" ></td>\n",
       "      <td id=\"T_81253_row9_col2\" class=\"data row9 col2\" ></td>\n",
       "      <td id=\"T_81253_row9_col3\" class=\"data row9 col3\" ></td>\n",
       "      <td id=\"T_81253_row9_col4\" class=\"data row9 col4\" ></td>\n",
       "      <td id=\"T_81253_row9_col5\" class=\"data row9 col5\" ></td>\n",
       "      <td id=\"T_81253_row9_col6\" class=\"data row9 col6\" ></td>\n",
       "      <td id=\"T_81253_row9_col7\" class=\"data row9 col7\" ></td>\n",
       "      <td id=\"T_81253_row9_col8\" class=\"data row9 col8\" ></td>\n",
       "      <td id=\"T_81253_row9_col9\" class=\"data row9 col9\" >-8.31</td>\n",
       "      <td id=\"T_81253_row9_col10\" class=\"data row9 col10\" >-7.27</td>\n",
       "      <td id=\"T_81253_row9_col11\" class=\"data row9 col11\" >-6.24</td>\n",
       "      <td id=\"T_81253_row9_col12\" class=\"data row9 col12\" >-5.24</td>\n",
       "      <td id=\"T_81253_row9_col13\" class=\"data row9 col13\" >-4.26</td>\n",
       "      <td id=\"T_81253_row9_col14\" class=\"data row9 col14\" >-3.31</td>\n",
       "      <td id=\"T_81253_row9_col15\" class=\"data row9 col15\" >-2.43</td>\n",
       "      <td id=\"T_81253_row9_col16\" class=\"data row9 col16\" >-1.65</td>\n",
       "      <td id=\"T_81253_row9_col17\" class=\"data row9 col17\" >-0.95</td>\n",
       "      <td id=\"T_81253_row9_col18\" class=\"data row9 col18\" >-0.40</td>\n",
       "      <td id=\"T_81253_row9_col19\" class=\"data row9 col19\" >-0.06</td>\n",
       "    </tr>\n",
       "    <tr>\n",
       "      <th id=\"T_81253_level0_row10\" class=\"row_heading level0 row10\" >10</th>\n",
       "      <td id=\"T_81253_row10_col0\" class=\"data row10 col0\" ></td>\n",
       "      <td id=\"T_81253_row10_col1\" class=\"data row10 col1\" ></td>\n",
       "      <td id=\"T_81253_row10_col2\" class=\"data row10 col2\" ></td>\n",
       "      <td id=\"T_81253_row10_col3\" class=\"data row10 col3\" ></td>\n",
       "      <td id=\"T_81253_row10_col4\" class=\"data row10 col4\" ></td>\n",
       "      <td id=\"T_81253_row10_col5\" class=\"data row10 col5\" ></td>\n",
       "      <td id=\"T_81253_row10_col6\" class=\"data row10 col6\" ></td>\n",
       "      <td id=\"T_81253_row10_col7\" class=\"data row10 col7\" ></td>\n",
       "      <td id=\"T_81253_row10_col8\" class=\"data row10 col8\" ></td>\n",
       "      <td id=\"T_81253_row10_col9\" class=\"data row10 col9\" ></td>\n",
       "      <td id=\"T_81253_row10_col10\" class=\"data row10 col10\" >-7.83</td>\n",
       "      <td id=\"T_81253_row10_col11\" class=\"data row10 col11\" >-6.84</td>\n",
       "      <td id=\"T_81253_row10_col12\" class=\"data row10 col12\" >-5.86</td>\n",
       "      <td id=\"T_81253_row10_col13\" class=\"data row10 col13\" >-4.89</td>\n",
       "      <td id=\"T_81253_row10_col14\" class=\"data row10 col14\" >-3.96</td>\n",
       "      <td id=\"T_81253_row10_col15\" class=\"data row10 col15\" >-3.07</td>\n",
       "      <td id=\"T_81253_row10_col16\" class=\"data row10 col16\" >-2.24</td>\n",
       "      <td id=\"T_81253_row10_col17\" class=\"data row10 col17\" >-1.48</td>\n",
       "      <td id=\"T_81253_row10_col18\" class=\"data row10 col18\" >-0.83</td>\n",
       "      <td id=\"T_81253_row10_col19\" class=\"data row10 col19\" >-0.32</td>\n",
       "    </tr>\n",
       "    <tr>\n",
       "      <th id=\"T_81253_level0_row11\" class=\"row_heading level0 row11\" >11</th>\n",
       "      <td id=\"T_81253_row11_col0\" class=\"data row11 col0\" ></td>\n",
       "      <td id=\"T_81253_row11_col1\" class=\"data row11 col1\" ></td>\n",
       "      <td id=\"T_81253_row11_col2\" class=\"data row11 col2\" ></td>\n",
       "      <td id=\"T_81253_row11_col3\" class=\"data row11 col3\" ></td>\n",
       "      <td id=\"T_81253_row11_col4\" class=\"data row11 col4\" ></td>\n",
       "      <td id=\"T_81253_row11_col5\" class=\"data row11 col5\" ></td>\n",
       "      <td id=\"T_81253_row11_col6\" class=\"data row11 col6\" ></td>\n",
       "      <td id=\"T_81253_row11_col7\" class=\"data row11 col7\" ></td>\n",
       "      <td id=\"T_81253_row11_col8\" class=\"data row11 col8\" ></td>\n",
       "      <td id=\"T_81253_row11_col9\" class=\"data row11 col9\" ></td>\n",
       "      <td id=\"T_81253_row11_col10\" class=\"data row11 col10\" ></td>\n",
       "      <td id=\"T_81253_row11_col11\" class=\"data row11 col11\" >-7.25</td>\n",
       "      <td id=\"T_81253_row11_col12\" class=\"data row11 col12\" >-6.29</td>\n",
       "      <td id=\"T_81253_row11_col13\" class=\"data row11 col13\" >-5.34</td>\n",
       "      <td id=\"T_81253_row11_col14\" class=\"data row11 col14\" >-4.41</td>\n",
       "      <td id=\"T_81253_row11_col15\" class=\"data row11 col15\" >-3.52</td>\n",
       "      <td id=\"T_81253_row11_col16\" class=\"data row11 col16\" >-2.66</td>\n",
       "      <td id=\"T_81253_row11_col17\" class=\"data row11 col17\" >-1.86</td>\n",
       "      <td id=\"T_81253_row11_col18\" class=\"data row11 col18\" >-1.12</td>\n",
       "      <td id=\"T_81253_row11_col19\" class=\"data row11 col19\" >-0.49</td>\n",
       "    </tr>\n",
       "    <tr>\n",
       "      <th id=\"T_81253_level0_row12\" class=\"row_heading level0 row12\" >12</th>\n",
       "      <td id=\"T_81253_row12_col0\" class=\"data row12 col0\" ></td>\n",
       "      <td id=\"T_81253_row12_col1\" class=\"data row12 col1\" ></td>\n",
       "      <td id=\"T_81253_row12_col2\" class=\"data row12 col2\" ></td>\n",
       "      <td id=\"T_81253_row12_col3\" class=\"data row12 col3\" ></td>\n",
       "      <td id=\"T_81253_row12_col4\" class=\"data row12 col4\" ></td>\n",
       "      <td id=\"T_81253_row12_col5\" class=\"data row12 col5\" ></td>\n",
       "      <td id=\"T_81253_row12_col6\" class=\"data row12 col6\" ></td>\n",
       "      <td id=\"T_81253_row12_col7\" class=\"data row12 col7\" ></td>\n",
       "      <td id=\"T_81253_row12_col8\" class=\"data row12 col8\" ></td>\n",
       "      <td id=\"T_81253_row12_col9\" class=\"data row12 col9\" ></td>\n",
       "      <td id=\"T_81253_row12_col10\" class=\"data row12 col10\" ></td>\n",
       "      <td id=\"T_81253_row12_col11\" class=\"data row12 col11\" ></td>\n",
       "      <td id=\"T_81253_row12_col12\" class=\"data row12 col12\" >-6.60</td>\n",
       "      <td id=\"T_81253_row12_col13\" class=\"data row12 col13\" >-5.66</td>\n",
       "      <td id=\"T_81253_row12_col14\" class=\"data row12 col14\" >-4.73</td>\n",
       "      <td id=\"T_81253_row12_col15\" class=\"data row12 col15\" >-3.83</td>\n",
       "      <td id=\"T_81253_row12_col16\" class=\"data row12 col16\" >-2.96</td>\n",
       "      <td id=\"T_81253_row12_col17\" class=\"data row12 col17\" >-2.12</td>\n",
       "      <td id=\"T_81253_row12_col18\" class=\"data row12 col18\" >-1.33</td>\n",
       "      <td id=\"T_81253_row12_col19\" class=\"data row12 col19\" >-0.62</td>\n",
       "    </tr>\n",
       "    <tr>\n",
       "      <th id=\"T_81253_level0_row13\" class=\"row_heading level0 row13\" >13</th>\n",
       "      <td id=\"T_81253_row13_col0\" class=\"data row13 col0\" ></td>\n",
       "      <td id=\"T_81253_row13_col1\" class=\"data row13 col1\" ></td>\n",
       "      <td id=\"T_81253_row13_col2\" class=\"data row13 col2\" ></td>\n",
       "      <td id=\"T_81253_row13_col3\" class=\"data row13 col3\" ></td>\n",
       "      <td id=\"T_81253_row13_col4\" class=\"data row13 col4\" ></td>\n",
       "      <td id=\"T_81253_row13_col5\" class=\"data row13 col5\" ></td>\n",
       "      <td id=\"T_81253_row13_col6\" class=\"data row13 col6\" ></td>\n",
       "      <td id=\"T_81253_row13_col7\" class=\"data row13 col7\" ></td>\n",
       "      <td id=\"T_81253_row13_col8\" class=\"data row13 col8\" ></td>\n",
       "      <td id=\"T_81253_row13_col9\" class=\"data row13 col9\" ></td>\n",
       "      <td id=\"T_81253_row13_col10\" class=\"data row13 col10\" ></td>\n",
       "      <td id=\"T_81253_row13_col11\" class=\"data row13 col11\" ></td>\n",
       "      <td id=\"T_81253_row13_col12\" class=\"data row13 col12\" ></td>\n",
       "      <td id=\"T_81253_row13_col13\" class=\"data row13 col13\" >-5.88</td>\n",
       "      <td id=\"T_81253_row13_col14\" class=\"data row13 col14\" >-4.96</td>\n",
       "      <td id=\"T_81253_row13_col15\" class=\"data row13 col15\" >-4.05</td>\n",
       "      <td id=\"T_81253_row13_col16\" class=\"data row13 col16\" >-3.17</td>\n",
       "      <td id=\"T_81253_row13_col17\" class=\"data row13 col17\" >-2.31</td>\n",
       "      <td id=\"T_81253_row13_col18\" class=\"data row13 col18\" >-1.48</td>\n",
       "      <td id=\"T_81253_row13_col19\" class=\"data row13 col19\" >-0.71</td>\n",
       "    </tr>\n",
       "    <tr>\n",
       "      <th id=\"T_81253_level0_row14\" class=\"row_heading level0 row14\" >14</th>\n",
       "      <td id=\"T_81253_row14_col0\" class=\"data row14 col0\" ></td>\n",
       "      <td id=\"T_81253_row14_col1\" class=\"data row14 col1\" ></td>\n",
       "      <td id=\"T_81253_row14_col2\" class=\"data row14 col2\" ></td>\n",
       "      <td id=\"T_81253_row14_col3\" class=\"data row14 col3\" ></td>\n",
       "      <td id=\"T_81253_row14_col4\" class=\"data row14 col4\" ></td>\n",
       "      <td id=\"T_81253_row14_col5\" class=\"data row14 col5\" ></td>\n",
       "      <td id=\"T_81253_row14_col6\" class=\"data row14 col6\" ></td>\n",
       "      <td id=\"T_81253_row14_col7\" class=\"data row14 col7\" ></td>\n",
       "      <td id=\"T_81253_row14_col8\" class=\"data row14 col8\" ></td>\n",
       "      <td id=\"T_81253_row14_col9\" class=\"data row14 col9\" ></td>\n",
       "      <td id=\"T_81253_row14_col10\" class=\"data row14 col10\" ></td>\n",
       "      <td id=\"T_81253_row14_col11\" class=\"data row14 col11\" ></td>\n",
       "      <td id=\"T_81253_row14_col12\" class=\"data row14 col12\" ></td>\n",
       "      <td id=\"T_81253_row14_col13\" class=\"data row14 col13\" ></td>\n",
       "      <td id=\"T_81253_row14_col14\" class=\"data row14 col14\" >-5.12</td>\n",
       "      <td id=\"T_81253_row14_col15\" class=\"data row14 col15\" >-4.21</td>\n",
       "      <td id=\"T_81253_row14_col16\" class=\"data row14 col16\" >-3.31</td>\n",
       "      <td id=\"T_81253_row14_col17\" class=\"data row14 col17\" >-2.44</td>\n",
       "      <td id=\"T_81253_row14_col18\" class=\"data row14 col18\" >-1.59</td>\n",
       "      <td id=\"T_81253_row14_col19\" class=\"data row14 col19\" >-0.77</td>\n",
       "    </tr>\n",
       "    <tr>\n",
       "      <th id=\"T_81253_level0_row15\" class=\"row_heading level0 row15\" >15</th>\n",
       "      <td id=\"T_81253_row15_col0\" class=\"data row15 col0\" ></td>\n",
       "      <td id=\"T_81253_row15_col1\" class=\"data row15 col1\" ></td>\n",
       "      <td id=\"T_81253_row15_col2\" class=\"data row15 col2\" ></td>\n",
       "      <td id=\"T_81253_row15_col3\" class=\"data row15 col3\" ></td>\n",
       "      <td id=\"T_81253_row15_col4\" class=\"data row15 col4\" ></td>\n",
       "      <td id=\"T_81253_row15_col5\" class=\"data row15 col5\" ></td>\n",
       "      <td id=\"T_81253_row15_col6\" class=\"data row15 col6\" ></td>\n",
       "      <td id=\"T_81253_row15_col7\" class=\"data row15 col7\" ></td>\n",
       "      <td id=\"T_81253_row15_col8\" class=\"data row15 col8\" ></td>\n",
       "      <td id=\"T_81253_row15_col9\" class=\"data row15 col9\" ></td>\n",
       "      <td id=\"T_81253_row15_col10\" class=\"data row15 col10\" ></td>\n",
       "      <td id=\"T_81253_row15_col11\" class=\"data row15 col11\" ></td>\n",
       "      <td id=\"T_81253_row15_col12\" class=\"data row15 col12\" ></td>\n",
       "      <td id=\"T_81253_row15_col13\" class=\"data row15 col13\" ></td>\n",
       "      <td id=\"T_81253_row15_col14\" class=\"data row15 col14\" ></td>\n",
       "      <td id=\"T_81253_row15_col15\" class=\"data row15 col15\" >-4.31</td>\n",
       "      <td id=\"T_81253_row15_col16\" class=\"data row15 col16\" >-3.41</td>\n",
       "      <td id=\"T_81253_row15_col17\" class=\"data row15 col17\" >-2.53</td>\n",
       "      <td id=\"T_81253_row15_col18\" class=\"data row15 col18\" >-1.66</td>\n",
       "      <td id=\"T_81253_row15_col19\" class=\"data row15 col19\" >-0.81</td>\n",
       "    </tr>\n",
       "    <tr>\n",
       "      <th id=\"T_81253_level0_row16\" class=\"row_heading level0 row16\" >16</th>\n",
       "      <td id=\"T_81253_row16_col0\" class=\"data row16 col0\" ></td>\n",
       "      <td id=\"T_81253_row16_col1\" class=\"data row16 col1\" ></td>\n",
       "      <td id=\"T_81253_row16_col2\" class=\"data row16 col2\" ></td>\n",
       "      <td id=\"T_81253_row16_col3\" class=\"data row16 col3\" ></td>\n",
       "      <td id=\"T_81253_row16_col4\" class=\"data row16 col4\" ></td>\n",
       "      <td id=\"T_81253_row16_col5\" class=\"data row16 col5\" ></td>\n",
       "      <td id=\"T_81253_row16_col6\" class=\"data row16 col6\" ></td>\n",
       "      <td id=\"T_81253_row16_col7\" class=\"data row16 col7\" ></td>\n",
       "      <td id=\"T_81253_row16_col8\" class=\"data row16 col8\" ></td>\n",
       "      <td id=\"T_81253_row16_col9\" class=\"data row16 col9\" ></td>\n",
       "      <td id=\"T_81253_row16_col10\" class=\"data row16 col10\" ></td>\n",
       "      <td id=\"T_81253_row16_col11\" class=\"data row16 col11\" ></td>\n",
       "      <td id=\"T_81253_row16_col12\" class=\"data row16 col12\" ></td>\n",
       "      <td id=\"T_81253_row16_col13\" class=\"data row16 col13\" ></td>\n",
       "      <td id=\"T_81253_row16_col14\" class=\"data row16 col14\" ></td>\n",
       "      <td id=\"T_81253_row16_col15\" class=\"data row16 col15\" ></td>\n",
       "      <td id=\"T_81253_row16_col16\" class=\"data row16 col16\" >-3.48</td>\n",
       "      <td id=\"T_81253_row16_col17\" class=\"data row16 col17\" >-2.59</td>\n",
       "      <td id=\"T_81253_row16_col18\" class=\"data row16 col18\" >-1.71</td>\n",
       "      <td id=\"T_81253_row16_col19\" class=\"data row16 col19\" >-0.84</td>\n",
       "    </tr>\n",
       "    <tr>\n",
       "      <th id=\"T_81253_level0_row17\" class=\"row_heading level0 row17\" >17</th>\n",
       "      <td id=\"T_81253_row17_col0\" class=\"data row17 col0\" ></td>\n",
       "      <td id=\"T_81253_row17_col1\" class=\"data row17 col1\" ></td>\n",
       "      <td id=\"T_81253_row17_col2\" class=\"data row17 col2\" ></td>\n",
       "      <td id=\"T_81253_row17_col3\" class=\"data row17 col3\" ></td>\n",
       "      <td id=\"T_81253_row17_col4\" class=\"data row17 col4\" ></td>\n",
       "      <td id=\"T_81253_row17_col5\" class=\"data row17 col5\" ></td>\n",
       "      <td id=\"T_81253_row17_col6\" class=\"data row17 col6\" ></td>\n",
       "      <td id=\"T_81253_row17_col7\" class=\"data row17 col7\" ></td>\n",
       "      <td id=\"T_81253_row17_col8\" class=\"data row17 col8\" ></td>\n",
       "      <td id=\"T_81253_row17_col9\" class=\"data row17 col9\" ></td>\n",
       "      <td id=\"T_81253_row17_col10\" class=\"data row17 col10\" ></td>\n",
       "      <td id=\"T_81253_row17_col11\" class=\"data row17 col11\" ></td>\n",
       "      <td id=\"T_81253_row17_col12\" class=\"data row17 col12\" ></td>\n",
       "      <td id=\"T_81253_row17_col13\" class=\"data row17 col13\" ></td>\n",
       "      <td id=\"T_81253_row17_col14\" class=\"data row17 col14\" ></td>\n",
       "      <td id=\"T_81253_row17_col15\" class=\"data row17 col15\" ></td>\n",
       "      <td id=\"T_81253_row17_col16\" class=\"data row17 col16\" ></td>\n",
       "      <td id=\"T_81253_row17_col17\" class=\"data row17 col17\" >-2.63</td>\n",
       "      <td id=\"T_81253_row17_col18\" class=\"data row17 col18\" >-1.74</td>\n",
       "      <td id=\"T_81253_row17_col19\" class=\"data row17 col19\" >-0.86</td>\n",
       "    </tr>\n",
       "    <tr>\n",
       "      <th id=\"T_81253_level0_row18\" class=\"row_heading level0 row18\" >18</th>\n",
       "      <td id=\"T_81253_row18_col0\" class=\"data row18 col0\" ></td>\n",
       "      <td id=\"T_81253_row18_col1\" class=\"data row18 col1\" ></td>\n",
       "      <td id=\"T_81253_row18_col2\" class=\"data row18 col2\" ></td>\n",
       "      <td id=\"T_81253_row18_col3\" class=\"data row18 col3\" ></td>\n",
       "      <td id=\"T_81253_row18_col4\" class=\"data row18 col4\" ></td>\n",
       "      <td id=\"T_81253_row18_col5\" class=\"data row18 col5\" ></td>\n",
       "      <td id=\"T_81253_row18_col6\" class=\"data row18 col6\" ></td>\n",
       "      <td id=\"T_81253_row18_col7\" class=\"data row18 col7\" ></td>\n",
       "      <td id=\"T_81253_row18_col8\" class=\"data row18 col8\" ></td>\n",
       "      <td id=\"T_81253_row18_col9\" class=\"data row18 col9\" ></td>\n",
       "      <td id=\"T_81253_row18_col10\" class=\"data row18 col10\" ></td>\n",
       "      <td id=\"T_81253_row18_col11\" class=\"data row18 col11\" ></td>\n",
       "      <td id=\"T_81253_row18_col12\" class=\"data row18 col12\" ></td>\n",
       "      <td id=\"T_81253_row18_col13\" class=\"data row18 col13\" ></td>\n",
       "      <td id=\"T_81253_row18_col14\" class=\"data row18 col14\" ></td>\n",
       "      <td id=\"T_81253_row18_col15\" class=\"data row18 col15\" ></td>\n",
       "      <td id=\"T_81253_row18_col16\" class=\"data row18 col16\" ></td>\n",
       "      <td id=\"T_81253_row18_col17\" class=\"data row18 col17\" ></td>\n",
       "      <td id=\"T_81253_row18_col18\" class=\"data row18 col18\" >-1.77</td>\n",
       "      <td id=\"T_81253_row18_col19\" class=\"data row18 col19\" >-0.88</td>\n",
       "    </tr>\n",
       "    <tr>\n",
       "      <th id=\"T_81253_level0_row19\" class=\"row_heading level0 row19\" >19</th>\n",
       "      <td id=\"T_81253_row19_col0\" class=\"data row19 col0\" ></td>\n",
       "      <td id=\"T_81253_row19_col1\" class=\"data row19 col1\" ></td>\n",
       "      <td id=\"T_81253_row19_col2\" class=\"data row19 col2\" ></td>\n",
       "      <td id=\"T_81253_row19_col3\" class=\"data row19 col3\" ></td>\n",
       "      <td id=\"T_81253_row19_col4\" class=\"data row19 col4\" ></td>\n",
       "      <td id=\"T_81253_row19_col5\" class=\"data row19 col5\" ></td>\n",
       "      <td id=\"T_81253_row19_col6\" class=\"data row19 col6\" ></td>\n",
       "      <td id=\"T_81253_row19_col7\" class=\"data row19 col7\" ></td>\n",
       "      <td id=\"T_81253_row19_col8\" class=\"data row19 col8\" ></td>\n",
       "      <td id=\"T_81253_row19_col9\" class=\"data row19 col9\" ></td>\n",
       "      <td id=\"T_81253_row19_col10\" class=\"data row19 col10\" ></td>\n",
       "      <td id=\"T_81253_row19_col11\" class=\"data row19 col11\" ></td>\n",
       "      <td id=\"T_81253_row19_col12\" class=\"data row19 col12\" ></td>\n",
       "      <td id=\"T_81253_row19_col13\" class=\"data row19 col13\" ></td>\n",
       "      <td id=\"T_81253_row19_col14\" class=\"data row19 col14\" ></td>\n",
       "      <td id=\"T_81253_row19_col15\" class=\"data row19 col15\" ></td>\n",
       "      <td id=\"T_81253_row19_col16\" class=\"data row19 col16\" ></td>\n",
       "      <td id=\"T_81253_row19_col17\" class=\"data row19 col17\" ></td>\n",
       "      <td id=\"T_81253_row19_col18\" class=\"data row19 col18\" ></td>\n",
       "      <td id=\"T_81253_row19_col19\" class=\"data row19 col19\" >-0.89</td>\n",
       "    </tr>\n",
       "  </tbody>\n",
       "</table>\n"
      ],
      "text/plain": [
       "<pandas.io.formats.style.Styler at 0x2854e46d0>"
      ]
     },
     "execution_count": 15,
     "metadata": {},
     "output_type": "execute_result"
    }
   ],
   "source": [
    "freqcpn = freqswap\n",
    "strike = strikes[idstrike]\n",
    "cpn = strike\n",
    "\n",
    "wrapper_bond = lambda r: payoff_bond(r, 1/FREQTREE, facevalue=N * (1+cpn/freqcpn))\n",
    "cftree = construct_bond_cftree(Tswap, FREQTREE, cpn, cpn_freq=freqcpn, face=N)\n",
    "bondtree = bintree_pricing(payoff=wrapper_bond, ratetree=ratetree, cftree=cftree)\n",
    "\n",
    "if isPayer:\n",
    "    swaptree = (N-bondtree)\n",
    "else:\n",
    "    swaptree = (bondtree-N)\n",
    "    \n",
    "format_bintree(swaptree)"
   ]
  },
  {
   "cell_type": "markdown",
   "id": "f849c8b1",
   "metadata": {},
   "source": [
    "#### Alt Calculation\n",
    "\n",
    "If Time grid aligns with swap frequency, calculate directly with binomial tree and verify."
   ]
  },
  {
   "cell_type": "code",
   "execution_count": 16,
   "id": "e0e13474",
   "metadata": {},
   "outputs": [
    {
     "data": {
      "text/plain": [
       "'Difference in swap price across two methods: 0.0000'"
      ]
     },
     "metadata": {},
     "output_type": "display_data"
    }
   ],
   "source": [
    "if freqswap==FREQTREE:\n",
    "    swaprate_val = strike\n",
    "    payoff = lambda r: payoff_swap(r,swaprate_val,freqswap,ispayer=isPayer)\n",
    "    cftree, refratetree = construct_swap_cftree(ratetree,swaprate_val,freqswap=freqswap,T=Tswap,freq=FREQTREE,ispayer=isPayer)\n",
    "    swaptree_alt = bintree_pricing(payoff=payoff, ratetree=ratetree, undertree= refratetree, cftree=cftree, cfdelay=True)\n",
    "\n",
    "    display(f'Difference in swap price across two methods: {swaptree.iloc[0,0]-swaptree_alt.iloc[0,0]:.4f}')"
   ]
  },
  {
   "cell_type": "markdown",
   "id": "f938cfc3",
   "metadata": {},
   "source": [
    "## **<span style=\"color:red\">2.4</span>**"
   ]
  },
  {
   "cell_type": "code",
   "execution_count": 17,
   "id": "6b432644",
   "metadata": {},
   "outputs": [
    {
     "data": {
      "text/html": [
       "<style type=\"text/css\">\n",
       "</style>\n",
       "<table id=\"T_e88c2\">\n",
       "  <thead>\n",
       "    <tr>\n",
       "      <th class=\"index_name level0\" >time</th>\n",
       "      <th id=\"T_e88c2_level0_col0\" class=\"col_heading level0 col0\" >0.00</th>\n",
       "      <th id=\"T_e88c2_level0_col1\" class=\"col_heading level0 col1\" >0.25</th>\n",
       "      <th id=\"T_e88c2_level0_col2\" class=\"col_heading level0 col2\" >0.50</th>\n",
       "      <th id=\"T_e88c2_level0_col3\" class=\"col_heading level0 col3\" >0.75</th>\n",
       "      <th id=\"T_e88c2_level0_col4\" class=\"col_heading level0 col4\" >1.00</th>\n",
       "    </tr>\n",
       "    <tr>\n",
       "      <th class=\"index_name level0\" >state</th>\n",
       "      <th class=\"blank col0\" >&nbsp;</th>\n",
       "      <th class=\"blank col1\" >&nbsp;</th>\n",
       "      <th class=\"blank col2\" >&nbsp;</th>\n",
       "      <th class=\"blank col3\" >&nbsp;</th>\n",
       "      <th class=\"blank col4\" >&nbsp;</th>\n",
       "    </tr>\n",
       "  </thead>\n",
       "  <tbody>\n",
       "    <tr>\n",
       "      <th id=\"T_e88c2_level0_row0\" class=\"row_heading level0 row0\" >0</th>\n",
       "      <td id=\"T_e88c2_row0_col0\" class=\"data row0 col0\" >1.73</td>\n",
       "      <td id=\"T_e88c2_row0_col1\" class=\"data row0 col1\" >2.94</td>\n",
       "      <td id=\"T_e88c2_row0_col2\" class=\"data row0 col2\" >4.83</td>\n",
       "      <td id=\"T_e88c2_row0_col3\" class=\"data row0 col3\" >7.50</td>\n",
       "      <td id=\"T_e88c2_row0_col4\" class=\"data row0 col4\" >10.58</td>\n",
       "    </tr>\n",
       "    <tr>\n",
       "      <th id=\"T_e88c2_level0_row1\" class=\"row_heading level0 row1\" >1</th>\n",
       "      <td id=\"T_e88c2_row1_col0\" class=\"data row1 col0\" ></td>\n",
       "      <td id=\"T_e88c2_row1_col1\" class=\"data row1 col1\" >0.56</td>\n",
       "      <td id=\"T_e88c2_row1_col2\" class=\"data row1 col2\" >1.13</td>\n",
       "      <td id=\"T_e88c2_row1_col3\" class=\"data row1 col3\" >2.30</td>\n",
       "      <td id=\"T_e88c2_row1_col4\" class=\"data row1 col4\" >4.65</td>\n",
       "    </tr>\n",
       "    <tr>\n",
       "      <th id=\"T_e88c2_level0_row2\" class=\"row_heading level0 row2\" >2</th>\n",
       "      <td id=\"T_e88c2_row2_col0\" class=\"data row2 col0\" ></td>\n",
       "      <td id=\"T_e88c2_row2_col1\" class=\"data row2 col1\" ></td>\n",
       "      <td id=\"T_e88c2_row2_col2\" class=\"data row2 col2\" >0.00</td>\n",
       "      <td id=\"T_e88c2_row2_col3\" class=\"data row2 col3\" >0.00</td>\n",
       "      <td id=\"T_e88c2_row2_col4\" class=\"data row2 col4\" >0.00</td>\n",
       "    </tr>\n",
       "    <tr>\n",
       "      <th id=\"T_e88c2_level0_row3\" class=\"row_heading level0 row3\" >3</th>\n",
       "      <td id=\"T_e88c2_row3_col0\" class=\"data row3 col0\" ></td>\n",
       "      <td id=\"T_e88c2_row3_col1\" class=\"data row3 col1\" ></td>\n",
       "      <td id=\"T_e88c2_row3_col2\" class=\"data row3 col2\" ></td>\n",
       "      <td id=\"T_e88c2_row3_col3\" class=\"data row3 col3\" >0.00</td>\n",
       "      <td id=\"T_e88c2_row3_col4\" class=\"data row3 col4\" >0.00</td>\n",
       "    </tr>\n",
       "    <tr>\n",
       "      <th id=\"T_e88c2_level0_row4\" class=\"row_heading level0 row4\" >4</th>\n",
       "      <td id=\"T_e88c2_row4_col0\" class=\"data row4 col0\" ></td>\n",
       "      <td id=\"T_e88c2_row4_col1\" class=\"data row4 col1\" ></td>\n",
       "      <td id=\"T_e88c2_row4_col2\" class=\"data row4 col2\" ></td>\n",
       "      <td id=\"T_e88c2_row4_col3\" class=\"data row4 col3\" ></td>\n",
       "      <td id=\"T_e88c2_row4_col4\" class=\"data row4 col4\" >0.00</td>\n",
       "    </tr>\n",
       "  </tbody>\n",
       "</table>\n"
      ],
      "text/plain": [
       "<pandas.io.formats.style.Styler at 0x28549af40>"
      ]
     },
     "execution_count": 17,
     "metadata": {},
     "output_type": "execute_result"
    }
   ],
   "source": [
    "payoff_swaption = lambda s: np.maximum(s,0)\n",
    "swaptiontree = bintree_pricing(payoff=payoff_swaption,ratetree=ratetree.loc[:,:Topt].dropna(how='all'),undertree=swaptree.loc[:,:Topt].dropna(how='all'))\n",
    "format_bintree(swaptiontree)"
   ]
  },
  {
   "cell_type": "markdown",
   "id": "84fe5a1d",
   "metadata": {},
   "source": [
    "## **<span style=\"color:red\">2.5</span>**"
   ]
  },
  {
   "cell_type": "code",
   "execution_count": 18,
   "id": "5febc5a7",
   "metadata": {},
   "outputs": [
    {
     "data": {
      "text/html": [
       "<style type=\"text/css\">\n",
       "</style>\n",
       "<table id=\"T_741a4\">\n",
       "  <thead>\n",
       "    <tr>\n",
       "      <th class=\"blank level0\" >&nbsp;</th>\n",
       "      <th id=\"T_741a4_level0_col0\" class=\"col_heading level0 col0\" >strike</th>\n",
       "      <th id=\"T_741a4_level0_col1\" class=\"col_heading level0 col1\" >implied vol</th>\n",
       "      <th id=\"T_741a4_level0_col2\" class=\"col_heading level0 col2\" >price</th>\n",
       "    </tr>\n",
       "  </thead>\n",
       "  <tbody>\n",
       "    <tr>\n",
       "      <th id=\"T_741a4_level0_row0\" class=\"row_heading level0 row0\" >black</th>\n",
       "      <td id=\"T_741a4_row0_col0\" class=\"data row0 col0\" >0.0367</td>\n",
       "      <td id=\"T_741a4_row0_col1\" class=\"data row0 col1\" >0.3283</td>\n",
       "      <td id=\"T_741a4_row0_col2\" class=\"data row0 col2\" >1.6874</td>\n",
       "    </tr>\n",
       "    <tr>\n",
       "      <th id=\"T_741a4_level0_row1\" class=\"row_heading level0 row1\" >tree</th>\n",
       "      <td id=\"T_741a4_row1_col0\" class=\"data row1 col0\" >0.0367</td>\n",
       "      <td id=\"T_741a4_row1_col1\" class=\"data row1 col1\" >0.2543</td>\n",
       "      <td id=\"T_741a4_row1_col2\" class=\"data row1 col2\" >1.7284</td>\n",
       "    </tr>\n",
       "  </tbody>\n",
       "</table>\n"
      ],
      "text/plain": [
       "<pandas.io.formats.style.Styler at 0x2854a8730>"
      ]
     },
     "execution_count": 18,
     "metadata": {},
     "output_type": "execute_result"
    }
   ],
   "source": [
    "comp = blacks_quotes.iloc[:,[idstrike]].copy()\n",
    "comp.columns = ['black']\n",
    "comp.loc['price','tree'] = swaptiontree.iloc[0,0]\n",
    "comp.loc['implied vol', 'tree'] = capvol\n",
    "comp.loc['strike','tree'] = fwdswap\n",
    "comp = comp.T\n",
    "\n",
    "comp.style.format('{:.4f}')"
   ]
  },
  {
   "cell_type": "markdown",
   "id": "f0789d71",
   "metadata": {},
   "source": [
    "## **<span style=\"color:red\">2.6</span>**"
   ]
  },
  {
   "cell_type": "code",
   "execution_count": 19,
   "id": "350c18dc",
   "metadata": {},
   "outputs": [
    {
     "data": {
      "text/html": [
       "<style type=\"text/css\">\n",
       "</style>\n",
       "<table id=\"T_c867f\">\n",
       "  <thead>\n",
       "    <tr>\n",
       "      <th class=\"index_name level0\" >time</th>\n",
       "      <th id=\"T_c867f_level0_col0\" class=\"col_heading level0 col0\" >0.00</th>\n",
       "      <th id=\"T_c867f_level0_col1\" class=\"col_heading level0 col1\" >0.25</th>\n",
       "      <th id=\"T_c867f_level0_col2\" class=\"col_heading level0 col2\" >0.50</th>\n",
       "      <th id=\"T_c867f_level0_col3\" class=\"col_heading level0 col3\" >0.75</th>\n",
       "      <th id=\"T_c867f_level0_col4\" class=\"col_heading level0 col4\" >1.00</th>\n",
       "    </tr>\n",
       "    <tr>\n",
       "      <th class=\"index_name level0\" >state</th>\n",
       "      <th class=\"blank col0\" >&nbsp;</th>\n",
       "      <th class=\"blank col1\" >&nbsp;</th>\n",
       "      <th class=\"blank col2\" >&nbsp;</th>\n",
       "      <th class=\"blank col3\" >&nbsp;</th>\n",
       "      <th class=\"blank col4\" >&nbsp;</th>\n",
       "    </tr>\n",
       "  </thead>\n",
       "  <tbody>\n",
       "    <tr>\n",
       "      <th id=\"T_c867f_level0_row0\" class=\"row_heading level0 row0\" >0</th>\n",
       "      <td id=\"T_c867f_row0_col0\" class=\"data row0 col0\" >2.00</td>\n",
       "      <td id=\"T_c867f_row0_col1\" class=\"data row0 col1\" >3.46</td>\n",
       "      <td id=\"T_c867f_row0_col2\" class=\"data row0 col2\" >5.70</td>\n",
       "      <td id=\"T_c867f_row0_col3\" class=\"data row0 col3\" >8.07</td>\n",
       "      <td id=\"T_c867f_row0_col4\" class=\"data row0 col4\" >10.58</td>\n",
       "    </tr>\n",
       "    <tr>\n",
       "      <th id=\"T_c867f_level0_row1\" class=\"row_heading level0 row1\" >1</th>\n",
       "      <td id=\"T_c867f_row1_col0\" class=\"data row1 col0\" ></td>\n",
       "      <td id=\"T_c867f_row1_col1\" class=\"data row1 col1\" >0.60</td>\n",
       "      <td id=\"T_c867f_row1_col2\" class=\"data row1 col2\" >1.21</td>\n",
       "      <td id=\"T_c867f_row1_col3\" class=\"data row1 col3\" >2.45</td>\n",
       "      <td id=\"T_c867f_row1_col4\" class=\"data row1 col4\" >4.65</td>\n",
       "    </tr>\n",
       "    <tr>\n",
       "      <th id=\"T_c867f_level0_row2\" class=\"row_heading level0 row2\" >2</th>\n",
       "      <td id=\"T_c867f_row2_col0\" class=\"data row2 col0\" ></td>\n",
       "      <td id=\"T_c867f_row2_col1\" class=\"data row2 col1\" ></td>\n",
       "      <td id=\"T_c867f_row2_col2\" class=\"data row2 col2\" >0.00</td>\n",
       "      <td id=\"T_c867f_row2_col3\" class=\"data row2 col3\" >0.00</td>\n",
       "      <td id=\"T_c867f_row2_col4\" class=\"data row2 col4\" >0.00</td>\n",
       "    </tr>\n",
       "    <tr>\n",
       "      <th id=\"T_c867f_level0_row3\" class=\"row_heading level0 row3\" >3</th>\n",
       "      <td id=\"T_c867f_row3_col0\" class=\"data row3 col0\" ></td>\n",
       "      <td id=\"T_c867f_row3_col1\" class=\"data row3 col1\" ></td>\n",
       "      <td id=\"T_c867f_row3_col2\" class=\"data row3 col2\" ></td>\n",
       "      <td id=\"T_c867f_row3_col3\" class=\"data row3 col3\" >0.00</td>\n",
       "      <td id=\"T_c867f_row3_col4\" class=\"data row3 col4\" >0.00</td>\n",
       "    </tr>\n",
       "    <tr>\n",
       "      <th id=\"T_c867f_level0_row4\" class=\"row_heading level0 row4\" >4</th>\n",
       "      <td id=\"T_c867f_row4_col0\" class=\"data row4 col0\" ></td>\n",
       "      <td id=\"T_c867f_row4_col1\" class=\"data row4 col1\" ></td>\n",
       "      <td id=\"T_c867f_row4_col2\" class=\"data row4 col2\" ></td>\n",
       "      <td id=\"T_c867f_row4_col3\" class=\"data row4 col3\" ></td>\n",
       "      <td id=\"T_c867f_row4_col4\" class=\"data row4 col4\" >0.00</td>\n",
       "    </tr>\n",
       "  </tbody>\n",
       "</table>\n"
      ],
      "text/plain": [
       "<pandas.io.formats.style.Styler at 0x2854ecb50>"
      ]
     },
     "execution_count": 19,
     "metadata": {},
     "output_type": "execute_result"
    }
   ],
   "source": [
    "swaptiontree_american = bintree_pricing(payoff=payoff_swaption,ratetree=ratetree.loc[:,:Topt].dropna(how='all'),undertree=swaptree.loc[:,:Topt].dropna(how='all'),style='american')\n",
    "format_bintree(swaptiontree_american)"
   ]
  },
  {
   "cell_type": "markdown",
   "id": "a2781bac",
   "metadata": {},
   "source": [
    "***"
   ]
  },
  {
   "cell_type": "markdown",
   "id": "eb8ad4c6",
   "metadata": {},
   "source": [
    "# 3. Midcurve Swaptions"
   ]
  },
  {
   "cell_type": "markdown",
   "id": "2555b7ba",
   "metadata": {},
   "source": [
    "## 3.1 \n",
    "\n",
    "Use the BDT tree from section 2 to price a **european** midcurve swaption 1y$\\rightarrow$2y$\\rightarrow$2y."
   ]
  },
  {
   "cell_type": "markdown",
   "id": "72019101",
   "metadata": {},
   "source": [
    "## 3.2\n",
    "\n",
    "Re-do 3.1, but this time for American exercise."
   ]
  },
  {
   "cell_type": "markdown",
   "id": "bbd5c4d3",
   "metadata": {},
   "source": [
    "***"
   ]
  },
  {
   "cell_type": "markdown",
   "id": "c7b60c28",
   "metadata": {},
   "source": [
    "# **<span style=\"color:red\">Solution 3</span>**"
   ]
  },
  {
   "cell_type": "markdown",
   "id": "d6690381",
   "metadata": {},
   "source": [
    "## **<span style=\"color:red\">3.1</span>**"
   ]
  },
  {
   "cell_type": "code",
   "execution_count": 20,
   "id": "8d08690b",
   "metadata": {},
   "outputs": [],
   "source": [
    "Topt=1\n",
    "Tmid=2\n",
    "Ttenor=2"
   ]
  },
  {
   "cell_type": "code",
   "execution_count": 21,
   "id": "1a17aa26",
   "metadata": {},
   "outputs": [],
   "source": [
    "if freqswap==FREQTREE:\n",
    "    swaprate_val = strike\n",
    "    payoff = lambda r: payoff_swap(r,swaprate_val,freqswap,ispayer=isPayer)\n",
    "    cftree, refratetree = construct_swap_cftree(ratetree,swaprate_val,freqswap=freqswap,T=Tswap,freq=FREQTREE,ispayer=isPayer)\n",
    "\n",
    "    # midcurve swap\n",
    "    cftree_mid = cftree.copy()\n",
    "    cftree_mid.loc[:,:(Topt+Tmid-1/freqswap)] *= 0\n",
    "\n",
    "    swaptree_mid = bintree_pricing(payoff=payoff, ratetree=ratetree, undertree= refratetree, cftree=cftree_mid, cfdelay=True)"
   ]
  },
  {
   "cell_type": "code",
   "execution_count": 22,
   "id": "e36397de",
   "metadata": {},
   "outputs": [
    {
     "data": {
      "text/html": [
       "<style type=\"text/css\">\n",
       "</style>\n",
       "<table id=\"T_f9baf\">\n",
       "  <thead>\n",
       "    <tr>\n",
       "      <th class=\"index_name level0\" >time</th>\n",
       "      <th id=\"T_f9baf_level0_col0\" class=\"col_heading level0 col0\" >0.00</th>\n",
       "      <th id=\"T_f9baf_level0_col1\" class=\"col_heading level0 col1\" >0.25</th>\n",
       "      <th id=\"T_f9baf_level0_col2\" class=\"col_heading level0 col2\" >0.50</th>\n",
       "      <th id=\"T_f9baf_level0_col3\" class=\"col_heading level0 col3\" >0.75</th>\n",
       "      <th id=\"T_f9baf_level0_col4\" class=\"col_heading level0 col4\" >1.00</th>\n",
       "    </tr>\n",
       "    <tr>\n",
       "      <th class=\"index_name level0\" >state</th>\n",
       "      <th class=\"blank col0\" >&nbsp;</th>\n",
       "      <th class=\"blank col1\" >&nbsp;</th>\n",
       "      <th class=\"blank col2\" >&nbsp;</th>\n",
       "      <th class=\"blank col3\" >&nbsp;</th>\n",
       "      <th class=\"blank col4\" >&nbsp;</th>\n",
       "    </tr>\n",
       "  </thead>\n",
       "  <tbody>\n",
       "    <tr>\n",
       "      <th id=\"T_f9baf_level0_row0\" class=\"row_heading level0 row0\" >0</th>\n",
       "      <td id=\"T_f9baf_row0_col0\" class=\"data row0 col0\" >0.86</td>\n",
       "      <td id=\"T_f9baf_row0_col1\" class=\"data row0 col1\" >1.48</td>\n",
       "      <td id=\"T_f9baf_row0_col2\" class=\"data row0 col2\" >2.46</td>\n",
       "      <td id=\"T_f9baf_row0_col3\" class=\"data row0 col3\" >3.88</td>\n",
       "      <td id=\"T_f9baf_row0_col4\" class=\"data row0 col4\" >5.63</td>\n",
       "    </tr>\n",
       "    <tr>\n",
       "      <th id=\"T_f9baf_level0_row1\" class=\"row_heading level0 row1\" >1</th>\n",
       "      <td id=\"T_f9baf_row1_col0\" class=\"data row1 col0\" ></td>\n",
       "      <td id=\"T_f9baf_row1_col1\" class=\"data row1 col1\" >0.27</td>\n",
       "      <td id=\"T_f9baf_row1_col2\" class=\"data row1 col2\" >0.55</td>\n",
       "      <td id=\"T_f9baf_row1_col3\" class=\"data row1 col3\" >1.11</td>\n",
       "      <td id=\"T_f9baf_row1_col4\" class=\"data row1 col4\" >2.24</td>\n",
       "    </tr>\n",
       "    <tr>\n",
       "      <th id=\"T_f9baf_level0_row2\" class=\"row_heading level0 row2\" >2</th>\n",
       "      <td id=\"T_f9baf_row2_col0\" class=\"data row2 col0\" ></td>\n",
       "      <td id=\"T_f9baf_row2_col1\" class=\"data row2 col1\" ></td>\n",
       "      <td id=\"T_f9baf_row2_col2\" class=\"data row2 col2\" >0.00</td>\n",
       "      <td id=\"T_f9baf_row2_col3\" class=\"data row2 col3\" >0.00</td>\n",
       "      <td id=\"T_f9baf_row2_col4\" class=\"data row2 col4\" >0.00</td>\n",
       "    </tr>\n",
       "    <tr>\n",
       "      <th id=\"T_f9baf_level0_row3\" class=\"row_heading level0 row3\" >3</th>\n",
       "      <td id=\"T_f9baf_row3_col0\" class=\"data row3 col0\" ></td>\n",
       "      <td id=\"T_f9baf_row3_col1\" class=\"data row3 col1\" ></td>\n",
       "      <td id=\"T_f9baf_row3_col2\" class=\"data row3 col2\" ></td>\n",
       "      <td id=\"T_f9baf_row3_col3\" class=\"data row3 col3\" >0.00</td>\n",
       "      <td id=\"T_f9baf_row3_col4\" class=\"data row3 col4\" >0.00</td>\n",
       "    </tr>\n",
       "    <tr>\n",
       "      <th id=\"T_f9baf_level0_row4\" class=\"row_heading level0 row4\" >4</th>\n",
       "      <td id=\"T_f9baf_row4_col0\" class=\"data row4 col0\" ></td>\n",
       "      <td id=\"T_f9baf_row4_col1\" class=\"data row4 col1\" ></td>\n",
       "      <td id=\"T_f9baf_row4_col2\" class=\"data row4 col2\" ></td>\n",
       "      <td id=\"T_f9baf_row4_col3\" class=\"data row4 col3\" ></td>\n",
       "      <td id=\"T_f9baf_row4_col4\" class=\"data row4 col4\" >0.00</td>\n",
       "    </tr>\n",
       "  </tbody>\n",
       "</table>\n"
      ],
      "text/plain": [
       "<pandas.io.formats.style.Styler at 0x28549a550>"
      ]
     },
     "execution_count": 22,
     "metadata": {},
     "output_type": "execute_result"
    }
   ],
   "source": [
    "payoff_swaption = lambda s: np.maximum(s,0)\n",
    "swaptiontree_mid = bintree_pricing(payoff=payoff_swaption,ratetree=ratetree.loc[:,:Topt].dropna(how='all'),undertree=swaptree_mid.loc[:,:Topt].dropna(how='all'))\n",
    "format_bintree(swaptiontree_mid)"
   ]
  },
  {
   "cell_type": "markdown",
   "id": "90bb6e06",
   "metadata": {},
   "source": [
    "## **<span style=\"color:red\">3.2</span>**"
   ]
  },
  {
   "cell_type": "code",
   "execution_count": 23,
   "id": "ca894283",
   "metadata": {},
   "outputs": [
    {
     "data": {
      "text/html": [
       "<style type=\"text/css\">\n",
       "</style>\n",
       "<table id=\"T_0959e\">\n",
       "  <thead>\n",
       "    <tr>\n",
       "      <th class=\"index_name level0\" >time</th>\n",
       "      <th id=\"T_0959e_level0_col0\" class=\"col_heading level0 col0\" >0.00</th>\n",
       "      <th id=\"T_0959e_level0_col1\" class=\"col_heading level0 col1\" >0.25</th>\n",
       "      <th id=\"T_0959e_level0_col2\" class=\"col_heading level0 col2\" >0.50</th>\n",
       "      <th id=\"T_0959e_level0_col3\" class=\"col_heading level0 col3\" >0.75</th>\n",
       "      <th id=\"T_0959e_level0_col4\" class=\"col_heading level0 col4\" >1.00</th>\n",
       "    </tr>\n",
       "    <tr>\n",
       "      <th class=\"index_name level0\" >state</th>\n",
       "      <th class=\"blank col0\" >&nbsp;</th>\n",
       "      <th class=\"blank col1\" >&nbsp;</th>\n",
       "      <th class=\"blank col2\" >&nbsp;</th>\n",
       "      <th class=\"blank col3\" >&nbsp;</th>\n",
       "      <th class=\"blank col4\" >&nbsp;</th>\n",
       "    </tr>\n",
       "  </thead>\n",
       "  <tbody>\n",
       "    <tr>\n",
       "      <th id=\"T_0959e_level0_row0\" class=\"row_heading level0 row0\" >0</th>\n",
       "      <td id=\"T_0959e_row0_col0\" class=\"data row0 col0\" >0.86</td>\n",
       "      <td id=\"T_0959e_row0_col1\" class=\"data row0 col1\" >1.48</td>\n",
       "      <td id=\"T_0959e_row0_col2\" class=\"data row0 col2\" >2.46</td>\n",
       "      <td id=\"T_0959e_row0_col3\" class=\"data row0 col3\" >3.88</td>\n",
       "      <td id=\"T_0959e_row0_col4\" class=\"data row0 col4\" >5.63</td>\n",
       "    </tr>\n",
       "    <tr>\n",
       "      <th id=\"T_0959e_level0_row1\" class=\"row_heading level0 row1\" >1</th>\n",
       "      <td id=\"T_0959e_row1_col0\" class=\"data row1 col0\" ></td>\n",
       "      <td id=\"T_0959e_row1_col1\" class=\"data row1 col1\" >0.27</td>\n",
       "      <td id=\"T_0959e_row1_col2\" class=\"data row1 col2\" >0.55</td>\n",
       "      <td id=\"T_0959e_row1_col3\" class=\"data row1 col3\" >1.11</td>\n",
       "      <td id=\"T_0959e_row1_col4\" class=\"data row1 col4\" >2.24</td>\n",
       "    </tr>\n",
       "    <tr>\n",
       "      <th id=\"T_0959e_level0_row2\" class=\"row_heading level0 row2\" >2</th>\n",
       "      <td id=\"T_0959e_row2_col0\" class=\"data row2 col0\" ></td>\n",
       "      <td id=\"T_0959e_row2_col1\" class=\"data row2 col1\" ></td>\n",
       "      <td id=\"T_0959e_row2_col2\" class=\"data row2 col2\" >0.00</td>\n",
       "      <td id=\"T_0959e_row2_col3\" class=\"data row2 col3\" >0.00</td>\n",
       "      <td id=\"T_0959e_row2_col4\" class=\"data row2 col4\" >0.00</td>\n",
       "    </tr>\n",
       "    <tr>\n",
       "      <th id=\"T_0959e_level0_row3\" class=\"row_heading level0 row3\" >3</th>\n",
       "      <td id=\"T_0959e_row3_col0\" class=\"data row3 col0\" ></td>\n",
       "      <td id=\"T_0959e_row3_col1\" class=\"data row3 col1\" ></td>\n",
       "      <td id=\"T_0959e_row3_col2\" class=\"data row3 col2\" ></td>\n",
       "      <td id=\"T_0959e_row3_col3\" class=\"data row3 col3\" >0.00</td>\n",
       "      <td id=\"T_0959e_row3_col4\" class=\"data row3 col4\" >0.00</td>\n",
       "    </tr>\n",
       "    <tr>\n",
       "      <th id=\"T_0959e_level0_row4\" class=\"row_heading level0 row4\" >4</th>\n",
       "      <td id=\"T_0959e_row4_col0\" class=\"data row4 col0\" ></td>\n",
       "      <td id=\"T_0959e_row4_col1\" class=\"data row4 col1\" ></td>\n",
       "      <td id=\"T_0959e_row4_col2\" class=\"data row4 col2\" ></td>\n",
       "      <td id=\"T_0959e_row4_col3\" class=\"data row4 col3\" ></td>\n",
       "      <td id=\"T_0959e_row4_col4\" class=\"data row4 col4\" >0.00</td>\n",
       "    </tr>\n",
       "  </tbody>\n",
       "</table>\n"
      ],
      "text/plain": [
       "<pandas.io.formats.style.Styler at 0x28549aeb0>"
      ]
     },
     "execution_count": 23,
     "metadata": {},
     "output_type": "execute_result"
    }
   ],
   "source": [
    "swaptiontree_mid_american = bintree_pricing(style='american',payoff=payoff_swaption,ratetree=ratetree.loc[:,:Topt].dropna(how='all'),undertree=swaptree_mid.loc[:,:Topt].dropna(how='all'))\n",
    "format_bintree(swaptiontree_mid_american)"
   ]
  },
  {
   "cell_type": "markdown",
   "id": "ac8987c1",
   "metadata": {},
   "source": [
    "***"
   ]
  }
 ],
 "metadata": {
  "hide_input": true,
  "kernelspec": {
   "display_name": "Python 3 (ipykernel)",
   "language": "python",
   "name": "python3"
  },
  "language_info": {
   "codemirror_mode": {
    "name": "ipython",
    "version": 3
   },
   "file_extension": ".py",
   "mimetype": "text/x-python",
   "name": "python",
   "nbconvert_exporter": "python",
   "pygments_lexer": "ipython3",
   "version": "3.9.6"
  }
 },
 "nbformat": 4,
 "nbformat_minor": 5
}
