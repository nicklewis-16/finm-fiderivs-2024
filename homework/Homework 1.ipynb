{
 "cells": [
  {
   "cell_type": "markdown",
   "id": "08f681f9",
   "metadata": {},
   "source": [
    "# Homework 1\n",
    "\n",
    "## FINM 37500: Fixed Income Derivatives\n",
    "\n",
    "### Mark Hendricks\n",
    "\n",
    "#### Winter 2024"
   ]
  },
  {
   "cell_type": "markdown",
   "id": "cdd8e219",
   "metadata": {},
   "source": [
    "# Context\n",
    "\n",
    "For use in these problems, consider the data below, discussed in Veronesi's *Fixed Income Securities* Chapters 9, 10.\n",
    "* interest-rate tree\n",
    "* current term structure"
   ]
  },
  {
   "cell_type": "code",
   "execution_count": 1,
   "id": "7e086fbf",
   "metadata": {},
   "outputs": [],
   "source": [
    "import numpy as np\n",
    "import pandas as pd"
   ]
  },
  {
   "cell_type": "code",
   "execution_count": 2,
   "id": "05cb28e7",
   "metadata": {},
   "outputs": [
    {
     "data": {
      "text/html": [
       "<style type=\"text/css\">\n",
       "</style>\n",
       "<table id=\"T_aa9e7\">\n",
       "  <thead>\n",
       "    <tr>\n",
       "      <th class=\"index_name level0\" >time $t$</th>\n",
       "      <th id=\"T_aa9e7_level0_col0\" class=\"col_heading level0 col0\" >0</th>\n",
       "      <th id=\"T_aa9e7_level0_col1\" class=\"col_heading level0 col1\" >0.5</th>\n",
       "    </tr>\n",
       "    <tr>\n",
       "      <th class=\"index_name level0\" >node</th>\n",
       "      <th class=\"blank col0\" >&nbsp;</th>\n",
       "      <th class=\"blank col1\" >&nbsp;</th>\n",
       "    </tr>\n",
       "  </thead>\n",
       "  <tbody>\n",
       "    <tr>\n",
       "      <th id=\"T_aa9e7_level0_row0\" class=\"row_heading level0 row0\" >0</th>\n",
       "      <td id=\"T_aa9e7_row0_col0\" class=\"data row0 col0\" >1.74%</td>\n",
       "      <td id=\"T_aa9e7_row0_col1\" class=\"data row0 col1\" >3.39%</td>\n",
       "    </tr>\n",
       "    <tr>\n",
       "      <th id=\"T_aa9e7_level0_row1\" class=\"row_heading level0 row1\" >1</th>\n",
       "      <td id=\"T_aa9e7_row1_col0\" class=\"data row1 col0\" ></td>\n",
       "      <td id=\"T_aa9e7_row1_col1\" class=\"data row1 col1\" >0.95%</td>\n",
       "    </tr>\n",
       "  </tbody>\n",
       "</table>\n"
      ],
      "text/plain": [
       "<pandas.io.formats.style.Styler at 0x105618580>"
      ]
     },
     "execution_count": 2,
     "metadata": {},
     "output_type": "execute_result"
    }
   ],
   "source": [
    "rate_tree = pd.DataFrame({'0':[.0174,np.nan],'0.5':[.0339,.0095]})\n",
    "rate_tree.columns.name = 'time $t$'\n",
    "rate_tree.index.name = 'node'\n",
    "rate_tree.style.format('{:.2%}',na_rep='')"
   ]
  },
  {
   "cell_type": "markdown",
   "id": "b848f535",
   "metadata": {},
   "source": [
    "The \"tree\" is displayed as a pandas dataframe, so it does not list \"up\" and \"down\" for the rows but rather an index of nodes. The meaning should be clear."
   ]
  },
  {
   "cell_type": "code",
   "execution_count": 3,
   "id": "b76c6fb9",
   "metadata": {},
   "outputs": [
    {
     "data": {
      "text/html": [
       "<style type=\"text/css\">\n",
       "</style>\n",
       "<table id=\"T_7d414\">\n",
       "  <thead>\n",
       "    <tr>\n",
       "      <th class=\"blank level0\" >&nbsp;</th>\n",
       "      <th id=\"T_7d414_level0_col0\" class=\"col_heading level0 col0\" >price</th>\n",
       "      <th id=\"T_7d414_level0_col1\" class=\"col_heading level0 col1\" >continuous ytm</th>\n",
       "    </tr>\n",
       "    <tr>\n",
       "      <th class=\"index_name level0\" >maturity</th>\n",
       "      <th class=\"blank col0\" >&nbsp;</th>\n",
       "      <th class=\"blank col1\" >&nbsp;</th>\n",
       "    </tr>\n",
       "  </thead>\n",
       "  <tbody>\n",
       "    <tr>\n",
       "      <th id=\"T_7d414_level0_row0\" class=\"row_heading level0 row0\" >0.5</th>\n",
       "      <td id=\"T_7d414_row0_col0\" class=\"data row0 col0\" >99.1338</td>\n",
       "      <td id=\"T_7d414_row0_col1\" class=\"data row0 col1\" >1.74%</td>\n",
       "    </tr>\n",
       "    <tr>\n",
       "      <th id=\"T_7d414_level0_row1\" class=\"row_heading level0 row1\" >1.0</th>\n",
       "      <td id=\"T_7d414_row1_col0\" class=\"data row1 col0\" >97.8925</td>\n",
       "      <td id=\"T_7d414_row1_col1\" class=\"data row1 col1\" >2.13%</td>\n",
       "    </tr>\n",
       "    <tr>\n",
       "      <th id=\"T_7d414_level0_row2\" class=\"row_heading level0 row2\" >1.5</th>\n",
       "      <td id=\"T_7d414_row2_col0\" class=\"data row2 col0\" >96.1462</td>\n",
       "      <td id=\"T_7d414_row2_col1\" class=\"data row2 col1\" >2.62%</td>\n",
       "    </tr>\n",
       "  </tbody>\n",
       "</table>\n"
      ],
      "text/plain": [
       "<pandas.io.formats.style.Styler at 0x10f9c0a30>"
      ]
     },
     "execution_count": 3,
     "metadata": {},
     "output_type": "execute_result"
    }
   ],
   "source": [
    "term_struct = pd.DataFrame({'maturity':[.5,1,1.5],'price':[99.1338,97.8925,96.1462]})\n",
    "term_struct['continuous ytm'] = -np.log(term_struct['price']/100) / term_struct['maturity']\n",
    "term_struct.set_index('maturity',inplace=True)\n",
    "term_struct.style.format({'price':'{:.4f}','continuous ytm':'{:.2%}'}).format_index('{:.1f}')"
   ]
  },
  {
   "cell_type": "markdown",
   "id": "9f832211",
   "metadata": {},
   "source": [
    "This is the current term-structure observed at $t=0$."
   ]
  },
  {
   "cell_type": "markdown",
   "id": "534cbb1e",
   "metadata": {},
   "source": [
    "# 1. Pricing a Swap\n",
    "\n",
    "### 1.1 \n",
    "Calculate the tree of bond prices for the 2-period, $T=1$, bond.\n",
    "\n",
    "### 1.2 \n",
    "What is the risk-neutral probability of an upward movement of interest rates at $t=.5$?\n",
    "\n",
    "## The option contract\n",
    "\n",
    "Consider a single-period swap that pays at time period 1 ($t=0.5$), the expiration payoff (and thus terminal value) is\n",
    "* Payoff = $\\frac{100}{2}(r_1 −c)$\n",
    "* with $c=2\\%$\n",
    "* payments are semiannual\n",
    "\n",
    "Take the viewpoint of a fixed-rate payer, floating rate receiver.\n",
    "\n",
    "### 1.3 \n",
    "What is the replicating trade using the two bonds (period 1 and period 2)?\n",
    "\n",
    "### 1.4 \n",
    "What is the price of the swap?"
   ]
  },
  {
   "cell_type": "markdown",
   "id": "0e57d389",
   "metadata": {},
   "source": [
    "# 2. Using the Swap as the Underlying\n",
    "As in the note, W.1, consider pricing the followign interest-rate option,\n",
    "* Payoff is $100\\max(r_K-r_1,0)$\n",
    "* strike is $r_K$ is 2\\%\n",
    "* expires at period 1, ($t=0.5$) \n",
    "\n",
    "Unlike the note, price it with the swap used as the underlying, not the two-period ($t=1$) bond. You will once again use the period-1 ($t=0.5$) bond as the cash account for the no-arbitrage pricing.\n",
    "\n",
    "So instead of replicating the option with the two treasuries, now you're replicating/pricing it with a one-period bond and two-period swap.\n",
    "\n",
    "### 2.1\n",
    "Display the tree of swap prices.\n",
    "\n",
    "### 2.2\n",
    "What is the risk-neutral probability of an upward movement at $t=.5$ implied by the underlying swap tree? \n",
    "\n",
    "Is this the same as the risk-neutral probability we found when the bond was used as the underlying?\n",
    "\n",
    "### 2.3\n",
    "What is the price of the rate option? Is it the same as we calculated in the note, W.1.?"
   ]
  },
  {
   "cell_type": "markdown",
   "id": "2360f491",
   "metadata": {},
   "source": [
    "# 3. Pricing a Call on a Bond\n",
    "\n",
    "Try using the same tree to price a call on the period-2 bond, (1-year), at period 1 (6-months).\n",
    "* Payoff = $\\max(P_{1|2}-K,0)$\n",
    "* Strike = \\$99.00\n",
    "\n",
    "### 3.1 \n",
    "What is the replicating trade using the two bonds (period 1 and period 2) as above? (That is, we are no longer using the swap as the underlying.)\n",
    "\n",
    "### 3.2 \n",
    "What is the price of the European call option? \n",
    "* expiring at $T=.5$ \n",
    "* written on the bond maturing in 2 periods, ($t=1$)"
   ]
  },
  {
   "cell_type": "markdown",
   "id": "4db6785c",
   "metadata": {},
   "source": [
    "# 4 Two-Period Tree\n",
    "\n",
    "Consider an expanded, **2 period** tree. (Two periods of uncertainty, so with the starting point, three periods total.)"
   ]
  },
  {
   "cell_type": "code",
   "execution_count": 4,
   "id": "484577f2",
   "metadata": {},
   "outputs": [
    {
     "data": {
      "text/html": [
       "<style type=\"text/css\">\n",
       "</style>\n",
       "<table id=\"T_f374c\">\n",
       "  <thead>\n",
       "    <tr>\n",
       "      <th class=\"index_name level0\" >time $t$</th>\n",
       "      <th id=\"T_f374c_level0_col0\" class=\"col_heading level0 col0\" >0</th>\n",
       "      <th id=\"T_f374c_level0_col1\" class=\"col_heading level0 col1\" >0.5</th>\n",
       "      <th id=\"T_f374c_level0_col2\" class=\"col_heading level0 col2\" >1</th>\n",
       "    </tr>\n",
       "    <tr>\n",
       "      <th class=\"index_name level0\" >node</th>\n",
       "      <th class=\"blank col0\" >&nbsp;</th>\n",
       "      <th class=\"blank col1\" >&nbsp;</th>\n",
       "      <th class=\"blank col2\" >&nbsp;</th>\n",
       "    </tr>\n",
       "  </thead>\n",
       "  <tbody>\n",
       "    <tr>\n",
       "      <th id=\"T_f374c_level0_row0\" class=\"row_heading level0 row0\" >0</th>\n",
       "      <td id=\"T_f374c_row0_col0\" class=\"data row0 col0\" >1.74%</td>\n",
       "      <td id=\"T_f374c_row0_col1\" class=\"data row0 col1\" >3.39%</td>\n",
       "      <td id=\"T_f374c_row0_col2\" class=\"data row0 col2\" >5.00%</td>\n",
       "    </tr>\n",
       "    <tr>\n",
       "      <th id=\"T_f374c_level0_row1\" class=\"row_heading level0 row1\" >1</th>\n",
       "      <td id=\"T_f374c_row1_col0\" class=\"data row1 col0\" ></td>\n",
       "      <td id=\"T_f374c_row1_col1\" class=\"data row1 col1\" >0.95%</td>\n",
       "      <td id=\"T_f374c_row1_col2\" class=\"data row1 col2\" >2.56%</td>\n",
       "    </tr>\n",
       "    <tr>\n",
       "      <th id=\"T_f374c_level0_row2\" class=\"row_heading level0 row2\" >2</th>\n",
       "      <td id=\"T_f374c_row2_col0\" class=\"data row2 col0\" ></td>\n",
       "      <td id=\"T_f374c_row2_col1\" class=\"data row2 col1\" ></td>\n",
       "      <td id=\"T_f374c_row2_col2\" class=\"data row2 col2\" >0.11%</td>\n",
       "    </tr>\n",
       "  </tbody>\n",
       "</table>\n"
      ],
      "text/plain": [
       "<pandas.io.formats.style.Styler at 0x1056188e0>"
      ]
     },
     "execution_count": 4,
     "metadata": {},
     "output_type": "execute_result"
    }
   ],
   "source": [
    "new_col = pd.Series([.05,.0256,.0011],name='1')\n",
    "rate_tree_multi = pd.concat([rate_tree,new_col],ignore_index=True,axis=1)\n",
    "rate_tree_multi.columns = pd.Series(['0','0.5','1'],name='time $t$')\n",
    "rate_tree_multi.index.name = 'node'\n",
    "rate_tree_multi.style.format('{:.2%}',na_rep='')"
   ]
  },
  {
   "cell_type": "markdown",
   "id": "7e454eb1",
   "metadata": {},
   "source": [
    "### 4.1\n",
    "\n",
    "Calculate and show the tree of prices for the 3-period bond, $T=1.5$.\n",
    "\n",
    "### 4.2\n",
    "Report the risk-neutral probability of an up movement at $t=1$.\n",
    "\n",
    "(The risk-neutral probability of an up movement at $t=0.5$ continues to be as you calculated in 2.3.\n",
    "\n",
    "### 4.3\n",
    "Calculate the price of the European **call** option?\n",
    "* expiring at $T=1$ \n",
    "* written on the bond maturing in 3 periods, ($t=1.5$)\n",
    "\n",
    "### 4.4\n",
    "Consider a finer time grid. Let $dt$ in the tree now be 1/30 instead of 0.5.\n",
    "\n",
    "Using this smaller time step, compute the $t=0$ price of the following option:\n",
    "* option expires at $t=1$\n",
    "* written on bond maturing at $t=1.5"
   ]
  },
  {
   "cell_type": "markdown",
   "id": "46eccfaf",
   "metadata": {},
   "source": [
    "# 5 American Style\n",
    "### 5.1\n",
    "Use the two-period tree from part 4, but this time to price an American-style **put** option.\n",
    "\n",
    "Use a grid of $dt=.5$.\n",
    "* What is its value at $t=0$?\n",
    "* Which nodes would you exercise it early?\n",
    "\n",
    "### 5.2\n",
    "Change the grid to $dt=1/30$, as in 4.4. \n",
    "* What is its value at $t=0$?\n",
    "* Make a visualization showing which nodes have early exercise. (I suggest using a dataframe and the `heatmap` from `seaborn`."
   ]
  }
 ],
 "metadata": {
  "hide_input": true,
  "kernelspec": {
   "display_name": "Python 3 (ipykernel)",
   "language": "python",
   "name": "python3"
  },
  "language_info": {
   "codemirror_mode": {
    "name": "ipython",
    "version": 3
   },
   "file_extension": ".py",
   "mimetype": "text/x-python",
   "name": "python",
   "nbconvert_exporter": "python",
   "pygments_lexer": "ipython3",
   "version": "3.9.6"
  }
 },
 "nbformat": 4,
 "nbformat_minor": 5
}
