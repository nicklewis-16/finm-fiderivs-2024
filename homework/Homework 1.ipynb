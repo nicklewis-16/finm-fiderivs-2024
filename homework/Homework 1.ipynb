{
 "cells": [
  {
   "cell_type": "markdown",
   "id": "60f1c75d",
   "metadata": {},
   "source": [
    "<div style=\"text-align: right\"> Mark Hendricks </div>\n",
    "\n",
    "<left>FINM 37500 - Fixed Income Derivatives</left> \n",
    "<br>\n",
    "<left>Winter 2024</left>\n",
    "\n",
    "<h2><center> Homework #1- Binomial Trees and Black's Formulas </center></h2>\n",
    "\n",
    "<center>Due: Wednesday, Feb 14 at 6PM</center>\n",
    "\n",
    "<h3><span style=\"color:#00008B\">Name - Nick Lewis</span></h3>\n",
    "<h3><span style=\"color:#00008B\">Email - nicklewis16@uchicago.edu</span></h3>"
   ]
  },
  {
   "cell_type": "markdown",
   "id": "08f681f9",
   "metadata": {},
   "source": [
    "# Homework 1\n",
    "\n",
    "## FINM 37500: Fixed Income Derivatives\n",
    "\n",
    "### Mark Hendricks\n",
    "\n",
    "#### Winter 2024"
   ]
  },
  {
   "cell_type": "markdown",
   "id": "cdd8e219",
   "metadata": {},
   "source": [
    "# Context\n",
    "\n",
    "For use in these problems, consider the data below, discussed in Veronesi's *Fixed Income Securities* Chapters 9, 10.\n",
    "* interest-rate tree\n",
    "* current term structure"
   ]
  },
  {
   "cell_type": "code",
   "execution_count": 117,
   "id": "7e086fbf",
   "metadata": {},
   "outputs": [],
   "source": [
    "import numpy as np\n",
    "import pandas as pd\n",
    "import datetime\n",
    "import warnings\n",
    "from scipy.optimize import fsolve\n",
    "\n",
    "import matplotlib.pyplot as plt\n",
    "import seaborn as sns\n",
    "%matplotlib inline\n",
    "plt.rcParams['figure.figsize'] = (12,6)\n",
    "plt.rcParams['font.size'] = 15\n",
    "plt.rcParams['legend.fontsize'] = 13\n",
    "\n",
    "from matplotlib.ticker import (MultipleLocator,\n",
    "                               FormatStrFormatter,\n",
    "                               AutoMinorLocator)\n",
    "\n",
    "import sys\n",
    "sys.path.insert(0, '../cmds')\n",
    "from binomial import *"
   ]
  },
  {
   "cell_type": "code",
   "execution_count": 118,
   "id": "05cb28e7",
   "metadata": {},
   "outputs": [
    {
     "data": {
      "text/html": [
       "<style type=\"text/css\">\n",
       "</style>\n",
       "<table id=\"T_efafe\">\n",
       "  <thead>\n",
       "    <tr>\n",
       "      <th class=\"index_name level0\" >time $t$</th>\n",
       "      <th id=\"T_efafe_level0_col0\" class=\"col_heading level0 col0\" >0.000000</th>\n",
       "      <th id=\"T_efafe_level0_col1\" class=\"col_heading level0 col1\" >0.500000</th>\n",
       "    </tr>\n",
       "    <tr>\n",
       "      <th class=\"index_name level0\" >state</th>\n",
       "      <th class=\"blank col0\" >&nbsp;</th>\n",
       "      <th class=\"blank col1\" >&nbsp;</th>\n",
       "    </tr>\n",
       "  </thead>\n",
       "  <tbody>\n",
       "    <tr>\n",
       "      <th id=\"T_efafe_level0_row0\" class=\"row_heading level0 row0\" >0.0</th>\n",
       "      <td id=\"T_efafe_row0_col0\" class=\"data row0 col0\" >1.74%</td>\n",
       "      <td id=\"T_efafe_row0_col1\" class=\"data row0 col1\" >3.39%</td>\n",
       "    </tr>\n",
       "    <tr>\n",
       "      <th id=\"T_efafe_level0_row1\" class=\"row_heading level0 row1\" >1.0</th>\n",
       "      <td id=\"T_efafe_row1_col0\" class=\"data row1 col0\" ></td>\n",
       "      <td id=\"T_efafe_row1_col1\" class=\"data row1 col1\" >0.95%</td>\n",
       "    </tr>\n",
       "  </tbody>\n",
       "</table>\n"
      ],
      "text/plain": [
       "<pandas.io.formats.style.Styler at 0x15d0ebbf0>"
      ]
     },
     "execution_count": 118,
     "metadata": {},
     "output_type": "execute_result"
    }
   ],
   "source": [
    "rate_tree = pd.DataFrame({0:[.0174,np.nan],0.5:[.0339,.0095]})\n",
    "rate_tree.columns.name = 'time $t$'\n",
    "rate_tree.index.name = 'state'\n",
    "rate_tree.style.format('{:.2%}',na_rep='').format_index('{:.1f}')"
   ]
  },
  {
   "cell_type": "markdown",
   "id": "b848f535",
   "metadata": {},
   "source": [
    "The \"tree\" is displayed as a pandas dataframe, so it does not list \"up\" and \"down\" for the rows but rather an index of nodes. The meaning should be clear."
   ]
  },
  {
   "cell_type": "code",
   "execution_count": 119,
   "id": "b76c6fb9",
   "metadata": {},
   "outputs": [
    {
     "data": {
      "text/html": [
       "<style type=\"text/css\">\n",
       "</style>\n",
       "<table id=\"T_bfe51\">\n",
       "  <thead>\n",
       "    <tr>\n",
       "      <th class=\"blank level0\" >&nbsp;</th>\n",
       "      <th id=\"T_bfe51_level0_col0\" class=\"col_heading level0 col0\" >price</th>\n",
       "      <th id=\"T_bfe51_level0_col1\" class=\"col_heading level0 col1\" >continuous ytm</th>\n",
       "    </tr>\n",
       "    <tr>\n",
       "      <th class=\"index_name level0\" >maturity</th>\n",
       "      <th class=\"blank col0\" >&nbsp;</th>\n",
       "      <th class=\"blank col1\" >&nbsp;</th>\n",
       "    </tr>\n",
       "  </thead>\n",
       "  <tbody>\n",
       "    <tr>\n",
       "      <th id=\"T_bfe51_level0_row0\" class=\"row_heading level0 row0\" >0.5</th>\n",
       "      <td id=\"T_bfe51_row0_col0\" class=\"data row0 col0\" >99.1338</td>\n",
       "      <td id=\"T_bfe51_row0_col1\" class=\"data row0 col1\" >1.74%</td>\n",
       "    </tr>\n",
       "    <tr>\n",
       "      <th id=\"T_bfe51_level0_row1\" class=\"row_heading level0 row1\" >1.0</th>\n",
       "      <td id=\"T_bfe51_row1_col0\" class=\"data row1 col0\" >97.8925</td>\n",
       "      <td id=\"T_bfe51_row1_col1\" class=\"data row1 col1\" >2.13%</td>\n",
       "    </tr>\n",
       "    <tr>\n",
       "      <th id=\"T_bfe51_level0_row2\" class=\"row_heading level0 row2\" >1.5</th>\n",
       "      <td id=\"T_bfe51_row2_col0\" class=\"data row2 col0\" >96.1462</td>\n",
       "      <td id=\"T_bfe51_row2_col1\" class=\"data row2 col1\" >2.62%</td>\n",
       "    </tr>\n",
       "  </tbody>\n",
       "</table>\n"
      ],
      "text/plain": [
       "<pandas.io.formats.style.Styler at 0x15cff9550>"
      ]
     },
     "execution_count": 119,
     "metadata": {},
     "output_type": "execute_result"
    }
   ],
   "source": [
    "term_struct = pd.DataFrame({'maturity':[.5,1,1.5],'price':[99.1338,97.8925,96.1462]})\n",
    "term_struct['continuous ytm'] = -np.log(term_struct['price']/100) / term_struct['maturity']\n",
    "term_struct.set_index('maturity',inplace=True)\n",
    "term_struct.style.format({'price':'{:.4f}','continuous ytm':'{:.2%}'}).format_index('{:.1f}')"
   ]
  },
  {
   "cell_type": "markdown",
   "id": "9f832211",
   "metadata": {},
   "source": [
    "This is the current term-structure observed at $t=0$."
   ]
  },
  {
   "cell_type": "markdown",
   "id": "534cbb1e",
   "metadata": {},
   "source": [
    "# 1. Pricing a Swap\n",
    "\n",
    "### 1.1 \n",
    "Calculate the tree of bond prices for the 2-period, $T=1$, bond.\n",
    "\n"
   ]
  },
  {
   "cell_type": "markdown",
   "id": "a4ef41ee",
   "metadata": {},
   "source": [
    "At each node, you calculate the bond price using the formula\n",
    "$$\n",
    "P = F e ^{-r(T-t)}\n",
    "$$\n",
    "where P is the bond price, F is the face value, r is the interest rate at the node, T is the bond's maturity, and t is the current time node. This directly applies the formula for continuous compounding over the period from t to T."
   ]
  },
  {
   "cell_type": "code",
   "execution_count": 120,
   "id": "c3fb41e9",
   "metadata": {},
   "outputs": [],
   "source": [
    "# Maturity underlying of T = 1, and assuming FV = 100\n",
    "MATUND = 1.0\n",
    "FACE= 100"
   ]
  },
  {
   "cell_type": "code",
   "execution_count": 121,
   "id": "9c734f5e",
   "metadata": {},
   "outputs": [
    {
     "data": {
      "text/html": [
       "<style type=\"text/css\">\n",
       "</style>\n",
       "<table id=\"T_7da0b\">\n",
       "  <thead>\n",
       "    <tr>\n",
       "      <th class=\"index_name level0\" >time $t$</th>\n",
       "      <th id=\"T_7da0b_level0_col0\" class=\"col_heading level0 col0\" >0.0</th>\n",
       "      <th id=\"T_7da0b_level0_col1\" class=\"col_heading level0 col1\" >0.5</th>\n",
       "    </tr>\n",
       "    <tr>\n",
       "      <th class=\"index_name level0\" >state</th>\n",
       "      <th class=\"blank col0\" >&nbsp;</th>\n",
       "      <th class=\"blank col1\" >&nbsp;</th>\n",
       "    </tr>\n",
       "  </thead>\n",
       "  <tbody>\n",
       "    <tr>\n",
       "      <th id=\"T_7da0b_level0_row0\" class=\"row_heading level0 row0\" >0</th>\n",
       "      <td id=\"T_7da0b_row0_col0\" class=\"data row0 col0\" >97.8925</td>\n",
       "      <td id=\"T_7da0b_row0_col1\" class=\"data row0 col1\" >98.3193</td>\n",
       "    </tr>\n",
       "    <tr>\n",
       "      <th id=\"T_7da0b_level0_row1\" class=\"row_heading level0 row1\" >1</th>\n",
       "      <td id=\"T_7da0b_row1_col0\" class=\"data row1 col0\" >nan</td>\n",
       "      <td id=\"T_7da0b_row1_col1\" class=\"data row1 col1\" >99.5261</td>\n",
       "    </tr>\n",
       "  </tbody>\n",
       "</table>\n"
      ],
      "text/plain": [
       "<pandas.io.formats.style.Styler at 0x15d0b2b10>"
      ]
     },
     "metadata": {},
     "output_type": "display_data"
    }
   ],
   "source": [
    "# Initialize the bond price tree\n",
    "bond_tree = pd.DataFrame(dtype=float, index=rate_tree.index, columns=rate_tree.columns)\n",
    "\n",
    "# Calculate bond prices using backward induction\n",
    "for i in bond_tree.columns[-1:0:-1]:\n",
    "    bond_tree[i] = np.exp(-rate_tree[i] * (MATUND - i)) * FACE\n",
    "    \n",
    "    \n",
    "# Set the initial price based on the quoted price\n",
    "bond_tree.iloc[0, 0] = term_struct.loc[MATUND, 'price']\n",
    "\n",
    "# Format and display the bond price tree\n",
    "display(bond_tree.style.format('{:.4f}').format_index('{:.1f}', axis=1))"
   ]
  },
  {
   "cell_type": "markdown",
   "id": "c4209ff3",
   "metadata": {},
   "source": [
    "### 1.2 \n",
    "What is the risk-neutral probability of an upward movement of interest rates at $t=.5$?"
   ]
  },
  {
   "cell_type": "markdown",
   "id": "907d1042",
   "metadata": {},
   "source": [
    "$$\n",
    "dt = 0.5\\\\\n",
    "A = e^{r_0 \\times dt}\\\\\n",
    "Z = e^{-r_0 \\times dt}\n",
    "$$"
   ]
  },
  {
   "cell_type": "code",
   "execution_count": 122,
   "id": "84fedf2c",
   "metadata": {},
   "outputs": [],
   "source": [
    "# Given setup\n",
    "dt = 0.5\n",
    "\n",
    "# Calculate A and Z\n",
    "A = np.exp(rate_tree.iloc[0, 0] * dt)\n",
    "Z = np.exp(-rate_tree.iloc[0, 0] * dt)"
   ]
  },
  {
   "cell_type": "code",
   "execution_count": 123,
   "id": "692de863",
   "metadata": {},
   "outputs": [
    {
     "data": {
      "text/html": [
       "<style type=\"text/css\">\n",
       "</style>\n",
       "<table id=\"T_fc84b\">\n",
       "  <thead>\n",
       "    <tr>\n",
       "      <th class=\"blank level0\" >&nbsp;</th>\n",
       "      <th id=\"T_fc84b_level0_col0\" class=\"col_heading level0 col0\" ></th>\n",
       "    </tr>\n",
       "  </thead>\n",
       "  <tbody>\n",
       "    <tr>\n",
       "      <th id=\"T_fc84b_level0_row0\" class=\"row_heading level0 row0\" >prob up</th>\n",
       "      <td id=\"T_fc84b_row0_col0\" class=\"data row0 col0\" >64.49%</td>\n",
       "    </tr>\n",
       "    <tr>\n",
       "      <th id=\"T_fc84b_level0_row1\" class=\"row_heading level0 row1\" >prob down</th>\n",
       "      <td id=\"T_fc84b_row1_col0\" class=\"data row1 col0\" >35.51%</td>\n",
       "    </tr>\n",
       "  </tbody>\n",
       "</table>\n"
      ],
      "text/plain": [
       "<pandas.io.formats.style.Styler at 0x15d0e8170>"
      ]
     },
     "execution_count": 123,
     "metadata": {},
     "output_type": "execute_result"
    }
   ],
   "source": [
    "# Calculate the risk-neutral probability p*\n",
    "pstar = (A * bond_tree.loc[0, 0] - bond_tree.loc[1, dt]) / (bond_tree.loc[0, dt] - bond_tree.loc[1, dt])\n",
    "\n",
    "# Prepare the DataFrame for visualization\n",
    "pvec = pd.DataFrame([pstar,1-pstar],index=['prob up','prob down'],columns=[''])\n",
    "pvec.style.format('{:.2%}')"
   ]
  },
  {
   "cell_type": "markdown",
   "id": "efd5d243",
   "metadata": {},
   "source": [
    "\n",
    "## The option contract\n",
    "\n",
    "Consider a single-period swap that pays at time period 1 ($t=0.5$), the expiration payoff (and thus terminal value) is\n",
    "* Payoff = $\\frac{100}{2}(r_1 −c)$\n",
    "* with $c=2\\%$\n",
    "* payments are semiannual\n",
    "\n",
    "Take the viewpoint of a fixed-rate payer, floating rate receiver.\n"
   ]
  },
  {
   "cell_type": "markdown",
   "id": "4ec8a91a",
   "metadata": {},
   "source": [
    "Long a Floating Rate Bond: This bond's value resets at each period based on the prevailing interest rates, making its price at t = 0.5 effectively  100 (ignoring any spread over the reference rate for simplicity).\n",
    "\n",
    "Short a Fixed Rate Bond: This bond pays a fixed rate c, which is equivalent to the fixed rate of the swap. Since the payments are semiannual, the annualized rate c is applied accordingly."
   ]
  },
  {
   "cell_type": "code",
   "execution_count": 124,
   "id": "108620f7",
   "metadata": {},
   "outputs": [],
   "source": [
    "# Constants\n",
    "STRIKE = 0.02\n",
    "FACE = 100\n",
    "dt = 0.5\n",
    "\n",
    "# Payoff function for the swap\n",
    "payoff = lambda r: FACE/2 * (r - STRIKE)"
   ]
  },
  {
   "cell_type": "code",
   "execution_count": 125,
   "id": "ea0b6ce7",
   "metadata": {},
   "outputs": [],
   "source": [
    "# Initialize the swap tree\n",
    "swap_tree = pd.DataFrame(index=rate_tree.index, columns=rate_tree.columns, dtype=float)\n",
    "# Calculate the payoff at t=0.5\n",
    "swap_tree[dt] = payoff(rate_tree[dt])"
   ]
  },
  {
   "cell_type": "markdown",
   "id": "c86091b7",
   "metadata": {},
   "source": [
    "\n",
    "### 1.3 \n",
    "What is the replicating trade using the two bonds (period 1 and period 2)?\n"
   ]
  },
  {
   "cell_type": "code",
   "execution_count": 126,
   "id": "1ff8c291",
   "metadata": {},
   "outputs": [],
   "source": [
    "def replicating_port(quotes, undertree, derivtree, dt=None, Ncash=100):\n",
    "    \"\"\"\n",
    "    Calculates the replicating portfolio for a derivative given the quotes, undertree, and derivtree.\n",
    "\n",
    "    Parameters:\n",
    "    quotes (array-like): The quotes for the derivative.\n",
    "    undertree (DataFrame): The underlying asset price tree.\n",
    "    derivtree (DataFrame): The derivative price tree.\n",
    "    dt (float, optional): The time step size. If not provided, it is calculated from the undertree.\n",
    "    Ncash (float, optional): The amount of cash to invest. Default is 100.\n",
    "\n",
    "    Returns:\n",
    "    DataFrame: The replicating portfolio positions and their values.\n",
    "    \"\"\"\n",
    "\n",
    "    if dt is None:\n",
    "        dt = undertree.columns[1] - undertree.columns[0]\n",
    "    \n",
    "    delta = (derivtree.loc[0, dt] - derivtree.loc[1, dt]) / (undertree.loc[0, dt] - undertree.loc[1, dt]) #matches slope\n",
    "    cash = (derivtree.loc[0, dt] - delta * undertree.loc[0, dt]) / Ncash # matches intercept\n",
    "    \n",
    "    out = pd.DataFrame({'positions': [cash, delta], 'value': quotes}, index=['cash', 'under'])\n",
    "    out.loc['derivative', 'value'] = out['positions'] @ out['value']\n",
    "    return out"
   ]
  },
  {
   "cell_type": "code",
   "execution_count": 127,
   "id": "dab0c846",
   "metadata": {},
   "outputs": [
    {
     "data": {
      "text/html": [
       "<style type=\"text/css\">\n",
       "</style>\n",
       "<table id=\"T_b9560\">\n",
       "  <thead>\n",
       "    <tr>\n",
       "      <th class=\"blank level0\" >&nbsp;</th>\n",
       "      <th id=\"T_b9560_level0_col0\" class=\"col_heading level0 col0\" >positions</th>\n",
       "      <th id=\"T_b9560_level0_col1\" class=\"col_heading level0 col1\" >value</th>\n",
       "    </tr>\n",
       "  </thead>\n",
       "  <tbody>\n",
       "    <tr>\n",
       "      <th id=\"T_b9560_level0_row0\" class=\"row_heading level0 row0\" >cash</th>\n",
       "      <td id=\"T_b9560_row0_col0\" class=\"data row0 col0\" >1.0009</td>\n",
       "      <td id=\"T_b9560_row0_col1\" class=\"data row0 col1\" >99.1338</td>\n",
       "    </tr>\n",
       "    <tr>\n",
       "      <th id=\"T_b9560_level0_row1\" class=\"row_heading level0 row1\" >under</th>\n",
       "      <td id=\"T_b9560_row1_col0\" class=\"data row1 col0\" >-1.0109</td>\n",
       "      <td id=\"T_b9560_row1_col1\" class=\"data row1 col1\" >97.8925</td>\n",
       "    </tr>\n",
       "    <tr>\n",
       "      <th id=\"T_b9560_level0_row2\" class=\"row_heading level0 row2\" >derivative</th>\n",
       "      <td id=\"T_b9560_row2_col0\" class=\"data row2 col0\" >nan</td>\n",
       "      <td id=\"T_b9560_row2_col1\" class=\"data row2 col1\" >0.2595</td>\n",
       "    </tr>\n",
       "  </tbody>\n",
       "</table>\n"
      ],
      "text/plain": [
       "<pandas.io.formats.style.Styler at 0x15d0b37d0>"
      ]
     },
     "execution_count": 127,
     "metadata": {},
     "output_type": "execute_result"
    }
   ],
   "source": [
    "# Calculate the replicating portfolio\n",
    "replicating_portfolio = replicating_port(quotes = term_struct.loc[[.5, 1], 'price'].values, \n",
    "                                         undertree=bond_tree, derivtree=swap_tree)\n",
    "replicating_portfolio.style.format('{:.4f}')"
   ]
  },
  {
   "cell_type": "markdown",
   "id": "7a078094",
   "metadata": {},
   "source": [
    "\n",
    "### 1.4 \n",
    "What is the price of the swap?"
   ]
  },
  {
   "cell_type": "code",
   "execution_count": 128,
   "id": "71dba661",
   "metadata": {},
   "outputs": [
    {
     "data": {
      "text/html": [
       "<style type=\"text/css\">\n",
       "</style>\n",
       "<table id=\"T_98cd1\">\n",
       "  <thead>\n",
       "    <tr>\n",
       "      <th class=\"index_name level0\" >time $t$</th>\n",
       "      <th id=\"T_98cd1_level0_col0\" class=\"col_heading level0 col0\" >0.0</th>\n",
       "      <th id=\"T_98cd1_level0_col1\" class=\"col_heading level0 col1\" >0.5</th>\n",
       "    </tr>\n",
       "    <tr>\n",
       "      <th class=\"index_name level0\" >state</th>\n",
       "      <th class=\"blank col0\" >&nbsp;</th>\n",
       "      <th class=\"blank col1\" >&nbsp;</th>\n",
       "    </tr>\n",
       "  </thead>\n",
       "  <tbody>\n",
       "    <tr>\n",
       "      <th id=\"T_98cd1_level0_row0\" class=\"row_heading level0 row0\" >0</th>\n",
       "      <td id=\"T_98cd1_row0_col0\" class=\"data row0 col0\" >0.2595</td>\n",
       "      <td id=\"T_98cd1_row0_col1\" class=\"data row0 col1\" >0.6950</td>\n",
       "    </tr>\n",
       "    <tr>\n",
       "      <th id=\"T_98cd1_level0_row1\" class=\"row_heading level0 row1\" >1</th>\n",
       "      <td id=\"T_98cd1_row1_col0\" class=\"data row1 col0\" >nan</td>\n",
       "      <td id=\"T_98cd1_row1_col1\" class=\"data row1 col1\" >-0.5250</td>\n",
       "    </tr>\n",
       "  </tbody>\n",
       "</table>\n"
      ],
      "text/plain": [
       "<pandas.io.formats.style.Styler at 0x15d071a30>"
      ]
     },
     "execution_count": 128,
     "metadata": {},
     "output_type": "execute_result"
    }
   ],
   "source": [
    "# time 0 price of swap is discount factor * expected value of swap at time 1. Z * (p* swap up + (1-p*) swap down)\n",
    "swap_tree.loc[0, 0] = Z * np.array([pstar, 1-pstar]) @ swap_tree[dt].values\n",
    "\n",
    "# Output the swap tree\n",
    "swap_tree.style.format('{:.4f}').format_index('{:.1f}', axis=1)"
   ]
  },
  {
   "cell_type": "code",
   "execution_count": 129,
   "id": "593e99f2",
   "metadata": {},
   "outputs": [],
   "source": [
    "def format_bintree(df, style='{:.2f}'):\n",
    "    \"\"\"\n",
    "    Formats a binary tree represented as a DataFrame.\n",
    "\n",
    "    Args:\n",
    "        df (pandas.DataFrame): The binary tree represented as a DataFrame.\n",
    "        style (str, optional): The formatting style to apply. Defaults to '{:.2f}'.\n",
    "\n",
    "    Returns:\n",
    "        pandas.io.formats.style.Styler: The formatted binary tree.\n",
    "    \"\"\"\n",
    "    return df.style.format(style, na_rep='').format_index('{:.2f}', axis=1)\n",
    "\n",
    "def estimate_pstar(quotes,ratetree,style='european'):\n",
    "    \"\"\"\n",
    "    Estimates the pstar values for each time step in the ratetree.\n",
    "\n",
    "    Parameters:\n",
    "    - quotes (DataFrame): DataFrame containing quotes data.\n",
    "    - ratetree (DataFrame): DataFrame representing the rate tree.\n",
    "    - style (str): Style of the option (default is 'european').\n",
    "\n",
    "    Returns:\n",
    "    - pstars (Series): Series containing the estimated pstar values.\n",
    "    \"\"\"\n",
    "    pstars = pd.Series(dtype=float, index= ratetree.columns[:-1], name='pstar')\n",
    "    p0 = .5\n",
    "    \n",
    "    for steps_forward, t in enumerate(ratetree.columns[1:]):        \n",
    "        ratetreeT = ratetree.copy().loc[:,:t].dropna(axis=0,how='all')\n",
    "        t_prev = ratetreeT.columns[steps_forward]\n",
    "        \n",
    "        pstars_solved = pstars.loc[:t_prev].iloc[:-1]\n",
    "        wrapper_fun = lambda p: bond_price_error(quotes['price'].iloc[steps_forward+1], pd.concat([pstars_solved, pd.Series(p,index=[t_prev])]), ratetreeT, style=style)\n",
    "\n",
    "        pstars[t_prev] = fsolve(wrapper_fun,p0)[0]\n",
    "\n",
    "    return pstars\n",
    "\n",
    "def bond_price_error(quote, pstars, ratetree, style='european'):\n",
    "    \"\"\"\n",
    "    Calculates the error between the model price and the given quote for a bond.\n",
    "\n",
    "    Parameters:\n",
    "    quote (float): The quoted price of the bond.\n",
    "    pstars (list): List of probabilities for the binomial tree.\n",
    "    ratetree (DataFrame): DataFrame representing the interest rate tree.\n",
    "    style (str, optional): The style of the option. Defaults to 'european'.\n",
    "\n",
    "    Returns:\n",
    "    float: The error between the model price and the quote.\n",
    "    \"\"\"\n",
    "    FACEVALUE = 100\n",
    "    dt = ratetree.columns[1] - ratetree.columns[0]    \n",
    "    payoff = lambda r: payoff_bond(r,dt)\n",
    "    modelprice = bintree_pricing(payoff, ratetree, pstars=pstars, style=style).loc[0,0]\n",
    "    error = modelprice - quote\n",
    "\n",
    "    return error\n",
    "\n",
    "\n",
    "def payoff_bond(r, dt, facevalue=100):\n",
    "    \"\"\"\n",
    "    Calculates the payoff of a bond.\n",
    "\n",
    "    Parameters:\n",
    "    - r (float): The interest rate.\n",
    "    - dt (float): The time period.\n",
    "    - facevalue (float, optional): The face value of the bond. Default is 100.\n",
    "\n",
    "    Returns:\n",
    "    - price (float): The calculated bond price.\n",
    "    \"\"\"\n",
    "    price = np.exp(-r * dt) * facevalue\n",
    "    return price\n",
    "\n",
    "def bintree_pricing(payoff=None, ratetree=None, undertree=None, cftree=None, dt=None, pstars=None, timing=None, cfdelay=False, style='european', Tamerican=0):\n",
    "    \"\"\"\n",
    "    Calculates the pricing of an option using a binomial tree model.\n",
    "\n",
    "    Parameters:\n",
    "    - payoff (function): The payoff function of the option. Default is None.\n",
    "    - ratetree (DataFrame): The interest rate tree. Default is None.\n",
    "    - undertree (DataFrame): The underlying asset price tree. Default is None.\n",
    "    - cftree (DataFrame): The cash flow tree. Default is None.\n",
    "    - dt (float): The time step size. Default is None.\n",
    "    - pstars (Series): The probability of up movement in the binomial tree. Default is None.\n",
    "    - timing (str): The timing of the cash flows. Default is None.\n",
    "    - cfdelay (bool): Whether to delay the cash flows. Default is False.\n",
    "    - style (str): The option style. Default is 'european'.\n",
    "    - Tamerican (float): The time at which the option becomes American style. Default is 0.\n",
    "\n",
    "    Returns:\n",
    "    - valuetree (DataFrame): The tree of option values at each node.\n",
    "    \"\"\"\n",
    "    \n",
    "    if payoff is None:\n",
    "        payoff = lambda r: 0\n",
    "    \n",
    "    if undertree is None:\n",
    "        undertree = ratetree\n",
    "        \n",
    "    if cftree is None:\n",
    "        cftree = pd.DataFrame(0, index=undertree.index, columns=undertree.columns)\n",
    "        \n",
    "    if pstars is None:\n",
    "        pstars = pd.Series(.5, index=undertree.columns)\n",
    "\n",
    "    if dt is None:\n",
    "        dt = undertree.columns.to_series().diff().mean()\n",
    "        dt = undertree.columns[1]-undertree.columns[0]\n",
    "    \n",
    "    if timing == 'deferred':\n",
    "        cfdelay = True\n",
    "    \n",
    "    if dt<.25 and cfdelay:\n",
    "        display('Warning: cfdelay setting only delays by dt.')\n",
    "        \n",
    "    valuetree = pd.DataFrame(dtype=float, index=undertree.index, columns=undertree.columns)\n",
    "\n",
    "    for steps_back, t in enumerate(valuetree.columns[-1::-1]):\n",
    "        if steps_back==0:                           \n",
    "            valuetree[t] = payoff(undertree[t])\n",
    "            if cfdelay:\n",
    "                valuetree[t] *= np.exp(-ratetree[t]*dt)\n",
    "        else:\n",
    "            for state in valuetree[t].index[:-1]:\n",
    "                val_avg = pstars[t] * valuetree.iloc[state,-steps_back] + (1-pstars[t]) * valuetree.iloc[state+1,-steps_back]\n",
    "                \n",
    "                if cfdelay:\n",
    "                    cf = cftree.loc[state,t]\n",
    "                else:                    \n",
    "                    cf = cftree.iloc[state,-steps_back]\n",
    "                \n",
    "                valuetree.loc[state,t] = np.exp(-ratetree.loc[state,t]*dt) * (val_avg + cf)\n",
    "\n",
    "            if style=='american':\n",
    "                if t>= Tamerican:\n",
    "                    valuetree.loc[:,t] = np.maximum(valuetree.loc[:,t],payoff(undertree.loc[:,t]))\n",
    "        \n",
    "    return valuetree"
   ]
  },
  {
   "cell_type": "markdown",
   "id": "0e57d389",
   "metadata": {},
   "source": [
    "# 2. Using the Swap as the Underlying\n",
    "As in the note, W.1, consider pricing the following interest-rate option,\n",
    "* Payoff is $100\\max(r_K-r_1,0)$\n",
    "* strike is $r_K$ is 2\\%\n",
    "* expires at period 1, ($t=0.5$) \n",
    "\n",
    "Unlike the note, price it with the swap used as the underlying, not the two-period ($t=1$) bond. You will once again use the period-1 ($t=0.5$) bond as the cash account for the no-arbitrage pricing.\n",
    "\n",
    "So instead of replicating the option with the two treasuries, now you're replicating/pricing it with a one-period bond and two-period swap."
   ]
  },
  {
   "cell_type": "code",
   "execution_count": 130,
   "id": "2d230343",
   "metadata": {},
   "outputs": [],
   "source": [
    "EXPIRATION = .5\n",
    "STRIKE = .02\n",
    "payoff = lambda r: FACE * np.maximum(STRIKE - r,0)"
   ]
  },
  {
   "cell_type": "markdown",
   "id": "e933b1a7",
   "metadata": {},
   "source": [
    "### 2.1\n",
    "Display the tree of swap prices.\n"
   ]
  },
  {
   "cell_type": "code",
   "execution_count": 131,
   "id": "39ddfae9",
   "metadata": {},
   "outputs": [
    {
     "data": {
      "text/html": [
       "<style type=\"text/css\">\n",
       "</style>\n",
       "<table id=\"T_51a35\">\n",
       "  <thead>\n",
       "    <tr>\n",
       "      <th class=\"index_name level0\" >time $t$</th>\n",
       "      <th id=\"T_51a35_level0_col0\" class=\"col_heading level0 col0\" >0.0</th>\n",
       "      <th id=\"T_51a35_level0_col1\" class=\"col_heading level0 col1\" >0.5</th>\n",
       "    </tr>\n",
       "    <tr>\n",
       "      <th class=\"index_name level0\" >state</th>\n",
       "      <th class=\"blank col0\" >&nbsp;</th>\n",
       "      <th class=\"blank col1\" >&nbsp;</th>\n",
       "    </tr>\n",
       "  </thead>\n",
       "  <tbody>\n",
       "    <tr>\n",
       "      <th id=\"T_51a35_level0_row0\" class=\"row_heading level0 row0\" >0</th>\n",
       "      <td id=\"T_51a35_row0_col0\" class=\"data row0 col0\" >0.2595</td>\n",
       "      <td id=\"T_51a35_row0_col1\" class=\"data row0 col1\" >0.6950</td>\n",
       "    </tr>\n",
       "    <tr>\n",
       "      <th id=\"T_51a35_level0_row1\" class=\"row_heading level0 row1\" >1</th>\n",
       "      <td id=\"T_51a35_row1_col0\" class=\"data row1 col0\" >nan</td>\n",
       "      <td id=\"T_51a35_row1_col1\" class=\"data row1 col1\" >-0.5250</td>\n",
       "    </tr>\n",
       "  </tbody>\n",
       "</table>\n"
      ],
      "text/plain": [
       "<pandas.io.formats.style.Styler at 0x15cff9e80>"
      ]
     },
     "execution_count": 131,
     "metadata": {},
     "output_type": "execute_result"
    }
   ],
   "source": [
    "swap_tree.style.format('{:.4f}').format_index('{:.1f}', axis=1)"
   ]
  },
  {
   "cell_type": "markdown",
   "id": "9749f6ff",
   "metadata": {},
   "source": [
    "\n",
    "### 2.2\n",
    "What is the risk-neutral probability of an upward movement at $t=.5$ implied by the underlying swap tree? \n",
    "\n",
    "Is this the same as the risk-neutral probability we found when the bond was used as the underlying?\n"
   ]
  },
  {
   "cell_type": "code",
   "execution_count": 132,
   "id": "a30dfead",
   "metadata": {},
   "outputs": [
    {
     "data": {
      "text/html": [
       "<style type=\"text/css\">\n",
       "</style>\n",
       "<table id=\"T_060ae\">\n",
       "  <thead>\n",
       "    <tr>\n",
       "      <th class=\"index_name level0\" >time $t$</th>\n",
       "      <th id=\"T_060ae_level0_col0\" class=\"col_heading level0 col0\" >0.00</th>\n",
       "    </tr>\n",
       "  </thead>\n",
       "  <tbody>\n",
       "    <tr>\n",
       "      <th id=\"T_060ae_level0_row0\" class=\"row_heading level0 row0\" >pstar</th>\n",
       "      <td id=\"T_060ae_row0_col0\" class=\"data row0 col0\" >64.49%</td>\n",
       "    </tr>\n",
       "  </tbody>\n",
       "</table>\n"
      ],
      "text/plain": [
       "<pandas.io.formats.style.Styler at 0x15cf6d8b0>"
      ]
     },
     "execution_count": 132,
     "metadata": {},
     "output_type": "execute_result"
    }
   ],
   "source": [
    "pstars = estimate_pstar(term_struct.loc[:rate_tree.index[-1], ['price']], rate_tree)\n",
    "format_bintree(pstars.to_frame().T, style='{:.2%}')"
   ]
  },
  {
   "cell_type": "markdown",
   "id": "00a7bf53",
   "metadata": {},
   "source": [
    "\n",
    "### 2.3\n",
    "What is the price of the rate option? Is it the same as we calculated in the note, W.1.?"
   ]
  },
  {
   "cell_type": "markdown",
   "id": "ae363965",
   "metadata": {},
   "source": [
    "#### Method 1: Direct Calculation Using Swap Tree\n",
    "Logic is calculating the payoff at expiration and discounting back to the present."
   ]
  },
  {
   "cell_type": "code",
   "execution_count": 133,
   "id": "fcf65ae2",
   "metadata": {},
   "outputs": [
    {
     "data": {
      "text/html": [
       "<style type=\"text/css\">\n",
       "</style>\n",
       "<table id=\"T_e589e\">\n",
       "  <thead>\n",
       "    <tr>\n",
       "      <th class=\"index_name level0\" >time $t$</th>\n",
       "      <th id=\"T_e589e_level0_col0\" class=\"col_heading level0 col0\" >0.00</th>\n",
       "      <th id=\"T_e589e_level0_col1\" class=\"col_heading level0 col1\" >0.50</th>\n",
       "    </tr>\n",
       "    <tr>\n",
       "      <th class=\"index_name level0\" >state</th>\n",
       "      <th class=\"blank col0\" >&nbsp;</th>\n",
       "      <th class=\"blank col1\" >&nbsp;</th>\n",
       "    </tr>\n",
       "  </thead>\n",
       "  <tbody>\n",
       "    <tr>\n",
       "      <th id=\"T_e589e_level0_row0\" class=\"row_heading level0 row0\" >0</th>\n",
       "      <td id=\"T_e589e_row0_col0\" class=\"data row0 col0\" >0.3697</td>\n",
       "      <td id=\"T_e589e_row0_col1\" class=\"data row0 col1\" >0.0000</td>\n",
       "    </tr>\n",
       "    <tr>\n",
       "      <th id=\"T_e589e_level0_row1\" class=\"row_heading level0 row1\" >1</th>\n",
       "      <td id=\"T_e589e_row1_col0\" class=\"data row1 col0\" ></td>\n",
       "      <td id=\"T_e589e_row1_col1\" class=\"data row1 col1\" >1.0500</td>\n",
       "    </tr>\n",
       "  </tbody>\n",
       "</table>\n"
      ],
      "text/plain": [
       "<pandas.io.formats.style.Styler at 0x15cff8e60>"
      ]
     },
     "execution_count": 133,
     "metadata": {},
     "output_type": "execute_result"
    }
   ],
   "source": [
    "floorlet_tree = pd.DataFrame(dtype=float, columns=rate_tree.columns, index=rate_tree.index)\n",
    "floorlet_tree[EXPIRATION] = payoff(rate_tree[EXPIRATION])\n",
    "floorlet_tree.loc[0,0] = Z * np.array([pstar, 1-pstar])@floorlet_tree[EXPIRATION] #discounted expected value\n",
    "format_bintree(floorlet_tree,style='{:.4f}')"
   ]
  },
  {
   "cell_type": "markdown",
   "id": "a74b58b6",
   "metadata": {},
   "source": [
    "#### Method 2: Using `bintree_pricing` Function\n"
   ]
  },
  {
   "cell_type": "code",
   "execution_count": 134,
   "id": "34ebf952",
   "metadata": {},
   "outputs": [
    {
     "data": {
      "text/html": [
       "<style type=\"text/css\">\n",
       "</style>\n",
       "<table id=\"T_232e0\">\n",
       "  <thead>\n",
       "    <tr>\n",
       "      <th class=\"index_name level0\" >time $t$</th>\n",
       "      <th id=\"T_232e0_level0_col0\" class=\"col_heading level0 col0\" >0.00</th>\n",
       "      <th id=\"T_232e0_level0_col1\" class=\"col_heading level0 col1\" >0.50</th>\n",
       "    </tr>\n",
       "    <tr>\n",
       "      <th class=\"index_name level0\" >state</th>\n",
       "      <th class=\"blank col0\" >&nbsp;</th>\n",
       "      <th class=\"blank col1\" >&nbsp;</th>\n",
       "    </tr>\n",
       "  </thead>\n",
       "  <tbody>\n",
       "    <tr>\n",
       "      <th id=\"T_232e0_level0_row0\" class=\"row_heading level0 row0\" >0</th>\n",
       "      <td id=\"T_232e0_row0_col0\" class=\"data row0 col0\" >0.3697</td>\n",
       "      <td id=\"T_232e0_row0_col1\" class=\"data row0 col1\" >0.0000</td>\n",
       "    </tr>\n",
       "    <tr>\n",
       "      <th id=\"T_232e0_level0_row1\" class=\"row_heading level0 row1\" >1</th>\n",
       "      <td id=\"T_232e0_row1_col0\" class=\"data row1 col0\" ></td>\n",
       "      <td id=\"T_232e0_row1_col1\" class=\"data row1 col1\" >1.0500</td>\n",
       "    </tr>\n",
       "  </tbody>\n",
       "</table>\n"
      ],
      "text/plain": [
       "<pandas.io.formats.style.Styler at 0x15d08baa0>"
      ]
     },
     "execution_count": 134,
     "metadata": {},
     "output_type": "execute_result"
    }
   ],
   "source": [
    "derivtree = bintree_pricing(payoff, rate_tree, pstars=pstars)\n",
    "format_bintree(derivtree,style='{:.4f}')"
   ]
  },
  {
   "cell_type": "markdown",
   "id": "dff33d6b",
   "metadata": {},
   "source": [
    "#### Extension: Replicating Portfolio"
   ]
  },
  {
   "cell_type": "code",
   "execution_count": 135,
   "id": "8bfe7be2",
   "metadata": {},
   "outputs": [
    {
     "data": {
      "text/html": [
       "<style type=\"text/css\">\n",
       "</style>\n",
       "<table id=\"T_e9911\">\n",
       "  <thead>\n",
       "    <tr>\n",
       "      <th class=\"blank level0\" >&nbsp;</th>\n",
       "      <th id=\"T_e9911_level0_col0\" class=\"col_heading level0 col0\" >positions</th>\n",
       "      <th id=\"T_e9911_level0_col1\" class=\"col_heading level0 col1\" >value</th>\n",
       "    </tr>\n",
       "  </thead>\n",
       "  <tbody>\n",
       "    <tr>\n",
       "      <th id=\"T_e9911_level0_row0\" class=\"row_heading level0 row0\" >cash</th>\n",
       "      <td id=\"T_e9911_row0_col0\" class=\"data row0 col0\" >0.0060</td>\n",
       "      <td id=\"T_e9911_row0_col1\" class=\"data row0 col1\" >99.1338</td>\n",
       "    </tr>\n",
       "    <tr>\n",
       "      <th id=\"T_e9911_level0_row1\" class=\"row_heading level0 row1\" >under</th>\n",
       "      <td id=\"T_e9911_row1_col0\" class=\"data row1 col0\" >-0.8607</td>\n",
       "      <td id=\"T_e9911_row1_col1\" class=\"data row1 col1\" >0.2595</td>\n",
       "    </tr>\n",
       "    <tr>\n",
       "      <th id=\"T_e9911_level0_row2\" class=\"row_heading level0 row2\" >derivative</th>\n",
       "      <td id=\"T_e9911_row2_col0\" class=\"data row2 col0\" >nan</td>\n",
       "      <td id=\"T_e9911_row2_col1\" class=\"data row2 col1\" >0.3697</td>\n",
       "    </tr>\n",
       "  </tbody>\n",
       "</table>\n"
      ],
      "text/plain": [
       "<pandas.io.formats.style.Styler at 0x15cff8fb0>"
      ]
     },
     "execution_count": 135,
     "metadata": {},
     "output_type": "execute_result"
    }
   ],
   "source": [
    "replicating_port([term_struct.loc[.5,'price'],swap_tree.loc[0,0]], swap_tree, floorlet_tree, dt=.5).style.format('{:.4f}')"
   ]
  },
  {
   "cell_type": "markdown",
   "id": "2360f491",
   "metadata": {},
   "source": [
    "# 3. Pricing a Call on a Bond\n",
    "\n",
    "Try using the same tree to price a call on the period-2 bond, (1-year), at period 1 (6-months).\n",
    "* Payoff = $\\max(P_{1|2}-K,0)$\n",
    "* Strike = \\$99.00\n"
   ]
  },
  {
   "cell_type": "code",
   "execution_count": 136,
   "id": "d2a3663c",
   "metadata": {},
   "outputs": [],
   "source": [
    "payoff = lambda p: np.maximum(p-STRIKE,0)\n",
    "STRIKE = 99\n",
    "EXPIRATION = .5"
   ]
  },
  {
   "cell_type": "markdown",
   "id": "9df98f21",
   "metadata": {},
   "source": [
    "\n",
    "### 3.1 \n",
    "What is the replicating trade using the two bonds (period 1 and period 2) as above? (That is, we are no longer using the swap as the underlying.)\n"
   ]
  },
  {
   "cell_type": "markdown",
   "id": "e2f604c0",
   "metadata": {},
   "source": [
    "\n",
    "### 3.2 \n",
    "What is the price of the European call option? \n",
    "* expiring at $T=.5$ \n",
    "* written on the bond maturing in 2 periods, ($t=1$)"
   ]
  },
  {
   "cell_type": "code",
   "execution_count": 137,
   "id": "70189af0",
   "metadata": {},
   "outputs": [
    {
     "data": {
      "text/html": [
       "<style type=\"text/css\">\n",
       "</style>\n",
       "<table id=\"T_1d853\">\n",
       "  <thead>\n",
       "    <tr>\n",
       "      <th class=\"index_name level0\" >time $t$</th>\n",
       "      <th id=\"T_1d853_level0_col0\" class=\"col_heading level0 col0\" >0.00</th>\n",
       "    </tr>\n",
       "  </thead>\n",
       "  <tbody>\n",
       "    <tr>\n",
       "      <th id=\"T_1d853_level0_row0\" class=\"row_heading level0 row0\" >pstar</th>\n",
       "      <td id=\"T_1d853_row0_col0\" class=\"data row0 col0\" >64.49%</td>\n",
       "    </tr>\n",
       "  </tbody>\n",
       "</table>\n"
      ],
      "text/plain": [
       "<pandas.io.formats.style.Styler at 0x15af52a50>"
      ]
     },
     "execution_count": 137,
     "metadata": {},
     "output_type": "execute_result"
    }
   ],
   "source": [
    "pstars = estimate_pstar(term_struct.loc[:rate_tree.index[-1],['price']],rate_tree)\n",
    "format_bintree(pstars.to_frame().T, style='{:.2%}')"
   ]
  },
  {
   "cell_type": "markdown",
   "id": "a20fbdc4",
   "metadata": {},
   "source": [
    "#### Price of Euro Call Option Using Function:"
   ]
  },
  {
   "cell_type": "code",
   "execution_count": 138,
   "id": "dcdb9b20",
   "metadata": {},
   "outputs": [
    {
     "data": {
      "text/html": [
       "<style type=\"text/css\">\n",
       "</style>\n",
       "<table id=\"T_7e014\">\n",
       "  <thead>\n",
       "    <tr>\n",
       "      <th class=\"index_name level0\" >time $t$</th>\n",
       "      <th id=\"T_7e014_level0_col0\" class=\"col_heading level0 col0\" >0.00</th>\n",
       "      <th id=\"T_7e014_level0_col1\" class=\"col_heading level0 col1\" >0.50</th>\n",
       "    </tr>\n",
       "    <tr>\n",
       "      <th class=\"index_name level0\" >state</th>\n",
       "      <th class=\"blank col0\" >&nbsp;</th>\n",
       "      <th class=\"blank col1\" >&nbsp;</th>\n",
       "    </tr>\n",
       "  </thead>\n",
       "  <tbody>\n",
       "    <tr>\n",
       "      <th id=\"T_7e014_level0_row0\" class=\"row_heading level0 row0\" >0</th>\n",
       "      <td id=\"T_7e014_row0_col0\" class=\"data row0 col0\" >0.1852</td>\n",
       "      <td id=\"T_7e014_row0_col1\" class=\"data row0 col1\" >0.0000</td>\n",
       "    </tr>\n",
       "    <tr>\n",
       "      <th id=\"T_7e014_level0_row1\" class=\"row_heading level0 row1\" >1</th>\n",
       "      <td id=\"T_7e014_row1_col0\" class=\"data row1 col0\" ></td>\n",
       "      <td id=\"T_7e014_row1_col1\" class=\"data row1 col1\" >0.5261</td>\n",
       "    </tr>\n",
       "  </tbody>\n",
       "</table>\n"
      ],
      "text/plain": [
       "<pandas.io.formats.style.Styler at 0x15d0cba40>"
      ]
     },
     "execution_count": 138,
     "metadata": {},
     "output_type": "execute_result"
    }
   ],
   "source": [
    "derivtree = bintree_pricing(payoff, rate_tree, undertree=bond_tree, pstars=pstars)\n",
    "format_bintree(derivtree,style='{:.4f}')"
   ]
  },
  {
   "cell_type": "markdown",
   "id": "57a0ca35",
   "metadata": {},
   "source": [
    "#### Replicating Portfolio:"
   ]
  },
  {
   "cell_type": "code",
   "execution_count": 139,
   "id": "401f231f",
   "metadata": {},
   "outputs": [
    {
     "data": {
      "text/html": [
       "<style type=\"text/css\">\n",
       "</style>\n",
       "<table id=\"T_c1bf6\">\n",
       "  <thead>\n",
       "    <tr>\n",
       "      <th class=\"blank level0\" >&nbsp;</th>\n",
       "      <th id=\"T_c1bf6_level0_col0\" class=\"col_heading level0 col0\" >positions</th>\n",
       "      <th id=\"T_c1bf6_level0_col1\" class=\"col_heading level0 col1\" >value</th>\n",
       "    </tr>\n",
       "  </thead>\n",
       "  <tbody>\n",
       "    <tr>\n",
       "      <th id=\"T_c1bf6_level0_row0\" class=\"row_heading level0 row0\" >cash</th>\n",
       "      <td id=\"T_c1bf6_row0_col0\" class=\"data row0 col0\" >-0.4286</td>\n",
       "      <td id=\"T_c1bf6_row0_col1\" class=\"data row0 col1\" >99.1338</td>\n",
       "    </tr>\n",
       "    <tr>\n",
       "      <th id=\"T_c1bf6_level0_row1\" class=\"row_heading level0 row1\" >under</th>\n",
       "      <td id=\"T_c1bf6_row1_col0\" class=\"data row1 col0\" >0.4360</td>\n",
       "      <td id=\"T_c1bf6_row1_col1\" class=\"data row1 col1\" >97.8925</td>\n",
       "    </tr>\n",
       "    <tr>\n",
       "      <th id=\"T_c1bf6_level0_row2\" class=\"row_heading level0 row2\" >derivative</th>\n",
       "      <td id=\"T_c1bf6_row2_col0\" class=\"data row2 col0\" >nan</td>\n",
       "      <td id=\"T_c1bf6_row2_col1\" class=\"data row2 col1\" >0.1852</td>\n",
       "    </tr>\n",
       "  </tbody>\n",
       "</table>\n"
      ],
      "text/plain": [
       "<pandas.io.formats.style.Styler at 0x15cff9520>"
      ]
     },
     "execution_count": 139,
     "metadata": {},
     "output_type": "execute_result"
    }
   ],
   "source": [
    "replicating_port(term_struct.loc[[.5,1],'price'].values, bond_tree, derivtree, dt=.5).style.format('{:.4f}')"
   ]
  },
  {
   "cell_type": "markdown",
   "id": "4db6785c",
   "metadata": {},
   "source": [
    "# 4 Two-Period Tree\n",
    "\n",
    "Consider an expanded, **2 period** tree. (Two periods of uncertainty, so with the starting point, three periods total.)"
   ]
  },
  {
   "cell_type": "code",
   "execution_count": 140,
   "id": "484577f2",
   "metadata": {},
   "outputs": [
    {
     "data": {
      "text/html": [
       "<style type=\"text/css\">\n",
       "</style>\n",
       "<table id=\"T_55734\">\n",
       "  <thead>\n",
       "    <tr>\n",
       "      <th class=\"index_name level0\" >time $t$</th>\n",
       "      <th id=\"T_55734_level0_col0\" class=\"col_heading level0 col0\" >0.000000</th>\n",
       "      <th id=\"T_55734_level0_col1\" class=\"col_heading level0 col1\" >0.500000</th>\n",
       "      <th id=\"T_55734_level0_col2\" class=\"col_heading level0 col2\" >1.000000</th>\n",
       "    </tr>\n",
       "    <tr>\n",
       "      <th class=\"index_name level0\" >node</th>\n",
       "      <th class=\"blank col0\" >&nbsp;</th>\n",
       "      <th class=\"blank col1\" >&nbsp;</th>\n",
       "      <th class=\"blank col2\" >&nbsp;</th>\n",
       "    </tr>\n",
       "  </thead>\n",
       "  <tbody>\n",
       "    <tr>\n",
       "      <th id=\"T_55734_level0_row0\" class=\"row_heading level0 row0\" >0</th>\n",
       "      <td id=\"T_55734_row0_col0\" class=\"data row0 col0\" >1.74%</td>\n",
       "      <td id=\"T_55734_row0_col1\" class=\"data row0 col1\" >3.39%</td>\n",
       "      <td id=\"T_55734_row0_col2\" class=\"data row0 col2\" >5.00%</td>\n",
       "    </tr>\n",
       "    <tr>\n",
       "      <th id=\"T_55734_level0_row1\" class=\"row_heading level0 row1\" >1</th>\n",
       "      <td id=\"T_55734_row1_col0\" class=\"data row1 col0\" ></td>\n",
       "      <td id=\"T_55734_row1_col1\" class=\"data row1 col1\" >0.95%</td>\n",
       "      <td id=\"T_55734_row1_col2\" class=\"data row1 col2\" >2.56%</td>\n",
       "    </tr>\n",
       "    <tr>\n",
       "      <th id=\"T_55734_level0_row2\" class=\"row_heading level0 row2\" >2</th>\n",
       "      <td id=\"T_55734_row2_col0\" class=\"data row2 col0\" ></td>\n",
       "      <td id=\"T_55734_row2_col1\" class=\"data row2 col1\" ></td>\n",
       "      <td id=\"T_55734_row2_col2\" class=\"data row2 col2\" >0.11%</td>\n",
       "    </tr>\n",
       "  </tbody>\n",
       "</table>\n"
      ],
      "text/plain": [
       "<pandas.io.formats.style.Styler at 0x15cffa1e0>"
      ]
     },
     "execution_count": 140,
     "metadata": {},
     "output_type": "execute_result"
    }
   ],
   "source": [
    "new_col = pd.Series([.05,.0256,.0011],name='1')\n",
    "rate_tree_multi = pd.concat([rate_tree,new_col],ignore_index=True,axis=1)\n",
    "rate_tree_multi.columns = pd.Series([0,0.5,1],name='time $t$')\n",
    "rate_tree_multi.index.name = 'node'\n",
    "rate_tree_multi.style.format('{:.2%}',na_rep='')"
   ]
  },
  {
   "cell_type": "markdown",
   "id": "7e454eb1",
   "metadata": {},
   "source": [
    "### 4.1\n",
    "\n",
    "Calculate and show the tree of prices for the 3-period bond, $T=1.5$.\n"
   ]
  },
  {
   "cell_type": "code",
   "execution_count": 141,
   "id": "9f6b1834",
   "metadata": {},
   "outputs": [
    {
     "data": {
      "text/html": [
       "<style type=\"text/css\">\n",
       "</style>\n",
       "<table id=\"T_cccfd\">\n",
       "  <thead>\n",
       "    <tr>\n",
       "      <th class=\"index_name level0\" >time $t$</th>\n",
       "      <th id=\"T_cccfd_level0_col0\" class=\"col_heading level0 col0\" >0.00</th>\n",
       "      <th id=\"T_cccfd_level0_col1\" class=\"col_heading level0 col1\" >0.50</th>\n",
       "      <th id=\"T_cccfd_level0_col2\" class=\"col_heading level0 col2\" >1.00</th>\n",
       "    </tr>\n",
       "    <tr>\n",
       "      <th class=\"index_name level0\" >node</th>\n",
       "      <th class=\"blank col0\" >&nbsp;</th>\n",
       "      <th class=\"blank col1\" >&nbsp;</th>\n",
       "      <th class=\"blank col2\" >&nbsp;</th>\n",
       "    </tr>\n",
       "  </thead>\n",
       "  <tbody>\n",
       "    <tr>\n",
       "      <th id=\"T_cccfd_level0_row0\" class=\"row_heading level0 row0\" >0</th>\n",
       "      <td id=\"T_cccfd_row0_col0\" class=\"data row0 col0\" >96.1462</td>\n",
       "      <td id=\"T_cccfd_row0_col1\" class=\"data row0 col1\" >96.1426</td>\n",
       "      <td id=\"T_cccfd_row0_col2\" class=\"data row0 col2\" >97.5310</td>\n",
       "    </tr>\n",
       "    <tr>\n",
       "      <th id=\"T_cccfd_level0_row1\" class=\"row_heading level0 row1\" >1</th>\n",
       "      <td id=\"T_cccfd_row1_col0\" class=\"data row1 col0\" ></td>\n",
       "      <td id=\"T_cccfd_row1_col1\" class=\"data row1 col1\" >98.5184</td>\n",
       "      <td id=\"T_cccfd_row1_col2\" class=\"data row1 col2\" >98.7282</td>\n",
       "    </tr>\n",
       "    <tr>\n",
       "      <th id=\"T_cccfd_level0_row2\" class=\"row_heading level0 row2\" >2</th>\n",
       "      <td id=\"T_cccfd_row2_col0\" class=\"data row2 col0\" ></td>\n",
       "      <td id=\"T_cccfd_row2_col1\" class=\"data row2 col1\" ></td>\n",
       "      <td id=\"T_cccfd_row2_col2\" class=\"data row2 col2\" >99.9450</td>\n",
       "    </tr>\n",
       "  </tbody>\n",
       "</table>\n"
      ],
      "text/plain": [
       "<pandas.io.formats.style.Styler at 0x15d08ae70>"
      ]
     },
     "execution_count": 141,
     "metadata": {},
     "output_type": "execute_result"
    }
   ],
   "source": [
    "pstars = estimate_pstar(term_struct,rate_tree_multi)\n",
    "\n",
    "payoff = lambda r: payoff_bond(r,dt)\n",
    "\n",
    "bondtree_multi = bintree_pricing(payoff, ratetree=rate_tree_multi, pstars=pstars)\n",
    "format_bintree(bondtree_multi, style='{:.4f}')"
   ]
  },
  {
   "cell_type": "markdown",
   "id": "693af371",
   "metadata": {},
   "source": [
    "\n",
    "### 4.2\n",
    "Report the risk-neutral probability of an up movement at $t=1$.\n",
    "\n",
    "(The risk-neutral probability of an up movement at $t=0.5$ continues to be as you calculated in 2.3.\n"
   ]
  },
  {
   "cell_type": "code",
   "execution_count": 142,
   "id": "7b3bbc53",
   "metadata": {},
   "outputs": [
    {
     "data": {
      "text/html": [
       "<style type=\"text/css\">\n",
       "</style>\n",
       "<table id=\"T_7ffbe\">\n",
       "  <thead>\n",
       "    <tr>\n",
       "      <th class=\"index_name level0\" >time $t$</th>\n",
       "      <th id=\"T_7ffbe_level0_col0\" class=\"col_heading level0 col0\" >0.00</th>\n",
       "      <th id=\"T_7ffbe_level0_col1\" class=\"col_heading level0 col1\" >0.50</th>\n",
       "    </tr>\n",
       "  </thead>\n",
       "  <tbody>\n",
       "    <tr>\n",
       "      <th id=\"T_7ffbe_level0_row0\" class=\"row_heading level0 row0\" >pstar</th>\n",
       "      <td id=\"T_7ffbe_row0_col0\" class=\"data row0 col0\" >64.49%</td>\n",
       "      <td id=\"T_7ffbe_row0_col1\" class=\"data row0 col1\" >78.69%</td>\n",
       "    </tr>\n",
       "  </tbody>\n",
       "</table>\n"
      ],
      "text/plain": [
       "<pandas.io.formats.style.Styler at 0x15cfaeba0>"
      ]
     },
     "execution_count": 142,
     "metadata": {},
     "output_type": "execute_result"
    }
   ],
   "source": [
    "format_bintree(pstars.to_frame().T, style='{:.2%}')"
   ]
  },
  {
   "cell_type": "markdown",
   "id": "504edf4b",
   "metadata": {},
   "source": [
    "\n",
    "### 4.3\n",
    "Calculate the price of the European **call** option?\n",
    "* expiring at $T=1$ \n",
    "* written on the bond maturing in 3 periods, ($t=1.5$)\n"
   ]
  },
  {
   "cell_type": "markdown",
   "id": "52e13aa2",
   "metadata": {},
   "source": [
    "Note: Assuming strike = 99"
   ]
  },
  {
   "cell_type": "markdown",
   "id": "41dc393e",
   "metadata": {},
   "source": [
    "#### Euro Call Price:"
   ]
  },
  {
   "cell_type": "code",
   "execution_count": 143,
   "id": "dfe704e9",
   "metadata": {},
   "outputs": [
    {
     "data": {
      "text/html": [
       "<style type=\"text/css\">\n",
       "</style>\n",
       "<table id=\"T_1f083\">\n",
       "  <thead>\n",
       "    <tr>\n",
       "      <th class=\"index_name level0\" >time $t$</th>\n",
       "      <th id=\"T_1f083_level0_col0\" class=\"col_heading level0 col0\" >0.00</th>\n",
       "      <th id=\"T_1f083_level0_col1\" class=\"col_heading level0 col1\" >0.50</th>\n",
       "      <th id=\"T_1f083_level0_col2\" class=\"col_heading level0 col2\" >1.00</th>\n",
       "    </tr>\n",
       "    <tr>\n",
       "      <th class=\"index_name level0\" >node</th>\n",
       "      <th class=\"blank col0\" >&nbsp;</th>\n",
       "      <th class=\"blank col1\" >&nbsp;</th>\n",
       "      <th class=\"blank col2\" >&nbsp;</th>\n",
       "    </tr>\n",
       "  </thead>\n",
       "  <tbody>\n",
       "    <tr>\n",
       "      <th id=\"T_1f083_level0_row0\" class=\"row_heading level0 row0\" >0</th>\n",
       "      <td id=\"T_1f083_row0_col0\" class=\"data row0 col0\" >0.0706</td>\n",
       "      <td id=\"T_1f083_row0_col1\" class=\"data row0 col1\" >0.0000</td>\n",
       "      <td id=\"T_1f083_row0_col2\" class=\"data row0 col2\" >0.0000</td>\n",
       "    </tr>\n",
       "    <tr>\n",
       "      <th id=\"T_1f083_level0_row1\" class=\"row_heading level0 row1\" >1</th>\n",
       "      <td id=\"T_1f083_row1_col0\" class=\"data row1 col0\" ></td>\n",
       "      <td id=\"T_1f083_row1_col1\" class=\"data row1 col1\" >0.2004</td>\n",
       "      <td id=\"T_1f083_row1_col2\" class=\"data row1 col2\" >0.0000</td>\n",
       "    </tr>\n",
       "    <tr>\n",
       "      <th id=\"T_1f083_level0_row2\" class=\"row_heading level0 row2\" >2</th>\n",
       "      <td id=\"T_1f083_row2_col0\" class=\"data row2 col0\" ></td>\n",
       "      <td id=\"T_1f083_row2_col1\" class=\"data row2 col1\" ></td>\n",
       "      <td id=\"T_1f083_row2_col2\" class=\"data row2 col2\" >0.9450</td>\n",
       "    </tr>\n",
       "  </tbody>\n",
       "</table>\n"
      ],
      "text/plain": [
       "<pandas.io.formats.style.Styler at 0x15d0c87d0>"
      ]
     },
     "execution_count": 143,
     "metadata": {},
     "output_type": "execute_result"
    }
   ],
   "source": [
    "STRIKE = 99\n",
    "call_payoff = lambda p: np.maximum(p - STRIKE,0)\n",
    "\n",
    "call_derivtree = bintree_pricing(call_payoff, ratetree=rate_tree_multi, undertree = bondtree_multi, pstars=pstars)\n",
    "format_bintree(call_derivtree, style='{:.4f}')"
   ]
  },
  {
   "cell_type": "markdown",
   "id": "e8a16db1",
   "metadata": {},
   "source": [
    "#### Euro Put Price:"
   ]
  },
  {
   "cell_type": "code",
   "execution_count": 144,
   "id": "b813c17f",
   "metadata": {},
   "outputs": [
    {
     "data": {
      "text/html": [
       "<style type=\"text/css\">\n",
       "</style>\n",
       "<table id=\"T_d0bb0\">\n",
       "  <thead>\n",
       "    <tr>\n",
       "      <th class=\"index_name level0\" >time $t$</th>\n",
       "      <th id=\"T_d0bb0_level0_col0\" class=\"col_heading level0 col0\" >0.00</th>\n",
       "      <th id=\"T_d0bb0_level0_col1\" class=\"col_heading level0 col1\" >0.50</th>\n",
       "      <th id=\"T_d0bb0_level0_col2\" class=\"col_heading level0 col2\" >1.00</th>\n",
       "    </tr>\n",
       "    <tr>\n",
       "      <th class=\"index_name level0\" >node</th>\n",
       "      <th class=\"blank col0\" >&nbsp;</th>\n",
       "      <th class=\"blank col1\" >&nbsp;</th>\n",
       "      <th class=\"blank col2\" >&nbsp;</th>\n",
       "    </tr>\n",
       "  </thead>\n",
       "  <tbody>\n",
       "    <tr>\n",
       "      <th id=\"T_d0bb0_level0_row0\" class=\"row_heading level0 row0\" >0</th>\n",
       "      <td id=\"T_d0bb0_row0_col0\" class=\"data row0 col0\" >0.8379</td>\n",
       "      <td id=\"T_d0bb0_row0_col1\" class=\"data row0 col1\" >1.1935</td>\n",
       "      <td id=\"T_d0bb0_row0_col2\" class=\"data row0 col2\" >1.4690</td>\n",
       "    </tr>\n",
       "    <tr>\n",
       "      <th id=\"T_d0bb0_level0_row1\" class=\"row_heading level0 row1\" >1</th>\n",
       "      <td id=\"T_d0bb0_row1_col0\" class=\"data row1 col0\" ></td>\n",
       "      <td id=\"T_d0bb0_row1_col1\" class=\"data row1 col1\" >0.2129</td>\n",
       "      <td id=\"T_d0bb0_row1_col2\" class=\"data row1 col2\" >0.2718</td>\n",
       "    </tr>\n",
       "    <tr>\n",
       "      <th id=\"T_d0bb0_level0_row2\" class=\"row_heading level0 row2\" >2</th>\n",
       "      <td id=\"T_d0bb0_row2_col0\" class=\"data row2 col0\" ></td>\n",
       "      <td id=\"T_d0bb0_row2_col1\" class=\"data row2 col1\" ></td>\n",
       "      <td id=\"T_d0bb0_row2_col2\" class=\"data row2 col2\" >0.0000</td>\n",
       "    </tr>\n",
       "  </tbody>\n",
       "</table>\n"
      ],
      "text/plain": [
       "<pandas.io.formats.style.Styler at 0x15cffe060>"
      ]
     },
     "execution_count": 144,
     "metadata": {},
     "output_type": "execute_result"
    }
   ],
   "source": [
    "STRIKE = 99\n",
    "put_payoff = lambda p: np.maximum(STRIKE-p,0)\n",
    "\n",
    "put_derivtree = bintree_pricing(put_payoff, ratetree=rate_tree_multi, undertree = bondtree_multi, pstars=pstars)\n",
    "format_bintree(put_derivtree, style='{:.4f}')"
   ]
  },
  {
   "cell_type": "markdown",
   "id": "a4b9ce12",
   "metadata": {},
   "source": [
    "\n",
    "### 4.4\n",
    "Consider a finer time grid. Let $dt$ in the tree now be 1/30 instead of 0.5.\n",
    "\n",
    "Using this smaller time step, compute the $t=0$ price of the following option:\n",
    "* option expires at $t=1$\n",
    "* written on bond maturing at $t=1.5"
   ]
  },
  {
   "cell_type": "code",
   "execution_count": 145,
   "id": "2c54bc0a",
   "metadata": {},
   "outputs": [
    {
     "data": {
      "text/html": [
       "<style type=\"text/css\">\n",
       "</style>\n",
       "<table id=\"T_ac509\">\n",
       "  <thead>\n",
       "    <tr>\n",
       "      <th class=\"index_name level0\" >time $t$</th>\n",
       "      <th id=\"T_ac509_level0_col0\" class=\"col_heading level0 col0\" >0.00</th>\n",
       "      <th id=\"T_ac509_level0_col1\" class=\"col_heading level0 col1\" >0.50</th>\n",
       "      <th id=\"T_ac509_level0_col2\" class=\"col_heading level0 col2\" >1.00</th>\n",
       "    </tr>\n",
       "    <tr>\n",
       "      <th class=\"index_name level0\" >node</th>\n",
       "      <th class=\"blank col0\" >&nbsp;</th>\n",
       "      <th class=\"blank col1\" >&nbsp;</th>\n",
       "      <th class=\"blank col2\" >&nbsp;</th>\n",
       "    </tr>\n",
       "  </thead>\n",
       "  <tbody>\n",
       "    <tr>\n",
       "      <th id=\"T_ac509_level0_row0\" class=\"row_heading level0 row0\" >0</th>\n",
       "      <td id=\"T_ac509_row0_col0\" class=\"data row0 col0\" >97.7749</td>\n",
       "      <td id=\"T_ac509_row0_col1\" class=\"data row0 col1\" >98.1726</td>\n",
       "      <td id=\"T_ac509_row0_col2\" class=\"data row0 col2\" >99.8335</td>\n",
       "    </tr>\n",
       "    <tr>\n",
       "      <th id=\"T_ac509_level0_row1\" class=\"row_heading level0 row1\" >1</th>\n",
       "      <td id=\"T_ac509_row1_col0\" class=\"data row1 col0\" ></td>\n",
       "      <td id=\"T_ac509_row1_col1\" class=\"data row1 col1\" >99.4585</td>\n",
       "      <td id=\"T_ac509_row1_col2\" class=\"data row1 col2\" >99.9147</td>\n",
       "    </tr>\n",
       "    <tr>\n",
       "      <th id=\"T_ac509_level0_row2\" class=\"row_heading level0 row2\" >2</th>\n",
       "      <td id=\"T_ac509_row2_col0\" class=\"data row2 col0\" ></td>\n",
       "      <td id=\"T_ac509_row2_col1\" class=\"data row2 col1\" ></td>\n",
       "      <td id=\"T_ac509_row2_col2\" class=\"data row2 col2\" >99.9963</td>\n",
       "    </tr>\n",
       "  </tbody>\n",
       "</table>\n"
      ],
      "text/plain": [
       "<pandas.io.formats.style.Styler at 0x15c2efc50>"
      ]
     },
     "metadata": {},
     "output_type": "display_data"
    },
    {
     "data": {
      "text/html": [
       "<style type=\"text/css\">\n",
       "</style>\n",
       "<table id=\"T_a3c1e\">\n",
       "  <thead>\n",
       "    <tr>\n",
       "      <th class=\"index_name level0\" >time $t$</th>\n",
       "      <th id=\"T_a3c1e_level0_col0\" class=\"col_heading level0 col0\" >0.00</th>\n",
       "      <th id=\"T_a3c1e_level0_col1\" class=\"col_heading level0 col1\" >0.50</th>\n",
       "    </tr>\n",
       "  </thead>\n",
       "  <tbody>\n",
       "    <tr>\n",
       "      <th id=\"T_a3c1e_level0_row0\" class=\"row_heading level0 row0\" >pstar</th>\n",
       "      <td id=\"T_a3c1e_row0_col0\" class=\"data row0 col0\" >64.49%</td>\n",
       "      <td id=\"T_a3c1e_row0_col1\" class=\"data row0 col1\" >78.69%</td>\n",
       "    </tr>\n",
       "  </tbody>\n",
       "</table>\n"
      ],
      "text/plain": [
       "<pandas.io.formats.style.Styler at 0x15cff9f10>"
      ]
     },
     "metadata": {},
     "output_type": "display_data"
    },
    {
     "data": {
      "text/html": [
       "<style type=\"text/css\">\n",
       "</style>\n",
       "<table id=\"T_f63b1\">\n",
       "  <thead>\n",
       "    <tr>\n",
       "      <th class=\"index_name level0\" >time $t$</th>\n",
       "      <th id=\"T_f63b1_level0_col0\" class=\"col_heading level0 col0\" >0.00</th>\n",
       "      <th id=\"T_f63b1_level0_col1\" class=\"col_heading level0 col1\" >0.50</th>\n",
       "      <th id=\"T_f63b1_level0_col2\" class=\"col_heading level0 col2\" >1.00</th>\n",
       "    </tr>\n",
       "    <tr>\n",
       "      <th class=\"index_name level0\" >node</th>\n",
       "      <th class=\"blank col0\" >&nbsp;</th>\n",
       "      <th class=\"blank col1\" >&nbsp;</th>\n",
       "      <th class=\"blank col2\" >&nbsp;</th>\n",
       "    </tr>\n",
       "  </thead>\n",
       "  <tbody>\n",
       "    <tr>\n",
       "      <th id=\"T_f63b1_level0_row0\" class=\"row_heading level0 row0\" >0</th>\n",
       "      <td id=\"T_f63b1_row0_col0\" class=\"data row0 col0\" >0.8613</td>\n",
       "      <td id=\"T_f63b1_row0_col1\" class=\"data row0 col1\" >0.8365</td>\n",
       "      <td id=\"T_f63b1_row0_col2\" class=\"data row0 col2\" >0.8335</td>\n",
       "    </tr>\n",
       "    <tr>\n",
       "      <th id=\"T_f63b1_level0_row1\" class=\"row_heading level0 row1\" >1</th>\n",
       "      <td id=\"T_f63b1_row1_col0\" class=\"data row1 col0\" ></td>\n",
       "      <td id=\"T_f63b1_row1_col1\" class=\"data row1 col1\" >0.9277</td>\n",
       "      <td id=\"T_f63b1_row1_col2\" class=\"data row1 col2\" >0.9147</td>\n",
       "    </tr>\n",
       "    <tr>\n",
       "      <th id=\"T_f63b1_level0_row2\" class=\"row_heading level0 row2\" >2</th>\n",
       "      <td id=\"T_f63b1_row2_col0\" class=\"data row2 col0\" ></td>\n",
       "      <td id=\"T_f63b1_row2_col1\" class=\"data row2 col1\" ></td>\n",
       "      <td id=\"T_f63b1_row2_col2\" class=\"data row2 col2\" >0.9963</td>\n",
       "    </tr>\n",
       "  </tbody>\n",
       "</table>\n"
      ],
      "text/plain": [
       "<pandas.io.formats.style.Styler at 0x15c2cb4a0>"
      ]
     },
     "metadata": {},
     "output_type": "display_data"
    }
   ],
   "source": [
    "dt = 1/30\n",
    "pstars = estimate_pstar(term_struct,rate_tree_multi)\n",
    "payoff = lambda r: payoff_bond(r,dt)\n",
    "bondtree_multi2 = bintree_pricing(payoff, ratetree=rate_tree_multi, pstars=pstars)\n",
    "display(format_bintree(bondtree_multi2, style='{:.4f}'))\n",
    "\n",
    "display(format_bintree(pstars.to_frame().T, style='{:.2%}'))\n",
    "\n",
    "# ASSUMING CALL OPTION\n",
    "\n",
    "derivtree2 = bintree_pricing(call_payoff, ratetree=rate_tree_multi, undertree = bondtree_multi2, pstars=pstars)\n",
    "display(format_bintree(derivtree2, style='{:.4f}'))"
   ]
  },
  {
   "cell_type": "markdown",
   "id": "622d47bb",
   "metadata": {},
   "source": [
    "With a finer time grid, the price of the call option is much more expensive. Compare .5 time grid price of .0706 with the 1/30 time grid price of .8613. Discounting isn't as large of jumps"
   ]
  },
  {
   "cell_type": "code",
   "execution_count": 152,
   "id": "4d7108ee",
   "metadata": {},
   "outputs": [],
   "source": [
    "def exercise_decisions(payoff, undertree, derivtree):\n",
    "    \"\"\"\n",
    "    Determines the exercise decisions for a derivative based on the payoff function, the underlying tree, and the derivative tree.\n",
    "\n",
    "    Parameters:\n",
    "    payoff (function): The payoff function that calculates the derivative's payoff based on the underlying tree.\n",
    "    undertree (numpy.ndarray): The underlying tree.\n",
    "    derivtree (numpy.ndarray): The derivative tree.\n",
    "\n",
    "    Returns:\n",
    "    numpy.ndarray: A boolean array indicating the exercise decisions for the derivative.\n",
    "    \"\"\"\n",
    "    exer = (derivtree == payoff(undertree)) & (derivtree > 0)\n",
    "    return exer"
   ]
  },
  {
   "cell_type": "markdown",
   "id": "46eccfaf",
   "metadata": {},
   "source": [
    "# 5 American Style\n",
    "### 5.1\n",
    "Use the two-period tree from part 4, but this time to price an American-style **put** option.\n",
    "\n",
    "Use a grid of $dt=.5$.\n",
    "* What is its value at $t=0$?\n",
    "* Which nodes would you exercise it early?\n"
   ]
  },
  {
   "cell_type": "markdown",
   "id": "2a47a67f",
   "metadata": {},
   "source": [
    "#### American Call:"
   ]
  },
  {
   "cell_type": "code",
   "execution_count": 151,
   "id": "a9ab8803",
   "metadata": {},
   "outputs": [
    {
     "data": {
      "text/html": [
       "<style type=\"text/css\">\n",
       "</style>\n",
       "<table id=\"T_92f98\">\n",
       "  <thead>\n",
       "    <tr>\n",
       "      <th class=\"index_name level0\" >time $t$</th>\n",
       "      <th id=\"T_92f98_level0_col0\" class=\"col_heading level0 col0\" >0.00</th>\n",
       "      <th id=\"T_92f98_level0_col1\" class=\"col_heading level0 col1\" >0.50</th>\n",
       "      <th id=\"T_92f98_level0_col2\" class=\"col_heading level0 col2\" >1.00</th>\n",
       "    </tr>\n",
       "    <tr>\n",
       "      <th class=\"index_name level0\" >node</th>\n",
       "      <th class=\"blank col0\" >&nbsp;</th>\n",
       "      <th class=\"blank col1\" >&nbsp;</th>\n",
       "      <th class=\"blank col2\" >&nbsp;</th>\n",
       "    </tr>\n",
       "  </thead>\n",
       "  <tbody>\n",
       "    <tr>\n",
       "      <th id=\"T_92f98_level0_row0\" class=\"row_heading level0 row0\" >0</th>\n",
       "      <td id=\"T_92f98_row0_col0\" class=\"data row0 col0\" >0.0706</td>\n",
       "      <td id=\"T_92f98_row0_col1\" class=\"data row0 col1\" >0.0000</td>\n",
       "      <td id=\"T_92f98_row0_col2\" class=\"data row0 col2\" >0.0000</td>\n",
       "    </tr>\n",
       "    <tr>\n",
       "      <th id=\"T_92f98_level0_row1\" class=\"row_heading level0 row1\" >1</th>\n",
       "      <td id=\"T_92f98_row1_col0\" class=\"data row1 col0\" ></td>\n",
       "      <td id=\"T_92f98_row1_col1\" class=\"data row1 col1\" >0.2004</td>\n",
       "      <td id=\"T_92f98_row1_col2\" class=\"data row1 col2\" >0.0000</td>\n",
       "    </tr>\n",
       "    <tr>\n",
       "      <th id=\"T_92f98_level0_row2\" class=\"row_heading level0 row2\" >2</th>\n",
       "      <td id=\"T_92f98_row2_col0\" class=\"data row2 col0\" ></td>\n",
       "      <td id=\"T_92f98_row2_col1\" class=\"data row2 col1\" ></td>\n",
       "      <td id=\"T_92f98_row2_col2\" class=\"data row2 col2\" >0.9450</td>\n",
       "    </tr>\n",
       "  </tbody>\n",
       "</table>\n"
      ],
      "text/plain": [
       "<pandas.io.formats.style.Styler at 0x15d072750>"
      ]
     },
     "execution_count": 151,
     "metadata": {},
     "output_type": "execute_result"
    }
   ],
   "source": [
    "call_am_derivtree = bintree_pricing(call_payoff, ratetree=rate_tree_multi, undertree = bondtree_multi, pstars=pstars, style = 'american')\n",
    "format_bintree(call_am_derivtree, style='{:.4f}')"
   ]
  },
  {
   "cell_type": "markdown",
   "id": "0992f5e8",
   "metadata": {},
   "source": [
    "#### American Put:"
   ]
  },
  {
   "cell_type": "code",
   "execution_count": 150,
   "id": "53c0713e",
   "metadata": {},
   "outputs": [
    {
     "data": {
      "text/html": [
       "<style type=\"text/css\">\n",
       "</style>\n",
       "<table id=\"T_6a6b7\">\n",
       "  <thead>\n",
       "    <tr>\n",
       "      <th class=\"index_name level0\" >time $t$</th>\n",
       "      <th id=\"T_6a6b7_level0_col0\" class=\"col_heading level0 col0\" >0.00</th>\n",
       "      <th id=\"T_6a6b7_level0_col1\" class=\"col_heading level0 col1\" >0.50</th>\n",
       "      <th id=\"T_6a6b7_level0_col2\" class=\"col_heading level0 col2\" >1.00</th>\n",
       "    </tr>\n",
       "    <tr>\n",
       "      <th class=\"index_name level0\" >node</th>\n",
       "      <th class=\"blank col0\" >&nbsp;</th>\n",
       "      <th class=\"blank col1\" >&nbsp;</th>\n",
       "      <th class=\"blank col2\" >&nbsp;</th>\n",
       "    </tr>\n",
       "  </thead>\n",
       "  <tbody>\n",
       "    <tr>\n",
       "      <th id=\"T_6a6b7_level0_row0\" class=\"row_heading level0 row0\" >0</th>\n",
       "      <td id=\"T_6a6b7_row0_col0\" class=\"data row0 col0\" >2.8538</td>\n",
       "      <td id=\"T_6a6b7_row0_col1\" class=\"data row0 col1\" >2.8574</td>\n",
       "      <td id=\"T_6a6b7_row0_col2\" class=\"data row0 col2\" >1.4690</td>\n",
       "    </tr>\n",
       "    <tr>\n",
       "      <th id=\"T_6a6b7_level0_row1\" class=\"row_heading level0 row1\" >1</th>\n",
       "      <td id=\"T_6a6b7_row1_col0\" class=\"data row1 col0\" ></td>\n",
       "      <td id=\"T_6a6b7_row1_col1\" class=\"data row1 col1\" >0.4816</td>\n",
       "      <td id=\"T_6a6b7_row1_col2\" class=\"data row1 col2\" >0.2718</td>\n",
       "    </tr>\n",
       "    <tr>\n",
       "      <th id=\"T_6a6b7_level0_row2\" class=\"row_heading level0 row2\" >2</th>\n",
       "      <td id=\"T_6a6b7_row2_col0\" class=\"data row2 col0\" ></td>\n",
       "      <td id=\"T_6a6b7_row2_col1\" class=\"data row2 col1\" ></td>\n",
       "      <td id=\"T_6a6b7_row2_col2\" class=\"data row2 col2\" >0.0000</td>\n",
       "    </tr>\n",
       "  </tbody>\n",
       "</table>\n"
      ],
      "text/plain": [
       "<pandas.io.formats.style.Styler at 0x15d106060>"
      ]
     },
     "execution_count": 150,
     "metadata": {},
     "output_type": "execute_result"
    }
   ],
   "source": [
    "put_am_derivtree = bintree_pricing(put_payoff, rate_tree_multi, undertree=bondtree_multi, pstars=pstars, style='american')\n",
    "format_bintree(put_am_derivtree, style='{:.4f}')"
   ]
  },
  {
   "cell_type": "markdown",
   "id": "73bca6f2",
   "metadata": {},
   "source": [
    "#### Early Exercise:\n",
    "(Where intrinsic value exceeds continuation value)"
   ]
  },
  {
   "cell_type": "code",
   "execution_count": 158,
   "id": "017a7f61",
   "metadata": {},
   "outputs": [
    {
     "data": {
      "image/png": "[encoded data removed]",
      "text/plain": [
       "<Figure size 1200x600 with 4 Axes>"
      ]
     },
     "metadata": {},
     "output_type": "display_data"
    }
   ],
   "source": [
    "fig, axes = plt.subplots(1, 2)\n",
    "\n",
    "# Plot the first heatmap\n",
    "sns.heatmap(exercise_decisions(call_payoff, bondtree_multi, call_am_derivtree), square=True, ax=axes[0])\n",
    "axes[0].set_title(\"Am. Call Exercise Decisions\")\n",
    "\n",
    "# Plot the second heatmap\n",
    "sns.heatmap(exercise_decisions(put_payoff, bondtree_multi, put_am_derivtree), square=True, ax=axes[1])\n",
    "axes[1].set_title(\"Am. Put Exercise Decisions\")\n",
    "\n",
    "plt.show()"
   ]
  },
  {
   "cell_type": "markdown",
   "id": "325e7635",
   "metadata": {},
   "source": [
    "\n",
    "### 5.2\n",
    "Change the grid to $dt=1/30$, as in 4.4. \n",
    "* What is its value at $t=0$?\n",
    "* Make a visualization showing which nodes have early exercise. (I suggest using a dataframe and the `heatmap` from `seaborn`."
   ]
  },
  {
   "cell_type": "code",
   "execution_count": 160,
   "id": "02fa2269",
   "metadata": {},
   "outputs": [
    {
     "data": {
      "text/html": [
       "<style type=\"text/css\">\n",
       "</style>\n",
       "<table id=\"T_c86f9\">\n",
       "  <thead>\n",
       "    <tr>\n",
       "      <th class=\"index_name level0\" >time $t$</th>\n",
       "      <th id=\"T_c86f9_level0_col0\" class=\"col_heading level0 col0\" >0.00</th>\n",
       "      <th id=\"T_c86f9_level0_col1\" class=\"col_heading level0 col1\" >0.50</th>\n",
       "      <th id=\"T_c86f9_level0_col2\" class=\"col_heading level0 col2\" >1.00</th>\n",
       "    </tr>\n",
       "    <tr>\n",
       "      <th class=\"index_name level0\" >node</th>\n",
       "      <th class=\"blank col0\" >&nbsp;</th>\n",
       "      <th class=\"blank col1\" >&nbsp;</th>\n",
       "      <th class=\"blank col2\" >&nbsp;</th>\n",
       "    </tr>\n",
       "  </thead>\n",
       "  <tbody>\n",
       "    <tr>\n",
       "      <th id=\"T_c86f9_level0_row0\" class=\"row_heading level0 row0\" >0</th>\n",
       "      <td id=\"T_c86f9_row0_col0\" class=\"data row0 col0\" >0.8613</td>\n",
       "      <td id=\"T_c86f9_row0_col1\" class=\"data row0 col1\" >0.8365</td>\n",
       "      <td id=\"T_c86f9_row0_col2\" class=\"data row0 col2\" >0.8335</td>\n",
       "    </tr>\n",
       "    <tr>\n",
       "      <th id=\"T_c86f9_level0_row1\" class=\"row_heading level0 row1\" >1</th>\n",
       "      <td id=\"T_c86f9_row1_col0\" class=\"data row1 col0\" ></td>\n",
       "      <td id=\"T_c86f9_row1_col1\" class=\"data row1 col1\" >0.9277</td>\n",
       "      <td id=\"T_c86f9_row1_col2\" class=\"data row1 col2\" >0.9147</td>\n",
       "    </tr>\n",
       "    <tr>\n",
       "      <th id=\"T_c86f9_level0_row2\" class=\"row_heading level0 row2\" >2</th>\n",
       "      <td id=\"T_c86f9_row2_col0\" class=\"data row2 col0\" ></td>\n",
       "      <td id=\"T_c86f9_row2_col1\" class=\"data row2 col1\" ></td>\n",
       "      <td id=\"T_c86f9_row2_col2\" class=\"data row2 col2\" >0.9963</td>\n",
       "    </tr>\n",
       "  </tbody>\n",
       "</table>\n"
      ],
      "text/plain": [
       "<pandas.io.formats.style.Styler at 0x15d52fe60>"
      ]
     },
     "execution_count": 160,
     "metadata": {},
     "output_type": "execute_result"
    }
   ],
   "source": [
    "call_am_derivtree2 = bintree_pricing(call_payoff, ratetree=rate_tree_multi, undertree = bondtree_multi2, pstars=pstars, style = 'american')\n",
    "format_bintree(call_am_derivtree2, style='{:.4f}')"
   ]
  },
  {
   "cell_type": "code",
   "execution_count": 161,
   "id": "9c4a92e5",
   "metadata": {},
   "outputs": [
    {
     "data": {
      "text/html": [
       "<style type=\"text/css\">\n",
       "</style>\n",
       "<table id=\"T_e6c7e\">\n",
       "  <thead>\n",
       "    <tr>\n",
       "      <th class=\"index_name level0\" >time $t$</th>\n",
       "      <th id=\"T_e6c7e_level0_col0\" class=\"col_heading level0 col0\" >0.00</th>\n",
       "      <th id=\"T_e6c7e_level0_col1\" class=\"col_heading level0 col1\" >0.50</th>\n",
       "      <th id=\"T_e6c7e_level0_col2\" class=\"col_heading level0 col2\" >1.00</th>\n",
       "    </tr>\n",
       "    <tr>\n",
       "      <th class=\"index_name level0\" >node</th>\n",
       "      <th class=\"blank col0\" >&nbsp;</th>\n",
       "      <th class=\"blank col1\" >&nbsp;</th>\n",
       "      <th class=\"blank col2\" >&nbsp;</th>\n",
       "    </tr>\n",
       "  </thead>\n",
       "  <tbody>\n",
       "    <tr>\n",
       "      <th id=\"T_e6c7e_level0_row0\" class=\"row_heading level0 row0\" >0</th>\n",
       "      <td id=\"T_e6c7e_row0_col0\" class=\"data row0 col0\" >1.2251</td>\n",
       "      <td id=\"T_e6c7e_row0_col1\" class=\"data row0 col1\" >0.8274</td>\n",
       "      <td id=\"T_e6c7e_row0_col2\" class=\"data row0 col2\" >0.0000</td>\n",
       "    </tr>\n",
       "    <tr>\n",
       "      <th id=\"T_e6c7e_level0_row1\" class=\"row_heading level0 row1\" >1</th>\n",
       "      <td id=\"T_e6c7e_row1_col0\" class=\"data row1 col0\" ></td>\n",
       "      <td id=\"T_e6c7e_row1_col1\" class=\"data row1 col1\" >0.0000</td>\n",
       "      <td id=\"T_e6c7e_row1_col2\" class=\"data row1 col2\" >0.0000</td>\n",
       "    </tr>\n",
       "    <tr>\n",
       "      <th id=\"T_e6c7e_level0_row2\" class=\"row_heading level0 row2\" >2</th>\n",
       "      <td id=\"T_e6c7e_row2_col0\" class=\"data row2 col0\" ></td>\n",
       "      <td id=\"T_e6c7e_row2_col1\" class=\"data row2 col1\" ></td>\n",
       "      <td id=\"T_e6c7e_row2_col2\" class=\"data row2 col2\" >0.0000</td>\n",
       "    </tr>\n",
       "  </tbody>\n",
       "</table>\n"
      ],
      "text/plain": [
       "<pandas.io.formats.style.Styler at 0x15d5e38c0>"
      ]
     },
     "execution_count": 161,
     "metadata": {},
     "output_type": "execute_result"
    }
   ],
   "source": [
    "put_am_derivtree2 = bintree_pricing(put_payoff, rate_tree_multi, undertree=bondtree_multi2, pstars=pstars, style='american')\n",
    "format_bintree(put_am_derivtree2, style='{:.4f}')"
   ]
  },
  {
   "cell_type": "code",
   "execution_count": 163,
   "id": "bea4ef56",
   "metadata": {},
   "outputs": [
    {
     "data": {
      "image/png": "[encoded data removed]",
      "text/plain": [
       "<Figure size 1200x600 with 4 Axes>"
      ]
     },
     "metadata": {},
     "output_type": "display_data"
    }
   ],
   "source": [
    "fig, axes = plt.subplots(1, 2)\n",
    "\n",
    "# Plot the first heatmap\n",
    "sns.heatmap(exercise_decisions(call_payoff, bondtree_multi2, call_am_derivtree2), square=True, ax=axes[0])\n",
    "axes[0].set_title(\"Am. Call Exercise Decisions\")\n",
    "\n",
    "# Plot the second heatmap\n",
    "sns.heatmap(exercise_decisions(put_payoff, bondtree_multi2, put_am_derivtree2), square=True, ax=axes[1])\n",
    "axes[1].set_title(\"Am. Put Exercise Decisions\")\n",
    "\n",
    "plt.show()"
   ]
  },
  {
   "cell_type": "code",
   "execution_count": null,
   "id": "9e6e746d",
   "metadata": {},
   "outputs": [],
   "source": []
  }
 ],
 "metadata": {
  "hide_input": true,
  "kernelspec": {
   "display_name": "Python 3 (ipykernel)",
   "language": "python",
   "name": "python3"
  },
  "language_info": {
   "codemirror_mode": {
    "name": "ipython",
    "version": 3
   },
   "file_extension": ".py",
   "mimetype": "text/x-python",
   "name": "python",
   "nbconvert_exporter": "python",
   "pygments_lexer": "ipython3",
   "version": "3.12.1"
  }
 },
 "nbformat": 4,
 "nbformat_minor": 5
}
