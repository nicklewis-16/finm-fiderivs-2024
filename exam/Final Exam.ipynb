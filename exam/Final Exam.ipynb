{
 "cells": [
  {
   "cell_type": "markdown",
   "id": "df3fb874",
   "metadata": {},
   "source": [
    "# Final Exam\n",
    "\n",
    "## FINM 37500 - 2024\n",
    "\n",
    "### UChicago Financial Mathematics\n",
    "\n",
    "* Mark Hendricks\n",
    "* hendricks@uchicago.edu"
   ]
  },
  {
   "cell_type": "markdown",
   "id": "50f649fd",
   "metadata": {},
   "source": [
    "***"
   ]
  },
  {
   "cell_type": "markdown",
   "id": "fc3b17dd",
   "metadata": {},
   "source": [
    "# Instructions"
   ]
  },
  {
   "cell_type": "markdown",
   "id": "3f7303bc",
   "metadata": {},
   "source": [
    "## Please note the following:\n",
    "\n",
    "Points\n",
    "* You have **180 minutes** to complete the exam.\n",
    "* For every minute late you submit the exam, you will lose one point.\n",
    "Final Exam\n",
    "\n",
    "Submission\n",
    "* You will upload your solution to the Final Exam assignment on Canvas, where you downloaded this.\n",
    "* Your submission should be readable, (the graders can understand your answers,) and it should include all code used in your analysis in a file format that the code can be executed. (ie. .ipynb preferred, .pdf is unacceptable.)\n",
    "\n",
    "Rules\n",
    "* The exam is open-material, closed-communication.\n",
    "* You do not need to cite material from the course github repo--you are welcome to use the code posted there without citation, (only for this exam.)\n",
    "\n",
    "Advice\n",
    "* If you find any question to be unclear, state your interpretation and proceed. We will only answer questions of interpretation if there is a typo, error, etc.\n",
    "* The exam will be graded for partial credit.\n",
    "\n",
    "Answer Quality\n",
    "* For conceptual questions, note that we will grade your answer for its relevance to our course focus and discussion. \n",
    "* Making points that are irrelevant, out-of-context, or overly general will may not help and could hurt your score for the question.\n",
    "* This may be particularly relevant for answers which are copied from LLMs such as ChatGPT, but do not get at the heart of our contextual course learning."
   ]
  },
  {
   "cell_type": "markdown",
   "id": "2a665cd0",
   "metadata": {},
   "source": [
    "## Scoring\n",
    "\n",
    "| Problem | Points |\n",
    "|---------|--------|\n",
    "| 1       | 20     |\n",
    "| 2       | 25     |\n",
    "| 3       | 50     |\n",
    "| 4       | 55     |\n",
    "| **Total**   | **150**|\n",
    "\n",
    "#### Each numbered question is worth 5pts unless otherwise noted."
   ]
  },
  {
   "cell_type": "markdown",
   "id": "bc14dc22",
   "metadata": {},
   "source": [
    "***"
   ]
  },
  {
   "cell_type": "markdown",
   "id": "073dbed2",
   "metadata": {},
   "source": [
    "## Data\n",
    "\n",
    "**All data files are found in the class github repo, in the `data` folder.**\n",
    "\n",
    "This exam makes use of the following data files:\n",
    "* `exam_data_2024-03-05.xlsx`\n",
    "\n",
    "This file has sheets for...\n",
    "* curve data - discount factors and forward volatilities\n",
    "* BDT tree of rates (continuously compounded, as usual)\n",
    "* vol quotes (across strikes) on swaptions for a particular expiry and tenor\n",
    "* SABR parameters for a vol skew of the expiry and tenor associted with the vol quotes on the previous sheet.\n",
    "\n",
    "Note\n",
    "* the curve data is given at quarterly frequency\n",
    "* all rates reported in the curve data are quarterly compounded, which is conveneint for the study of quarterly products in this exam (whether caps, floors, swaps, etc.)"
   ]
  },
  {
   "cell_type": "markdown",
   "id": "2f435c20",
   "metadata": {},
   "source": [
    "### Load Data\n",
    "\n",
    "If useful, the following code loads the data:"
   ]
  },
  {
   "cell_type": "code",
   "execution_count": 1,
   "id": "040116d0",
   "metadata": {},
   "outputs": [],
   "source": [
    "import numpy as np\n",
    "import pandas as pd"
   ]
  },
  {
   "cell_type": "code",
   "execution_count": 2,
   "id": "858d3518",
   "metadata": {},
   "outputs": [],
   "source": [
    "DATE = '2024-03-05'\n",
    "\n",
    "FILEIN = f'../data/exam_data_{DATE}.xlsx'\n",
    "\n",
    "sheet_curves = 'rate curves'\n",
    "sheet_tree = 'rate tree'\n",
    "sheet_volskew = 'bloomberg vcub'\n",
    "sheet_sabrparams = 'sabr params'\n",
    "\n",
    "curves = pd.read_excel(FILEIN, sheet_name=sheet_curves).set_index('tenor')\n",
    "\n",
    "ratetree = pd.read_excel(FILEIN, sheet_name=sheet_tree).set_index('state')\n",
    "ratetree.columns.name = 'time'\n",
    "\n",
    "volskew = pd.read_excel(FILEIN, sheet_name=sheet_volskew)\n",
    "\n",
    "sabrparams = pd.read_excel(FILEIN, sheet_name=sheet_sabrparams).set_index('parameter')"
   ]
  },
  {
   "cell_type": "markdown",
   "id": "7658ce8e",
   "metadata": {},
   "source": [
    "***"
   ]
  },
  {
   "cell_type": "markdown",
   "id": "0688aee6",
   "metadata": {},
   "source": [
    "# 1. Models"
   ]
  },
  {
   "cell_type": "markdown",
   "id": "30917ea6",
   "metadata": {},
   "source": [
    "## 1.1. (10pts)\n",
    "\n",
    "Be specific as to which type of data is used to estimate a binomial rate tree. Or, if the feature is assumed rather than estimated, make that clear.\n",
    "\n",
    "How do we estimate the rate tree's...\n",
    "* drift\n",
    "* distribution (Ho-Lee vs Black-Derman-Toy)\n",
    "* nodes\n",
    "* probabilities"
   ]
  },
  {
   "cell_type": "markdown",
   "id": "674f222b",
   "metadata": {},
   "source": [
    "## 1.2.\n",
    "\n",
    "Consider an interest-rate cap with only a single caplet. Which of the following could we use as an underlying binomial tree to price this cap?\n",
    "\n",
    "* interest-rate tree\n",
    "* bond tree\n",
    "* swap tree\n",
    "* floor tree"
   ]
  },
  {
   "cell_type": "markdown",
   "id": "21eabc83",
   "metadata": {},
   "source": [
    "## 1.3.\n",
    "\n",
    "True or False: SABR is used to have structure in modeling implied volatilities across strikes, tenors, and expirations."
   ]
  },
  {
   "cell_type": "markdown",
   "id": "7413f886",
   "metadata": {},
   "source": [
    "***"
   ]
  },
  {
   "cell_type": "markdown",
   "id": "c1ffd6d5",
   "metadata": {},
   "source": [
    "# 2. Pricing with BDT and Black"
   ]
  },
  {
   "cell_type": "markdown",
   "id": "979ce8af",
   "metadata": {},
   "source": [
    "Use `rate curves` for market data."
   ]
  },
  {
   "cell_type": "markdown",
   "id": "cfbac0dd",
   "metadata": {},
   "source": [
    "## 2.1.\n",
    "\n",
    "Recall that a floor is a portfolio of floorlets which\n",
    "* depend on the realized interest rate one quarter before the expiration.\n",
    "* each have the same strike interest rate.\n",
    "\n",
    "Use Black's formula to price **just one floorlet**\n",
    "* expiring at `T=3`\n",
    "* struck at the `T=3` swap rate\n",
    "* notional of `100`"
   ]
  },
  {
   "cell_type": "markdown",
   "id": "361fb68a",
   "metadata": {},
   "source": [
    "## 2.2.\n",
    "\n",
    "Use Black's formula to price the entire floor with expiration of `T=3`.\n",
    "\n",
    "The floor has floorlets at `quarterly` frequency, except the first quarter."
   ]
  },
  {
   "cell_type": "markdown",
   "id": "45692080",
   "metadata": {},
   "source": [
    "## 2.3.\n",
    "\n",
    "Use `rate tree` for a BDT binomial tree fit to market data for your convenience.\n",
    "\n",
    "Use this binomial tree to price the floor described above.\n",
    "\n",
    "Display the binomial tree of prices."
   ]
  },
  {
   "cell_type": "markdown",
   "id": "fded6536",
   "metadata": {},
   "source": [
    "## 2.4.\n",
    "\n",
    "What do you think is the most relevant reason for the difference in pricing between Black's formula and BDT?"
   ]
  },
  {
   "cell_type": "markdown",
   "id": "c4107611",
   "metadata": {},
   "source": [
    "## 2.5.\n",
    "\n",
    "Use the BDT tree to price a swap...\n",
    "* `receiving-fixed` \n",
    "* swap rate of `3.65%`\n",
    "* tenor `T=3`\n",
    "* notional `N=100`.\n",
    "* frequency quarterly (`n=4`)\n",
    "\n",
    "Display the pricing tree."
   ]
  },
  {
   "cell_type": "markdown",
   "id": "7ae21c3e",
   "metadata": {},
   "source": [
    "***"
   ]
  },
  {
   "cell_type": "markdown",
   "id": "b308cfad",
   "metadata": {},
   "source": [
    "# 3. Callable Bond"
   ]
  },
  {
   "cell_type": "markdown",
   "id": "de77f423",
   "metadata": {},
   "source": [
    "#### Note:\n",
    "Continue with the rate curves and BDT model provided in `rate curves` and `rate tree` in the provided spreadsheet."
   ]
  },
  {
   "cell_type": "markdown",
   "id": "03d8659d",
   "metadata": {},
   "source": [
    "## 3.1.\n",
    "\n",
    "Consider a bond with:\n",
    "* `T=3`\n",
    "* face value of `N=100`\n",
    "* coupons at `quarterly` frequency\n",
    "* annualized coupon rate of `cpn=6%`.\n",
    "\n",
    "Use your BDT tree to price this bond and display the pricing tree."
   ]
  },
  {
   "cell_type": "markdown",
   "id": "0d986aa3",
   "metadata": {},
   "source": [
    "## 3.2. (7pts)\n",
    "\n",
    "Suppose the bond is callable by the issuer.\n",
    "\n",
    "* `European` style\n",
    "* expiration of `Topt=1.5`\n",
    "* (clean) `strike=100`\n",
    "\n",
    "What is the value of the issuer's call option?\n",
    "\n",
    "*Note that there is no difference between clean or dirty strike given that the bond pays coupons quarterly, and we are looking at quarterly steps in the tree.*"
   ]
  },
  {
   "cell_type": "markdown",
   "id": "f0114b26",
   "metadata": {},
   "source": [
    "## 3.3. (3pts)\n",
    "\n",
    "What is the value of the callable bond?"
   ]
  },
  {
   "cell_type": "markdown",
   "id": "f9278f74",
   "metadata": {},
   "source": [
    "## 3.4.\n",
    "\n",
    "We found that the Freddie Mac callable bonds often have negative option-adjusted spreads (OAS). \n",
    "\n",
    "Why was this? Do you expect that the european callable bond would be less prone to this phenomenon?"
   ]
  },
  {
   "cell_type": "markdown",
   "id": "89bab4c3",
   "metadata": {},
   "source": [
    "## 3.5.\n",
    "\n",
    "We found that the Freddie Mac american callable bond never priced above 100.\n",
    "\n",
    "Does this bond ever price above 100? Explain why this is possible when it was not for the Freddie Mac callable."
   ]
  },
  {
   "cell_type": "markdown",
   "id": "46e607f8",
   "metadata": {},
   "source": [
    "## 3.6.\n",
    "\n",
    "Price the callable bond without using binomial trees.\n",
    "\n",
    "* Use standard closed-form pricing for the vanilla bond, given the rate curve data.\n",
    "* Use Black's formula to price the callable option.\n",
    "\n",
    "Report this newly modeled price.\n",
    "\n",
    "*Note: In Black's formula, use the flat volatility for the option term.*"
   ]
  },
  {
   "cell_type": "markdown",
   "id": "b45195f7",
   "metadata": {},
   "source": [
    "## 3.7.\n",
    "\n",
    "Which assumptions of Black's formula do we prefer to Black-Scholes for this problem?"
   ]
  },
  {
   "cell_type": "markdown",
   "id": "8fb68d8f",
   "metadata": {},
   "source": [
    "## 3.8.\n",
    "\n",
    "Which aspects of the calculation in `3.6` differ because we are using Black's formula, not Black-Scholes? \n",
    "\n",
    "*Note: Unlike `3.7`, we're asking about the differences of implementing the calculation, not the differences in the assumptions of the models."
   ]
  },
  {
   "cell_type": "markdown",
   "id": "afedd571",
   "metadata": {},
   "source": [
    "## 3.9. \n",
    "\n",
    "Suppose that we buy the callable bond, but we want to hedge against it being called by the issuer. That is to say, we want to retain upside exposure to rates decreasing while otherwise keeping the nature of the position the same.\n",
    "\n",
    "Explain specifically how you would use caps, floors, or swaptions to achieve this. \n",
    "\n",
    "No need to calculate the value; rather, just describe the specific product you would go long (or short) and how it would transform your exposure."
   ]
  },
  {
   "cell_type": "markdown",
   "id": "0f1ed434",
   "metadata": {},
   "source": [
    "## 3.10.\n",
    "\n",
    "How would your answer to `3.9` change if it were a callable bond with **american** exercise by the issuer?"
   ]
  },
  {
   "cell_type": "markdown",
   "id": "8a96ea1d",
   "metadata": {},
   "source": [
    "***"
   ]
  },
  {
   "cell_type": "markdown",
   "id": "3746ec71",
   "metadata": {},
   "source": [
    "# 4. Swaptions and SABR"
   ]
  },
  {
   "cell_type": "markdown",
   "id": "ddf5f7f1",
   "metadata": {},
   "source": [
    "## 4.1.\n",
    "\n",
    "Use the market data in `rate curves` to calculate the relevant forward swap rate for an at-the-money (ATM) swaption with...\n",
    "* `expiration=1`\n",
    "* `tenor=2`\n",
    "\n",
    "Report this forward swap rate."
   ]
  },
  {
   "cell_type": "markdown",
   "id": "c3c35cd8",
   "metadata": {},
   "source": [
    "## 4.2.\n",
    "\n",
    "#### Note\n",
    "\n",
    "Regardless of what you calculated in the previous problem **use a forward swap rate of `.0365` for the rest of this section**, not just this specific question.\n",
    "\n",
    "Don't worry that the forward swap rate provided here may not match your answer from the previous section. We are using it to ensure all solutions below are based on the same forward swap rate."
   ]
  },
  {
   "cell_type": "markdown",
   "id": "583ecef0",
   "metadata": {},
   "source": [
    "#### Continuing...\n",
    "\n",
    "Use the data in `volskew` which gives market quotes (in terms of Black vol) on swaptions across various strikes. \n",
    "* The strikes listed are relative to the ATM strike, which equals the forward swap rate given to you in the previous paragraph.\n",
    "* All these quotes are for the same expiration and tenor considered in `4.1`."
   ]
  },
  {
   "cell_type": "markdown",
   "id": "105c838d",
   "metadata": {},
   "source": [
    "Report the price of the swaption with specification of...\n",
    "* struck at the money\n",
    "* notional of `100`\n",
    "* a `receiver` swaption"
   ]
  },
  {
   "cell_type": "markdown",
   "id": "7c7fb642",
   "metadata": {},
   "source": [
    "## 4.3. (10pts)\n",
    "\n",
    "Use SABR to consider pricing for strikes which are not listed. Sepcifically,\n",
    "\n",
    "* Input the SABR parameters given in `sabrparams` in the exam data sheet to get the implied volatility for any strike.\n",
    "\n",
    "* To do this, choose the `SLIM` SABR model, where $\\alpha$ (also called $\\sigma_0$) is a function of the other SABR parameters. Thus, you won't make use of the estimated $\\alpha$ parameter; rather, you'll make use of the other parameters in conjunction with the ATM market quoted vol.\n",
    "\n",
    "Consider a `STRIKE=.03`.\n",
    "\n",
    "Report\n",
    "* the SABR-implied vol for this strike, (and the provided forward swap rate.) \n",
    "* the price for this swaption given by Black's formula."
   ]
  },
  {
   "cell_type": "markdown",
   "id": "f647f7f5",
   "metadata": {},
   "source": [
    "## 4.4. \n",
    "\n",
    "Suppose the forward swap rate changes by `+10bps`.\n",
    "\n",
    "(We are considering an instantaneous change, so no need to change the time-to-expiration.)\n",
    "\n",
    "Report\n",
    "* the new price, assuming vol stays constant\n",
    "* the new vol and the new price, assuming vol responds according to the SABR specification of part `4.3`."
   ]
  },
  {
   "cell_type": "markdown",
   "id": "dc4762f0",
   "metadata": {},
   "source": [
    "## 4.5.\n",
    "\n",
    "Use these new prices to calculate and report the approximate delta, for both a static and dynamic vol.\n",
    "\n",
    "Specifically, calculate the numerical change in price per change in forward rate when...\n",
    "* holding vol constant\n",
    "* modeling vol changing according to SABR\n",
    "\n",
    "How much does the \"augmented\" delta differ from the classic delta?"
   ]
  },
  {
   "cell_type": "markdown",
   "id": "768d1b4c",
   "metadata": {},
   "source": [
    "## 4.6.\n",
    "\n",
    "Without doing any new calculation, what do you think the effect of a SABR model would be on delta for a payer-swaption in response to a decrease in interest rates?\n",
    "\n",
    "* Would the delta be positive or negative?\n",
    "* Would the \"augmented\" effects of SABR cause the price to be larger or smaller than what the classic delta would imply? "
   ]
  },
  {
   "cell_type": "markdown",
   "id": "18252123",
   "metadata": {},
   "source": [
    "## 4.7.\n",
    "\n",
    "Consider again the given forward swap rate provided in `4.2` (without the shift considered in part `4.4`.)\n",
    "\n",
    "Use the SABR vol skew to price the swaption (same expiry and tenor) struck `-300bps` OTM. \n",
    "\n",
    "* Report this model price and compare it to the market quote at -300bps.\n",
    "\n",
    "* Why might we trust the model price more than the provided market quote here?"
   ]
  },
  {
   "cell_type": "markdown",
   "id": "10dd8a0c",
   "metadata": {},
   "source": [
    "## 4.8.\n",
    "\n",
    "What advantage does SABR have over local vol models? \n",
    "\n",
    "Be specific."
   ]
  },
  {
   "cell_type": "markdown",
   "id": "fbab936b",
   "metadata": {},
   "source": [
    "## 4.9.\n",
    "\n",
    "For the estimated SABR model in the picture, is ATM implied volatility higher or lower as the interest rate goes higher?\n",
    "\n",
    "In a sentence, describe specifically what vol path indicates to us about this option market.\n",
    "\n",
    "(If the figure is not rendering in this cell, find it in `../data/volpath_example.png`.\n",
    "\n",
    "![title](../data/volpath_example.png)"
   ]
  },
  {
   "cell_type": "markdown",
   "id": "db7eaf92",
   "metadata": {},
   "source": [
    "## 4.10.\n",
    "\n",
    "How do we quantify the **vol path** in SABR? Is it estimated or assumed? Be specific."
   ]
  },
  {
   "cell_type": "markdown",
   "id": "3a6cf0e4",
   "metadata": {},
   "source": [
    "***"
   ]
  }
 ],
 "metadata": {
  "hide_input": false,
  "kernelspec": {
   "display_name": "Python 3 (ipykernel)",
   "language": "python",
   "name": "python3"
  },
  "language_info": {
   "codemirror_mode": {
    "name": "ipython",
    "version": 3
   },
   "file_extension": ".py",
   "mimetype": "text/x-python",
   "name": "python",
   "nbconvert_exporter": "python",
   "pygments_lexer": "ipython3",
   "version": "3.9.6"
  }
 },
 "nbformat": 4,
 "nbformat_minor": 5
}
