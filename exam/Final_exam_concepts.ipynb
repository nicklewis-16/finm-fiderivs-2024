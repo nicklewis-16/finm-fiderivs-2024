{
 "cells": [
  {
   "cell_type": "markdown",
   "metadata": {},
   "source": [
    "# Week 1: Binomial Trees, Black's Formulas"
   ]
  },
  {
   "cell_type": "markdown",
   "metadata": {},
   "source": [
    "## Generalized Binomial Tree Model:"
   ]
  },
  {
   "cell_type": "markdown",
   "metadata": {},
   "source": [
    "Consider a generalization of\n",
    "1. contract\n",
    "1. interest rates being non-zero\n",
    "1. notation\n",
    "\n",
    "General notation:\n",
    "* derivative price is $f$, and may be a call, put, or other derivative contract.\n",
    "* time interval is $\\dt$\n",
    "* up movement and down movement of stock are multiplicative factors\n",
    "$$S_u = S_0 u, \\hspace{1cm} S_d = S_0 d$$\n",
    "\n",
    "Notate the relevant interest rate and discount factor as\n",
    "* discounting rate, $r$, continuously compounded\n",
    "* discount factor, $Z$, denoting $e^{-r\\dt}$\n",
    "* growth factor, $A$, denoting $e^{r\\dt}$."
   ]
  },
  {
   "cell_type": "markdown",
   "metadata": {},
   "source": [
    "$$p=\\frac{A-d}{u-d}$$\n",
    "\n",
    "$$f_0 = Z\\left[pf_u + (1-p)f_d\\right]$$\n",
    "\n",
    "$$f_0 = Z\\, \\Ern[f]$$"
   ]
  },
  {
   "cell_type": "markdown",
   "metadata": {},
   "source": [
    "u and d are parameters, so we set them to match volatility. \n",
    "* We have the variance of the step given a bernoulli distributino\n",
    "* We want it to match a stochastic process volatility: $\\sigma\\sqrt{\\dt}$\n",
    "\n",
    "This yields\n",
    "$$u = e^{\\sigma\\sqrt{\\dt}}, \\hspace{1cm} d = e^{-\\sigma\\sqrt{\\dt}}$$"
   ]
  },
  {
   "cell_type": "markdown",
   "metadata": {},
   "source": [
    "## Pricing an interest-rate option\n",
    "\n",
    "Consider pricing an interest-rate derivative,\n",
    "* analogous to a put option on interest rates\n",
    "* payoff at period 1, ($t=0.5$) \n",
    "* strike is $r_K$ is 2\\%\n",
    "* Payoff is $100\\max(r_K-r_1,0)$\n",
    "\n",
    "How would you price this with the information above using a\n",
    "* 2-period bond\n",
    "* 1-period bond\n",
    "\n",
    "This problem seems more complicated than the equity example, but note that\n",
    "* There is only one period of uncertainty.\n",
    "* The one-period bond is acting as \"cash\" with an interest rate."
   ]
  },
  {
   "cell_type": "markdown",
   "metadata": {},
   "source": [
    "$$\\beta = \\frac{f_u-f_d}{P_{1u|2}-P_{1d|2}}$$\n",
    "\n",
    "$$\\alpha = \\frac{f_{u} - \\beta P_{1u|2}}{100}$$\n",
    "\n",
    "$$p^* = \\frac{A P_{0|2} - P_{1d|2}}{P_{1u|2}-P_{1d|2}}$$\n",
    "\n",
    "where $A = e^{r_0\\dt}$."
   ]
  },
  {
   "cell_type": "markdown",
   "metadata": {},
   "source": [
    "# The Multiperiod Tree\n",
    "\n",
    "#### Iterate\n",
    "* Continue at each state of $T-i\\dt$.\n",
    "* Move back a time step, $\\dt$, and continue.\n",
    "\n",
    "#### Choosing a time-grid\n",
    "The time-grid must be chosen fine enough to get convergence.\n",
    "* Common to see $\\dt$ chosen such that there are around 30 steps for a vanilla American option.\n",
    "* Exotic options (barrier, knock-in, etc) may need many more steps.\n",
    "\n",
    "If the time grid is chosen too coarsely, the solution will not converge to a reasonable solution.\n",
    "* Furthermore, there may be issues of negative risk-neutral probabilities.\n",
    "* If the variance in any given step is too large, the probabilities become extreme to try to match it.\n",
    "* Small time-steps keep this from happening.\n",
    "\n",
    "#### Specific underlying values\n",
    "In the tree, we do not get to set the exact price values.\n",
    "* We have been setting $u$ and $d$ to match volatility.\n",
    "* For some options, specific underlying values are of importance.\n",
    "\n",
    "For this flexibility, we would need to take a different approach which will lead to **trinomial trees.**"
   ]
  },
  {
   "cell_type": "markdown",
   "metadata": {},
   "source": [
    "## Black Scholes Formula\n",
    "\n",
    "We introduced the **Black Scholes** formula in B.5.\n",
    "\n",
    "$\\begin{align}\n",
    "c_t\\; =&\\; S_t\\mathcal{N}(\\nargcond) - \\pvstrike_t \\mathcal{N}\\left(\\nargexer\\right) \\\\\n",
    "p_t\\; =&\\; \\pvstrike_t\\mathcal{N}\\left(-\\nargexer\\right) - S_t \\mathcal{N}(-\\nargcond)\n",
    "\\end{align}$\n",
    "\n",
    "where $\\nargcond$ and $\\nargexer$ are\n",
    "\n",
    "$\\begin{align}\n",
    "\\nargcond = \\frac{\\ln\\left(\\frac{S_t}{\\strike}\\right) + \\left[r + \\frac{\\sigma^2}{2}\\right]T}{\\sigma\\sqrt{T}} \\hspace{1cm} \n",
    "\\nargexer = \\nargcond -\\sigma\\sqrt{T}\n",
    "\\end{align}$\n",
    "\n",
    "and \n",
    "\n",
    "$$K^* = Z K \\; = e^{-rT} K$$\n"
   ]
  },
  {
   "cell_type": "markdown",
   "metadata": {},
   "source": [
    "## Black's Formula w/ Constant Interest Rates\n",
    "\n",
    "The model assumes \n",
    "* a lognormal distribution of future (forward) prices\n",
    "* constant interest rates\n",
    "\n",
    "It can be derived from the martingale equation\n",
    "$$\\frac{f(F,t)}{B(t)} = \\Ern\\left[\\frac{f(F,T)}{B(T)}\\right]$$\n",
    "\n",
    "\n",
    "$\\begin{align}\n",
    "c_t\\; =&\\; e^{-r(T-t)}\\left[F_t\\mathcal{N}(\\nargcond) - \\strike \\mathcal{N}\\left(\\nargexer\\right)\\right]\\\\\n",
    "p_t\\; =&\\; e^{-r(T-t)}\\left[\\strike\\mathcal{N}(-\\nargexer) - F_t \\mathcal{N}\\left(-\\nargcond\\right)\\right]\n",
    "\\end{align}$\n",
    "\n",
    "where $\\nargcond$ and $\\nargexer$ are\n",
    "\n",
    "$\\begin{align}\n",
    "\\nargcond = \\frac{\\ln\\left(\\frac{F_t}{\\strike}\\right) + \\frac{\\sigma^2}{2}T}{\\sigma\\sqrt{T}} \\hspace{1cm} \n",
    "\\nargexer = \\nargcond -\\sigma\\sqrt{T}\n",
    "\\end{align}$"
   ]
  },
  {
   "cell_type": "markdown",
   "metadata": {},
   "source": [
    "## The Martingale\n",
    "\n",
    "Under the **forward measure**, any derivative of a forward is a martingale:\n",
    "$$\\frac{f(F,t)}{Z(t,T)} = \\Efwd\\left[\\frac{f(F,T)}{Z(T,T)}\\right]$$\n",
    "\n",
    "where $F$ denotes the forward of an arbitrary asset.\n",
    "\n",
    "That is, we have the price as \n",
    "$$f(F,t) = Z(t,T)\\Efwd\\left[f(F,T)\\right]$$\n",
    "\n",
    "Thus, we can discount just with today's discount factor rather than the stochastic interest rate."
   ]
  },
  {
   "cell_type": "markdown",
   "metadata": {},
   "source": [
    "## The Formula\n",
    "\n",
    "$\\begin{align}\n",
    "c_t\\; =&\\; Z(t,T)\\left[F_t\\mathcal{N}(\\nargcond) - \\strike \\mathcal{N}\\left(\\nargexer\\right)\\right]\\\\\n",
    "p_t\\; =&\\; Z(t,T)\\left[\\strike\\mathcal{N}(-\\nargexer) - F_t \\mathcal{N}\\left(-\\nargcond\\right)\\right]\n",
    "\\end{align}$\n",
    "\n",
    "where $\\nargcond$ and $\\nargexer$ are\n",
    "\n",
    "$\\begin{align}\n",
    "\\nargcond = \\frac{\\ln\\left(\\frac{F_t}{\\strike}\\right) + \\frac{\\sigma^2}{2}T}{\\sigma\\sqrt{T}} \\hspace{1cm} \n",
    "\\nargexer = \\nargcond -\\sigma\\sqrt{T}\n",
    "\\end{align}$"
   ]
  },
  {
   "cell_type": "markdown",
   "metadata": {},
   "source": [
    "# Week 2: Flat and Forward Volatility, Multiperiod Trees and Caps"
   ]
  },
  {
   "cell_type": "markdown",
   "metadata": {},
   "source": [
    "LaTeX notation\n",
    "$$\\renewcommand{\\floorlet}{c}$$\n",
    "$$\\renewcommand{\\dt}{dt}$$\n",
    "$$\\renewcommand{\\flatvol}{\\overline{\\sigma}}$$\n",
    "$$\\renewcommand{\\flatvolT}{\\overline{\\sigma_{T}}}$$\n",
    "$$\\renewcommand{\\fwdvol}{\\overrightarrow{\\sigma}}$$\n",
    "$$\\renewcommand{\\fwdvolTi}{\\overrightarrow{\\sigma_{T_i}}}$$\n",
    "\n",
    "\n",
    "$$\\renewcommand{\\Efwd}{\\tilde{E}}$$\n",
    "$\\renewcommand{\\strike}{K}$\n",
    "\n",
    "$\\renewcommand{\\nargcond}{d_{1}}$\n",
    "$\\renewcommand{\\nargexer}{d_{2}}$\n",
    "\n",
    "$\\renewcommand{\\EcondS}{\\hat{S}_{\\text{conditional}}}$\n",
    "$\\renewcommand{\\probexer}{\\hat{\\mathcal{P}}_{\\text{exercise}}}$\n",
    "\n",
    "$\\renewcommand{\\Black}{\\mathcal{B}}$\n",
    "$\\renewcommand{\\Blackcall}{\\Black_{\\text{call}}}$\n",
    "$\\renewcommand{\\Blackput}{\\Black_{\\text{put}}}$\n",
    "$$\\renewcommand{\\Tfwd}{T_{\\text{fwd}}}$$\n",
    "$$\\renewcommand{\\fwdswap}{s(t,\\Tfwd,T)}$$"
   ]
  },
  {
   "cell_type": "markdown",
   "metadata": {},
   "source": [
    "Limit of blacks: assumes constant interest rate, so how should we model rates?"
   ]
  },
  {
   "cell_type": "markdown",
   "metadata": {},
   "source": [
    "We need a model for interest rate.\n",
    "* It is not a traded security.\n",
    "* Should we allow the model to be negative?\n",
    "\n",
    "Without a model, we run into problems with our binomial tree:\n",
    "* How do we build the nodes for $r$?\n",
    "* Matching volatility and using up/down factors leads to problems.\n",
    "* In particular, the $p^*$ required to fit the current market price may be outside $(0,1)$."
   ]
  },
  {
   "cell_type": "markdown",
   "metadata": {},
   "source": [
    "### Twisting the State Space\n",
    "\n",
    "Earlier, we have seen binomial trees with given states and a derived (fitted) risk-neutral probability, $p^*_t$.\n",
    "\n",
    "Equivalently, we can set the risk-neutral probabilities to all be constant at a convenient number, $p^*_t=0.5$, and then derive (fit) the state space.\n",
    "\n",
    "Most modern binomial tree approaches in fixed-income take this approach.\n",
    "\n",
    "Thus, in the models below, we use $p^*=0.5$."
   ]
  },
  {
   "cell_type": "markdown",
   "metadata": {},
   "source": [
    "### Two Common Paths\n",
    "\n",
    "1. Normal models\n",
    "2. Lognormal models\n",
    "\n",
    "Though we are using a discrete-time binomial tree, we'll see that these approaches arise in a discretization of popular models for $r$ as a stochastic processes."
   ]
  },
  {
   "cell_type": "markdown",
   "metadata": {},
   "source": [
    "# Risk-Neutral Interest-Rate Dynamics\n",
    "\n",
    "### Ho-Lee\n",
    "In the Ho-Lee model, the (short) interest rate evolves along the tree as follows:\n",
    "Higher rate environments better suited less prob mass towards negative\n",
    "$$\n",
    "\\begin{align*}\n",
    "r_{s,t+1} =& r_{s,t} + \\theta_t\\Delta_t + \\sigma\\sqrt{\\Delta_t}\\\\\n",
    "r_{s+1,t+1} =& r_{s,t} + \\theta_t\\Delta_t - \\sigma\\sqrt{\\Delta_t}\\\\\n",
    "\\end{align*}\n",
    "$$\n",
    "\n",
    "### (Constant Vol) Black-Derman-Toy\n",
    "In the Black-Derman-Toy model, the **logarithm** of the (short) interest rate evolves along the tree as follows:\n",
    "Lower rate environments better suited to keep things positive. Too many negative vals in Ho Lee in low rate environments\n",
    "$$\n",
    "\\begin{align*}\n",
    "z_{s,t+1} =& z_{s,t} + \\theta_t\\Delta_t + \\sigma\\sqrt{\\Delta_t}\\\\\n",
    "z_{s+1,t+1} =& z_{s,t} + \\theta_t\\Delta_t - \\sigma\\sqrt{\\Delta_t}\\\\\n",
    "r_{s,t} = & \\frac{1}{100}e^{z_{s,t}}\n",
    "\\end{align*}\n",
    "$$"
   ]
  },
  {
   "cell_type": "markdown",
   "metadata": {},
   "source": [
    "Not a tradeable asset so dont require drift to be zero. We require drift to be zero on tradeable assets to ensure they are martingales. That does not apply here."
   ]
  },
  {
   "cell_type": "markdown",
   "metadata": {},
   "source": [
    "# Pricing Derivatives:"
   ]
  },
  {
   "cell_type": "markdown",
   "metadata": {},
   "source": [
    "### Caplets and Floorlets\n",
    "\n",
    "A **caplet** is a derivative with the following payoff:\n",
    "$$ N\\Delta_t\\max(r_n-K,0)$$\n",
    "where\n",
    "* $N$ is the notional\n",
    "* $K$ is the strike, which is an interest rate.\n",
    "* $r_n$ is the $n$-times compounded interest rate.\n",
    "* $\\Delta_t$ is the frequency of the payments, $\\Delta_t = \\frac{1}{n}$\n",
    "\n",
    "A **floorlet** is a derivative with the following payoff:\n",
    "$$ N\\Delta_t\\max(K-r_n,0)$$\n",
    "\n",
    "One could think of the caplet as a *call* option on an interest rate and the floorlet as a *put*.\n",
    "* Like a vanilla call option in equities, a caplet is a benchmark derivative for fixed income.\n",
    "* We will see that it is the basis of many model parameterizations."
   ]
  },
  {
   "cell_type": "code",
   "execution_count": null,
   "metadata": {},
   "outputs": [],
   "source": [
    "caplet_payoff = lambda r: N * dt * np.maximum(r - STRIKE,0)\n",
    "floorlet_payoff = lambda r: N * dt * np.maximum(STRIKE - r,0)"
   ]
  },
  {
   "cell_type": "markdown",
   "metadata": {},
   "source": [
    "### Careful\n",
    "\n",
    "The underlying for the derivative may differ from the continuously-compounded rate modeled in the tree.\n",
    "\n",
    "For this cap:\n",
    "* BDT models continuously-compounded rate, $r$\n",
    "* Derivative depends on the semiannually compounded rate.\n",
    "\n",
    "Build the tree of reference rates:"
   ]
  },
  {
   "cell_type": "markdown",
   "metadata": {},
   "source": [
    "# Caps and Floors\n",
    "The most frequent way to encounter caplets and floorlets is as the components of **caps** and **floors**. (Thus the name.)\n",
    "\n",
    "A **cap** is a portfolio of caplets\n",
    "* each with the same strike, $K$\n",
    "* at a sequence of caplet maturities\n",
    "\n",
    "Similarly for a **floor**.\n",
    "\n",
    "Markets trade and price these *portfolios* such that we must consider them in a bit more detail."
   ]
  },
  {
   "cell_type": "markdown",
   "metadata": {},
   "source": [
    "### Payment in Arrears\n",
    "\n",
    "It is important to note that *in contrast to our simple caplet/floorlet example above*, the cap and floor make payments on a reference rate in arrears:\n",
    "\n",
    "$$C_{i+1} = N\\Delta_t\\max(r_{n,i}-K)$$\n",
    "where \n",
    "* $r_{n,i}$ denotes the $n$-compounded rate as of period $i$. \n",
    "* $C_{i+1}$ denotes the cashflow paid/received in period $i+1$.\n",
    "\n",
    "This means that each payoff determined at time $t$ pays out one period later, (whether that period is a quarter, half-year, or year.)\n",
    "\n",
    "This has two important implications:\n",
    "\n",
    "1. The first caplet is missing from the cap! A semiannually-paying cap with expiration at $T=3$ will not include a caplet expiring at $T=.5$. The first caplet will expire at $T=1$.\n",
    "\n",
    "2. When pricing the cap, one must be careful to discount the final payoff by the risk-free rate.\n",
    "\n",
    "And similarly for floors."
   ]
  },
  {
   "cell_type": "markdown",
   "metadata": {},
   "source": [
    "### Arbitrary parameterization\n",
    "\n",
    "* We chose an arbitrary value in our binomial tree (Black-Derman-Toy) for $\\sigma$.\n",
    "\n",
    "* While we could parameterize $\\sigma$ for the natural-measure vol, this will not lead to satisfactory pricing.\n",
    "\n",
    "* Rather, we fit $\\sigma$ to the implied volatility of a benchmark derivative.\n",
    "\n",
    "### Caps and Floors\n",
    "\n",
    "The largest OTC rate derivatives are caps, floors, and swaptions.\n",
    "\n",
    "Caps and floors thus are a liquid benchmark for this parameterization.\n",
    "\n",
    "But how do we pick which cap or floor to use? "
   ]
  },
  {
   "cell_type": "markdown",
   "metadata": {},
   "source": [
    "## Flat Volatility\n",
    "\n",
    "The **flat** volatility is the **implied** volatility that matches the market price of a given **cap** or **floor**.\n",
    "\n",
    "### A single implied vol for the bundle!\n",
    "\n",
    "Note that a cap (floor) is a portfolio of various options.\n",
    "\n",
    "Yet the **flat** volatility is quoting a single implied volatility to price each caplet (floorlet), even though it contains options at different maturities.\n",
    "\n",
    "$$p_{\\text{cap}}(T) = \\sum_{i=1}^n p_{\\text{caplet}}(T_i,\\overline{\\sigma_{T}})$$\n",
    "\n",
    "In this sense, the **flat** volatility is a quoting convention.\n",
    "* It quotes the price of the bundle of caplets (floorlets) for a given maturity.\n",
    "* It is inconsistent: it prices the caplets (floorlets) based on which bundle they are in instead of which maturity they have.\n",
    "* The $T=.5$ and $T=1$ cap both have a caplet at $T=.5$, yet the **flat** volatility assigns them different vols, due to being in different bundles (caps)."
   ]
  },
  {
   "cell_type": "markdown",
   "metadata": {},
   "source": [
    "### Sound Familiar?\n",
    "\n",
    "This is **exactly** the issue with **yield-to-maturity**!\n",
    "* YTM is a useful way to quote bond prices to account for differing maturities / coupouns.\n",
    "* Flat vol is a useful way to quote cap/floor prices to account for differing expirations / strikes."
   ]
  },
  {
   "cell_type": "markdown",
   "metadata": {},
   "source": [
    "## Forward Volatility\n",
    "\n",
    "For pricing, we need an implied volatility that is applicable to every **caplet** (floorlet) of a given maturity, $T_i$.\n",
    "\n",
    "Then, pricing a **cap**, which is a bundle of **caplets** would be done with...\n",
    "\n",
    "$$p_{\\text{cap}}(T) = \\sum_{i=1}^n p_{\\text{caplet}}(T_i,\\overrightarrow{\\sigma_{T_i}})$$"
   ]
  },
  {
   "cell_type": "markdown",
   "metadata": {},
   "source": [
    "### Pricing\n",
    "\n",
    "Neither YTM nor flat volatility is appropriate to use for discounted cashflow pricing!\n",
    "\n",
    "Forward volatilities are appropriate--exactly as the **discount (spot) rate** is for bonds.\n",
    "\n",
    "I'll bet you can guess what we need to do...\n",
    "\n",
    "### Extracting Forward Volatilites from Flat Volatilities\n",
    "\n",
    "We can **bootstrap** the forward volatilities.\n",
    "\n",
    "1. Get a set of caps with expirations on a grid of dates, $T_i$, starting with $i=1$. Make sure there is a cap expiring on each $T_i$.\n",
    "2. Uncover $\\overrightarrow{\\sigma}$ for $i=1$ by noting it equals the flat vol.\n",
    "3. For $i=2$, use the $\\overrightarrow{\\sigma}$ for $i=1$ and $\\overline{\\sigma}$ for $i=1$ to uncover $\\overrightarrow{\\sigma}$ for $i=2$.\n",
    "\n",
    "This is also referred to as *stripping* the forward volatilities."
   ]
  },
  {
   "cell_type": "markdown",
   "metadata": {},
   "source": [
    "### Parameterizing BDT:"
   ]
  },
  {
   "cell_type": "markdown",
   "metadata": {},
   "source": [
    "### Two quotes and two parameters\n",
    "\n",
    "The **forward volatilites** can be used as $\\sigma_t$ in BDT.\n",
    "* That is, we are now allowing time-varying vol in the BDT dynamics.\n",
    "* By using these forward vols, the BDT model will fit the term structure of rates **and** of cap/floors.\n",
    "\n",
    "#### Solution?\n",
    "You'll recall that we can recursively solve for the drifts, $\\theta_i$ for each period $i$ by fitting the term structure of rates, (using zero-coupon bonds or a similar discount-curve set of securities.)\n",
    "\n",
    "With a term structure of caps/floors, we can strip out the caplets/floorlets.\n",
    "* Recursively solve for $\\sigma_i$ in each period simultaneously with $\\theta_i$ to fit both the discount rates and the caplet/floorlet rates.\n",
    "\n",
    "Is there a solution?\n",
    "* Yes. Each period two unknowns: $\\theta_i, \\sigma_i$ and two market quotes, (zero coupon bond and cap/floor.)\n",
    "* But this procedure relies on having a complete set of market quotes from $0\\le t\\le T$. \n",
    "* Often some maturities are missing, and the user interpolates a discount rate and a cap/floor rate."
   ]
  },
  {
   "cell_type": "markdown",
   "metadata": {},
   "source": [
    "### Black's Formula\n",
    "\n",
    "In practice, there is a more common approach to parameterizing the tree than the two-variable optimization above of simultaneously solving $\\theta_i$ and $\\sigma_i$ at each step.\n",
    "\n",
    "Recall the continuous-time **Black's Formula**.\n",
    "\n",
    "Any derivative of a forward is a martingale:\n",
    "$$f(F,t) = Z(t,T)\\Efwd\\left[f(F,T)\\right]$$\n",
    "where \n",
    "* $F$ denotes the forward of an arbitrary asset.\n",
    "* and $\\Efwd$ denotes the expectation under the **forward measure**\n",
    "\n",
    "$$\\begin{align}\n",
    "\\mathcal{B}{\\text{call}}(t)\\; =&\\; Z(t,T)\\left[F_t\\mathcal{N}(d_{1}) - \\strike \\mathcal{N}\\left(d_{2}\\right)\\right]\\\\\n",
    "\\mathcal{B}{\\text{put}}(t)\\; =&\\; Z(t,T)\\left[\\strike\\mathcal{N}(-d_{2}) - F_t \\mathcal{N}\\left(-d_{1}\\right)\\right]\n",
    "\\end{align}$$\n",
    "\n",
    "where $\\nargcond$ and $\\nargexer$ are\n",
    "\n",
    "$\\begin{align}\n",
    "\\nargcond = \\frac{\\ln\\left(\\frac{F_t}{\\strike}\\right) + \\frac{\\sigma^2}{2}T}{\\sigma\\sqrt{T}} \\hspace{1cm} \n",
    "\\nargexer = \\nargcond -\\sigma\\sqrt{T}\n",
    "\\end{align}$"
   ]
  },
  {
   "cell_type": "markdown",
   "metadata": {},
   "source": [
    "## Implied vol (Black)\n",
    "\n",
    "1. Use the caps / floors to strip out caplets / floorlets in a term structure for maturities $0\\le t \\le T$.\n",
    "2. Solve Black's formula for $\\sigma_t$ for each maturity such that Black's formula matches the market price.\n",
    "3. Use this set of implied forward volatilities in the BDT model.\n",
    "\n",
    "This is considerably faster than solving $\\theta, \\sigma$ jointly at each step. "
   ]
  },
  {
   "cell_type": "markdown",
   "metadata": {},
   "source": [
    "# Week 3: Swaptions"
   ]
  },
  {
   "cell_type": "markdown",
   "metadata": {},
   "source": [
    "### Simple derivative\n",
    "We do not need trees or stochastic modeling to price a swap.\n",
    "\n",
    "A (receiving fixed) swap is simply replicated as long a fixed bond and short a floating-rate bond.\n",
    "\n",
    "* Still, it is useful to demonstrate that the methods we are using can price any interest-rate derivative--not just options.\n",
    "\n",
    "* Furthermore, having the tree of swap value swill be useful for **swaptions**."
   ]
  },
  {
   "cell_type": "markdown",
   "metadata": {},
   "source": [
    "\n",
    "### Arrears\n",
    "Note that the swap is like the caps and floors in that the payments are based on the previous period's interest rate.\n",
    "\n",
    "That is, the payoff at time period $i$ is\n",
    "$$C_{i+1} = N\\Delta_t(r_{n,i}-K)$$\n",
    "where \n",
    "* $C_{i+1}$ is the cashflow at period $i+1$ \n",
    "* $r_{n,i}$ is the n-frequency compounded rate at period $i$.\n",
    "* $K$ is the swap rate"
   ]
  },
  {
   "cell_type": "markdown",
   "metadata": {},
   "source": [
    "# Swaptions\n",
    "\n",
    "A **receiver swaption** is \n",
    "* a contract today, (with a price paid today)\n",
    "* for the option, not obligation,\n",
    "* to enter into a swap **receiving** the swap rate, (set today, like a strike,)\n",
    "* from $T_1$ to $T_2$.\n",
    "\n",
    "Thus, the **receiver swaption** is like a **put** on a swap.\n",
    "\n",
    "A **payer swaption** is the same thing, but the option is to enter into the swap, **paying** the swap rate (strike). Thus, it is like the **call** on a swap.\n",
    "\n",
    "Of course, being short the **receiver** swaption is not the same thing as being long the **payer** swaption."
   ]
  },
  {
   "cell_type": "markdown",
   "metadata": {},
   "source": [
    "### Timing\n",
    "\n",
    "Note that we have three dates to consider: \n",
    "* the option expiration\n",
    "* the swap start date\n",
    "* the swap end date\n",
    "\n",
    "A plain swaption sets the swap to start at the time the option expires.\n",
    "\n",
    "Thus, a 2\\% 1Y $\\rightarrow$ 10Y denotes\n",
    "* 2\\% strike\n",
    "* swaption with expiration of 1 year\n",
    "* for a swap starting in 1 year and ending 10 years thereafter (in 11 years)"
   ]
  },
  {
   "cell_type": "markdown",
   "metadata": {},
   "source": [
    "## Midcurve Swaptions\n",
    "\n",
    "Suppose that the date of (underlying) swap beginning is **after** the swaption expires. \n",
    "\n",
    "This is a **midcurve** swaption.\n",
    "\n",
    "Could have a 6m $\\rightarrow$ 1Y $\\rightarrow$ 5Y midcurve swaption:\n",
    "* expires in 6 months\n",
    "* underlying swap starts one year after that expiration (in 1.5 years from today)\n",
    "* swap runs for 5 years, (until 6.5 years from today.)"
   ]
  },
  {
   "cell_type": "markdown",
   "metadata": {},
   "source": [
    "Paying fixed swap:"
   ]
  },
  {
   "cell_type": "code",
   "execution_count": null,
   "metadata": {},
   "outputs": [],
   "source": [
    "swap_fixpayer_payoff = lambda r: N * (r-STRIKE) / freqswap\n",
    "swap_fixreceiver_payoff = lambda r: N * (STRIKE - r) / freqswap"
   ]
  },
  {
   "cell_type": "markdown",
   "metadata": {},
   "source": [
    "Use Black's formula to price the **European** swaption.\n",
    "* The **payer** swaption (option to pay fixed) is like a **call** option.\n",
    "* The **receiver** swaption (option to receive fixed) is like a **put** option.\n",
    "\n",
    "This is done much as we used Black's formula for caps and caplets. \n",
    "\n",
    "But there are a few differences in **timing** and **discount factor**."
   ]
  },
  {
   "cell_type": "markdown",
   "metadata": {},
   "source": [
    "### Timing\n",
    "\n",
    "Expiration of the swaption is the date plugged into Black's formula.\n",
    "* The swaption expires at $T_o$ and that is also when the uncertainty is resolved. So use this value in Black's formula.\n",
    "* Recall that for caplets, we had to use a period before the payment due to the timing where the caplet's uncertainty is resolved a period early."
   ]
  },
  {
   "cell_type": "markdown",
   "metadata": {},
   "source": [
    "### Discount factor\n",
    "\n",
    "You only need to use Black's formula once to price the swaption.\n",
    "* With caps, we had to use Black's formula repeatedly to price each caplet. (Each caplet has different expiration and forward vol.)\n",
    "* A swaption is a single option, but it involves (if exercised) multiple payments. \n",
    "* Unlike the cap, each payoff of the exercised swaption corresponds to the same option, and thus is priced identically in Black's formula.\n",
    "* The only adjustment is to discount the exercised payoffs appropriately, refleting that they have different maturities.\n",
    "    \n",
    "We can use Black's formula once and scale it by the sum of appropriate discount factors to reflect multiple payoffs.\n",
    "    \n",
    "$$Z^{\\text{swap}}(0,T_o,T) \\equiv \\sum_{i=1}^mZ(0,T_i)$$\n",
    "where $T_i$ for $1\\le i \\le m$ denotes the swap payment dates.\n",
    "\n",
    "#### Example\n",
    "For the 1Y $\\rightarrow $ 2Y swaption written on an (annually paying) swap we have\n",
    "* $T_o=1$ \n",
    "* $T=3$ \n",
    "\n",
    "$$Z^{\\text{swap}}(0,T_o,T) = Z(0,2) + Z(0,3)$$"
   ]
  },
  {
   "cell_type": "markdown",
   "metadata": {},
   "source": [
    "### Forward Swap Rate\n",
    "In Black's formula we need the **forward** on the underlying, not the underlying rate itself.\n",
    "\n",
    "Thus, for the swaption, we need the **forward swap rate**, not the (spot) swap rate.\n",
    "\n",
    "Calculating forward rates from spot rates is done as usual, the same as for treasury rates. \n",
    "\n",
    "#### Discount Factor Formula\n",
    "$$f_n(t,\\Tfwd,T) \\equiv n\\frac{Z(t,\\Tfwd)-Z(t,T)}{\\sum_{i=1}^mZ(t,T_i)}$$\n",
    "where \n",
    "* $Z$ denotes the usual discount factor.\n",
    "* $n$ is the frequency of the swap payments. (That is, $n=2$ for semiannual swaps, etc.)\n",
    "* $T_i$ for $1\\le i\\le m$ again denotes the time to each swap payment, with $T_m=T$.\n",
    "* $\\Tfwd$ is the forward date.\n",
    "\n",
    "#### Forward Factor Formula\n",
    "\n",
    "$\\begin{align}\n",
    "F(t,\\Tfwd,T) & = \\frac{Z(t,T)}{Z(t,\\Tfwd)}\\\\[6pt]\n",
    "f(t,\\Tfwd,T) & \\equiv \\quad -\\frac{\\ln\\left\\{F(t,\\Tfwd,T)\\right\\}}{T-\\Tfwd}\\\\[6pt]\n",
    "f_n(t,\\Tfwd,T) & \\equiv \\quad n\\left(\\frac{1}{F(t,\\Tfwd,T)^{\\frac{1}{n(T-\\Tfwd)}}}-1\\right)\n",
    "\\end{align}$"
   ]
  },
  {
   "cell_type": "markdown",
   "metadata": {},
   "source": [
    "# Week 4: Volatility Modeling with SABR"
   ]
  },
  {
   "cell_type": "markdown",
   "metadata": {},
   "source": [
    "$$\\newcommand{\\ivol}{\\sigma_{\\text{imp}}}$$\n",
    "$$\\newcommand{\\vega}{\\mathcal{V}}$$\n",
    "\n",
    "$$\\newcommand{\\dwF}{dW^{[1]}}$$\n",
    "$$\\newcommand{\\dwS}{dW^{[2]}}$$"
   ]
  },
  {
   "cell_type": "markdown",
   "metadata": {},
   "source": [
    "## Motivation\n",
    "\n",
    "As we have seen, \n",
    "* implied volatility is not constant for an underlying\n",
    "* it varies substantially with **moneyness** (strike vs underlying) and time-to-expiration.\n",
    "* and it is not stable over time!\n",
    "\n",
    "Why do we care? Suppose you hold...\n",
    "* a 3-month call struck at 100\n",
    "* a 1-month call struck at 90\n",
    "\n",
    "What is the right hedge ratio?\n",
    "\n",
    "How is this impacted by the inconsistency across\n",
    "* strikes\n",
    "* maturity"
   ]
  },
  {
   "cell_type": "markdown",
   "metadata": {},
   "source": [
    "## Volatility Surface and Skew\n",
    "\n",
    "To ensure model (internal) consistency and hopefully (external) performance, we need a \n",
    "* volatility surface\n",
    "\n",
    "In practice, there is much more focus on the \n",
    "* volatility curve / smile /skew\n",
    "\n",
    "That is, the inconsistency of the volatility across strikes is more problematic than across maturities.\n",
    "\n",
    "## This is about hedging as much as it is about pricing!\n",
    "\n",
    "To know whether we are hedged, we need to know the true delta.\n",
    "* Model inconsistency in implied vol will lead to model inconsistency in delta and gamma.\n",
    "\n",
    "If implied vol were constant (as in BS) for a given point in time, we would still care how it shifts over time!\n",
    "* Remember the \"greek\" vega\n",
    "$$\\vega \\equiv \\frac{\\partial f}{\\partial \\ivol}$$"
   ]
  },
  {
   "cell_type": "markdown",
   "metadata": {},
   "source": [
    "## Stochastic Alpha Beta Rho (SABR)\n",
    "\n",
    "The SABR model is used in conjunction with Black's Model.\n",
    "* Can be used for generalized versions, such as the \"Libor Market Model\".\n",
    "* Key is that SABR just handles the implied volatility.\n",
    "* Provides an input for a pricing model, (most notably, Black.)\n",
    "\n",
    "Instead of a constant diffusion term, $\\sigma$, we want\n",
    "* not just a function $\\sigma(F,t)$\n",
    "* but rather a stochastic process"
   ]
  },
  {
   "cell_type": "markdown",
   "metadata": {},
   "source": [
    "## The Model\n",
    "\n",
    "Suppose the underlying is the forward process, $F$.\n",
    "* Typically using forwards or futures, as fitting with Black's model.\n",
    "\n",
    "Under the **forward measure**, this process has no drift!\n",
    "* So no \"$dt$\" term in the stochastic differential.\n",
    "$$dF = \\sigma F^{\\beta}\\dwF$$\n",
    "\n",
    "Here, $\\dwF$ is simply a pure Brownian motion as usual in these equations.\n",
    "* The superscript is anticipating we will have a second such process.\n",
    "* It is not an exponent."
   ]
  },
  {
   "cell_type": "markdown",
   "metadata": {},
   "source": [
    "### Role of Beta $\\beta$\n",
    "Note that $\\beta$ is controlling whether this is\n",
    "* lognormal: $\\beta=1$\n",
    "* normal: $\\beta=0$\n",
    "* CEV: $0<\\beta<1$\n",
    "\n",
    "Typically, this parameter is not estimated but is set according to the desired model.\n",
    "* Could parameterize with a regression (in logs) but not typically done.\n",
    "\n",
    "In interest-rate derivatives, it is typical to choose\n",
    "* $\\beta=0.5$"
   ]
  },
  {
   "cell_type": "markdown",
   "metadata": {},
   "source": [
    "## Stochastic Volatility\n",
    "\n",
    "Now onto the stochastic volatility. Model $\\sigma$ as a process characterized by\n",
    "$$d\\sigma = \\nu \\sigma \\dwS$$\n",
    "\n",
    "So $\\sigma$ is a geometric Brownian motion!\n",
    "* Why geometric Brownian (lognormal) instead of Brownian (normal)?\n",
    "\n",
    "## Role of alpha $\\alpha$\n",
    "\n",
    "Alpha, sometimes denoted $\\sigma_0$, is the initialized value of this process.\n",
    "* It is controlling the level of realized volatility.\n",
    "\n",
    "In the formula below, \n",
    "* $\\alpha$ is being written as $\\sigma_0$ to emphasize this."
   ]
  },
  {
   "cell_type": "markdown",
   "metadata": {},
   "source": [
    "## Role of rho $\\rho$\n",
    "The process $\\dwS$ is another Brownian motion, different than $\\dwF$. \n",
    "* Remember the superscript is an identifier, not an exponent!\n",
    "* They are not necessarily independent.\n",
    "\n",
    "The parameter, $\\rho$, governs the correlation between the two processes (shocks) $\\dwF$ and $\\dwS$.\n",
    "\n",
    "### Question\n",
    "Do you think $\\rho$ will typically be positive or negative?\n",
    "* Why?\n",
    "* For all assets?"
   ]
  },
  {
   "cell_type": "markdown",
   "metadata": {},
   "source": [
    "## Role of \"nu\" $\\nu$\n",
    "\n",
    "Note that $\\nu$ is a constant (parameter), and it is the \"vol\" of the volatility process."
   ]
  },
  {
   "cell_type": "markdown",
   "metadata": {},
   "source": [
    "## Fitting SABR\n",
    "\n",
    "Use observed market implied volatilities to fit SABR on a set of options.\n",
    "\n",
    "1. Use the reference set of $(F_0,K,\\ivol^{\\text{mkt}})$.\n",
    "2. Numerically try sets of parameters $(\\alpha,\\nu,\\rho)$ \n",
    "    * or $(\\nu, \\rho)$ if using the ATM relationship for alpha above.\n",
    "3. For each parameterization, check how close the SABR vol is to the market implied vol across all securities, using a penalty function of\n",
    "$$\\sum_{i}\\left(\\ivol^{\\text{SABR}}(i) - \\ivol^{\\text{market}}(i)\\right)^2$$\n",
    "4. Set the parameters that minimize this error.\n",
    "\n",
    "Now, use the solution parameters to set the implied volatility curve. \n",
    "* This gives you $\\sigma(F,K)$ to insert into Black's formula.\n",
    "\n",
    "Use this curve for \n",
    "* pricing other strikes / maturities / options on this underyling.\n",
    "* better measuring the greeks of even these reference securities."
   ]
  },
  {
   "cell_type": "markdown",
   "metadata": {},
   "source": [
    "# Delta Hedging\n",
    "\n",
    "As one example, consider the simple problem of delta hedging.\n",
    "\n",
    "Given that implied volatility is not constant, we can expect that \n",
    "* delta changes when implied vol changes!\n",
    "\n",
    "This is sometimes referred to as **vanna**\n",
    "$$\\frac{\\partial \\Delta}{\\partial \\ivol}$$\n",
    "\n",
    "Suppose a call option has value $C(F)$, where $F$ is the forward price.\n",
    "\n",
    "Consider a delta that takes account of Black's (direct) delta effect and the implied volatility effect through the vol path:\n",
    "$$C\\left(F, \\ivol(F)\\right)$$\n",
    "\n",
    "$$\\begin{align*}\n",
    "\\frac{dC}{dF} =& \\frac{\\partial C}{\\partial F} + \\frac{\\partial C}{\\partial \\ivol}\\frac{\\partial \\ivol}{\\partial F}\n",
    "\\end{align*}$$"
   ]
  },
  {
   "cell_type": "markdown",
   "metadata": {},
   "source": []
  }
 ],
 "metadata": {
  "kernelspec": {
   "display_name": "finm",
   "language": "python",
   "name": "python3"
  },
  "language_info": {
   "name": "python",
   "version": "3.12.1"
  }
 },
 "nbformat": 4,
 "nbformat_minor": 2
}
