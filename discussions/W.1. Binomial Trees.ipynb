{
 "cells": [
  {
   "cell_type": "markdown",
   "id": "3ef5c3dd",
   "metadata": {},
   "source": [
    "# Week 1 - Binomial Trees\n",
    "\n",
    "\n",
    "## FINM 37500: Fixed Income Derivatives\n",
    "\n",
    "### Mark Hendricks\n",
    "\n",
    "#### Winter 2024"
   ]
  },
  {
   "cell_type": "markdown",
   "id": "cb3d548e",
   "metadata": {},
   "source": [
    "### Notation\n",
    "\n",
    "$$\\newcommand{\\Ern}{E^*}$$\n",
    "$$\\newcommand{\\hedge}{\\beta}$$\n",
    "$$\\newcommand{\\dt}{\\Delta t}$$"
   ]
  },
  {
   "cell_type": "markdown",
   "id": "2c0e1b20",
   "metadata": {},
   "source": [
    "## Setup"
   ]
  },
  {
   "cell_type": "markdown",
   "id": "a920dfe2",
   "metadata": {},
   "source": [
    "Consider the one-period problem:\n",
    "* By one period, we mean one period of uncertainty.\n",
    "* So two periods to notate: $t=0$ and $t=T$.\n",
    "* No trading or action in between the discrete period."
   ]
  },
  {
   "cell_type": "markdown",
   "id": "2d9f2ad4",
   "metadata": {},
   "source": [
    "For now, assume\n",
    "* the interest rate is zero.\n",
    "* the stock does not pay a dividend"
   ]
  },
  {
   "cell_type": "markdown",
   "id": "cd37519a",
   "metadata": {},
   "source": [
    "## Introduction via an Example"
   ]
  },
  {
   "cell_type": "markdown",
   "id": "9641c30c",
   "metadata": {},
   "source": [
    "Suppose we want to price a **european call** option, $C$, with \n",
    "* strike = 105."
   ]
  },
  {
   "cell_type": "markdown",
   "id": "036a57f8",
   "metadata": {},
   "source": [
    "![image](../refs/options/tree_equity_simple.png)"
   ]
  },
  {
   "cell_type": "markdown",
   "id": "4be7074e",
   "metadata": {},
   "source": [
    "Denote\n",
    "* stock price, $S$\n",
    "* call price, $C$\n",
    "* strike $K$\n",
    "* expiration $T$\n",
    "\n",
    "In this tree,\n",
    "* $S_u$ = 110\n",
    "* $S_d$ = 90\n",
    "* $S_0$ = 100\n",
    "\n",
    "Thus, for the call with strike $K=105$,\n",
    "* $C_u$ = 5\n",
    "* $C_d$ = 0\n",
    "* $C_0$ = ???"
   ]
  },
  {
   "cell_type": "markdown",
   "id": "741929e7",
   "metadata": {},
   "source": [
    "How could we **replicate the...**\n",
    "\n",
    "1. Call\n",
    "    - stock\n",
    "    - cash\n",
    "    \n",
    "    \n",
    "2. Cash\n",
    "    - call\n",
    "    - stock\n",
    "    \n",
    "    \n",
    "Consider the hedge ratio:"
   ]
  },
  {
   "cell_type": "markdown",
   "id": "1af6d025",
   "metadata": {},
   "source": [
    "<img src=\"../refs/options/one-period-payoff.png\" width=\"500\" />"
   ]
  },
  {
   "cell_type": "markdown",
   "id": "33cbbdf7",
   "metadata": {},
   "source": [
    "## Answer"
   ]
  },
  {
   "cell_type": "markdown",
   "id": "222610a4",
   "metadata": {},
   "source": [
    "### Hedge Ratio\n",
    "\n",
    "The key is the hedge ratio, or delta of the option over the discretized state:\n",
    "\n",
    "$$\\hedge = \\frac{C_u - C_d}{S_u-S_d}$$\n",
    "\n",
    "$$\\hedge = \\frac{5-0}{110-90} = 0.25$$"
   ]
  },
  {
   "cell_type": "markdown",
   "id": "d3cd46f3",
   "metadata": {},
   "source": [
    "### Replicating the Call\n",
    "* Long $\\hedge=0.25$ shares of the stock\n",
    "* Short \\$??? of cash\n",
    "\n",
    "We need to shift the stock payoff to the correct level of the call.\n",
    "\n",
    "$\\begin{align}\n",
    "\\alpha =& C_u - \\beta S_u\\\\\n",
    "=& 5 - 0.25 (110)\\\\\n",
    "=& -\\$22.50\n",
    "\\end{align}\n",
    "$\n",
    "\n",
    "If we are\n",
    "* long 0.25 shares of stock\n",
    "* short \\$22.50 of cash\n",
    "\n",
    "Payoff is\n",
    "* UP: .25(110) - 22.5 = \\$5\n",
    "* DOWN: .25(90) - 22.5 = \\$0 "
   ]
  },
  {
   "cell_type": "markdown",
   "id": "bde20a97",
   "metadata": {},
   "source": [
    "### Replicating Cash\n",
    "* Long $\\hedge=0.25$ shares of the stock\n",
    "* Short the call\n",
    "\n",
    "This will lead to an identical payoff in either state of $T=1$\n",
    "* UP: (.25)(110) - 5 = 22.50\n",
    "* DOWN: (.25)(90) - 0 = 22.50"
   ]
  },
  {
   "cell_type": "markdown",
   "id": "5a4c730d",
   "metadata": {},
   "source": [
    "## Pricing\n",
    "\n",
    "If two positions have identical cashflows at $T$ with 100\\% probability, then there prices must be the same at $t=0$.\n",
    "\n",
    "### Notation\n",
    "* $N_S$: shares of stock\n",
    "* $N_B$: units of cash\n",
    "* $N_C$: units of call option\n",
    "\n",
    "### Pricing the replicated call\n",
    "\n",
    "$\\begin{align}\n",
    "C_0 =& N_S S_0 + N_B\\\\\n",
    "=& 0.25(100) - 22.50\\\\\n",
    "=& 2.50\n",
    "\\end{align}$\n",
    "\n",
    "### Pricing the replicated cash\n",
    "\n",
    "$\\begin{align}\n",
    "22.50 =& N_S S_0 + N_C C_0\\\\\n",
    "=& 0.25(100) - C_0\\\\\n",
    "=& 25 - C_0\n",
    "\\end{align}$\n",
    "\n",
    "Thus, we again see $C_0= 2.50$"
   ]
  },
  {
   "cell_type": "markdown",
   "id": "071428a5",
   "metadata": {},
   "source": [
    "## Pricing Formula\n",
    "\n",
    "If we construct a riskless portfolio as above, the cost of setting it up is\n",
    "\n",
    "$$S_0\\hedge - C_0$$\n",
    "\n",
    "The present value of the guaranteed payoff is\n",
    "\n",
    "$$S_u\\hedge - C_u$$\n",
    "\n",
    "Thus, these must be equal. A little algebra yields,\n",
    "\n",
    "$$C_0 = C_u\\underbrace{\\frac{S_0 - S_d}{S_u-S_d}}_{p^*} + C_d\\underbrace{\\frac{S_u - S_0}{S_u-S_d}}_{1-p}$$\n",
    "\n",
    "$$C_0 = C_u p^* + C_d(1-p^*)$$"
   ]
  },
  {
   "cell_type": "markdown",
   "id": "63c9e47d",
   "metadata": {},
   "source": [
    "Trying this formula with the parameters above, we can confirm:\n",
    "\n",
    "$\\begin{align}\n",
    "C_0 =& 5\\frac{100-90}{110-90} - 0\\frac{110-100}{110-90}\\\\[5pt]\n",
    "=& 2.50\n",
    "\\end{align}$"
   ]
  },
  {
   "cell_type": "markdown",
   "id": "faf2288c",
   "metadata": {},
   "source": [
    "## Interpreting the term $p^*$\n",
    "\n",
    "There are a few ways to interpret the term $p^*$ above.\n",
    "\n",
    "### State-contingent payoffs\n",
    "First, consider the option as a bundle of state-space contracts.\n",
    "* $U$ pays \\\\$1 in the event that the \"up\" space is realized, \\$0 otherwise.\n",
    "* Similarly for $D$\n",
    "* $P_u$ and $P_d$ denote the time-zero price of these state-space contracts.\n",
    "\n",
    "Then, \n",
    "\n",
    "$$C_T = 5U + 0D$$\n",
    "\n",
    "and thus,\n",
    "\n",
    "$$C_0 = 5 P_u + 0 P_d$$\n",
    "\n",
    "### Probability\n",
    "\n",
    "Alternatively, consider $p$ to be the probability of realizing the \"up\" state. Then,\n",
    "\n",
    "$$C_0 = \\Ern\\left[C_T\\right]$$\n",
    "\n",
    "where $\\Ern[]$ is formed over the probabilities, $p^*$ and $1-p^*$."
   ]
  },
  {
   "cell_type": "markdown",
   "id": "6c83f398",
   "metadata": {},
   "source": [
    "## Key Features of this solution\n",
    "\n",
    "We have much more to say about this interpretation of $p^*$ as we continue. For now, consider\n",
    "* We priced the call without ever knowing actual tree probabilities.\n",
    "\n",
    "In this simple tree is equivalent to not knowing\n",
    "* the trend (mean return) of the stock.\n",
    "\n",
    "How is this possible?"
   ]
  },
  {
   "cell_type": "markdown",
   "id": "0c4da3ff",
   "metadata": {},
   "source": [
    "# Generalizing the Binomial Tree"
   ]
  },
  {
   "cell_type": "markdown",
   "id": "70a2a17c",
   "metadata": {},
   "source": [
    "Consider a generalization of\n",
    "1. contract\n",
    "1. interest rates being non-zero\n",
    "1. notation\n",
    "\n",
    "General notation:\n",
    "* derivative price is $f$, and may be a call, put, or other derivative contract.\n",
    "* time interval is $\\dt$\n",
    "* up movement and down movement of stock are multiplicative factors\n",
    "$$S_u = S_0 u, \\hspace{1cm} S_d = S_0 d$$\n",
    "\n",
    "Notate the relevant interest rate and discount factor as\n",
    "* discounting rate, $r$, continuously compounded\n",
    "* discount factor, $Z$, denoting $e^{-r\\dt}$\n",
    "* growth factor, $A$, denoting $e^{r\\dt}$."
   ]
  },
  {
   "cell_type": "markdown",
   "id": "47d3a213",
   "metadata": {},
   "source": [
    "## The general formulas"
   ]
  },
  {
   "cell_type": "markdown",
   "id": "a0b268f2",
   "metadata": {},
   "source": [
    "$$p=\\frac{A-d}{u-d}$$\n",
    "\n",
    "$$f_0 = Z\\left[pf_u + (1-p)f_d\\right]$$\n",
    "\n",
    "$$f_0 = Z\\, \\Ern[f]$$"
   ]
  },
  {
   "cell_type": "markdown",
   "id": "1437be33",
   "metadata": {},
   "source": [
    "### Setting $u$ and $d$\n",
    "\n",
    "$u$ and $d$ are parameters of the model.\n",
    "\n",
    "How should we set them?"
   ]
  },
  {
   "cell_type": "markdown",
   "id": "39ca35ef",
   "metadata": {},
   "source": [
    "#### Answer"
   ]
  },
  {
   "cell_type": "markdown",
   "id": "99415f12",
   "metadata": {},
   "source": [
    "Set them to match volatility. \n",
    "* We have the variance of the step given a bernoulli distributino\n",
    "* We want it to match a stochastic process volatility: $\\sigma\\sqrt{\\dt}$\n",
    "\n",
    "This yields\n",
    "$$u = e^{\\sigma\\sqrt{\\dt}}, \\hspace{1cm} d = e^{-\\sigma\\sqrt{\\dt}}$$"
   ]
  },
  {
   "cell_type": "markdown",
   "id": "ec855e77",
   "metadata": {},
   "source": [
    "### Other settings\n",
    "\n",
    "This methodology, (and the formulas above,) can easily incorporate...\n",
    "* dividend-paying stock\n",
    "* underlying is an index\n",
    "* futures contracts\n",
    "\n",
    "In each case, change $A$ to correspond to the expected growth rate."
   ]
  },
  {
   "cell_type": "markdown",
   "id": "69c897ac",
   "metadata": {},
   "source": [
    "## Concerns\n",
    "\n",
    "1. Discretization of space (market incompleteness)\n",
    "2. Discretization of time (approximating time dynamics)\n",
    "\n",
    "To understand the concern of market incompleteness, reconsider the one-period tree above. But now,\n",
    "* There are three states: up, down, and center.\n",
    "* Suppose $S_c = 100$.\n",
    "\n",
    "Can we perfectly replicate as above?\n",
    "\n",
    "Why not?\n",
    "* We will have two different slopes (option deltas!)\n",
    "* In a one-period model with just a stock and cash, we cannot replicate both slopes.\n",
    "\n",
    "This is what is meant by the market being \"incomplete\". Certain securities cannot be replicated.\n",
    "* We will deal with this by making the time grid finer. With two periods, we could do some intermediate trading and recover our earlier results.\n",
    "\n"
   ]
  },
  {
   "cell_type": "markdown",
   "id": "f9dcd297",
   "metadata": {},
   "source": [
    "# Binomial Trees and Fixed Income"
   ]
  },
  {
   "cell_type": "markdown",
   "id": "9136f039",
   "metadata": {},
   "source": [
    "Apply the same principles to a case where the underlying tree is not a traded security, but rather interest rates.\n",
    "\n",
    "* continuously compounded rates\n",
    "* $\\dt=0.5$ years\n",
    "* modeling the 6-month rate at each step\n",
    "\n",
    "These are (equivalently)\n",
    "* discount rates\n",
    "* YTM on a zero-coupon bond"
   ]
  },
  {
   "cell_type": "code",
   "execution_count": 1,
   "id": "4162d13e",
   "metadata": {},
   "outputs": [],
   "source": [
    "import numpy as np\n",
    "import pandas as pd\n",
    "import warnings\n",
    "warnings.filterwarnings('ignore',category=FutureWarning)"
   ]
  },
  {
   "cell_type": "code",
   "execution_count": 2,
   "id": "143012ea",
   "metadata": {},
   "outputs": [
    {
     "data": {
      "text/html": [
       "<div>\n",
       "<style scoped>\n",
       "    .dataframe tbody tr th:only-of-type {\n",
       "        vertical-align: middle;\n",
       "    }\n",
       "\n",
       "    .dataframe tbody tr th {\n",
       "        vertical-align: top;\n",
       "    }\n",
       "\n",
       "    .dataframe thead th {\n",
       "        text-align: right;\n",
       "    }\n",
       "</style>\n",
       "<table border=\"1\" class=\"dataframe\">\n",
       "  <thead>\n",
       "    <tr style=\"text-align: right;\">\n",
       "      <th></th>\n",
       "      <th>price</th>\n",
       "      <th>yield</th>\n",
       "    </tr>\n",
       "    <tr>\n",
       "      <th>time</th>\n",
       "      <th></th>\n",
       "      <th></th>\n",
       "    </tr>\n",
       "  </thead>\n",
       "  <tbody>\n",
       "    <tr>\n",
       "      <th>0.5</th>\n",
       "      <td>99.1338</td>\n",
       "      <td>1.74</td>\n",
       "    </tr>\n",
       "    <tr>\n",
       "      <th>1.0</th>\n",
       "      <td>97.8925</td>\n",
       "      <td>2.13</td>\n",
       "    </tr>\n",
       "    <tr>\n",
       "      <th>1.5</th>\n",
       "      <td>96.1531</td>\n",
       "      <td>2.62</td>\n",
       "    </tr>\n",
       "  </tbody>\n",
       "</table>\n",
       "</div>"
      ],
      "text/plain": [
       "        price  yield\n",
       "time                \n",
       "0.5   99.1338   1.74\n",
       "1.0   97.8925   2.13\n",
       "1.5   96.1531   2.62"
      ]
     },
     "execution_count": 2,
     "metadata": {},
     "output_type": "execute_result"
    }
   ],
   "source": [
    "t_grid = [.5,1,1.5]\n",
    "p_grid = [99.1338, 97.8925, 96.1531]\n",
    "y_grid = [1.74, 2.13, 2.62]\n",
    "quotes = pd.DataFrame({'price':p_grid, 'yield':y_grid},index=t_grid)\n",
    "quotes.index.name = 'time'\n",
    "quotes"
   ]
  },
  {
   "cell_type": "markdown",
   "id": "7fcf1dbe",
   "metadata": {},
   "source": [
    "<img src=\"../refs/options/tree_rates/ex_1_rates.png\" width=\"500\" />"
   ]
  },
  {
   "cell_type": "markdown",
   "id": "4b279db9",
   "metadata": {},
   "source": [
    "### Why continuously compounded?\n",
    "\n",
    "Our tree is a six-month interval, so why not a semiannual compounding?\n",
    "* This is miles vs kilometers, not a modeling choice. (There is a one-to-one mapping.)\n",
    "* As we change the time-step of the tree, we don't want to change all the compounding rates.\n",
    "* This will converge to continuous time models.\n",
    "\n",
    "Recall we can always convert between continuous and discrete compounding with:\n",
    "\n",
    "$$e^{r\\dt} = 1+r_n \\dt$$"
   ]
  },
  {
   "cell_type": "markdown",
   "id": "f2bea266",
   "metadata": {},
   "source": [
    "## Pricing Bonds\n",
    "\n",
    "Price zero-coupon treasury bonds with the rate tree above.\n",
    "\n",
    "Denote, $P_{\\text{period},\\text{state}|\\text{maturity}}$, for the bond \n",
    "\n",
    "Thus, $P_{i,j|k}$ says...\n",
    "* in period $i$\n",
    "* node $j$\n",
    "* maturity in period $k$\n",
    "\n",
    "Then using the rate tree, we can calculate the **tradeable security tree**,\n",
    "* $P_{0|2} = 97.8925$\n",
    "* $P_{1,u|2} = e^{-r_{1,u}0.5}100 = \\$98.3193$\n",
    "* $P_{1,d|2} = e^{-r_{1,d}0.5}100 = \\$99.5261$\n",
    "* $P_{2,\\cdot|2} = \\$100$"
   ]
  },
  {
   "cell_type": "markdown",
   "id": "6e77baae",
   "metadata": {},
   "source": [
    "<img src=\"../refs/options/tree_rates/ex_1_bond.png\" width=\"700\" />\n",
    "\n",
    "Source: Table 9.3, Veronesi, Pietro. Fixed Income Securities."
   ]
  },
  {
   "cell_type": "markdown",
   "id": "4e4e1421",
   "metadata": {},
   "source": [
    "## Pricing an interest-rate option\n",
    "\n",
    "Consider pricing an interest-rate derivative,\n",
    "* analogous to a put option on interest rates\n",
    "* payoff at period 1, ($t=0.5$) \n",
    "* strike is $r_K$ is 2\\%\n",
    "* Payoff is $100\\max(r_K-r_1,0)$\n",
    "\n",
    "How would you price this with the information above using a\n",
    "* 2-period bond\n",
    "* 1-period bond\n",
    "\n",
    "This problem seems more complicated than the equity example, but note that\n",
    "* There is only one period of uncertainty.\n",
    "* The one-period bond is acting as \"cash\" with an interest rate."
   ]
  },
  {
   "cell_type": "markdown",
   "id": "822962b6",
   "metadata": {},
   "source": [
    "### Answer"
   ]
  },
  {
   "cell_type": "markdown",
   "id": "7daaae46",
   "metadata": {},
   "source": [
    "$$\\beta = \\frac{f_u-f_d}{P_{1u|2}-P_{1d|2}}$$\n",
    "\n",
    "$$\\alpha = \\frac{f_{u} - \\beta P_{1u|2}}{100}$$\n",
    "\n",
    "$$p^* = \\frac{A P_{0|2} - P_{1d|2}}{P_{1u|2}-P_{1d|2}}$$\n",
    "\n",
    "where $A = e^{r_0\\dt}$."
   ]
  },
  {
   "cell_type": "code",
   "execution_count": 3,
   "id": "3cd5c845",
   "metadata": {},
   "outputs": [],
   "source": [
    "FACE = 100\n",
    "r0 = .0174\n",
    "r1 = np.array([.0339, .0095])\n",
    "rK = .02\n",
    "fud = FACE * (rK-r1)\n",
    "fud[fud<0] = 0\n",
    "\n",
    "P1_2 = [98.3193, 99.5261]\n",
    "\n",
    "beta = (fud[0] - fud[1]) / (P1_2[0] - P1_2[1])\n",
    "alpha = (fud[0] - beta * P1_2[0])/FACE"
   ]
  },
  {
   "cell_type": "code",
   "execution_count": 4,
   "id": "978926f9",
   "metadata": {},
   "outputs": [
    {
     "data": {
      "text/html": [
       "<style type=\"text/css\">\n",
       "</style>\n",
       "<table id=\"T_52d22\">\n",
       "  <thead>\n",
       "    <tr>\n",
       "      <th class=\"blank level0\" >&nbsp;</th>\n",
       "      <th id=\"T_52d22_level0_col0\" class=\"col_heading level0 col0\" >price</th>\n",
       "      <th id=\"T_52d22_level0_col1\" class=\"col_heading level0 col1\" >position</th>\n",
       "      <th id=\"T_52d22_level0_col2\" class=\"col_heading level0 col2\" >$ holding</th>\n",
       "    </tr>\n",
       "  </thead>\n",
       "  <tbody>\n",
       "    <tr>\n",
       "      <th id=\"T_52d22_level0_row0\" class=\"row_heading level0 row0\" >1-period bond</th>\n",
       "      <td id=\"T_52d22_row0_col0\" class=\"data row0 col0\" >$99.1338</td>\n",
       "      <td id=\"T_52d22_row0_col1\" class=\"data row0 col1\" >$-0.8554</td>\n",
       "      <td id=\"T_52d22_row0_col2\" class=\"data row0 col2\" >$-84.8036</td>\n",
       "    </tr>\n",
       "    <tr>\n",
       "      <th id=\"T_52d22_level0_row1\" class=\"row_heading level0 row1\" >2-period bond</th>\n",
       "      <td id=\"T_52d22_row1_col0\" class=\"data row1 col0\" >$97.8925</td>\n",
       "      <td id=\"T_52d22_row1_col1\" class=\"data row1 col1\" >$0.8701</td>\n",
       "      <td id=\"T_52d22_row1_col2\" class=\"data row1 col2\" >$85.1733</td>\n",
       "    </tr>\n",
       "    <tr>\n",
       "      <th id=\"T_52d22_level0_row2\" class=\"row_heading level0 row2\" >net</th>\n",
       "      <td id=\"T_52d22_row2_col0\" class=\"data row2 col0\" >$nan</td>\n",
       "      <td id=\"T_52d22_row2_col1\" class=\"data row2 col1\" >$nan</td>\n",
       "      <td id=\"T_52d22_row2_col2\" class=\"data row2 col2\" >$0.3696</td>\n",
       "    </tr>\n",
       "  </tbody>\n",
       "</table>\n"
      ],
      "text/plain": [
       "<pandas.io.formats.style.Styler at 0x1051212b0>"
      ]
     },
     "execution_count": 4,
     "metadata": {},
     "output_type": "execute_result"
    }
   ],
   "source": [
    "position = pd.DataFrame(index=['1-period bond','2-period bond'],columns=['price','position','$ holding'],dtype=float)\n",
    "position['price'] = quotes.iloc[0:2,0].values\n",
    "position['position'] = [alpha,beta]\n",
    "position['$ holding'] = position['price'] * position['position']\n",
    "position.loc['net','$ holding'] = position['$ holding'].sum()\n",
    "position.style.format('${:,.4f}')"
   ]
  },
  {
   "cell_type": "markdown",
   "id": "3c6b5a7e",
   "metadata": {},
   "source": [
    "Confirm that this holding perfectly replicates the payoff of the rate option in both the UP and DOWN states."
   ]
  },
  {
   "cell_type": "markdown",
   "id": "2efec372",
   "metadata": {},
   "source": [
    "### Risk-neutral pricing\n",
    "\n",
    "Show that we get the same price via risk-neutral pricing."
   ]
  },
  {
   "cell_type": "code",
   "execution_count": 5,
   "id": "684c9e5c",
   "metadata": {},
   "outputs": [
    {
     "data": {
      "text/html": [
       "<style type=\"text/css\">\n",
       "</style>\n",
       "<table id=\"T_2c665\">\n",
       "  <thead>\n",
       "    <tr>\n",
       "      <th class=\"blank level0\" >&nbsp;</th>\n",
       "      <th id=\"T_2c665_level0_col0\" class=\"col_heading level0 col0\" >probability</th>\n",
       "      <th id=\"T_2c665_level0_col1\" class=\"col_heading level0 col1\" >cashflows</th>\n",
       "      <th id=\"T_2c665_level0_col2\" class=\"col_heading level0 col2\" >probability weighted cashflows</th>\n",
       "    </tr>\n",
       "  </thead>\n",
       "  <tbody>\n",
       "    <tr>\n",
       "      <th id=\"T_2c665_level0_row0\" class=\"row_heading level0 row0\" >up</th>\n",
       "      <td id=\"T_2c665_row0_col0\" class=\"data row0 col0\" >64.49%</td>\n",
       "      <td id=\"T_2c665_row0_col1\" class=\"data row0 col1\" >0.0000</td>\n",
       "      <td id=\"T_2c665_row0_col2\" class=\"data row0 col2\" >0.0000</td>\n",
       "    </tr>\n",
       "    <tr>\n",
       "      <th id=\"T_2c665_level0_row1\" class=\"row_heading level0 row1\" >down</th>\n",
       "      <td id=\"T_2c665_row1_col0\" class=\"data row1 col0\" >35.51%</td>\n",
       "      <td id=\"T_2c665_row1_col1\" class=\"data row1 col1\" >1.0500</td>\n",
       "      <td id=\"T_2c665_row1_col2\" class=\"data row1 col2\" >0.3729</td>\n",
       "    </tr>\n",
       "    <tr>\n",
       "      <th id=\"T_2c665_level0_row2\" class=\"row_heading level0 row2\" >net</th>\n",
       "      <td id=\"T_2c665_row2_col0\" class=\"data row2 col0\" >nan%</td>\n",
       "      <td id=\"T_2c665_row2_col1\" class=\"data row2 col1\" >nan</td>\n",
       "      <td id=\"T_2c665_row2_col2\" class=\"data row2 col2\" >0.3729</td>\n",
       "    </tr>\n",
       "    <tr>\n",
       "      <th id=\"T_2c665_level0_row3\" class=\"row_heading level0 row3\" >price</th>\n",
       "      <td id=\"T_2c665_row3_col0\" class=\"data row3 col0\" >36.97%</td>\n",
       "      <td id=\"T_2c665_row3_col1\" class=\"data row3 col1\" >0.3697</td>\n",
       "      <td id=\"T_2c665_row3_col2\" class=\"data row3 col2\" >0.3697</td>\n",
       "    </tr>\n",
       "  </tbody>\n",
       "</table>\n"
      ],
      "text/plain": [
       "<pandas.io.formats.style.Styler at 0x12b03e070>"
      ]
     },
     "execution_count": 5,
     "metadata": {},
     "output_type": "execute_result"
    }
   ],
   "source": [
    "dt = 0.5\n",
    "A = np.exp(dt * r0)\n",
    "Z = np.exp(-dt*r0)\n",
    "pstar = (A*quotes.loc[1,'price'] - P1_2[1])/(P1_2[0]-P1_2[1])\n",
    "\n",
    "rnpricing = pd.DataFrame(columns=['probability','cashflows'],index=['up','down'],dtype=float)\n",
    "rnpricing.loc['up','probability'] = pstar\n",
    "rnpricing.loc['down','probability'] = 1-pstar\n",
    "rnpricing['cashflows'] = fud\n",
    "rnpricing['probability weighted cashflows'] = rnpricing['probability'] * rnpricing['cashflows']\n",
    "rnpricing.loc['net','probability weighted cashflows'] = rnpricing['probability weighted cashflows'].sum()\n",
    "rnpricing.loc['price'] = Z * rnpricing.loc['net','probability weighted cashflows']\n",
    "rnpricing.style.format({'probability':'{:.2%}', 'probability weighted cashflows':'{:.4f}','cashflows':'{:.4f}'})"
   ]
  },
  {
   "cell_type": "markdown",
   "id": "0541b3c9",
   "metadata": {},
   "source": [
    "***"
   ]
  },
  {
   "cell_type": "markdown",
   "id": "806c1278",
   "metadata": {},
   "source": [
    "# More Applications"
   ]
  },
  {
   "cell_type": "markdown",
   "id": "870557ac",
   "metadata": {},
   "source": [
    "Use these trees to price swaps, calls on bonds, etc.\n",
    "\n",
    "See Homework 1."
   ]
  },
  {
   "cell_type": "markdown",
   "id": "65a9c25a",
   "metadata": {},
   "source": [
    "***"
   ]
  },
  {
   "cell_type": "markdown",
   "id": "a4eb36a8",
   "metadata": {},
   "source": [
    "# A Multiperiod Tree"
   ]
  },
  {
   "cell_type": "markdown",
   "id": "3d791c8e",
   "metadata": {},
   "source": [
    "### Reminder on the One-period Tree\n",
    "\n",
    "We have focused on a one-period (of uncertainty) tree for\n",
    "* equities\n",
    "* rates\n",
    "\n",
    "We saw that the same computational approach applied to both, and it priced the option via\n",
    "* no-arbitrage replication\n",
    "* no-arbitrage risk-adjusted (risk-neutral) discounted expected values.\n",
    "\n",
    "\n",
    "## Multiperiod Equity Tree\n",
    "\n",
    "Continue the logic of the equity tree, and extend it to a second period.\n",
    "* Continue to use $u$ and $d$ to denote multiplicative \"up\" and \"down\" factors.\n",
    "* Fill out the underlying tree with $u$ and $d$ factors to match the volatility of the underlying.\n",
    "\n",
    "See the figure below."
   ]
  },
  {
   "cell_type": "markdown",
   "id": "509610cb",
   "metadata": {},
   "source": [
    "<img src=\"../refs/options/tree_multiperiod/two_period_form.png\" width=\"700\" />\n",
    "Reference: John Hull, Chapter 13."
   ]
  },
  {
   "cell_type": "markdown",
   "id": "7b6c2860",
   "metadata": {},
   "source": [
    "## Solution Method\n",
    "\n",
    "#### Boundary (Terminal) Conditions\n",
    "\n",
    "The contract determines the payoff at expiration as a known function of the underlying.\n",
    "* This gives us the option value at the final nodes.\n",
    "\n",
    "#### Moving Backward\n",
    "From there, go backward in time one node.\n",
    "* We have two separate, one-period trees.\n",
    "\n",
    "The solution procedure works exactly as discussed before--same formulas, with the obvious adaptations.\n",
    "* $f_{uu}$ and $f_{ud}$ instead of $f_u$ and $f_d$.\n",
    "* $S_0uu$ and $S_0ud$ instead of $S_0u$ and $S_0d$."
   ]
  },
  {
   "cell_type": "markdown",
   "id": "5b2fd796",
   "metadata": {},
   "source": [
    "# The Multiperiod Tree\n",
    "\n",
    "#### Iterate\n",
    "* Continue at each state of $T-i\\dt$.\n",
    "* Move back a time step, $\\dt$, and continue.\n",
    "\n",
    "#### Choosing a time-grid\n",
    "The time-grid must be chosen fine enough to get convergence.\n",
    "* Common to see $\\dt$ chosen such that there are around 30 steps for a vanilla American option.\n",
    "* Exotic options (barrier, knock-in, etc) may need many more steps.\n",
    "\n",
    "If the time grid is chosen too coarsely, the solution will not converge to a reasonable solution.\n",
    "* Furthermore, there may be issues of negative risk-neutral probabilities.\n",
    "* If the variance in any given step is too large, the probabilities become extreme to try to match it.\n",
    "* Small time-steps keep this from happening.\n",
    "\n",
    "#### Specific underlying values\n",
    "In the tree, we do not get to set the exact price values.\n",
    "* We have been setting $u$ and $d$ to match volatility.\n",
    "* For some options, specific underlying values are of importance.\n",
    "\n",
    "For this flexibility, we would need to take a different approach which will lead to **trinomial trees.**"
   ]
  },
  {
   "cell_type": "code",
   "execution_count": 6,
   "id": "5305edee",
   "metadata": {},
   "outputs": [],
   "source": [
    "import sys\n",
    "sys.path.insert(0, '../cmds')\n",
    "from options import *"
   ]
  },
  {
   "cell_type": "markdown",
   "id": "0938a081",
   "metadata": {},
   "source": [
    "### Inputs"
   ]
  },
  {
   "cell_type": "code",
   "execution_count": 7,
   "id": "fb8db685",
   "metadata": {},
   "outputs": [],
   "source": [
    "## Market variables\n",
    "r = .05\n",
    "sigma = .25\n",
    "So = 50\n",
    "\n",
    "## Contract\n",
    "T = 2\n",
    "K = 55\n",
    "funPayoff = lambda x: np.maximum(K-x,0)\n",
    "\n",
    "## Solving variable\n",
    "Nt = 2\n",
    "uset = 1.2\n",
    "dset = .8\n",
    "\n",
    "dt = T/Nt"
   ]
  },
  {
   "cell_type": "markdown",
   "id": "86619cae",
   "metadata": {},
   "source": [
    "### Underlying Tree"
   ]
  },
  {
   "cell_type": "code",
   "execution_count": 8,
   "id": "026ad1d3",
   "metadata": {
    "scrolled": true
   },
   "outputs": [
    {
     "data": {
      "text/html": [
       "<style type=\"text/css\">\n",
       "</style>\n",
       "<table id=\"T_d6964\">\n",
       "  <thead>\n",
       "    <tr>\n",
       "      <th class=\"blank level0\" >&nbsp;</th>\n",
       "      <th id=\"T_d6964_level0_col0\" class=\"col_heading level0 col0\" >0</th>\n",
       "      <th id=\"T_d6964_level0_col1\" class=\"col_heading level0 col1\" >1</th>\n",
       "      <th id=\"T_d6964_level0_col2\" class=\"col_heading level0 col2\" >2</th>\n",
       "    </tr>\n",
       "  </thead>\n",
       "  <tbody>\n",
       "    <tr>\n",
       "      <th id=\"T_d6964_level0_row0\" class=\"row_heading level0 row0\" >0</th>\n",
       "      <td id=\"T_d6964_row0_col0\" class=\"data row0 col0\" >50.00</td>\n",
       "      <td id=\"T_d6964_row0_col1\" class=\"data row0 col1\" >64.20</td>\n",
       "      <td id=\"T_d6964_row0_col2\" class=\"data row0 col2\" >82.44</td>\n",
       "    </tr>\n",
       "    <tr>\n",
       "      <th id=\"T_d6964_level0_row1\" class=\"row_heading level0 row1\" >1</th>\n",
       "      <td id=\"T_d6964_row1_col0\" class=\"data row1 col0\" >nan</td>\n",
       "      <td id=\"T_d6964_row1_col1\" class=\"data row1 col1\" >38.94</td>\n",
       "      <td id=\"T_d6964_row1_col2\" class=\"data row1 col2\" >50.00</td>\n",
       "    </tr>\n",
       "    <tr>\n",
       "      <th id=\"T_d6964_level0_row2\" class=\"row_heading level0 row2\" >2</th>\n",
       "      <td id=\"T_d6964_row2_col0\" class=\"data row2 col0\" >nan</td>\n",
       "      <td id=\"T_d6964_row2_col1\" class=\"data row2 col1\" >nan</td>\n",
       "      <td id=\"T_d6964_row2_col2\" class=\"data row2 col2\" >30.33</td>\n",
       "    </tr>\n",
       "  </tbody>\n",
       "</table>\n"
      ],
      "text/plain": [
       "<pandas.io.formats.style.Styler at 0x14d14fa30>"
      ]
     },
     "execution_count": 8,
     "metadata": {},
     "output_type": "execute_result"
    }
   ],
   "source": [
    "tree, treeinfo = treeUnder(So,T,Nt,sigma=sigma)\n",
    "\n",
    "tree.style.format('{:.2f}')"
   ]
  },
  {
   "cell_type": "markdown",
   "id": "f8e89240",
   "metadata": {},
   "source": [
    "### Tree Rates"
   ]
  },
  {
   "cell_type": "code",
   "execution_count": 9,
   "id": "45ccede4",
   "metadata": {},
   "outputs": [
    {
     "name": "stdout",
     "output_type": "stream",
     "text": [
      "Risk-neutral probability: 53.93%\n"
     ]
    }
   ],
   "source": [
    "rates = r * np.ones(Nt)\n",
    "\n",
    "Z = np.exp(-rates*dt)\n",
    "A = np.exp(rates * dt)\n",
    "\n",
    "pstar = (A - treeinfo.d)/(treeinfo.u-treeinfo.d)\n",
    "\n",
    "print(f'Risk-neutral probability: {pstar[0]:.2%}')"
   ]
  },
  {
   "cell_type": "markdown",
   "id": "6596ea00",
   "metadata": {},
   "source": [
    "### Solving the European Tree"
   ]
  },
  {
   "cell_type": "code",
   "execution_count": 10,
   "id": "0200f7a5",
   "metadata": {},
   "outputs": [
    {
     "data": {
      "text/html": [
       "<style type=\"text/css\">\n",
       "</style>\n",
       "<table id=\"T_b8022\">\n",
       "  <thead>\n",
       "    <tr>\n",
       "      <th class=\"blank level0\" >&nbsp;</th>\n",
       "      <th id=\"T_b8022_level0_col0\" class=\"col_heading level0 col0\" >0</th>\n",
       "      <th id=\"T_b8022_level0_col1\" class=\"col_heading level0 col1\" >1</th>\n",
       "      <th id=\"T_b8022_level0_col2\" class=\"col_heading level0 col2\" >2</th>\n",
       "    </tr>\n",
       "  </thead>\n",
       "  <tbody>\n",
       "    <tr>\n",
       "      <th id=\"T_b8022_level0_row0\" class=\"row_heading level0 row0\" >0</th>\n",
       "      <td id=\"T_b8022_row0_col0\" class=\"data row0 col0\" >6.99</td>\n",
       "      <td id=\"T_b8022_row0_col1\" class=\"data row0 col1\" >2.19</td>\n",
       "      <td id=\"T_b8022_row0_col2\" class=\"data row0 col2\" >0.00</td>\n",
       "    </tr>\n",
       "    <tr>\n",
       "      <th id=\"T_b8022_level0_row1\" class=\"row_heading level0 row1\" >1</th>\n",
       "      <td id=\"T_b8022_row1_col0\" class=\"data row1 col0\" >nan</td>\n",
       "      <td id=\"T_b8022_row1_col1\" class=\"data row1 col1\" >13.38</td>\n",
       "      <td id=\"T_b8022_row1_col2\" class=\"data row1 col2\" >5.00</td>\n",
       "    </tr>\n",
       "    <tr>\n",
       "      <th id=\"T_b8022_level0_row2\" class=\"row_heading level0 row2\" >2</th>\n",
       "      <td id=\"T_b8022_row2_col0\" class=\"data row2 col0\" >nan</td>\n",
       "      <td id=\"T_b8022_row2_col1\" class=\"data row2 col1\" >nan</td>\n",
       "      <td id=\"T_b8022_row2_col2\" class=\"data row2 col2\" >24.67</td>\n",
       "    </tr>\n",
       "  </tbody>\n",
       "</table>\n"
      ],
      "text/plain": [
       "<pandas.io.formats.style.Styler at 0x12b03edc0>"
      ]
     },
     "execution_count": 10,
     "metadata": {},
     "output_type": "execute_result"
    }
   ],
   "source": [
    "treeV = treeAsset(funPayoff,tree,treeinfo,Z=Z,pstar=pstar)\n",
    "treeV.style.format('{:.2f}')"
   ]
  },
  {
   "cell_type": "markdown",
   "id": "602975ae",
   "metadata": {},
   "source": [
    "### Compare to Black-Scholes"
   ]
  },
  {
   "cell_type": "code",
   "execution_count": 11,
   "id": "a4b7c9f4",
   "metadata": {},
   "outputs": [
    {
     "data": {
      "text/plain": [
       "6.8830357011256"
      ]
     },
     "execution_count": 11,
     "metadata": {},
     "output_type": "execute_result"
    }
   ],
   "source": [
    "f0BS = bs_price(under=So,strike=K,T=T,rf=r,vol=sigma,option='put')\n",
    "f0BS"
   ]
  },
  {
   "cell_type": "markdown",
   "id": "8aee4e06",
   "metadata": {},
   "source": [
    "## American Option"
   ]
  },
  {
   "cell_type": "code",
   "execution_count": 12,
   "id": "02279e51",
   "metadata": {},
   "outputs": [
    {
     "data": {
      "text/html": [
       "<style type=\"text/css\">\n",
       "</style>\n",
       "<table id=\"T_a84a8\">\n",
       "  <thead>\n",
       "    <tr>\n",
       "      <th class=\"blank level0\" >&nbsp;</th>\n",
       "      <th id=\"T_a84a8_level0_col0\" class=\"col_heading level0 col0\" >0</th>\n",
       "      <th id=\"T_a84a8_level0_col1\" class=\"col_heading level0 col1\" >1</th>\n",
       "      <th id=\"T_a84a8_level0_col2\" class=\"col_heading level0 col2\" >2</th>\n",
       "    </tr>\n",
       "  </thead>\n",
       "  <tbody>\n",
       "    <tr>\n",
       "      <th id=\"T_a84a8_level0_row0\" class=\"row_heading level0 row0\" >0</th>\n",
       "      <td id=\"T_a84a8_row0_col0\" class=\"data row0 col0\" >8.16</td>\n",
       "      <td id=\"T_a84a8_row0_col1\" class=\"data row0 col1\" >2.19</td>\n",
       "      <td id=\"T_a84a8_row0_col2\" class=\"data row0 col2\" >0.00</td>\n",
       "    </tr>\n",
       "    <tr>\n",
       "      <th id=\"T_a84a8_level0_row1\" class=\"row_heading level0 row1\" >1</th>\n",
       "      <td id=\"T_a84a8_row1_col0\" class=\"data row1 col0\" >nan</td>\n",
       "      <td id=\"T_a84a8_row1_col1\" class=\"data row1 col1\" >16.06</td>\n",
       "      <td id=\"T_a84a8_row1_col2\" class=\"data row1 col2\" >5.00</td>\n",
       "    </tr>\n",
       "    <tr>\n",
       "      <th id=\"T_a84a8_level0_row2\" class=\"row_heading level0 row2\" >2</th>\n",
       "      <td id=\"T_a84a8_row2_col0\" class=\"data row2 col0\" >nan</td>\n",
       "      <td id=\"T_a84a8_row2_col1\" class=\"data row2 col1\" >nan</td>\n",
       "      <td id=\"T_a84a8_row2_col2\" class=\"data row2 col2\" >24.67</td>\n",
       "    </tr>\n",
       "  </tbody>\n",
       "</table>\n"
      ],
      "text/plain": [
       "<pandas.io.formats.style.Styler at 0x14d163e20>"
      ]
     },
     "execution_count": 12,
     "metadata": {},
     "output_type": "execute_result"
    }
   ],
   "source": [
    "STYLE = 'american'\n",
    "treeVamer, treeExer = treeAsset(funPayoff,tree,treeinfo,Z=Z,pstar=pstar,style='american')\n",
    "treeVamer.style.format('{:.2f}')"
   ]
  },
  {
   "cell_type": "code",
   "execution_count": 13,
   "id": "b875c7f0",
   "metadata": {
    "scrolled": true
   },
   "outputs": [
    {
     "data": {
      "text/html": [
       "<div>\n",
       "<style scoped>\n",
       "    .dataframe tbody tr th:only-of-type {\n",
       "        vertical-align: middle;\n",
       "    }\n",
       "\n",
       "    .dataframe tbody tr th {\n",
       "        vertical-align: top;\n",
       "    }\n",
       "\n",
       "    .dataframe thead th {\n",
       "        text-align: right;\n",
       "    }\n",
       "</style>\n",
       "<table border=\"1\" class=\"dataframe\">\n",
       "  <thead>\n",
       "    <tr style=\"text-align: right;\">\n",
       "      <th></th>\n",
       "      <th>0</th>\n",
       "      <th>1</th>\n",
       "      <th>2</th>\n",
       "    </tr>\n",
       "  </thead>\n",
       "  <tbody>\n",
       "    <tr>\n",
       "      <th>0</th>\n",
       "      <td>False</td>\n",
       "      <td>False</td>\n",
       "      <td>False</td>\n",
       "    </tr>\n",
       "    <tr>\n",
       "      <th>1</th>\n",
       "      <td>False</td>\n",
       "      <td>True</td>\n",
       "      <td>True</td>\n",
       "    </tr>\n",
       "    <tr>\n",
       "      <th>2</th>\n",
       "      <td>NaN</td>\n",
       "      <td>NaN</td>\n",
       "      <td>True</td>\n",
       "    </tr>\n",
       "  </tbody>\n",
       "</table>\n",
       "</div>"
      ],
      "text/plain": [
       "       0      1      2\n",
       "0  False  False  False\n",
       "1  False   True   True\n",
       "2    NaN    NaN   True"
      ]
     },
     "execution_count": 13,
     "metadata": {},
     "output_type": "execute_result"
    }
   ],
   "source": [
    "treeExer"
   ]
  },
  {
   "cell_type": "markdown",
   "id": "2a71f340",
   "metadata": {},
   "source": [
    "### Compare all three"
   ]
  },
  {
   "cell_type": "code",
   "execution_count": 14,
   "id": "787c1498",
   "metadata": {
    "scrolled": true
   },
   "outputs": [
    {
     "data": {
      "text/html": [
       "<style type=\"text/css\">\n",
       "</style>\n",
       "<table id=\"T_7e4ee\">\n",
       "  <thead>\n",
       "    <tr>\n",
       "      <th class=\"blank level0\" >&nbsp;</th>\n",
       "      <th id=\"T_7e4ee_level0_col0\" class=\"col_heading level0 col0\" >value</th>\n",
       "    </tr>\n",
       "  </thead>\n",
       "  <tbody>\n",
       "    <tr>\n",
       "      <th id=\"T_7e4ee_level0_row0\" class=\"row_heading level0 row0\" >BS value</th>\n",
       "      <td id=\"T_7e4ee_row0_col0\" class=\"data row0 col0\" >6.8830</td>\n",
       "    </tr>\n",
       "    <tr>\n",
       "      <th id=\"T_7e4ee_level0_row1\" class=\"row_heading level0 row1\" >tree value</th>\n",
       "      <td id=\"T_7e4ee_row1_col0\" class=\"data row1 col0\" >6.9865</td>\n",
       "    </tr>\n",
       "    <tr>\n",
       "      <th id=\"T_7e4ee_level0_row2\" class=\"row_heading level0 row2\" >American</th>\n",
       "      <td id=\"T_7e4ee_row2_col0\" class=\"data row2 col0\" >8.1620</td>\n",
       "    </tr>\n",
       "  </tbody>\n",
       "</table>\n"
      ],
      "text/plain": [
       "<pandas.io.formats.style.Styler at 0x14d172160>"
      ]
     },
     "execution_count": 14,
     "metadata": {},
     "output_type": "execute_result"
    }
   ],
   "source": [
    "pd.DataFrame([f0BS,treeV.iloc[0,0],treeVamer.iloc[0,0]],columns=['value'],index=['BS value','tree value','American']).style.format('{:.4f}')"
   ]
  }
 ],
 "metadata": {
  "hide_input": true,
  "kernelspec": {
   "display_name": "Python 3 (ipykernel)",
   "language": "python",
   "name": "python3"
  },
  "language_info": {
   "codemirror_mode": {
    "name": "ipython",
    "version": 3
   },
   "file_extension": ".py",
   "mimetype": "text/x-python",
   "name": "python",
   "nbconvert_exporter": "python",
   "pygments_lexer": "ipython3",
   "version": "3.9.6"
  }
 },
 "nbformat": 4,
 "nbformat_minor": 5
}
