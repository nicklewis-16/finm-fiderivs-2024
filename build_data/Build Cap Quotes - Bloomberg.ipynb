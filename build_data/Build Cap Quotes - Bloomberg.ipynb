{
 "cells": [
  {
   "cell_type": "code",
   "execution_count": 1,
   "id": "dad73ded",
   "metadata": {},
   "outputs": [],
   "source": [
    "import pandas as pd\n",
    "import numpy as np\n",
    "from xbbg import blp"
   ]
  },
  {
   "cell_type": "markdown",
   "id": "a534709e",
   "metadata": {},
   "source": [
    "# Download Bloomberg Data"
   ]
  },
  {
   "cell_type": "code",
   "execution_count": 2,
   "id": "37b58be4",
   "metadata": {},
   "outputs": [],
   "source": [
    "STARTDATE = '2023-01-01'\n",
    "ENDDATE = '2024-03-05'\n",
    "fld = 'mty_years'"
   ]
  },
  {
   "cell_type": "markdown",
   "id": "a5f79c29",
   "metadata": {},
   "source": [
    "Consider using the `fld` of `days_to_mty` for more accurate day-count calculations."
   ]
  },
  {
   "cell_type": "code",
   "execution_count": 3,
   "id": "3b867905",
   "metadata": {},
   "outputs": [],
   "source": [
    "SAVEDATA = True\n",
    "OUTFILE = 'cap_quotes' + '_' + ENDDATE"
   ]
  },
  {
   "cell_type": "markdown",
   "id": "f1718b1b",
   "metadata": {},
   "source": [
    "### Cap tickers\n",
    "\n",
    "Use Bloomberg's `VCUB` command to access their volatility cube tool. \n",
    "* Change the \"view\" to see cap vols\n",
    "* Choose to quote in normal of lognormal terms.\n",
    "* Click \"market data\" to access another tab of caplet vols\n",
    "* see strikes by ticking the checkbox\n",
    "* Get individual tickers from VCUB \"market data\" and right click on the grid.\n",
    "\n",
    "Note that the cap tickers are not typical.\n",
    "* Do not list data unless using SMKO source, (as opposed to BVOL) in the API."
   ]
  },
  {
   "cell_type": "code",
   "execution_count": 4,
   "id": "56f03799",
   "metadata": {},
   "outputs": [],
   "source": [
    "codelist = list(range(1,11))\n",
    "ticks = [f'USCNSQ{code} SMKO Curncy' for code in codelist]"
   ]
  },
  {
   "cell_type": "code",
   "execution_count": 5,
   "id": "0ead3b58",
   "metadata": {},
   "outputs": [],
   "source": [
    "capdata = blp.bdh(tickers=ticks, flds='last_price',\\\n",
    "        start_date=STARTDATE, end_date=ENDDATE).droplevel(level=1,axis=1)\n",
    "\n",
    "cmats = blp.bdp(tickers=ticks, flds=[fld]).sort_values('mty_years').rename(columns={fld:'maturity'})\n",
    "\n",
    "capquotes = pd.concat([cmats.T, capdata], axis=0)\n",
    "capquotes.index.name = 'date'"
   ]
  },
  {
   "cell_type": "markdown",
   "id": "34e75ea9",
   "metadata": {},
   "source": [
    "### SOFR Swap Tickers\n",
    "\n",
    "Use letters in the ticker to get quarterly frequency up to 3 years."
   ]
  },
  {
   "cell_type": "code",
   "execution_count": 6,
   "id": "c83d3b7b",
   "metadata": {},
   "outputs": [],
   "source": [
    "codes_yr = list(range(1,11))\n",
    "codes_month = ['','C','F','I']\n",
    "\n",
    "ticks = []\n",
    "for mnth in codes_month[1:]:\n",
    "    ticks.append(f'USOSFR{mnth} Curncy')\n",
    "\n",
    "for code in codes_yr:\n",
    "    for mnth in codes_month:\n",
    "        tag = f'{code}'+mnth\n",
    "        ticks.append(f'USOSFR{tag} Curncy')"
   ]
  },
  {
   "cell_type": "code",
   "execution_count": 7,
   "id": "c4d58539",
   "metadata": {},
   "outputs": [],
   "source": [
    "sofrdata = blp.bdh(tickers=ticks, flds='last_price',\\\n",
    "        start_date=STARTDATE, end_date=ENDDATE).droplevel(level=1,axis=1)\n",
    "mats = blp.bdp(tickers=ticks, flds=[fld]).sort_values('mty_years').rename(columns={fld:'maturity'})\n",
    "\n",
    "sofrquotes = pd.concat([mats.T, sofrdata], axis=0)\n",
    "sofrquotes.index.name = 'date'"
   ]
  },
  {
   "cell_type": "markdown",
   "id": "02a9ce8b",
   "metadata": {},
   "source": [
    "### Save Data"
   ]
  },
  {
   "cell_type": "code",
   "execution_count": 8,
   "id": "000e92e6",
   "metadata": {},
   "outputs": [],
   "source": [
    "if SAVEDATA:\n",
    "    outfile = f'../data/{OUTFILE}.xlsx'\n",
    "    with pd.ExcelWriter(outfile) as writer:  \n",
    "        capquotes.to_excel(writer, sheet_name= 'cap', index=True)\n",
    "        sofrquotes.to_excel(writer, sheet_name= 'sofr', index=True)"
   ]
  },
  {
   "cell_type": "markdown",
   "id": "55771a95",
   "metadata": {},
   "source": [
    "***"
   ]
  }
 ],
 "metadata": {
  "hide_input": false,
  "kernelspec": {
   "display_name": "Python 3 (ipykernel)",
   "language": "python",
   "name": "python3"
  },
  "language_info": {
   "codemirror_mode": {
    "name": "ipython",
    "version": 3
   },
   "file_extension": ".py",
   "mimetype": "text/x-python",
   "name": "python",
   "nbconvert_exporter": "python",
   "pygments_lexer": "ipython3",
   "version": "3.9.6"
  }
 },
 "nbformat": 4,
 "nbformat_minor": 5
}
