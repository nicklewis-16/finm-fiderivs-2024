{
 "cells": [
  {
   "cell_type": "code",
   "execution_count": 1,
   "id": "5e3e9d0f",
   "metadata": {},
   "outputs": [],
   "source": [
    "import pandas as pd\n",
    "import numpy as np\n",
    "from xbbg import blp"
   ]
  },
  {
   "cell_type": "markdown",
   "id": "b95e9b14",
   "metadata": {},
   "source": [
    "# Download Bloomberg Data"
   ]
  },
  {
   "cell_type": "code",
   "execution_count": 8,
   "id": "84d62155",
   "metadata": {},
   "outputs": [],
   "source": [
    "STARTDATE = '2022-01-01'\n",
    "ENDDATE = '2024-02-20'\n",
    "fld = 'mty_years'"
   ]
  },
  {
   "cell_type": "markdown",
   "id": "5ddbe159",
   "metadata": {},
   "source": [
    "Consider using the `fld` of `days_to_mty` for more accurate day-count calculations."
   ]
  },
  {
   "cell_type": "code",
   "execution_count": 9,
   "id": "0c251a0c",
   "metadata": {},
   "outputs": [],
   "source": [
    "SAVEDATA = True\n",
    "OUTFILE = 'cap_quotes' + '_' + ENDDATE"
   ]
  },
  {
   "cell_type": "markdown",
   "id": "72eb25e7",
   "metadata": {},
   "source": [
    "### Cap tickers\n",
    "\n",
    "Use Bloomberg's `VCUB` command to access their volatility cube tool. \n",
    "* Change the \"view\" to see cap vols\n",
    "* Choose to quote in normal of lognormal terms.\n",
    "* Click \"market data\" to access another tab of caplet vols\n",
    "* see strikes by ticking the checkbox\n",
    "* Get individual tickers from VCUB \"market data\" and right click on the grid.\n",
    "\n",
    "Note that the cap tickers are not typical.\n",
    "* Do not list data unless using SMKO source, (as opposed to BVOL) in the API."
   ]
  },
  {
   "cell_type": "code",
   "execution_count": 10,
   "id": "2143f84a",
   "metadata": {},
   "outputs": [],
   "source": [
    "codelist = list(range(1,11))\n",
    "ticks = [f'USCNSQ{code} SMKO Curncy' for code in codelist]"
   ]
  },
  {
   "cell_type": "code",
   "execution_count": 11,
   "id": "ec625e8c",
   "metadata": {},
   "outputs": [],
   "source": [
    "capdata = blp.bdh(tickers=ticks, flds='last_price',\\\n",
    "        start_date=STARTDATE, end_date=ENDDATE).droplevel(level=1,axis=1)\n",
    "\n",
    "cmats = blp.bdp(tickers=ticks, flds=[fld]).sort_values('mty_years').rename(columns={fld:'maturity'})\n",
    "\n",
    "capquotes = pd.concat([cmats.T, capdata], axis=0)\n",
    "capquotes.index.name = 'date'"
   ]
  },
  {
   "cell_type": "markdown",
   "id": "1ad56d58",
   "metadata": {},
   "source": [
    "### SOFR Swap Tickers\n",
    "\n",
    "Use letters in the ticker to get quarterly frequency up to 3 years."
   ]
  },
  {
   "cell_type": "code",
   "execution_count": 12,
   "id": "aac69e66",
   "metadata": {},
   "outputs": [],
   "source": [
    "codes_yr = list(range(1,11))\n",
    "codes_month = ['','C','F','I']\n",
    "\n",
    "ticks = []\n",
    "for mnth in codes_month[1:]:\n",
    "    ticks.append(f'USOSFR{mnth} Curncy')\n",
    "\n",
    "for code in codes_yr:\n",
    "    for mnth in codes_month:\n",
    "        tag = f'{code}'+mnth\n",
    "        ticks.append(f'USOSFR{tag} Curncy')"
   ]
  },
  {
   "cell_type": "code",
   "execution_count": 13,
   "id": "c743d8c7",
   "metadata": {},
   "outputs": [],
   "source": [
    "sofrdata = blp.bdh(tickers=ticks, flds='last_price',\\\n",
    "        start_date=STARTDATE, end_date=ENDDATE).droplevel(level=1,axis=1)\n",
    "mats = blp.bdp(tickers=ticks, flds=[fld]).sort_values('mty_years').rename(columns={fld:'maturity'})\n",
    "\n",
    "sofrquotes = pd.concat([mats.T, sofrdata], axis=0)\n",
    "sofrquotes.index.name = 'date'"
   ]
  },
  {
   "cell_type": "markdown",
   "id": "ace51008",
   "metadata": {},
   "source": [
    "### Save Data"
   ]
  },
  {
   "cell_type": "code",
   "execution_count": 14,
   "id": "d9fa83f2",
   "metadata": {},
   "outputs": [],
   "source": [
    "if SAVEDATA:\n",
    "    outfile = f'../data/{OUTFILE}.xlsx'\n",
    "    with pd.ExcelWriter(outfile) as writer:  \n",
    "        capquotes.to_excel(writer, sheet_name= 'cap', index=True)\n",
    "        sofrquotes.to_excel(writer, sheet_name= 'sofr', index=True)"
   ]
  },
  {
   "cell_type": "markdown",
   "id": "af9e36da",
   "metadata": {},
   "source": [
    "***"
   ]
  }
 ],
 "metadata": {
  "hide_input": false,
  "kernelspec": {
   "display_name": "Python 3 (ipykernel)",
   "language": "python",
   "name": "python3"
  },
  "language_info": {
   "codemirror_mode": {
    "name": "ipython",
    "version": 3
   },
   "file_extension": ".py",
   "mimetype": "text/x-python",
   "name": "python",
   "nbconvert_exporter": "python",
   "pygments_lexer": "ipython3",
   "version": "3.9.6"
  }
 },
 "nbformat": 4,
 "nbformat_minor": 5
}
