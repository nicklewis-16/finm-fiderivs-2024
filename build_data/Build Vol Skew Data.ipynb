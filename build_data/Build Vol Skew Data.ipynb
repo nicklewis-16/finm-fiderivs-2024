{
 "cells": [
  {
   "cell_type": "code",
   "execution_count": 1,
   "id": "30f2b608",
   "metadata": {},
   "outputs": [
    {
     "ename": "ModuleNotFoundError",
     "evalue": "No module named 'quandl'",
     "output_type": "error",
     "traceback": [
      "\u001b[0;31m---------------------------------------------------------------------------\u001b[0m",
      "\u001b[0;31mModuleNotFoundError\u001b[0m                       Traceback (most recent call last)",
      "Cell \u001b[0;32mIn[1], line 22\u001b[0m\n\u001b[1;32m     19\u001b[0m sys\u001b[38;5;241m.\u001b[39mpath\u001b[38;5;241m.\u001b[39minsert(\u001b[38;5;241m0\u001b[39m,\u001b[38;5;124m'\u001b[39m\u001b[38;5;124m../cmds\u001b[39m\u001b[38;5;124m'\u001b[39m)\n\u001b[1;32m     20\u001b[0m \u001b[38;5;28;01mfrom\u001b[39;00m \u001b[38;5;21;01moptions\u001b[39;00m \u001b[38;5;28;01mimport\u001b[39;00m \u001b[38;5;241m*\u001b[39m\n\u001b[0;32m---> 22\u001b[0m \u001b[38;5;28;01mimport\u001b[39;00m \u001b[38;5;21;01mquandl\u001b[39;00m\n",
      "\u001b[0;31mModuleNotFoundError\u001b[0m: No module named 'quandl'"
     ]
    }
   ],
   "source": [
    "import pandas as pd\n",
    "import numpy as np\n",
    "import datetime\n",
    "import warnings\n",
    "\n",
    "from scipy.stats import norm\n",
    "\n",
    "import matplotlib.pyplot as plt\n",
    "%matplotlib inline\n",
    "plt.rcParams['figure.figsize'] = (12,6)\n",
    "plt.rcParams['font.size'] = 15\n",
    "plt.rcParams['legend.fontsize'] = 13\n",
    "\n",
    "from matplotlib.ticker import (MultipleLocator,\n",
    "                               FormatStrFormatter,\n",
    "                               AutoMinorLocator)\n",
    "\n",
    "import sys\n",
    "sys.path.insert(0,'../cmds')\n",
    "from options import *\n",
    "\n",
    "import quandl"
   ]
  },
  {
   "cell_type": "code",
   "execution_count": null,
   "id": "9dcb008a",
   "metadata": {},
   "outputs": [],
   "source": [
    "TAG = '2024'"
   ]
  },
  {
   "cell_type": "code",
   "execution_count": 24,
   "id": "ceedd557",
   "metadata": {},
   "outputs": [],
   "source": [
    "file_key = open(\"../../keys/quandl_key.txt\",\"r\")\n",
    "API_KEY = file_key.read()\n",
    "file_key.close()\n",
    "\n",
    "quandl.ApiConfig.api_key = API_KEY"
   ]
  },
  {
   "cell_type": "markdown",
   "id": "e350ffb4",
   "metadata": {},
   "source": [
    "## Tickers\n",
    "\n",
    "https://data.nasdaq.com/data/OWF-optionworks-futures-options/documentation?anchor=coverage-data-organization"
   ]
  },
  {
   "cell_type": "code",
   "execution_count": 25,
   "id": "00bea31f",
   "metadata": {},
   "outputs": [],
   "source": [
    "TICKS = [\n",
    "    'OWF/CBT_FV_FV_U2023_IV',\n",
    "    'OWF/CME_ES_ES_U2023_IV',\n",
    "    'OWF/CBT_TY_TY_U2023_IV',\n",
    "    'OWF/CBT_FF_FF_N2023_IV'\n",
    "    'OWF/CME_ED_ED_U2023_IV'\n",
    "]\n",
    "\n",
    "ticksplitlabs = ['exchange','futures ticker','option ticker','monthYear']\n",
    "info = pd.DataFrame(index=ticksplitlabs)\n",
    "info.index.name = 'specs'\n",
    "surfs = dict()\n",
    "labels = dict()"
   ]
  },
  {
   "cell_type": "code",
   "execution_count": 26,
   "id": "61b2c7c1",
   "metadata": {},
   "outputs": [],
   "source": [
    "for tick in TICKS:\n",
    "    ### Download Data\n",
    "    df_model = quandl.get(f'{tick}M')\n",
    "    df_surf = quandl.get(f'{tick}S')\n",
    "\n",
    "    ### Organize Labels\n",
    "    finalDate = df_model.index[-1]\n",
    "    tick_split = tick.split('/')[1].split('_')[0:-1]\n",
    "    labels[tick] = ' '.join(tick_split)\n",
    "    label = labels[tick]\n",
    "\n",
    "    ### Data Descriptions\n",
    "    info.loc[ticksplitlabs,label] = tick_split\n",
    "    info.loc['option expiration',label] = (finalDate + datetime.timedelta(df_model.loc[finalDate,'DtE'])).strftime('%Y-%m-%d')\n",
    "    info.loc['future expiration',label] = (finalDate + datetime.timedelta(df_model.loc[finalDate,'DtT'])).strftime('%Y-%m-%d')\n",
    "\n",
    "\n",
    "    ### Organize Data\n",
    "    surf = df_surf.drop(columns=['DNSvol','DtE']).join(df_model[['Future','DtE','DtT']]).rename(columns={'DtT': 'Expiration Future','DtE':'Expiration Option','Future':'Future Price'})\n",
    "    surf = pd.concat([surf.iloc[:,-3:], surf.iloc[:,0:-3]],axis=1)\n",
    "    surf[['Expiration Future','Expiration Option']] /= 365\n",
    "    \n",
    "    surfs[tick] = surf"
   ]
  },
  {
   "cell_type": "code",
   "execution_count": 27,
   "id": "49a63cd6",
   "metadata": {},
   "outputs": [],
   "source": [
    "with pd.ExcelWriter(f'../vol_surfaces_{TAG}.xlsx') as writer:  \n",
    "    info.to_excel(writer, sheet_name= 'descriptions')\n",
    "    for tick in TICKS:\n",
    "        surfs[tick].to_excel(writer, sheet_name=labels[tick])"
   ]
  }
 ],
 "metadata": {
  "hide_input": false,
  "kernelspec": {
   "display_name": "Python 3 (ipykernel)",
   "language": "python",
   "name": "python3"
  },
  "language_info": {
   "codemirror_mode": {
    "name": "ipython",
    "version": 3
   },
   "file_extension": ".py",
   "mimetype": "text/x-python",
   "name": "python",
   "nbconvert_exporter": "python",
   "pygments_lexer": "ipython3",
   "version": "3.9.6"
  }
 },
 "nbformat": 4,
 "nbformat_minor": 5
}
