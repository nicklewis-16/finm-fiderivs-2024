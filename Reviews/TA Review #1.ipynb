{
 "cells": [
  {
   "cell_type": "markdown",
   "metadata": {},
   "source": [
    "# TA Review 1\n",
    "*2/13/2024*\n",
    "\n",
    "## FINM 37500 - 2024\n",
    "\n",
    "### UChicago Financial Mathematics\n",
    "\n",
    "* Jordan Sacks\n",
    "* jordansacks@uchicago.edu"
   ]
  },
  {
   "cell_type": "markdown",
   "metadata": {},
   "source": [
    "### Agenda\n",
    "**Lecture 1 Topics**\n",
    "- Binomial Trees\n",
    "- Black's Formulas (Black's Model 76, General Model with time-varying interest rates)\n",
    " <br>"
   ]
  },
  {
   "cell_type": "markdown",
   "metadata": {},
   "source": [
    "### Libraries"
   ]
  },
  {
   "cell_type": "code",
   "execution_count": 17,
   "metadata": {},
   "outputs": [],
   "source": [
    "import numpy as np\n",
    "import pandas as pd\n",
    "\n",
    "import sys\n",
    "sys.path.insert(0, '../cmds')\n",
    "from binomial import *\n",
    "from options import *"
   ]
  },
  {
   "cell_type": "markdown",
   "metadata": {},
   "source": [
    "$$\\newcommand{\\Ern}{E^*}$$\n",
    "$$\\newcommand{\\Efwd}{\\tilde{E}}$$\n",
    "$$\\newcommand{\\hedge}{\\beta}$$\n",
    "$$\\newcommand{\\dt}{\\Delta t}$$\n",
    "\n",
    "$\\newcommand{\\dvd}{D}$\n",
    "$\\newcommand{\\pvdvd}{D^*}$\n",
    "$\\newcommand{\\pvstrike}{K^*}$\n",
    "$\\newcommand{\\strike}{K}$\n",
    "\n",
    "$\\newcommand{\\nargcond}{d_{1}}$\n",
    "$\\newcommand{\\nargexer}{d_{2}}$\n",
    "\n",
    "$\\newcommand{\\EcondS}{\\hat{S}_{\\text{conditional}}}$\n",
    "$\\newcommand{\\probexer}{\\hat{\\mathcal{P}}_{\\text{exercise}}}$"
   ]
  },
  {
   "cell_type": "markdown",
   "metadata": {},
   "source": [
    "# Simple Stock Example for Inspiration"
   ]
  },
  {
   "cell_type": "markdown",
   "metadata": {},
   "source": [
    "### Setup from Lecture\n",
    "Suppose we want to price a **european call** option, $C$, with \n",
    "* strike = 105.\n",
    "* interest rate = 0\n",
    "* No dividends\n",
    "* 1 period of uncertainty and nothing happends in between (i.e., no trading/news as its a discrete time step)\n",
    "\n",
    "\n",
    "![image](../refs/options/tree_equity_simple.png)\n",
    "\n",
    "**What do we know?** <br>\n",
    "- Stock price assumptions are symmetric. \n",
    "- Payoffs are asymmetric\n",
    "- Conceptually: The sum of the probabilities = 1. The probabilities are reflected in the current present value of the stock price. This is enougn because the call is a deterministic function of the stock. Therefore we can create a linear function relating the stock price and up-move stock price and down-move stock price. \n",
    "\n",
    "**What do we need to do?** <br>\n",
    "- Since it is never stated that the probability of going to P=110 or P=90 are equal, we need to identify the ***risk-neutral measure*** to get the expected value at t=T\n",
    "- Conceptually: Risk aversion will impact the market implied probability and that is why we need the ***risk-neutral measure***"
   ]
  },
  {
   "cell_type": "markdown",
   "metadata": {},
   "source": [
    "### Hedge Ratio\n",
    "- Calculate the slope of the payoff based on how the underlying moves. This is the delta\n",
    "\n",
    "\n",
    "\n"
   ]
  },
  {
   "cell_type": "markdown",
   "metadata": {},
   "source": [
    "$$ \\beta = \\frac{C_u - C_d}{S_u-S_d}$$\n",
    "\n",
    "$$ \\beta = \\frac{5-0}{110-90} = 0.25$$ "
   ]
  },
  {
   "cell_type": "markdown",
   "metadata": {},
   "source": [
    "\n",
    "**What does this mean?** <br>\n",
    "- For every dollar the stock ends up higher, the payoff increases by 0.25\n",
    "- Position size of the underlying stock"
   ]
  },
  {
   "cell_type": "markdown",
   "metadata": {},
   "source": [
    "### Pricing via Replication using underlying stock and cash"
   ]
  },
  {
   "cell_type": "markdown",
   "metadata": {},
   "source": [
    "Payoff is\n",
    "* UP: .25(110) - X = \\$5\n",
    "* DOWN: .25(90) - X = \\$0 \n",
    "\n",
    "X = 22.5 = Units of Cash\n",
    "\n",
    "- When replicating with the actual stock, you need to match the level so the payoff matches\n",
    "- If the stock goes to 110 and you buy .25 shares of the stock, then the value is 27.5 vs if stock goes to 90 then the value is 22.5. However, from the call payoff, the value should equal 5 or 0 so you need to subtract the cost to finance this"
   ]
  },
  {
   "cell_type": "markdown",
   "metadata": {},
   "source": [
    "Notation\n",
    "* $N_S$: shares of stock\n",
    "* $N_B$: units of cash\n",
    "* $N_C$: units of call option\n",
    "\n",
    "Formula <br>\n",
    "$\\begin{align}\n",
    "C_0 =& N_S S_0 + N_B\\\\\n",
    "=& 0.25(100) - 22.50\\\\\n",
    "=& 2.50\n",
    "\\end{align}$"
   ]
  },
  {
   "cell_type": "markdown",
   "metadata": {},
   "source": [
    "### Pricing via Formula"
   ]
  },
  {
   "cell_type": "markdown",
   "metadata": {},
   "source": [
    "$$C_0 = C_u\\underbrace{\\frac{S_0 - S_d}{S_u-S_d}}_{p^*} + C_d\\underbrace{\\frac{S_u - S_0}{S_u-S_d}}_{1-p}$$\n",
    "\n",
    "$$C_0 = C_u p^* + C_d(1-p^*)$$\n",
    "\n",
    "\n",
    "$$\\begin{align}\n",
    "C_0 =& 5\\frac{100-90}{110-90} - 0\\frac{110-100}{110-90}\\\\[5pt]\n",
    "=& 2.50\n",
    "\\end{align}$$"
   ]
  },
  {
   "cell_type": "markdown",
   "metadata": {},
   "source": [
    "- No discounting because we assumed rate = 0\n",
    "- Assumptions are that there is no arbitrage, and frictionless markets"
   ]
  },
  {
   "cell_type": "markdown",
   "metadata": {},
   "source": [
    "### Takeaways"
   ]
  },
  {
   "cell_type": "markdown",
   "metadata": {},
   "source": [
    "**What is P*?** <br>\n",
    "- Interpret as the probability of realizing the up-state\n",
    "$$C_0 = \\Ern\\left[C_T\\right]$$\n",
    "where $\\Ern[]$ is formed over the probabilities, $p^*$ and $1-p^*$."
   ]
  },
  {
   "cell_type": "markdown",
   "metadata": {},
   "source": [
    "**Key Features of the Solution**\n",
    "- Dont need to model the drift of the stock or the probability of the up/down price\n",
    "- Because this result requires no arbitrage, then without this solution, we could arb it back to this price\n",
    "- Why does it not matter if the probabilities of the up move are 99% or 1%: If the probability was 99% then it would be baked into the price of the stock today. Alternatively, if the probability is actually 99% of an upmove and the current stock price is 100, then investors must be incredibly risk averse and scared of the 90 outcome. If the probability is 50% then investors have no risk aversion."
   ]
  },
  {
   "cell_type": "markdown",
   "metadata": {},
   "source": [
    "# Generalized Binomial Tree"
   ]
  },
  {
   "cell_type": "markdown",
   "metadata": {},
   "source": [
    "### Formulas\n",
    "General notation:\n",
    "* derivative price is $f$, and may be a call, put, or other derivative contract.\n",
    "* time interval is $\\dt$\n",
    "* up movement and down movement of stock are multiplicative factors\n",
    "$$S_u = S_0 u, \\hspace{1cm} S_d = S_0 d$$\n",
    "\n",
    "\n",
    "$$u = e^{\\sigma\\sqrt{\\dt}}, \\hspace{1cm} d = e^{-\\sigma\\sqrt{\\dt}}$$\n",
    "\n",
    "* discounting rate, $r$, continuously compounded\n",
    "* discount factor, $Z$, denoting $e^{-r\\dt}$\n",
    "* growth factor, $A$, denoting $e^{r\\dt}$.\n",
    "\n",
    "$$p=\\frac{A-d}{u-d}$$\n",
    "\n",
    "$$f_0 = Z\\left[pf_u + (1-p)f_d\\right]$$\n",
    "\n",
    "$$f_0 = Z\\, \\Ern[f]$$"
   ]
  },
  {
   "cell_type": "markdown",
   "metadata": {},
   "source": [
    "- The same slope as above but adjusted for time value of money\n",
    "- Todays value of the derivative is the discounted value of the expected value of the payoff\n",
    "- Sigma is the annualized vol and when we multiply by the sqrt of the time horizon, it becomes the cumulative vol"
   ]
  },
  {
   "cell_type": "markdown",
   "metadata": {},
   "source": [
    "### Takeaways\n",
    "**Why this is helpful?**\n",
    "- General methodology can handle dividend paying stocks, underlying is an index, futures contracts\n",
    "\n",
    "**Why is this not complete?**\n",
    "- We are suggesting there are only 2 states that the underlying can move to at each time step which is not realistic. For example, what if the underlying didnt change value? \n",
    "- We are simplifying the time intervals to discrete moments which is also not realistic as the underlyings move continously during market hours (this is more unrealistic with american options when you could exercise at any point)\n",
    "\n",
    "**How does this relate to fixed-income?**\n",
    "- Fundamental differences between stock option pricing and fixed income options are that we know what the final price of the underlying is going to be at maturity. The bond's price is serially correlated and has to end at 100\n",
    "- This impacts how we model it since the simple model above wouldnt force the price to 100 at maturity\n",
    "- Therefore, we use interest rates in the model. However, since the interest rates, (i.e., the underlying) isnt a tradable product, we can use the rates in the model to price the bond at each time step"
   ]
  },
  {
   "cell_type": "markdown",
   "metadata": {},
   "source": [
    "### Bond Example from Lecture"
   ]
  },
  {
   "cell_type": "markdown",
   "metadata": {},
   "source": [
    "The tree will represent the:\n",
    "* continuously compounded rates\n",
    "* $\\dt=0.5$ years\n",
    "* modeling the 6-month rate at each step\n",
    "\n",
    "These are (equivalently)\n",
    "* discount rates\n",
    "* YTM on a zero-coupon bond"
   ]
  },
  {
   "cell_type": "code",
   "execution_count": 18,
   "metadata": {},
   "outputs": [
    {
     "data": {
      "text/html": [
       "<div>\n",
       "<style scoped>\n",
       "    .dataframe tbody tr th:only-of-type {\n",
       "        vertical-align: middle;\n",
       "    }\n",
       "\n",
       "    .dataframe tbody tr th {\n",
       "        vertical-align: top;\n",
       "    }\n",
       "\n",
       "    .dataframe thead th {\n",
       "        text-align: right;\n",
       "    }\n",
       "</style>\n",
       "<table border=\"1\" class=\"dataframe\">\n",
       "  <thead>\n",
       "    <tr style=\"text-align: right;\">\n",
       "      <th></th>\n",
       "      <th>price</th>\n",
       "      <th>yield</th>\n",
       "    </tr>\n",
       "    <tr>\n",
       "      <th>time</th>\n",
       "      <th></th>\n",
       "      <th></th>\n",
       "    </tr>\n",
       "  </thead>\n",
       "  <tbody>\n",
       "    <tr>\n",
       "      <th>0.5</th>\n",
       "      <td>99.1338</td>\n",
       "      <td>1.74</td>\n",
       "    </tr>\n",
       "    <tr>\n",
       "      <th>1.0</th>\n",
       "      <td>97.8925</td>\n",
       "      <td>2.13</td>\n",
       "    </tr>\n",
       "    <tr>\n",
       "      <th>1.5</th>\n",
       "      <td>96.1531</td>\n",
       "      <td>2.62</td>\n",
       "    </tr>\n",
       "  </tbody>\n",
       "</table>\n",
       "</div>"
      ],
      "text/plain": [
       "        price  yield\n",
       "time                \n",
       "0.5   99.1338   1.74\n",
       "1.0   97.8925   2.13\n",
       "1.5   96.1531   2.62"
      ]
     },
     "execution_count": 18,
     "metadata": {},
     "output_type": "execute_result"
    }
   ],
   "source": [
    "# Set our inputs for the problem.\n",
    "t_grid = [.5,1,1.5]\n",
    "p_grid = [99.1338, 97.8925, 96.1531]\n",
    "y_grid = [1.74, 2.13, 2.62]\n",
    "quotes = pd.DataFrame({'price':p_grid, 'yield':y_grid},index=t_grid)\n",
    "quotes.index.name = 'time'\n",
    "quotes"
   ]
  },
  {
   "cell_type": "markdown",
   "metadata": {},
   "source": [
    "- Instead of modeling the entire yield curve at each time step, we model the short interest rate (now till next period) and apply it at each time step\n",
    "- Based on the above, we see that 1.74% is the first rate. Note this corresponds to a 6mo treasury\n",
    "- You can choose any compounding but usually its continously compounded for mathematical simplicity"
   ]
  },
  {
   "cell_type": "code",
   "execution_count": 19,
   "metadata": {},
   "outputs": [],
   "source": [
    "# Set inputs for the final rate (Like we did above with the stocks assuming the final state was $110 or $90)\n",
    "r_u = .0339\n",
    "r_d = 0.0095\n",
    "delta_t = quotes.index.to_series().diff().mean()\n",
    "NOTIONAL = 100"
   ]
  },
  {
   "cell_type": "code",
   "execution_count": 20,
   "metadata": {},
   "outputs": [
    {
     "data": {
      "text/plain": [
       "0.5"
      ]
     },
     "execution_count": 20,
     "metadata": {},
     "output_type": "execute_result"
    }
   ],
   "source": [
    "delta_t"
   ]
  },
  {
   "cell_type": "markdown",
   "metadata": {},
   "source": [
    "Price zero-coupon treasury bonds with the rate tree above.\n",
    "\n",
    "Denote, $P_{\\text{period},\\text{state}|\\text{maturity}}$, for the bond  <br>\n",
    "\n",
    "Then using the rate tree, we can calculate the **tradeable security tree**,"
   ]
  },
  {
   "cell_type": "code",
   "execution_count": 21,
   "metadata": {},
   "outputs": [
    {
     "name": "stdout",
     "output_type": "stream",
     "text": [
      "P_0_2 = $97.8925\n",
      "P_1_u_2 = $98.3193\n",
      "P_1_d_2 = $99.5261\n",
      "P_2_2 = $100.0000\n"
     ]
    }
   ],
   "source": [
    "# 1 year bond price from above input at period=0\n",
    "p0_2 = quotes.iloc[1]['price']\n",
    "\n",
    "# Price of same bond assuming moved 1 period forward (0.5 years) and resulting rate from tree\n",
    "p1u2 = np.exp(-r_u*delta_t)*NOTIONAL\n",
    "p1d2 = np.exp(-r_d*delta_t)*NOTIONAL\n",
    "\n",
    "# Ending price is known for all bonds\n",
    "p2_2 = 100\n",
    "\n",
    "print(f\"P_0_2 = ${p0_2:.04f}\")\n",
    "print(f\"P_1_u_2 = ${p1u2:.04f}\")\n",
    "print(f\"P_1_d_2 = ${p1d2:.04f}\")\n",
    "print(f\"P_2_2 = ${p2_2:.04f}\")"
   ]
  },
  {
   "cell_type": "markdown",
   "metadata": {},
   "source": [
    "<img src=\"../refs/options/tree_rates/ex_1_bond.png\" width=\"700\" />"
   ]
  },
  {
   "cell_type": "markdown",
   "metadata": {},
   "source": [
    "### Pricing the Option\n",
    "* analogous to a put option on interest rates\n",
    "* payoff at period 1, ($t=0.5$) \n",
    "* strike is $r_K$ = 2\\%\n",
    "* Payoff is $100\\max(r_K-r_1,0)$\n",
    "\n",
    "This problem seems more complicated than the equity example, but note that\n",
    "* There is only one period of uncertainty.\n",
    "* The one-period bond is acting as \"cash\" with an interest rate. This component is equal to the 6mo T-Bill"
   ]
  },
  {
   "cell_type": "markdown",
   "metadata": {},
   "source": [
    "#### Pricing Via Replication\n",
    "Size the position of the underlying and the cash-equivalent"
   ]
  },
  {
   "cell_type": "markdown",
   "metadata": {},
   "source": [
    "$$\\beta = \\frac{f_u-f_d}{P_{1u|2}-P_{1d|2}}$$\n",
    "\n",
    "$$\\alpha = \\frac{f_{u} - \\beta P_{1u|2}}{100}$$\n",
    "\n"
   ]
  },
  {
   "cell_type": "code",
   "execution_count": 22,
   "metadata": {},
   "outputs": [
    {
     "name": "stdout",
     "output_type": "stream",
     "text": [
      "Beta (Position size of the underlying): 0.87\n",
      "Alpha (Position size of the money market treasury): -0.86\n"
     ]
    }
   ],
   "source": [
    "# Short rate is based on the nearest term short rate we defined above\n",
    "r0 = quotes.iloc[0][\"yield\"]/100\n",
    "\n",
    "# Define the rate at period = 1 to be either up-state rate or down-state rate\n",
    "r1 = np.array([r_u, r_d])\n",
    "\n",
    "# Strike\n",
    "rK = .02\n",
    "\n",
    "# Payoff of Put\n",
    "fud = NOTIONAL * (rK-r1)\n",
    "fud[fud<0] = 0\n",
    "\n",
    "# Define the prices at period=1 using the prices we calculated above\n",
    "P1_2 = [p1u2, p1d2]\n",
    "\n",
    "# Plug into formulas to get position sizing of the bond and the cash-equivalent (i.e., 6mo treasury)\n",
    "beta = (fud[0] - fud[1]) / (P1_2[0] - P1_2[1])\n",
    "alpha = (fud[0] - beta * P1_2[0])/NOTIONAL\n",
    "\n",
    "print(f\"Beta (Position size of the underlying): {beta:.02f}\")\n",
    "print(f\"Alpha (Position size of the money market treasury): {alpha:.02f}\")"
   ]
  },
  {
   "cell_type": "code",
   "execution_count": 23,
   "metadata": {},
   "outputs": [
    {
     "data": {
      "text/html": [
       "<style type=\"text/css\">\n",
       "</style>\n",
       "<table id=\"T_0feda_\">\n",
       "  <thead>\n",
       "    <tr>\n",
       "      <th class=\"blank level0\" >&nbsp;</th>\n",
       "      <th class=\"col_heading level0 col0\" >price</th>\n",
       "      <th class=\"col_heading level0 col1\" >position</th>\n",
       "      <th class=\"col_heading level0 col2\" >$ holding</th>\n",
       "    </tr>\n",
       "  </thead>\n",
       "  <tbody>\n",
       "    <tr>\n",
       "      <th id=\"T_0feda_level0_row0\" class=\"row_heading level0 row0\" >1-period bond</th>\n",
       "      <td id=\"T_0feda_row0_col0\" class=\"data row0 col0\" >$99.1338</td>\n",
       "      <td id=\"T_0feda_row0_col1\" class=\"data row0 col1\" >$-0.8554</td>\n",
       "      <td id=\"T_0feda_row0_col2\" class=\"data row0 col2\" >$-84.8007</td>\n",
       "    </tr>\n",
       "    <tr>\n",
       "      <th id=\"T_0feda_level0_row1\" class=\"row_heading level0 row1\" >2-period bond</th>\n",
       "      <td id=\"T_0feda_row1_col0\" class=\"data row1 col0\" >$97.8925</td>\n",
       "      <td id=\"T_0feda_row1_col1\" class=\"data row1 col1\" >$0.8700</td>\n",
       "      <td id=\"T_0feda_row1_col2\" class=\"data row1 col2\" >$85.1703</td>\n",
       "    </tr>\n",
       "    <tr>\n",
       "      <th id=\"T_0feda_level0_row2\" class=\"row_heading level0 row2\" >net</th>\n",
       "      <td id=\"T_0feda_row2_col0\" class=\"data row2 col0\" >$nan</td>\n",
       "      <td id=\"T_0feda_row2_col1\" class=\"data row2 col1\" >$nan</td>\n",
       "      <td id=\"T_0feda_row2_col2\" class=\"data row2 col2\" >$0.3696</td>\n",
       "    </tr>\n",
       "  </tbody>\n",
       "</table>\n"
      ],
      "text/plain": [
       "<pandas.io.formats.style.Styler at 0x22cdc5c9d88>"
      ]
     },
     "execution_count": 23,
     "metadata": {},
     "output_type": "execute_result"
    }
   ],
   "source": [
    "# Note that the 1-period bond is the 6mo treasury that will get us to T=0.5. \n",
    "# The 2-period bond is the 1yr treasury that will get us to T=1\n",
    "\n",
    "# Create dataframe to track the price, position of the 6mo (i.e., 1-period) and 1yr (i.e., 2-period) treasuries\n",
    "position = pd.DataFrame(index=['1-period bond','2-period bond'],columns=['price','position','$ holding'],dtype=float)\n",
    "\n",
    "# Set the prices based on the inputs defined above\n",
    "position['price'] = quotes.iloc[0:2,0].values\n",
    "\n",
    "# Set the positions based on the above calculated values\n",
    "position['position'] = [alpha,beta]\n",
    "\n",
    "# Value is the price * position\n",
    "position['$ holding'] = position['price'] * position['position']\n",
    "\n",
    "# Difference is the price of the option\n",
    "position.loc['net','$ holding'] = position['$ holding'].sum()\n",
    "position.style.format('${:,.4f}')"
   ]
  },
  {
   "cell_type": "markdown",
   "metadata": {},
   "source": [
    "#### Pricing via Risk-Neutral Formula\n",
    "$$p^* = \\frac{A P_{0|2} - P_{1d|2}}{P_{1u|2}-P_{1d|2}}$$\n",
    "\n",
    "where $A = e^{r_0\\dt}$."
   ]
  },
  {
   "cell_type": "code",
   "execution_count": 24,
   "metadata": {},
   "outputs": [
    {
     "data": {
      "text/html": [
       "<style type=\"text/css\">\n",
       "</style>\n",
       "<table id=\"T_45e0c_\">\n",
       "  <thead>\n",
       "    <tr>\n",
       "      <th class=\"blank level0\" >&nbsp;</th>\n",
       "      <th class=\"col_heading level0 col0\" >probability</th>\n",
       "      <th class=\"col_heading level0 col1\" >cashflows</th>\n",
       "      <th class=\"col_heading level0 col2\" >probability weighted cashflows</th>\n",
       "    </tr>\n",
       "  </thead>\n",
       "  <tbody>\n",
       "    <tr>\n",
       "      <th id=\"T_45e0c_level0_row0\" class=\"row_heading level0 row0\" >up</th>\n",
       "      <td id=\"T_45e0c_row0_col0\" class=\"data row0 col0\" >64.49%</td>\n",
       "      <td id=\"T_45e0c_row0_col1\" class=\"data row0 col1\" >0.0000</td>\n",
       "      <td id=\"T_45e0c_row0_col2\" class=\"data row0 col2\" >0.0000</td>\n",
       "    </tr>\n",
       "    <tr>\n",
       "      <th id=\"T_45e0c_level0_row1\" class=\"row_heading level0 row1\" >down</th>\n",
       "      <td id=\"T_45e0c_row1_col0\" class=\"data row1 col0\" >35.51%</td>\n",
       "      <td id=\"T_45e0c_row1_col1\" class=\"data row1 col1\" >1.0500</td>\n",
       "      <td id=\"T_45e0c_row1_col2\" class=\"data row1 col2\" >0.3729</td>\n",
       "    </tr>\n",
       "    <tr>\n",
       "      <th id=\"T_45e0c_level0_row2\" class=\"row_heading level0 row2\" >net</th>\n",
       "      <td id=\"T_45e0c_row2_col0\" class=\"data row2 col0\" >nan%</td>\n",
       "      <td id=\"T_45e0c_row2_col1\" class=\"data row2 col1\" >nan</td>\n",
       "      <td id=\"T_45e0c_row2_col2\" class=\"data row2 col2\" >0.3729</td>\n",
       "    </tr>\n",
       "    <tr>\n",
       "      <th id=\"T_45e0c_level0_row3\" class=\"row_heading level0 row3\" >price</th>\n",
       "      <td id=\"T_45e0c_row3_col0\" class=\"data row3 col0\" >36.97%</td>\n",
       "      <td id=\"T_45e0c_row3_col1\" class=\"data row3 col1\" >0.3697</td>\n",
       "      <td id=\"T_45e0c_row3_col2\" class=\"data row3 col2\" >0.3697</td>\n",
       "    </tr>\n",
       "  </tbody>\n",
       "</table>\n"
      ],
      "text/plain": [
       "<pandas.io.formats.style.Styler at 0x22cdc570b08>"
      ]
     },
     "execution_count": 24,
     "metadata": {},
     "output_type": "execute_result"
    }
   ],
   "source": [
    "dt = 0.5\n",
    "# Growth rate\n",
    "A = np.exp(dt * r0)\n",
    "# Discount Rate\n",
    "Z = np.exp(-dt*r0)\n",
    "# Plug into formula for p*\n",
    "pstar = (A*quotes.loc[1,'price'] - P1_2[1])/(P1_2[0]-P1_2[1])\n",
    "\n",
    "# Setup result dataframe\n",
    "rnpricing = pd.DataFrame(columns=['probability','cashflows'],index=['up','down'],dtype=float)\n",
    "\n",
    "# Define Probability space using pstar above\n",
    "rnpricing.loc['up','probability'] = pstar\n",
    "rnpricing.loc['down','probability'] = 1-pstar\n",
    "\n",
    "# Define payoffs\n",
    "rnpricing['cashflows'] = fud\n",
    "\n",
    "# Define expected payoffs\n",
    "rnpricing['probability weighted cashflows'] = rnpricing['probability'] * rnpricing['cashflows']\n",
    "rnpricing.loc['net','probability weighted cashflows'] = rnpricing['probability weighted cashflows'].sum()\n",
    "\n",
    "# Discount expected payoffs to present value\n",
    "rnpricing.loc['price'] = Z * rnpricing.loc['net','probability weighted cashflows']\n",
    "\n",
    "# Show results\n",
    "rnpricing.style.format({'probability':'{:.2%}', 'probability weighted cashflows':'{:.4f}','cashflows':'{:.4f}'})"
   ]
  },
  {
   "cell_type": "markdown",
   "metadata": {},
   "source": [
    "# Multiperiod Trees\n",
    "<img src=\"../refs/options/tree_multiperiod/two_period_form.png\" width=\"700\" />"
   ]
  },
  {
   "cell_type": "markdown",
   "metadata": {},
   "source": [
    "#### Boundary (Terminal) Conditions\n",
    "\n",
    "The contract determines the payoff at expiration as a known function of the underlying.\n",
    "* This gives us the option value at the final nodes.\n",
    "\n",
    "#### Moving Backward\n",
    "From there, go backward in time one node.\n",
    "* We have two separate, one-period trees.\n",
    "* The key is to assume you start and the end of the tree and work backwards (right to left)\n",
    "\n",
    "#### Iterate\n",
    "* Continue at each state of $T-i\\dt$.\n",
    "* Move back a time step, $\\dt$, and continue.\n",
    "\n",
    "#### Choosing a time-grid\n",
    "The time-grid must be chosen fine enough to get convergence.\n",
    "* Common to see $\\dt$ chosen such that there are around 30 steps for a vanilla American option.\n",
    "* Exotic options (barrier, knock-in, etc) may need many more steps.\n",
    "\n",
    "If the time grid is chosen too coarsely, the solution will not converge to a reasonable solution.\n",
    "* Furthermore, there may be issues of negative risk-neutral probabilities.\n",
    "* If the variance in any given step is too large, the probabilities become extreme to try to match it.\n",
    "* Small time-steps keep this from happening.\n",
    "\n",
    "#### Specific underlying values\n",
    "In the tree, we do not get to set the exact price values.\n",
    "* We have been setting $u$ and $d$ to match volatility.\n",
    "* For some options, specific underlying values are of importance.\n",
    "\n"
   ]
  },
  {
   "cell_type": "markdown",
   "metadata": {},
   "source": [
    "### Example\n",
    "#### Inputs"
   ]
  },
  {
   "cell_type": "code",
   "execution_count": 25,
   "metadata": {},
   "outputs": [],
   "source": [
    "## Market variables\n",
    "r = .05\n",
    "sigma = .25\n",
    "So = 50\n",
    "\n",
    "## Contract Details\n",
    "T = 2\n",
    "K = 55\n",
    "\n",
    "# Define the payoff function\n",
    "funPayoff = lambda x: np.maximum(K-x,0)\n",
    "\n",
    "# Number of time steps\n",
    "Nt = 2\n",
    "\n",
    "# Time in between steps\n",
    "dt = T/Nt"
   ]
  },
  {
   "cell_type": "markdown",
   "metadata": {},
   "source": [
    "#### Underlying Tree Set-Up\n",
    "The function used below does the following:\n",
    "1. Defines the up/down steps using the inputted sigma (or can input as parameter)\n",
    "2. Creates the tree grid based on the contract T and Nt parameters\n",
    "3. Calculates the tree values at each step similar to how the plot above represents it (e.g., $S_{0}d^{2}$ for 2 down steps)"
   ]
  },
  {
   "cell_type": "code",
   "execution_count": 26,
   "metadata": {},
   "outputs": [
    {
     "data": {
      "text/html": [
       "<style type=\"text/css\">\n",
       "</style>\n",
       "<table id=\"T_8c5ba_\">\n",
       "  <thead>\n",
       "    <tr>\n",
       "      <th class=\"blank level0\" >&nbsp;</th>\n",
       "      <th class=\"col_heading level0 col0\" >0</th>\n",
       "      <th class=\"col_heading level0 col1\" >1</th>\n",
       "      <th class=\"col_heading level0 col2\" >2</th>\n",
       "    </tr>\n",
       "  </thead>\n",
       "  <tbody>\n",
       "    <tr>\n",
       "      <th id=\"T_8c5ba_level0_row0\" class=\"row_heading level0 row0\" >0</th>\n",
       "      <td id=\"T_8c5ba_row0_col0\" class=\"data row0 col0\" >50.00</td>\n",
       "      <td id=\"T_8c5ba_row0_col1\" class=\"data row0 col1\" >64.20</td>\n",
       "      <td id=\"T_8c5ba_row0_col2\" class=\"data row0 col2\" >82.44</td>\n",
       "    </tr>\n",
       "    <tr>\n",
       "      <th id=\"T_8c5ba_level0_row1\" class=\"row_heading level0 row1\" >1</th>\n",
       "      <td id=\"T_8c5ba_row1_col0\" class=\"data row1 col0\" >nan</td>\n",
       "      <td id=\"T_8c5ba_row1_col1\" class=\"data row1 col1\" >38.94</td>\n",
       "      <td id=\"T_8c5ba_row1_col2\" class=\"data row1 col2\" >50.00</td>\n",
       "    </tr>\n",
       "    <tr>\n",
       "      <th id=\"T_8c5ba_level0_row2\" class=\"row_heading level0 row2\" >2</th>\n",
       "      <td id=\"T_8c5ba_row2_col0\" class=\"data row2 col0\" >nan</td>\n",
       "      <td id=\"T_8c5ba_row2_col1\" class=\"data row2 col1\" >nan</td>\n",
       "      <td id=\"T_8c5ba_row2_col2\" class=\"data row2 col2\" >30.33</td>\n",
       "    </tr>\n",
       "  </tbody>\n",
       "</table>\n"
      ],
      "text/plain": [
       "<pandas.io.formats.style.Styler at 0x22cdc5c5408>"
      ]
     },
     "execution_count": 26,
     "metadata": {},
     "output_type": "execute_result"
    }
   ],
   "source": [
    "tree, treeinfo = treeUnder(So,T,Nt,sigma=sigma)\n",
    "\n",
    "tree.style.format('{:.2f}')"
   ]
  },
  {
   "cell_type": "code",
   "execution_count": 27,
   "metadata": {},
   "outputs": [
    {
     "data": {
      "text/plain": [
       "u     1.284025\n",
       "d     0.778801\n",
       "Nt    2.000000\n",
       "dt    1.000000\n",
       "dtype: float64"
      ]
     },
     "execution_count": 27,
     "metadata": {},
     "output_type": "execute_result"
    }
   ],
   "source": [
    "treeinfo"
   ]
  },
  {
   "cell_type": "markdown",
   "metadata": {},
   "source": [
    "#### Tree Rates"
   ]
  },
  {
   "cell_type": "code",
   "execution_count": 28,
   "metadata": {},
   "outputs": [
    {
     "name": "stdout",
     "output_type": "stream",
     "text": [
      "Risk-neutral probability: 53.93%\n"
     ]
    }
   ],
   "source": [
    "# Set-up array for the rates at each interval. Assuming constant interest rates below\n",
    "rates = r * np.ones(Nt)\n",
    "\n",
    "# Calculate discount factor and growth rate\n",
    "Z = np.exp(-rates*dt)\n",
    "A = np.exp(rates * dt)\n",
    "\n",
    "# Solve for P* using formulas from earlier\n",
    "pstar = (A - treeinfo.d)/(treeinfo.u-treeinfo.d)\n",
    "\n",
    "print(f'Risk-neutral probability: {pstar[0]:.2%}')"
   ]
  },
  {
   "cell_type": "markdown",
   "metadata": {},
   "source": [
    "#### European Option Solution"
   ]
  },
  {
   "cell_type": "code",
   "execution_count": 29,
   "metadata": {},
   "outputs": [
    {
     "data": {
      "text/html": [
       "<style type=\"text/css\">\n",
       "</style>\n",
       "<table id=\"T_d4258_\">\n",
       "  <thead>\n",
       "    <tr>\n",
       "      <th class=\"blank level0\" >&nbsp;</th>\n",
       "      <th class=\"col_heading level0 col0\" >0</th>\n",
       "      <th class=\"col_heading level0 col1\" >1</th>\n",
       "      <th class=\"col_heading level0 col2\" >2</th>\n",
       "    </tr>\n",
       "  </thead>\n",
       "  <tbody>\n",
       "    <tr>\n",
       "      <th id=\"T_d4258_level0_row0\" class=\"row_heading level0 row0\" >0</th>\n",
       "      <td id=\"T_d4258_row0_col0\" class=\"data row0 col0\" >6.99</td>\n",
       "      <td id=\"T_d4258_row0_col1\" class=\"data row0 col1\" >2.19</td>\n",
       "      <td id=\"T_d4258_row0_col2\" class=\"data row0 col2\" >0.00</td>\n",
       "    </tr>\n",
       "    <tr>\n",
       "      <th id=\"T_d4258_level0_row1\" class=\"row_heading level0 row1\" >1</th>\n",
       "      <td id=\"T_d4258_row1_col0\" class=\"data row1 col0\" >nan</td>\n",
       "      <td id=\"T_d4258_row1_col1\" class=\"data row1 col1\" >13.38</td>\n",
       "      <td id=\"T_d4258_row1_col2\" class=\"data row1 col2\" >5.00</td>\n",
       "    </tr>\n",
       "    <tr>\n",
       "      <th id=\"T_d4258_level0_row2\" class=\"row_heading level0 row2\" >2</th>\n",
       "      <td id=\"T_d4258_row2_col0\" class=\"data row2 col0\" >nan</td>\n",
       "      <td id=\"T_d4258_row2_col1\" class=\"data row2 col1\" >nan</td>\n",
       "      <td id=\"T_d4258_row2_col2\" class=\"data row2 col2\" >24.67</td>\n",
       "    </tr>\n",
       "  </tbody>\n",
       "</table>\n"
      ],
      "text/plain": [
       "<pandas.io.formats.style.Styler at 0x22cdc38d608>"
      ]
     },
     "execution_count": 29,
     "metadata": {},
     "output_type": "execute_result"
    }
   ],
   "source": [
    "treeV = treeAsset(funPayoff,tree,treeinfo,Z=Z,pstar=pstar)\n",
    "treeV.style.format('{:.2f}')"
   ]
  },
  {
   "cell_type": "markdown",
   "metadata": {},
   "source": [
    "#### American Option Solution"
   ]
  },
  {
   "cell_type": "code",
   "execution_count": 30,
   "metadata": {},
   "outputs": [
    {
     "data": {
      "text/html": [
       "<style type=\"text/css\">\n",
       "</style>\n",
       "<table id=\"T_208e3_\">\n",
       "  <thead>\n",
       "    <tr>\n",
       "      <th class=\"blank level0\" >&nbsp;</th>\n",
       "      <th class=\"col_heading level0 col0\" >0</th>\n",
       "      <th class=\"col_heading level0 col1\" >1</th>\n",
       "      <th class=\"col_heading level0 col2\" >2</th>\n",
       "    </tr>\n",
       "  </thead>\n",
       "  <tbody>\n",
       "    <tr>\n",
       "      <th id=\"T_208e3_level0_row0\" class=\"row_heading level0 row0\" >0</th>\n",
       "      <td id=\"T_208e3_row0_col0\" class=\"data row0 col0\" >8.16</td>\n",
       "      <td id=\"T_208e3_row0_col1\" class=\"data row0 col1\" >2.19</td>\n",
       "      <td id=\"T_208e3_row0_col2\" class=\"data row0 col2\" >0.00</td>\n",
       "    </tr>\n",
       "    <tr>\n",
       "      <th id=\"T_208e3_level0_row1\" class=\"row_heading level0 row1\" >1</th>\n",
       "      <td id=\"T_208e3_row1_col0\" class=\"data row1 col0\" >nan</td>\n",
       "      <td id=\"T_208e3_row1_col1\" class=\"data row1 col1\" >16.06</td>\n",
       "      <td id=\"T_208e3_row1_col2\" class=\"data row1 col2\" >5.00</td>\n",
       "    </tr>\n",
       "    <tr>\n",
       "      <th id=\"T_208e3_level0_row2\" class=\"row_heading level0 row2\" >2</th>\n",
       "      <td id=\"T_208e3_row2_col0\" class=\"data row2 col0\" >nan</td>\n",
       "      <td id=\"T_208e3_row2_col1\" class=\"data row2 col1\" >nan</td>\n",
       "      <td id=\"T_208e3_row2_col2\" class=\"data row2 col2\" >24.67</td>\n",
       "    </tr>\n",
       "  </tbody>\n",
       "</table>\n"
      ],
      "text/plain": [
       "<pandas.io.formats.style.Styler at 0x22cdc58ac08>"
      ]
     },
     "execution_count": 30,
     "metadata": {},
     "output_type": "execute_result"
    }
   ],
   "source": [
    "STYLE = 'american'\n",
    "treeVamer, treeExer = treeAsset(funPayoff,tree,treeinfo,Z=Z,pstar=pstar,style='american')\n",
    "treeVamer.style.format('{:.2f}')"
   ]
  },
  {
   "cell_type": "markdown",
   "metadata": {},
   "source": [
    "#### Black-Scholes Solution"
   ]
  },
  {
   "cell_type": "code",
   "execution_count": 31,
   "metadata": {},
   "outputs": [
    {
     "data": {
      "text/plain": [
       "6.883035701125603"
      ]
     },
     "execution_count": 31,
     "metadata": {},
     "output_type": "execute_result"
    }
   ],
   "source": [
    "f0BS = bs_price(under=So,strike=K,T=T,rf=r,vol=sigma,option='put')\n",
    "f0BS"
   ]
  },
  {
   "cell_type": "markdown",
   "metadata": {},
   "source": [
    "#### Comparison"
   ]
  },
  {
   "cell_type": "code",
   "execution_count": 32,
   "metadata": {},
   "outputs": [
    {
     "data": {
      "text/html": [
       "<style type=\"text/css\">\n",
       "</style>\n",
       "<table id=\"T_46eb9_\">\n",
       "  <thead>\n",
       "    <tr>\n",
       "      <th class=\"blank level0\" >&nbsp;</th>\n",
       "      <th class=\"col_heading level0 col0\" >value</th>\n",
       "    </tr>\n",
       "  </thead>\n",
       "  <tbody>\n",
       "    <tr>\n",
       "      <th id=\"T_46eb9_level0_row0\" class=\"row_heading level0 row0\" >BS value</th>\n",
       "      <td id=\"T_46eb9_row0_col0\" class=\"data row0 col0\" >6.8830</td>\n",
       "    </tr>\n",
       "    <tr>\n",
       "      <th id=\"T_46eb9_level0_row1\" class=\"row_heading level0 row1\" >tree value</th>\n",
       "      <td id=\"T_46eb9_row1_col0\" class=\"data row1 col0\" >6.9865</td>\n",
       "    </tr>\n",
       "    <tr>\n",
       "      <th id=\"T_46eb9_level0_row2\" class=\"row_heading level0 row2\" >American</th>\n",
       "      <td id=\"T_46eb9_row2_col0\" class=\"data row2 col0\" >8.1620</td>\n",
       "    </tr>\n",
       "  </tbody>\n",
       "</table>\n"
      ],
      "text/plain": [
       "<pandas.io.formats.style.Styler at 0x22cdc5abb48>"
      ]
     },
     "execution_count": 32,
     "metadata": {},
     "output_type": "execute_result"
    }
   ],
   "source": [
    "pd.DataFrame([f0BS,treeV.iloc[0,0],treeVamer.iloc[0,0]],\n",
    "             columns=['value'],\n",
    "             index=['BS value','tree value','American']).style.format('{:.4f}')"
   ]
  },
  {
   "cell_type": "markdown",
   "metadata": {},
   "source": [
    "# Classic Black Scholes Model for Inspiration"
   ]
  },
  {
   "cell_type": "markdown",
   "metadata": {},
   "source": [
    "### Concerns and Why We Need Something Else"
   ]
  },
  {
   "cell_type": "markdown",
   "metadata": {},
   "source": [
    "**Problems**: \n",
    "- No dividends, \n",
    "- only European calls/puts, \n",
    "- Requires that the underlying has a geometric brownian motion (GBM). Treasuries are no GBM; they cant go negative, theres influence from the Fed so its not completely random. etc\n",
    "\n",
    "**Assumptions Required**:\n",
    "- frictionless markets, \n",
    "- volatility of the underlying is constant\n",
    "- constant interest rate\n",
    "- constant volatility"
   ]
  },
  {
   "cell_type": "markdown",
   "metadata": {},
   "source": [
    "# Black's Model (76)"
   ]
  },
  {
   "cell_type": "markdown",
   "metadata": {},
   "source": [
    "### Formula & Assumptions"
   ]
  },
  {
   "cell_type": "markdown",
   "metadata": {},
   "source": [
    "The model assumes \n",
    "* a lognormal distribution of future (forward) prices\n",
    "* constant interest rates\n",
    "\n",
    "It can be derived from the martingale equation\n",
    "$$\\frac{f(F,t)}{B(t)} = \\Ern\\left[\\frac{f(F,T)}{B(T)}\\right]$$\n",
    "\n",
    "\n",
    "$\\begin{align}\n",
    "c_t\\; =&\\; e^{-r(T-t)}\\left[F_t\\mathcal{N}(\\nargcond) - \\strike \\mathcal{N}\\left(\\nargexer\\right)\\right]\\\\\n",
    "p_t\\; =&\\; e^{-r(T-t)}\\left[\\strike\\mathcal{N}(-\\nargexer) - F_t \\mathcal{N}\\left(-\\nargcond\\right)\\right]\n",
    "\\end{align}$\n",
    "\n",
    "where $\\nargcond$ and $\\nargexer$ are\n",
    "\n",
    "$\\begin{align}\n",
    "\\nargcond = \\frac{\\ln\\left(\\frac{F_t}{\\strike}\\right) + \\frac{\\sigma^2}{2}T}{\\sigma\\sqrt{T}} \\hspace{1cm} \n",
    "\\nargexer = \\nargcond -\\sigma\\sqrt{T}\n",
    "\\end{align}$"
   ]
  },
  {
   "cell_type": "markdown",
   "metadata": {},
   "source": [
    "**Whats the difference from the classical model?** <br>\n",
    "- The forward/future prices that we are using is being discounted back to present value whereas the stock didnt need to be\n",
    "- Futures and forwards do not pay dividends which helps when using this formula"
   ]
  },
  {
   "cell_type": "markdown",
   "metadata": {},
   "source": [
    "### Takeaways"
   ]
  },
  {
   "cell_type": "markdown",
   "metadata": {},
   "source": [
    "* It assumes constant interest rates.\n",
    "* Clearly this would be an absurd assumption for interest-rate derivatives!\n",
    "* Logical next step from the classical model is to use the present value of forward prices or futures prices in replace of a spot price\n",
    "* No need to model dividends! They are already priced into the forward / future. Thus, the forward/future price still obeys our model above.\n",
    "* Can handle situations where the security does not have a total return process that is a GBM (e.g., currency options). \n",
    "* Can handle situations where the security has storage costs, convenience yields, carry, etc because that is baked into the futures price already"
   ]
  },
  {
   "cell_type": "markdown",
   "metadata": {},
   "source": [
    "# General Black's Model"
   ]
  },
  {
   "cell_type": "markdown",
   "metadata": {},
   "source": [
    "### Forward Measure & Formula"
   ]
  },
  {
   "cell_type": "markdown",
   "metadata": {},
   "source": [
    "Since the time varying interest rate is correlated with the present value discounting of the future/forward prices, the expectation of the product is not as simple as the product of the expectation. Therefore, we need to introduce a ***forward measure*** and change the numeraire. \n",
    "\n",
    "#### We choose the zero-coupon bond as the numeraire\n",
    "\n",
    "Thus, we rebase by $Z(t,T)$.\n",
    "\n",
    "Under the **forward measure**, any derivative of a forward is a martingale:\n",
    "$$\\frac{f(F,t)}{Z(t,T)} = \\Efwd\\left[\\frac{f(F,T)}{Z(T,T)}\\right]$$\n",
    "\n",
    "where $F$ denotes the forward of an arbitrary asset.\n",
    "\n",
    "That is, we have the price as \n",
    "$$f(F,t) = Z(t,T)\\Efwd\\left[f(F,T)\\right]$$\n",
    "\n",
    "Thus, we can discount just with today's discount factor rather than the stochastic interest rate."
   ]
  },
  {
   "cell_type": "markdown",
   "metadata": {},
   "source": [
    "#### Formula\n",
    "$\\begin{align}\n",
    "c_t\\; =&\\; Z(t,T)\\left[F_t\\mathcal{N}(\\nargcond) - \\strike \\mathcal{N}\\left(\\nargexer\\right)\\right]\\\\\n",
    "p_t\\; =&\\; Z(t,T)\\left[\\strike\\mathcal{N}(-\\nargexer) - F_t \\mathcal{N}\\left(-\\nargcond\\right)\\right]\n",
    "\\end{align}$\n",
    "\n",
    "where $\\nargcond$ and $\\nargexer$ are\n",
    "\n",
    "$\\begin{align}\n",
    "\\nargcond = \\frac{\\ln\\left(\\frac{F_t}{\\strike}\\right) + \\frac{\\sigma^2}{2}T}{\\sigma\\sqrt{T}} \\hspace{1cm} \n",
    "\\nargexer = \\nargcond -\\sigma\\sqrt{T}\n",
    "\\end{align}$"
   ]
  },
  {
   "cell_type": "markdown",
   "metadata": {},
   "source": [
    "### Takeaways"
   ]
  },
  {
   "cell_type": "markdown",
   "metadata": {},
   "source": [
    "- The derivative price scaled by the discount factor is equal to the expectation of the payoff also scaled by the discount factor\n",
    "- Use treasury bonds as the numeraire instead of the bank account\n",
    "- Discount by the spot discount factor instead of discounting by a constant interest rate\n",
    "- This equation will price caps, floors, and swaptions\n",
    "- They will be priced at a volatility measure, sigma instead of dollars"
   ]
  }
 ],
 "metadata": {
  "kernelspec": {
   "display_name": "Python 3",
   "language": "python",
   "name": "python3"
  },
  "language_info": {
   "codemirror_mode": {
    "name": "ipython",
    "version": 3
   },
   "file_extension": ".py",
   "mimetype": "text/x-python",
   "name": "python",
   "nbconvert_exporter": "python",
   "pygments_lexer": "ipython3",
   "version": "3.7.6"
  }
 },
 "nbformat": 4,
 "nbformat_minor": 4
}
